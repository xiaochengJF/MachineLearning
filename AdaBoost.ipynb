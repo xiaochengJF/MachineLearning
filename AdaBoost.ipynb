{
  "nbformat": 4,
  "nbformat_minor": 0,
  "metadata": {
    "colab": {
      "name": "AdaBoost.ipynb",
      "provenance": [],
      "collapsed_sections": [],
      "authorship_tag": "ABX9TyN+1M3aVnPTo/XVc0CwtvnC",
      "include_colab_link": true
    },
    "kernelspec": {
      "name": "python3",
      "display_name": "Python 3"
    }
  },
  "cells": [
    {
      "cell_type": "markdown",
      "metadata": {
        "id": "view-in-github",
        "colab_type": "text"
      },
      "source": [
        "<a href=\"https://colab.research.google.com/github/xiaochengJF/MachineLearning/blob/master/AdaBoost.ipynb\" target=\"_parent\"><img src=\"https://colab.research.google.com/assets/colab-badge.svg\" alt=\"Open In Colab\"/></a>"
      ]
    },
    {
      "cell_type": "markdown",
      "metadata": {
        "id": "zpytUvMNPzsn",
        "colab_type": "text"
      },
      "source": [
        "# AdaBoost\n"
      ]
    },
    {
      "cell_type": "code",
      "metadata": {
        "id": "a8K5w6UlPjJK",
        "colab_type": "code",
        "colab": {}
      },
      "source": [
        "from numpy import *"
      ],
      "execution_count": 0,
      "outputs": []
    },
    {
      "cell_type": "markdown",
      "metadata": {
        "id": "u0QOR_bjRYIs",
        "colab_type": "text"
      },
      "source": [
        "## 数据集"
      ]
    },
    {
      "cell_type": "code",
      "metadata": {
        "id": "VqKlH9OsPjHD",
        "colab_type": "code",
        "colab": {}
      },
      "source": [
        "def loadDataSet():\n",
        "    x = [0, 1, 2, 3, 4, 5]\n",
        "    y = [1, 1, -1, -1, 1, -1]\n",
        "    return x, y"
      ],
      "execution_count": 0,
      "outputs": []
    },
    {
      "cell_type": "markdown",
      "metadata": {
        "id": "5XvHFi7DRWcj",
        "colab_type": "text"
      },
      "source": [
        "## 计算可能的划分点\n",
        "\n",
        "选取两相邻样本均值作为划分点"
      ]
    },
    {
      "cell_type": "code",
      "metadata": {
        "id": "LuZraPJoPjEW",
        "colab_type": "code",
        "colab": {}
      },
      "source": [
        "def generateGxList(x):\n",
        "    gxlist = []\n",
        "    for i in range(len(x) - 1):\n",
        "        gx = (x[i] + x[i + 1]) / 2\n",
        "        gxlist.append(gx)\n",
        "    return gxlist"
      ],
      "execution_count": 0,
      "outputs": []
    },
    {
      "cell_type": "markdown",
      "metadata": {
        "id": "b91SOUdpVEin",
        "colab_type": "text"
      },
      "source": [
        "## 计算误差\n",
        "其中$m = 1,2,..,M$，代表第m轮迭代。$i$代表第$i$个样本，$w$是样本权重，$I$指示函数取值为1或0，括号中的表达式为真时，指示结果为1，否则为0\n",
        "$$e_m = \\sum^N_{i=1}w_{mi}I(G_m(x_i)\\neq y_i)$$\n",
        "<font face=楷体 color=red size=5>注意</font>：第一轮迭代计算时样本权重初始化为总样本数分之一"
      ]
    },
    {
      "cell_type": "code",
      "metadata": {
        "id": "W_GoFg6mU-1e",
        "colab_type": "code",
        "colab": {}
      },
      "source": [
        "def calcErrorNum(gx, x, y, weight):\n",
        "    #判断以gx为切分点的两种方式里，哪种会让误差更小\n",
        "    error1 = 0\n",
        "    errorNeg1 = 0\n",
        "    ygx = 1\n",
        "    for i in range(len(x)):\n",
        "        if i < gx and y[i] != 1: error1 += weight[i]\n",
        "        if i > gx and y[i] != -1: error1 += weight[i]\n",
        "        if i < gx and y[i] != -1: errorNeg1 += weight[i]\n",
        "        if i > gx and y[i] != 1: errorNeg1 += weight[i]\n",
        "    if errorNeg1 < error1:\n",
        "        return errorNeg1, -1 # x>gx,则fgx = 1\n",
        "    return error1, 1 # x<gx, 则fgx = 1"
      ],
      "execution_count": 0,
      "outputs": []
    },
    {
      "cell_type": "markdown",
      "metadata": {
        "id": "bP9fQ_h2Rn5U",
        "colab_type": "text"
      },
      "source": [
        "## 计算弱分类器权重\n",
        "错误率越小弱分类器的权重越高，错误率越大权重越小\n",
        "$$\\alpha_m = \\frac12\\log(\\frac{1-e_m}{e_m})$$"
      ]
    },
    {
      "cell_type": "code",
      "metadata": {
        "id": "jofIyVR7Pi9-",
        "colab_type": "code",
        "colab": {}
      },
      "source": [
        "def calcAlpha(minError):\n",
        "    alpha = 1/2 * log((1-minError)/minError)\n",
        "    return alpha"
      ],
      "execution_count": 0,
      "outputs": []
    },
    {
      "cell_type": "markdown",
      "metadata": {
        "id": "epxlIkyVRprE",
        "colab_type": "text"
      },
      "source": [
        "## 计算样本新权重\n",
        "\n",
        "$$\\begin{aligned}\n",
        "\\left\\{\\begin{aligned}\n",
        "&w_{m+1,i}=\\frac{w_{mi}}{z_m}\\exp(-\\alpha_my_iG_m(x_i))\\\\\n",
        "&z_m=\\sum^N_{i=1}w_{mi}\\exp(-\\alpha_my_iG_m(x_i))\n",
        "\\end{aligned}\\right.\n",
        "\\end{aligned}$$"
      ]
    },
    {
      "cell_type": "code",
      "metadata": {
        "id": "YhuxuKrUPi64",
        "colab_type": "code",
        "colab": {}
      },
      "source": [
        "def calcNewWeight(alpha,ygx, weight, gx, y):\n",
        "    newWeight = []\n",
        "    sumWeight = 0\n",
        "    for i in range(len(weight)):\n",
        "        flag = 1\n",
        "        if i < gx and y[i] != ygx: flag = -1\n",
        "        if i > gx and y[i] != -ygx: flag = -1\n",
        "        weighti = weight[i]*exp(-alpha*flag)\n",
        "        newWeight.append(weighti)\n",
        "        sumWeight += weighti\n",
        "    newWeight = newWeight / sumWeight\n",
        "\n",
        "    return newWeight"
      ],
      "execution_count": 0,
      "outputs": []
    },
    {
      "cell_type": "markdown",
      "metadata": {
        "id": "z-PYONdfRuSz",
        "colab_type": "text"
      },
      "source": [
        "## 训练基本弱分类器\n",
        "取错误率最低的弱分类器为当前迭代的最优弱分类器"
      ]
    },
    {
      "cell_type": "code",
      "metadata": {
        "id": "K5-MRrwqPsp4",
        "colab_type": "code",
        "colab": {}
      },
      "source": [
        "def trainfxi(fx, i, x, y, weight):\n",
        "    minError = inf\n",
        "    bestGx = 0.5\n",
        "    gxlist = generateGxList(x)\n",
        "    bestygx = 1\n",
        "    # 计算基本分类器\n",
        "    for xi in gxlist:\n",
        "        error, ygx = calcErrorNum(xi, x, y, weight)\n",
        "        if error < minError:\n",
        "            minError = error\n",
        "            bestGx = xi\n",
        "            bestygx = ygx\n",
        "    fx[i]['gx'] = bestGx\n",
        "    #计算alpha\n",
        "    alpha = calcAlpha(minError)\n",
        "    fx[i]['alpha'] = alpha\n",
        "    fx[i]['ygx'] = bestygx\n",
        "    #计算新的训练数据权值\n",
        "    newWeight = calcNewWeight(alpha,bestygx, weight, bestGx, y)\n",
        "    return newWeight"
      ],
      "execution_count": 0,
      "outputs": []
    },
    {
      "cell_type": "markdown",
      "metadata": {
        "id": "XRFNoS4oR_aI",
        "colab_type": "text"
      },
      "source": [
        "## 计算当前弱分类器线性组合的错误率\n",
        "计算当前所有弱分类器线性组合形成的强分类器的错误率"
      ]
    },
    {
      "cell_type": "code",
      "metadata": {
        "id": "Z1i6jfonPsnI",
        "colab_type": "code",
        "colab": {}
      },
      "source": [
        "def calcFxError(fx, n, x, y):\n",
        "    errorNum = 0\n",
        "    for i in range(len(x)):\n",
        "        fi = 0\n",
        "        for j in range(n):\n",
        "            fxiAlpha = fx[j]['alpha']\n",
        "            fxiGx = fx[j]['gx']\n",
        "            ygx = fx[j]['ygx']\n",
        "            if i < fxiGx: fgx = ygx\n",
        "            else: fgx = -ygx\n",
        "            fi += fxiAlpha * fgx\n",
        "        if sign(fi) != y[i]: errorNum += 1\n",
        "\n",
        "    return errorNum/len(x)"
      ],
      "execution_count": 0,
      "outputs": []
    },
    {
      "cell_type": "markdown",
      "metadata": {
        "id": "x-UUmhlZSDcX",
        "colab_type": "text"
      },
      "source": [
        "## 训练强分类器\n",
        "首先，初始化样本权重为总样本数分之一，然后训练弱分类器，并更新样本权重。errorThreshold为最低错误率阈值，maxIterNum为最大迭代数，用这两个变量控制迭代是否结束。"
      ]
    },
    {
      "cell_type": "code",
      "metadata": {
        "id": "AwD6SOq9PVch",
        "colab_type": "code",
        "colab": {
          "base_uri": "https://localhost:8080/",
          "height": 55
        },
        "outputId": "9e0ab7be-f4bd-4aaa-9476-c45170877f16"
      },
      "source": [
        "def trainAdaBoost(x, y, errorThreshold, maxIterNum):\n",
        "    fx = {}\n",
        "    weight = []\n",
        "    xNum = len(x)\n",
        "    for i in range(xNum):\n",
        "        w = float(1/xNum)\n",
        "        weight.append(w)\n",
        "\n",
        "    for i in range(maxIterNum):\n",
        "        fx[i] = {}\n",
        "        newWeight = trainfxi(fx, i, x, y, weight)\n",
        "        weight = newWeight\n",
        "        fxError = calcFxError(fx, (i+1), x, y)\n",
        "        if fxError < errorThreshold: break\n",
        "\n",
        "    return fx\n",
        "\n",
        "if __name__ == '__main__':\n",
        "    x, y = loadDataSet()\n",
        "    errorThreshold = 0.01\n",
        "    maxIterNum = 10\n",
        "    fx = trainAdaBoost(x, y, errorThreshold, maxIterNum)\n",
        "    print(fx)"
      ],
      "execution_count": 1,
      "outputs": [
        {
          "output_type": "stream",
          "text": [
            "{0: {'gx': 1.5, 'alpha': 0.8047189562170503, 'ygx': 1}, 1: {'gx': 4.5, 'alpha': 0.6931471805599453, 'ygx': 1}, 2: {'gx': 3.5, 'alpha': 0.7331685343967135, 'ygx': -1}}\n"
          ],
          "name": "stdout"
        }
      ]
    },
    {
      "cell_type": "code",
      "metadata": {
        "id": "ta3jqdvXPcdf",
        "colab_type": "code",
        "colab": {}
      },
      "source": [
        ""
      ],
      "execution_count": 0,
      "outputs": []
    }
  ]
}