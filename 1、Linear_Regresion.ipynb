{
  "nbformat": 4,
  "nbformat_minor": 0,
  "metadata": {
    "colab": {
      "name": "1、Linear Regresion",
      "version": "0.3.2",
      "provenance": [],
      "collapsed_sections": [],
      "include_colab_link": true
    },
    "kernelspec": {
      "name": "python3",
      "display_name": "Python 3"
    },
    "accelerator": "GPU"
  },
  "cells": [
    {
      "cell_type": "markdown",
      "metadata": {
        "id": "view-in-github",
        "colab_type": "text"
      },
      "source": [
        "<a href=\"https://colab.research.google.com/github/xiaochengJF/MachineLearning/blob/master/1%E3%80%81Linear_Regresion.ipynb\" target=\"_parent\"><img src=\"https://colab.research.google.com/assets/colab-badge.svg\" alt=\"Open In Colab\"/></a>"
      ]
    },
    {
      "cell_type": "code",
      "metadata": {
        "id": "f7R_U_0InKVS",
        "colab_type": "code",
        "outputId": "643c723d-5114-48bc-a332-7a9e75e774de",
        "colab": {
          "base_uri": "https://localhost:8080/",
          "height": 124
        }
      },
      "source": [
        "from google.colab import drive\n",
        "drive.mount(\"/content/gdrive/\")"
      ],
      "execution_count": 2,
      "outputs": [
        {
          "output_type": "stream",
          "text": [
            "Go to this URL in a browser: https://accounts.google.com/o/oauth2/auth?client_id=947318989803-6bn6qk8qdgf4n4g3pfee6491hc0brc4i.apps.googleusercontent.com&redirect_uri=urn%3Aietf%3Awg%3Aoauth%3A2.0%3Aoob&scope=email%20https%3A%2F%2Fwww.googleapis.com%2Fauth%2Fdocs.test%20https%3A%2F%2Fwww.googleapis.com%2Fauth%2Fdrive%20https%3A%2F%2Fwww.googleapis.com%2Fauth%2Fdrive.photos.readonly%20https%3A%2F%2Fwww.googleapis.com%2Fauth%2Fpeopleapi.readonly&response_type=code\n",
            "\n",
            "Enter your authorization code:\n",
            "··········\n",
            "Mounted at /content/gdrive/\n"
          ],
          "name": "stdout"
        }
      ]
    },
    {
      "cell_type": "code",
      "metadata": {
        "id": "LLIHN67Dn2Uy",
        "colab_type": "code",
        "outputId": "f83d10da-216c-4dea-f8d8-638c3b1f3877",
        "colab": {
          "base_uri": "https://localhost:8080/",
          "height": 34
        }
      },
      "source": [
        "cd /content/gdrive/My Drive/MachineLearning/ex1-linear regression/"
      ],
      "execution_count": 3,
      "outputs": [
        {
          "output_type": "stream",
          "text": [
            "/content/gdrive/My Drive/MachineLearning/ex1-linear regression\n"
          ],
          "name": "stdout"
        }
      ]
    },
    {
      "cell_type": "code",
      "metadata": {
        "id": "pOL7M_07mmUs",
        "colab_type": "code",
        "colab": {}
      },
      "source": [
        "import pandas as pd\n",
        "import seaborn as sns\n",
        "sns.set(context=\"notebook\", style=\"whitegrid\", palette=\"dark\")\n",
        "import matplotlib.pyplot as plt\n",
        "import tensorflow as tf\n",
        "import numpy as np"
      ],
      "execution_count": 0,
      "outputs": []
    },
    {
      "cell_type": "code",
      "metadata": {
        "id": "3O863xsNoLeS",
        "colab_type": "code",
        "colab": {}
      },
      "source": [
        "df = pd.read_csv('ex1data1.txt', names=['population','profit']) # 读取数据，并给定列名"
      ],
      "execution_count": 0,
      "outputs": []
    },
    {
      "cell_type": "code",
      "metadata": {
        "id": "jTVp0n8QoprK",
        "colab_type": "code",
        "outputId": "32655679-4b13-471f-9aee-1af9eefd898d",
        "colab": {
          "base_uri": "https://localhost:8080/",
          "height": 203
        }
      },
      "source": [
        "df.head() # 查看前五行数据"
      ],
      "execution_count": 42,
      "outputs": [
        {
          "output_type": "execute_result",
          "data": {
            "text/html": [
              "<div>\n",
              "<style scoped>\n",
              "    .dataframe tbody tr th:only-of-type {\n",
              "        vertical-align: middle;\n",
              "    }\n",
              "\n",
              "    .dataframe tbody tr th {\n",
              "        vertical-align: top;\n",
              "    }\n",
              "\n",
              "    .dataframe thead th {\n",
              "        text-align: right;\n",
              "    }\n",
              "</style>\n",
              "<table border=\"1\" class=\"dataframe\">\n",
              "  <thead>\n",
              "    <tr style=\"text-align: right;\">\n",
              "      <th></th>\n",
              "      <th>population</th>\n",
              "      <th>profit</th>\n",
              "    </tr>\n",
              "  </thead>\n",
              "  <tbody>\n",
              "    <tr>\n",
              "      <th>0</th>\n",
              "      <td>6.1101</td>\n",
              "      <td>17.5920</td>\n",
              "    </tr>\n",
              "    <tr>\n",
              "      <th>1</th>\n",
              "      <td>5.5277</td>\n",
              "      <td>9.1302</td>\n",
              "    </tr>\n",
              "    <tr>\n",
              "      <th>2</th>\n",
              "      <td>8.5186</td>\n",
              "      <td>13.6620</td>\n",
              "    </tr>\n",
              "    <tr>\n",
              "      <th>3</th>\n",
              "      <td>7.0032</td>\n",
              "      <td>11.8540</td>\n",
              "    </tr>\n",
              "    <tr>\n",
              "      <th>4</th>\n",
              "      <td>5.8598</td>\n",
              "      <td>6.8233</td>\n",
              "    </tr>\n",
              "  </tbody>\n",
              "</table>\n",
              "</div>"
            ],
            "text/plain": [
              "   population   profit\n",
              "0      6.1101  17.5920\n",
              "1      5.5277   9.1302\n",
              "2      8.5186  13.6620\n",
              "3      7.0032  11.8540\n",
              "4      5.8598   6.8233"
            ]
          },
          "metadata": {
            "tags": []
          },
          "execution_count": 42
        }
      ]
    },
    {
      "cell_type": "code",
      "metadata": {
        "id": "ClXkEWgyphKD",
        "colab_type": "code",
        "outputId": "ae101ed5-9119-4c29-81ed-b8a000c6671b",
        "colab": {
          "base_uri": "https://localhost:8080/",
          "height": 141
        }
      },
      "source": [
        "df.info()"
      ],
      "execution_count": 43,
      "outputs": [
        {
          "output_type": "stream",
          "text": [
            "<class 'pandas.core.frame.DataFrame'>\n",
            "RangeIndex: 97 entries, 0 to 96\n",
            "Data columns (total 2 columns):\n",
            "population    97 non-null float64\n",
            "profit        97 non-null float64\n",
            "dtypes: float64(2)\n",
            "memory usage: 1.6 KB\n"
          ],
          "name": "stdout"
        }
      ]
    },
    {
      "cell_type": "code",
      "metadata": {
        "id": "7gTmfiUQpnsy",
        "colab_type": "code",
        "outputId": "fb545f71-d159-4499-f185-908d253c00cb",
        "colab": {
          "base_uri": "https://localhost:8080/",
          "height": 510
        }
      },
      "source": [
        "sns.lmplot('population','profit', df, size=6, fit_reg=False)\n",
        "#plt.show()"
      ],
      "execution_count": 44,
      "outputs": [
        {
          "output_type": "stream",
          "text": [
            "/usr/local/lib/python3.6/dist-packages/seaborn/regression.py:546: UserWarning: The `size` paramter has been renamed to `height`; please update your code.\n",
            "  warnings.warn(msg, UserWarning)\n"
          ],
          "name": "stderr"
        },
        {
          "output_type": "execute_result",
          "data": {
            "text/plain": [
              "<seaborn.axisgrid.FacetGrid at 0x7f33bfdb4cf8>"
            ]
          },
          "metadata": {
            "tags": []
          },
          "execution_count": 44
        },
        {
          "output_type": "display_data",
          "data": {
            "image/png": "[encoded data removed]",
            "text/plain": [
              "<Figure size 432x432 with 1 Axes>"
            ]
          },
          "metadata": {
            "tags": []
          }
        }
      ]
    },
    {
      "cell_type": "code",
      "metadata": {
        "id": "P_rVZnrrp43a",
        "colab_type": "code",
        "colab": {}
      },
      "source": [
        "def get_X(df): # 读取特征？？？？？？？？？？？？？？？？？？？\n",
        "    \"\"\"\n",
        "    \"\"\"\n",
        "    ones = pd.DataFrame({'ones':np.ones(len(df))}) # ones是m行1列的DataFrame\n",
        "    data = pd.concat([ones, df],axis = 1) # 合并数据，根据列合并\n",
        "    return data.iloc[: : -1].as_matrix() # 返回ndarray，不是矩阵\n",
        "\n",
        "def get_y(df): # 读取标签\n",
        "    \"\"\"\n",
        "    读取最后一列作为标签\n",
        "    \"\"\"\n",
        "    return np.array(df.iloc[:, -1]) # df.iloc[:, -1]是df的最后一列\n",
        "\n",
        "def normalize_feature(df):\n",
        "    \"\"\"\n",
        "    \"\"\"\n",
        "    return df.apply(lambda column: (column.mean()) / column.std()) # 特征缩放"
      ],
      "execution_count": 0,
      "outputs": []
    },
    {
      "cell_type": "code",
      "metadata": {
        "id": "AQOraLlVq_Fj",
        "colab_type": "code",
        "colab": {}
      },
      "source": [
        "def linear_regression(X_data, y_data, alpha, optimizer=tf.train.GradientDescentOptimizer):\n",
        "    # 创建占位符\n",
        "    X = tf.placeholder(tf.float32, shape=X_data.shape)\n",
        "    y = tf.palceholder(tf.float32, shape=y_data.shape)\n",
        "    \n",
        "    # 创建图形\n",
        "    with tf.variable_scope('linear-regression'): #？？？？？\n",
        "        W = tf.get_variable(\"weights\",\n",
        "                            (X_data.shape[1],1),\n",
        "                            initializer=tf.constant_initializer()) # n*1？？？？？？？？\n",
        "        y_pred = tf.matmul(X, W) # m*n @ n*1 -> m*1\n",
        "        loss = 1 / (2 * len(X_data)) * tf.matmul((y_pred - y), (y_pred - y), transpose_a = True) #  (m*1).T @ m*1 = 1*1\n",
        "    opt = optimizer(learning_rate=alpha)\n",
        "    opt_operation = opt.minimize(loss)\n",
        "    \n",
        "    # 运行会话\n",
        "    with th.Session() as sess:\n",
        "        sess.run(tf.gloabal_variables_initializer())\n",
        "        loss_data = []\n",
        "        \n",
        "        for i in range(epoch):\n",
        "            _, loss_val, W_val = sess.run([opt_operation, loss, W], feed_dict={X: X_data, y: y_data})\n",
        "            loss_data.append(loss_val[0,0]) # 每个loss_val 都是1*1 ndarray\n",
        "            \n",
        "            if len(loss_data) > 1 and np.abs(loss_data[-1] - loss_data[-2]) < 10 ** -9:# 收敛时提前跳出循环\n",
        "            #print (\"Converged as epoch {}\".formaat(i))\n",
        "                break\n",
        "    # 清除图\n",
        "    tf.reset_default_graph()\n",
        "    return {'loss': loss_data, 'parameters': W_val} # 返回行向量的形式"
      ],
      "execution_count": 0,
      "outputs": []
    },
    {
      "cell_type": "code",
      "metadata": {
        "id": "9aIbU4VN10qg",
        "colab_type": "code",
        "outputId": "f7385ea2-3cf1-474b-b99b-0472f04d3832",
        "colab": {
          "base_uri": "https://localhost:8080/",
          "height": 203
        }
      },
      "source": [
        "data = pd.read_csv('ex1data1.txt', names= ['population', 'profit'])\n",
        "data.head()"
      ],
      "execution_count": 47,
      "outputs": [
        {
          "output_type": "execute_result",
          "data": {
            "text/html": [
              "<div>\n",
              "<style scoped>\n",
              "    .dataframe tbody tr th:only-of-type {\n",
              "        vertical-align: middle;\n",
              "    }\n",
              "\n",
              "    .dataframe tbody tr th {\n",
              "        vertical-align: top;\n",
              "    }\n",
              "\n",
              "    .dataframe thead th {\n",
              "        text-align: right;\n",
              "    }\n",
              "</style>\n",
              "<table border=\"1\" class=\"dataframe\">\n",
              "  <thead>\n",
              "    <tr style=\"text-align: right;\">\n",
              "      <th></th>\n",
              "      <th>population</th>\n",
              "      <th>profit</th>\n",
              "    </tr>\n",
              "  </thead>\n",
              "  <tbody>\n",
              "    <tr>\n",
              "      <th>0</th>\n",
              "      <td>6.1101</td>\n",
              "      <td>17.5920</td>\n",
              "    </tr>\n",
              "    <tr>\n",
              "      <th>1</th>\n",
              "      <td>5.5277</td>\n",
              "      <td>9.1302</td>\n",
              "    </tr>\n",
              "    <tr>\n",
              "      <th>2</th>\n",
              "      <td>8.5186</td>\n",
              "      <td>13.6620</td>\n",
              "    </tr>\n",
              "    <tr>\n",
              "      <th>3</th>\n",
              "      <td>7.0032</td>\n",
              "      <td>11.8540</td>\n",
              "    </tr>\n",
              "    <tr>\n",
              "      <th>4</th>\n",
              "      <td>5.8598</td>\n",
              "      <td>6.8233</td>\n",
              "    </tr>\n",
              "  </tbody>\n",
              "</table>\n",
              "</div>"
            ],
            "text/plain": [
              "   population   profit\n",
              "0      6.1101  17.5920\n",
              "1      5.5277   9.1302\n",
              "2      8.5186  13.6620\n",
              "3      7.0032  11.8540\n",
              "4      5.8598   6.8233"
            ]
          },
          "metadata": {
            "tags": []
          },
          "execution_count": 47
        }
      ]
    },
    {
      "cell_type": "code",
      "metadata": {
        "id": "87ACsHm411AA",
        "colab_type": "code",
        "outputId": "59d4e72a-e77c-4b4e-9a2b-7daef6f7eda0",
        "colab": {
          "base_uri": "https://localhost:8080/",
          "height": 196
        }
      },
      "source": [
        "X = get_X(data)\n",
        "print(X.shape, type(X))\n",
        "print(X[:5:]) #查看前⑤行\n",
        "\n",
        "y = get_y(data)\n",
        "print(y.shape, type(y)) # 查看数据维度"
      ],
      "execution_count": 48,
      "outputs": [
        {
          "output_type": "stream",
          "text": [
            "(97, 3) <class 'numpy.ndarray'>\n",
            "[[ 1.       5.4369   0.61705]\n",
            " [ 1.      13.394    9.0551 ]\n",
            " [ 1.       8.2934   0.14454]\n",
            " [ 1.       5.3054   1.9869 ]\n",
            " [ 1.       5.8707   7.2029 ]]\n",
            "(97,) <class 'numpy.ndarray'>\n"
          ],
          "name": "stdout"
        },
        {
          "output_type": "stream",
          "text": [
            "/usr/local/lib/python3.6/dist-packages/ipykernel_launcher.py:6: FutureWarning: Method .as_matrix will be removed in a future version. Use .values instead.\n",
            "  \n"
          ],
          "name": "stderr"
        }
      ]
    },
    {
      "cell_type": "code",
      "metadata": {
        "id": "pqgXMo8211LY",
        "colab_type": "code",
        "colab": {}
      },
      "source": [
        "theta = np.zeros(X.shape[1]) # X.shape[1]=2代表特征数"
      ],
      "execution_count": 0,
      "outputs": []
    },
    {
      "cell_type": "code",
      "metadata": {
        "id": "i-xOL2IWuzI9",
        "colab_type": "code",
        "colab": {}
      },
      "source": [
        "def lr_cost(theta, X, y):\n",
        "    \"\"\"\n",
        "    X: R(m*n), m 样本数, n 特征数\n",
        "    y: R(m)\n",
        "    theta : R(n), 线性回归的参数\n",
        "    \"\"\"\n",
        "    m = X.shape[0] # 样本数\n",
        "    inner = X @ theta - y # R(m*1),等价于X.dot(theta)\n",
        "    square_sum = inner.T @ inner # .T表示转置\n",
        "    cost = square_sum / (2 * m)\n",
        "    \n",
        "    return cost"
      ],
      "execution_count": 0,
      "outputs": []
    },
    {
      "cell_type": "code",
      "metadata": {
        "id": "7KcQvSV9sHdc",
        "colab_type": "code",
        "outputId": "35aaa79f-585e-4d91-e622-e76bdf6ddecb",
        "colab": {
          "base_uri": "https://localhost:8080/",
          "height": 34
        }
      },
      "source": [
        "lr_cost(theta, X, y) #返回cost"
      ],
      "execution_count": 51,
      "outputs": [
        {
          "output_type": "execute_result",
          "data": {
            "text/plain": [
              "32.072733877455676"
            ]
          },
          "metadata": {
            "tags": []
          },
          "execution_count": 51
        }
      ]
    },
    {
      "cell_type": "code",
      "metadata": {
        "id": "tKECWPKksPI9",
        "colab_type": "code",
        "colab": {}
      },
      "source": [
        "def gradient(theta, X, y): # 求梯度\n",
        "    m = X.shape[0]\n",
        "    inner = X.T @ (X @ theta - y) # (m,n).T @ (m, 1) -> (n, 1)\n",
        "    \n",
        "    return inner / m"
      ],
      "execution_count": 0,
      "outputs": []
    },
    {
      "cell_type": "code",
      "metadata": {
        "id": "ls9Kai4UviU9",
        "colab_type": "code",
        "colab": {}
      },
      "source": [
        "def batch_gradient_decent(theta,X, y, epoch, alpha=0.01):\n",
        "    \"\"\"\n",
        "    批量梯度下降函数\n",
        "    拟合线性回归，返回参数和代价\n",
        "    epoch:批处理次数\n",
        "    \"\"\"\n",
        "    cost_data = [lr_cost(theta, X, y)]\n",
        "    _theta = theta.copy() # 拷贝\n",
        "    \n",
        "    for _ in range(epoch):\n",
        "        _theta = _theta - alpha * gradient(_theta, X, y)\n",
        "        cost_data.append(lr_cost(_theta, X, y))\n",
        "        \n",
        "        \n",
        "    return _theta, cost_data"
      ],
      "execution_count": 0,
      "outputs": []
    },
    {
      "cell_type": "code",
      "metadata": {
        "id": "g9Aiox7Zw98F",
        "colab_type": "code",
        "colab": {}
      },
      "source": [
        "epoch = 500\n",
        "final_theta, cost_data = batch_gradient_decent(theta, X, y, epoch)"
      ],
      "execution_count": 0,
      "outputs": []
    },
    {
      "cell_type": "code",
      "metadata": {
        "id": "B1Oj0HkaxWcG",
        "colab_type": "code",
        "outputId": "235accc5-339f-43b4-baa8-252dcafc79b5",
        "colab": {
          "base_uri": "https://localhost:8080/",
          "height": 34
        }
      },
      "source": [
        "final_theta　# ？？？？？？？？？"
      ],
      "execution_count": 55,
      "outputs": [
        {
          "output_type": "execute_result",
          "data": {
            "text/plain": [
              "array([ 1.81549343,  0.76855256, -0.42390162])"
            ]
          },
          "metadata": {
            "tags": []
          },
          "execution_count": 55
        }
      ]
    },
    {
      "cell_type": "code",
      "metadata": {
        "id": "R1QyFfbOx9zX",
        "colab_type": "code",
        "outputId": "24743fa6-13c1-451c-e2a2-d0a3c10e7213",
        "colab": {
          "base_uri": "https://localhost:8080/",
          "height": 8784
        }
      },
      "source": [
        "cost_data"
      ],
      "execution_count": 56,
      "outputs": [
        {
          "output_type": "execute_result",
          "data": {
            "text/plain": [
              "[32.072733877455676,\n",
              " 20.692455197812173,\n",
              " 18.53467081819576,\n",
              " 17.86081067576754,\n",
              " 17.462924255430863,\n",
              " 17.147380799919915,\n",
              " 16.878779827678173,\n",
              " 16.646998954789815,\n",
              " 16.446465516360583,\n",
              " 16.27285515264102,\n",
              " 16.122506038117983,\n",
              " 15.992264453438102,\n",
              " 15.879405898251576,\n",
              " 15.781575368819478,\n",
              " 15.696737043894867,\n",
              " 15.623130992998467,\n",
              " 15.559235783065303,\n",
              " 15.503736157392193,\n",
              " 15.455495095359236,\n",
              " 15.413529658617193,\n",
              " 15.376990110515269,\n",
              " 15.345141865178059,\n",
              " 15.317349882767223,\n",
              " 15.293065179431059,\n",
              " 15.27181316536828,\n",
              " 15.253183563267834,\n",
              " 15.236821692958857,\n",
              " 15.222420937127765,\n",
              " 15.209716228049372,\n",
              " 15.19847841696844,\n",
              " 15.188509406518717,\n",
              " 15.179637942775821,\n",
              " 15.171715977553212,\n",
              " 15.164615523664343,\n",
              " 15.158225936346277,\n",
              " 15.152451563093214,\n",
              " 15.147209711974584,\n",
              " 15.142428895277984,\n",
              " 15.138047311166188,\n",
              " 15.13401153109348,\n",
              " 15.130275365097766,\n",
              " 15.12679888086346,\n",
              " 15.123547555716756,\n",
              " 15.120491543538897,\n",
              " 15.117605041024246,\n",
              " 15.114865739820315,\n",
              " 15.112254352911487,\n",
              " 15.109754205185107,\n",
              " 15.107350879482407,\n",
              " 15.105031910615017,\n",
              " 15.102786520847046,\n",
              " 15.100605391223548,\n",
              " 15.098480463887501,\n",
              " 15.09640477118599,\n",
              " 15.094372287935139,\n",
              " 15.0923778037055,\n",
              " 15.090416812414723,\n",
              " 15.088485416882188,\n",
              " 15.086580246317952,\n",
              " 15.084698384993223,\n",
              " 15.08283731057712,\n",
              " 15.080994840829735,\n",
              " 15.079169087519139,\n",
              " 15.07735841658332,\n",
              " 15.075561413690801,\n",
              " 15.073776854468335,\n",
              " 15.072003678763204,\n",
              " 15.070240968393342,\n",
              " 15.068487927912688,\n",
              " 15.0667438679831,\n",
              " 15.06500819099965,\n",
              " 15.063280378663862,\n",
              " 15.061559981241016,\n",
              " 15.059846608273206,\n",
              " 15.058139920550905,\n",
              " 15.05643962317253,\n",
              " 15.054745459544522,\n",
              " 15.053057206194476,\n",
              " 15.051374668287183,\n",
              " 15.049697675748316,\n",
              " 15.048026079913368,\n",
              " 15.046359750630742,\n",
              " 15.044698573757358,\n",
              " 15.043042448993713,\n",
              " 15.041391288012202,\n",
              " 15.039745012839164,\n",
              " 15.03810355445613,\n",
              " 15.036466851590612,\n",
              " 15.034834849670776,\n",
              " 15.033207499921705,\n",
              " 15.031584758584199,\n",
              " 15.029966586239357,\n",
              " 15.028352947224711,\n",
              " 15.026743809129469,\n",
              " 15.025139142358155,\n",
              " 15.023538919753353,\n",
              " 15.021943116269563,\n",
              " 15.02035170869128,\n",
              " 15.018764675389203,\n",
              " 15.017181996109546,\n",
              " 15.015603651791812,\n",
              " 15.014029624411316,\n",
              " 15.012459896842998,\n",
              " 15.010894452743676,\n",
              " 15.009333276450294,\n",
              " 15.00777635289187,\n",
              " 15.006223667513451,\n",
              " 15.00467520621028,\n",
              " 15.003130955270938,\n",
              " 15.001590901328147,\n",
              " 15.00005503131623,\n",
              " 14.998523332434338,\n",
              " 14.996995792114642,\n",
              " 14.995472397994819,\n",
              " 14.993953137894259,\n",
              " 14.992437999793502,\n",
              " 14.990926971816414,\n",
              " 14.989420042214812,\n",
              " 14.987917199355122,\n",
              " 14.98641843170686,\n",
              " 14.984923727832639,\n",
              " 14.983433076379571,\n",
              " 14.98194646607174,\n",
              " 14.98046388570377,\n",
              " 14.978985324135191,\n",
              " 14.977510770285598,\n",
              " 14.976040213130421,\n",
              " 14.974573641697303,\n",
              " 14.9731110450629,\n",
              " 14.971652412350164,\n",
              " 14.970197732725932,\n",
              " 14.968746995398869,\n",
              " 14.967300189617655,\n",
              " 14.965857304669427,\n",
              " 14.964418329878402,\n",
              " 14.962983254604687,\n",
              " 14.961552068243238,\n",
              " 14.960124760222962,\n",
              " 14.958701320005893,\n",
              " 14.95728173708653,\n",
              " 14.955866000991174,\n",
              " 14.954454101277442,\n",
              " 14.95304602753374,\n",
              " 14.951641769378865,\n",
              " 14.95024131646162,\n",
              " 14.948844658460484,\n",
              " 14.947451785083302,\n",
              " 14.946062686067027,\n",
              " 14.94467735117747,\n",
              " 14.943295770209078,\n",
              " 14.941917932984733,\n",
              " 14.940543829355576,\n",
              " 14.93917344920084,\n",
              " 14.937806782427671,\n",
              " 14.936443818971023,\n",
              " 14.935084548793494,\n",
              " 14.9337289618852,\n",
              " 14.932377048263666,\n",
              " 14.931028797973724,\n",
              " 14.929684201087381,\n",
              " 14.928343247703733,\n",
              " 14.927005927948858,\n",
              " 14.925672231975735,\n",
              " 14.924342149964136,\n",
              " 14.92301567212055,\n",
              " 14.921692788678088,\n",
              " 14.92037348989641,\n",
              " 14.919057766061622,\n",
              " 14.917745607486225,\n",
              " 14.91643700450901,\n",
              " 14.915131947494991,\n",
              " 14.91383042683533,\n",
              " 14.912532432947257,\n",
              " 14.911237956273997,\n",
              " 14.90994698728469,\n",
              " 14.908659516474327,\n",
              " 14.907375534363675,\n",
              " 14.906095031499197,\n",
              " 14.904817998452987,\n",
              " 14.903544425822707,\n",
              " 14.902274304231495,\n",
              " 14.901007624327905,\n",
              " 14.899744376785849,\n",
              " 14.89848455230451,\n",
              " 14.89722814160828,\n",
              " 14.895975135446692,\n",
              " 14.894725524594348,\n",
              " 14.89347929985085,\n",
              " 14.892236452040732,\n",
              " 14.890996972013408,\n",
              " 14.889760850643071,\n",
              " 14.888528078828658,\n",
              " 14.887298647493758,\n",
              " 14.886072547586565,\n",
              " 14.8848497700798,\n",
              " 14.883630305970648,\n",
              " 14.882414146280684,\n",
              " 14.881201282055818,\n",
              " 14.879991704366223,\n",
              " 14.878785404306273,\n",
              " 14.877582372994466,\n",
              " 14.876382601573376,\n",
              " 14.875186081209575,\n",
              " 14.873992803093572,\n",
              " 14.872802758439743,\n",
              " 14.87161593848628,\n",
              " 14.87043233449511,\n",
              " 14.86925193775184,\n",
              " 14.868074739565694,\n",
              " 14.86690073126944,\n",
              " 14.865729904219336,\n",
              " 14.864562249795062,\n",
              " 14.86339775939966,\n",
              " 14.862236424459454,\n",
              " 14.861078236424023,\n",
              " 14.85992318676609,\n",
              " 14.858771266981508,\n",
              " 14.857622468589154,\n",
              " 14.856476783130903,\n",
              " 14.855334202171537,\n",
              " 14.854194717298704,\n",
              " 14.853058320122845,\n",
              " 14.851925002277124,\n",
              " 14.850794755417397,\n",
              " 14.849667571222113,\n",
              " 14.848543441392279,\n",
              " 14.847422357651386,\n",
              " 14.846304311745357,\n",
              " 14.845189295442468,\n",
              " 14.844077300533328,\n",
              " 14.84296831883076,\n",
              " 14.841862342169788,\n",
              " 14.840759362407564,\n",
              " 14.839659371423293,\n",
              " 14.838562361118202,\n",
              " 14.837468323415441,\n",
              " 14.836377250260071,\n",
              " 14.835289133618957,\n",
              " 14.834203965480754,\n",
              " 14.8331217378558,\n",
              " 14.832042442776102,\n",
              " 14.830966072295254,\n",
              " 14.829892618488385,\n",
              " 14.828822073452082,\n",
              " 14.827754429304376,\n",
              " 14.826689678184627,\n",
              " 14.825627812253517,\n",
              " 14.824568823692957,\n",
              " 14.823512704706054,\n",
              " 14.822459447517032,\n",
              " 14.821409044371194,\n",
              " 14.820361487534846,\n",
              " 14.819316769295263,\n",
              " 14.818274881960605,\n",
              " 14.817235817859888,\n",
              " 14.816199569342906,\n",
              " 14.815166128780191,\n",
              " 14.814135488562936,\n",
              " 14.813107641102965,\n",
              " 14.812082578832655,\n",
              " 14.811060294204896,\n",
              " 14.810040779693022,\n",
              " 14.80902402779076,\n",
              " 14.808010031012197,\n",
              " 14.806998781891679,\n",
              " 14.805990272983795,\n",
              " 14.804984496863307,\n",
              " 14.803981446125098,\n",
              " 14.802981113384119,\n",
              " 14.801983491275326,\n",
              " 14.800988572453639,\n",
              " 14.799996349593876,\n",
              " 14.799006815390708,\n",
              " 14.798019962558602,\n",
              " 14.79703578383176,\n",
              " 14.796054271964081,\n",
              " 14.795075419729095,\n",
              " 14.79409921991991,\n",
              " 14.793125665349173,\n",
              " 14.792154748848999,\n",
              " 14.791186463270922,\n",
              " 14.790220801485862,\n",
              " 14.789257756384036,\n",
              " 14.788297320874944,\n",
              " 14.787339487887294,\n",
              " 14.786384250368947,\n",
              " 14.785431601286891,\n",
              " 14.78448153362715,\n",
              " 14.783534040394775,\n",
              " 14.782589114613755,\n",
              " 14.781646749326988,\n",
              " 14.780706937596229,\n",
              " 14.779769672502029,\n",
              " 14.778834947143688,\n",
              " 14.777902754639202,\n",
              " 14.776973088125224,\n",
              " 14.776045940757001,\n",
              " 14.775121305708323,\n",
              " 14.774199176171487,\n",
              " 14.773279545357223,\n",
              " 14.772362406494675,\n",
              " 14.771447752831318,\n",
              " 14.770535577632934,\n",
              " 14.769625874183554,\n",
              " 14.768718635785401,\n",
              " 14.767813855758847,\n",
              " 14.766911527442376,\n",
              " 14.766011644192504,\n",
              " 14.765114199383772,\n",
              " 14.76421918640865,\n",
              " 14.763326598677528,\n",
              " 14.762436429618647,\n",
              " 14.761548672678067,\n",
              " 14.760663321319583,\n",
              " 14.759780369024726,\n",
              " 14.758899809292672,\n",
              " 14.758021635640226,\n",
              " 14.757145841601753,\n",
              " 14.75627242072914,\n",
              " 14.755401366591748,\n",
              " 14.754532672776364,\n",
              " 14.753666332887146,\n",
              " 14.752802340545596,\n",
              " 14.751940689390487,\n",
              " 14.751081373077833,\n",
              " 14.750224385280848,\n",
              " 14.749369719689872,\n",
              " 14.748517370012362,\n",
              " 14.747667329972808,\n",
              " 14.746819593312717,\n",
              " 14.745974153790552,\n",
              " 14.745131005181687,\n",
              " 14.744290141278366,\n",
              " 14.743451555889651,\n",
              " 14.742615242841381,\n",
              " 14.741781195976131,\n",
              " 14.74094940915315,\n",
              " 14.740119876248333,\n",
              " 14.739292591154165,\n",
              " 14.738467547779694,\n",
              " 14.73764474005046,\n",
              " 14.736824161908466,\n",
              " 14.736005807312127,\n",
              " 14.735189670236242,\n",
              " 14.734375744671926,\n",
              " 14.733564024626569,\n",
              " 14.732754504123823,\n",
              " 14.731947177203516,\n",
              " 14.731142037921618,\n",
              " 14.730339080350234,\n",
              " 14.729538298577507,\n",
              " 14.728739686707618,\n",
              " 14.727943238860712,\n",
              " 14.72714894917286,\n",
              " 14.726356811796046,\n",
              " 14.725566820898079,\n",
              " 14.724778970662584,\n",
              " 14.723993255288935,\n",
              " 14.723209668992242,\n",
              " 14.722428206003272,\n",
              " 14.721648860568438,\n",
              " 14.720871626949737,\n",
              " 14.720096499424718,\n",
              " 14.71932347228643,\n",
              " 14.718552539843396,\n",
              " 14.717783696419552,\n",
              " 14.717016936354224,\n",
              " 14.716252254002065,\n",
              " 14.71548964373304,\n",
              " 14.714729099932358,\n",
              " 14.713970617000447,\n",
              " 14.713214189352902,\n",
              " 14.71245981142047,\n",
              " 14.711707477648963,\n",
              " 14.710957182499259,\n",
              " 14.710208920447243,\n",
              " 14.70946268598377,\n",
              " 14.70871847361462,\n",
              " 14.707976277860462,\n",
              " 14.70723609325681,\n",
              " 14.706497914353992,\n",
              " 14.705761735717093,\n",
              " 14.705027551925944,\n",
              " 14.70429535757504,\n",
              " 14.703565147273535,\n",
              " 14.702836915645191,\n",
              " 14.70211065732834,\n",
              " 14.701386366975834,\n",
              " 14.700664039255026,\n",
              " 14.699943668847707,\n",
              " 14.69922525045009,\n",
              " 14.69850877877275,\n",
              " 14.6977942485406,\n",
              " 14.69708165449285,\n",
              " 14.69637099138296,\n",
              " 14.695662253978611,\n",
              " 14.694955437061655,\n",
              " 14.694250535428095,\n",
              " 14.693547543888025,\n",
              " 14.692846457265603,\n",
              " 14.692147270399023,\n",
              " 14.691449978140453,\n",
              " 14.69075457535602,\n",
              " 14.690061056925757,\n",
              " 14.689369417743569,\n",
              " 14.688679652717202,\n",
              " 14.687991756768197,\n",
              " 14.687305724831862,\n",
              " 14.686621551857224,\n",
              " 14.68593923280699,\n",
              " 14.685258762657536,\n",
              " 14.684580136398834,\n",
              " 14.683903349034438,\n",
              " 14.683228395581432,\n",
              " 14.68255527107042,\n",
              " 14.681883970545464,\n",
              " 14.681214489064041,\n",
              " 14.680546821697048,\n",
              " 14.679880963528708,\n",
              " 14.679216909656594,\n",
              " 14.678554655191542,\n",
              " 14.677894195257641,\n",
              " 14.677235524992204,\n",
              " 14.676578639545708,\n",
              " 14.675923534081772,\n",
              " 14.675270203777123,\n",
              " 14.674618643821562,\n",
              " 14.673968849417918,\n",
              " 14.673320815782017,\n",
              " 14.672674538142656,\n",
              " 14.672030011741557,\n",
              " 14.67138723183334,\n",
              " 14.670746193685474,\n",
              " 14.670106892578264,\n",
              " 14.669469323804794,\n",
              " 14.668833482670905,\n",
              " 14.668199364495162,\n",
              " 14.66756696460881,\n",
              " 14.666936278355745,\n",
              " 14.666307301092495,\n",
              " 14.665680028188147,\n",
              " 14.665054455024348,\n",
              " 14.66443057699527,\n",
              " 14.663808389507539,\n",
              " 14.66318788798025,\n",
              " 14.66256906784491,\n",
              " 14.66195192454539,\n",
              " 14.661336453537928,\n",
              " 14.660722650291051,\n",
              " 14.660110510285588,\n",
              " 14.659500029014593,\n",
              " 14.658891201983353,\n",
              " 14.65828402470932,\n",
              " 14.65767849272209,\n",
              " 14.657074601563387,\n",
              " 14.656472346787005,\n",
              " 14.65587172395879,\n",
              " 14.655272728656598,\n",
              " 14.654675356470278,\n",
              " 14.654079603001621,\n",
              " 14.653485463864335,\n",
              " 14.65289293468402,\n",
              " 14.65230201109813,\n",
              " 14.65171268875593,\n",
              " 14.651124963318484,\n",
              " 14.65053883045861,\n",
              " 14.649954285860849,\n",
              " 14.649371325221448,\n",
              " 14.648789944248298,\n",
              " 14.648210138660934,\n",
              " 14.647631904190481,\n",
              " 14.647055236579636,\n",
              " 14.646480131582637,\n",
              " 14.64590658496521,\n",
              " 14.645334592504579,\n",
              " 14.64476414998939,\n",
              " 14.644195253219712,\n",
              " 14.643627898006994,\n",
              " 14.643062080174023,\n",
              " 14.64249779555492,\n",
              " 14.64193503999509,\n",
              " 14.641373809351188,\n",
              " 14.640814099491113,\n",
              " 14.640255906293943,\n",
              " 14.63969922564993,\n",
              " 14.639144053460466,\n",
              " 14.63859038563804,\n",
              " 14.638038218106226,\n",
              " 14.637487546799644,\n",
              " 14.636938367663928,\n",
              " 14.636390676655687,\n",
              " 14.635844469742505,\n",
              " 14.635299742902882,\n",
              " 14.634756492126217,\n",
              " 14.634214713412774,\n",
              " 14.633674402773668,\n",
              " 14.633135556230803,\n",
              " 14.632598169816879,\n",
              " 14.632062239575335,\n",
              " 14.63152776156034,\n",
              " 14.630994731836749]"
            ]
          },
          "metadata": {
            "tags": []
          },
          "execution_count": 56
        }
      ]
    },
    {
      "cell_type": "code",
      "metadata": {
        "id": "vvIx9tKYyBsu",
        "colab_type": "code",
        "outputId": "ef13eb3f-f7cb-4541-a035-f31e5b978657",
        "colab": {
          "base_uri": "https://localhost:8080/",
          "height": 34
        }
      },
      "source": [
        "lr_cost(final_theta, X, y)"
      ],
      "execution_count": 57,
      "outputs": [
        {
          "output_type": "execute_result",
          "data": {
            "text/plain": [
              "14.630994731836749"
            ]
          },
          "metadata": {
            "tags": []
          },
          "execution_count": 57
        }
      ]
    },
    {
      "cell_type": "code",
      "metadata": {
        "id": "poN5fm5a2esw",
        "colab_type": "code",
        "outputId": "5a9a2108-a496-4d2f-df9b-02da82ac6bf0",
        "colab": {
          "base_uri": "https://localhost:8080/",
          "height": 346
        }
      },
      "source": [
        "ax = sns.tsplot(cost_data, time=np.arange(epoch+1)) #　？？？？\n",
        "ax.set_xlabel(\"epoch\")\n",
        "ax.set_ylabel(\"cost\")\n",
        "plt.show()"
      ],
      "execution_count": 59,
      "outputs": [
        {
          "output_type": "stream",
          "text": [
            "/usr/local/lib/python3.6/dist-packages/seaborn/timeseries.py:183: UserWarning: The `tsplot` function is deprecated and will be removed in a future release. Please update your code to use the new `lineplot` function.\n",
            "  warnings.warn(msg, UserWarning)\n"
          ],
          "name": "stderr"
        },
        {
          "output_type": "display_data",
          "data": {
            "image/png": "[encoded data removed]",
            "text/plain": [
              "<Figure size 432x288 with 1 Axes>"
            ]
          },
          "metadata": {
            "tags": []
          }
        }
      ]
    },
    {
      "cell_type": "code",
      "metadata": {
        "id": "YO-0LRwF231o",
        "colab_type": "code",
        "outputId": "bc48abfe-93a1-4981-fa86-35e7f75fbaf1",
        "colab": {
          "base_uri": "https://localhost:8080/",
          "height": 274
        }
      },
      "source": [
        "b = final_theta[0] # intercept,Y轴上的截距\n",
        "m = final_theta[1] # slope,斜率\n",
        "\n",
        "plt.scatter(data.population, data.profit, label=\"Training data\")\n",
        "plt.plot(data.population, data.population*m + b, label=\"Prediction\")\n",
        "plt.legend(loc=2)\n",
        "plt.show()"
      ],
      "execution_count": 62,
      "outputs": [
        {
          "output_type": "display_data",
          "data": {
            "image/png": "[encoded data removed]",
            "text/plain": [
              "<Figure size 432x288 with 1 Axes>"
            ]
          },
          "metadata": {
            "tags": []
          }
        }
      ]
    },
    {
      "cell_type": "markdown",
      "metadata": {
        "id": "xzsRH-yEP-iG",
        "colab_type": "text"
      },
      "source": [
        "# 3 - 选修部分"
      ]
    },
    {
      "cell_type": "code",
      "metadata": {
        "id": "m2tRqJEF3lf5",
        "colab_type": "code",
        "colab": {
          "base_uri": "https://localhost:8080/",
          "height": 204
        },
        "outputId": "df82b8ba-59f4-4707-9ce3-e0182a1db036"
      },
      "source": [
        "raw_data = pd.read_csv(\"ex1data2.txt\", names=['square', 'bedrooms', 'price'])\n",
        "raw_data.head()"
      ],
      "execution_count": 64,
      "outputs": [
        {
          "output_type": "execute_result",
          "data": {
            "text/html": [
              "<div>\n",
              "<style scoped>\n",
              "    .dataframe tbody tr th:only-of-type {\n",
              "        vertical-align: middle;\n",
              "    }\n",
              "\n",
              "    .dataframe tbody tr th {\n",
              "        vertical-align: top;\n",
              "    }\n",
              "\n",
              "    .dataframe thead th {\n",
              "        text-align: right;\n",
              "    }\n",
              "</style>\n",
              "<table border=\"1\" class=\"dataframe\">\n",
              "  <thead>\n",
              "    <tr style=\"text-align: right;\">\n",
              "      <th></th>\n",
              "      <th>square</th>\n",
              "      <th>bedrooms</th>\n",
              "      <th>price</th>\n",
              "    </tr>\n",
              "  </thead>\n",
              "  <tbody>\n",
              "    <tr>\n",
              "      <th>0</th>\n",
              "      <td>2104</td>\n",
              "      <td>3</td>\n",
              "      <td>399900</td>\n",
              "    </tr>\n",
              "    <tr>\n",
              "      <th>1</th>\n",
              "      <td>1600</td>\n",
              "      <td>3</td>\n",
              "      <td>329900</td>\n",
              "    </tr>\n",
              "    <tr>\n",
              "      <th>2</th>\n",
              "      <td>2400</td>\n",
              "      <td>3</td>\n",
              "      <td>369000</td>\n",
              "    </tr>\n",
              "    <tr>\n",
              "      <th>3</th>\n",
              "      <td>1416</td>\n",
              "      <td>2</td>\n",
              "      <td>232000</td>\n",
              "    </tr>\n",
              "    <tr>\n",
              "      <th>4</th>\n",
              "      <td>3000</td>\n",
              "      <td>4</td>\n",
              "      <td>539900</td>\n",
              "    </tr>\n",
              "  </tbody>\n",
              "</table>\n",
              "</div>"
            ],
            "text/plain": [
              "   square  bedrooms   price\n",
              "0    2104         3  399900\n",
              "1    1600         3  329900\n",
              "2    2400         3  369000\n",
              "3    1416         2  232000\n",
              "4    3000         4  539900"
            ]
          },
          "metadata": {
            "tags": []
          },
          "execution_count": 64
        }
      ]
    },
    {
      "cell_type": "markdown",
      "metadata": {
        "id": "rJxxFSzZQPa2",
        "colab_type": "text"
      },
      "source": [
        "**标准化数据**"
      ]
    },
    {
      "cell_type": "code",
      "metadata": {
        "id": "EI_JSY2S4ETS",
        "colab_type": "code",
        "colab": {}
      },
      "source": [
        "def normalize_feature(df):\n",
        "    \"\"\"\n",
        "    标准化数据\n",
        "    \"\"\"\n",
        "    return df.apply(lambda column: (column - column.mean()) / column.std())"
      ],
      "execution_count": 0,
      "outputs": []
    },
    {
      "cell_type": "code",
      "metadata": {
        "id": "rdINy-KU4hmp",
        "colab_type": "code",
        "outputId": "aeb4e717-692c-43a7-fda5-24b9869e907c",
        "colab": {
          "base_uri": "https://localhost:8080/",
          "height": 204
        }
      },
      "source": [
        "data = normalize_feature(raw_data)\n",
        "data.head()"
      ],
      "execution_count": 67,
      "outputs": [
        {
          "output_type": "execute_result",
          "data": {
            "text/html": [
              "<div>\n",
              "<style scoped>\n",
              "    .dataframe tbody tr th:only-of-type {\n",
              "        vertical-align: middle;\n",
              "    }\n",
              "\n",
              "    .dataframe tbody tr th {\n",
              "        vertical-align: top;\n",
              "    }\n",
              "\n",
              "    .dataframe thead th {\n",
              "        text-align: right;\n",
              "    }\n",
              "</style>\n",
              "<table border=\"1\" class=\"dataframe\">\n",
              "  <thead>\n",
              "    <tr style=\"text-align: right;\">\n",
              "      <th></th>\n",
              "      <th>square</th>\n",
              "      <th>bedrooms</th>\n",
              "      <th>price</th>\n",
              "    </tr>\n",
              "  </thead>\n",
              "  <tbody>\n",
              "    <tr>\n",
              "      <th>0</th>\n",
              "      <td>0.130010</td>\n",
              "      <td>-0.223675</td>\n",
              "      <td>0.475747</td>\n",
              "    </tr>\n",
              "    <tr>\n",
              "      <th>1</th>\n",
              "      <td>-0.504190</td>\n",
              "      <td>-0.223675</td>\n",
              "      <td>-0.084074</td>\n",
              "    </tr>\n",
              "    <tr>\n",
              "      <th>2</th>\n",
              "      <td>0.502476</td>\n",
              "      <td>-0.223675</td>\n",
              "      <td>0.228626</td>\n",
              "    </tr>\n",
              "    <tr>\n",
              "      <th>3</th>\n",
              "      <td>-0.735723</td>\n",
              "      <td>-1.537767</td>\n",
              "      <td>-0.867025</td>\n",
              "    </tr>\n",
              "    <tr>\n",
              "      <th>4</th>\n",
              "      <td>1.257476</td>\n",
              "      <td>1.090417</td>\n",
              "      <td>1.595389</td>\n",
              "    </tr>\n",
              "  </tbody>\n",
              "</table>\n",
              "</div>"
            ],
            "text/plain": [
              "     square  bedrooms     price\n",
              "0  0.130010 -0.223675  0.475747\n",
              "1 -0.504190 -0.223675 -0.084074\n",
              "2  0.502476 -0.223675  0.228626\n",
              "3 -0.735723 -1.537767 -0.867025\n",
              "4  1.257476  1.090417  1.595389"
            ]
          },
          "metadata": {
            "tags": []
          },
          "execution_count": 67
        }
      ]
    },
    {
      "cell_type": "markdown",
      "metadata": {
        "id": "mAjg4aE5Qj_G",
        "colab_type": "text"
      },
      "source": [
        "**多变量批量梯度下降（multi-var batch gradient decent）**"
      ]
    },
    {
      "cell_type": "code",
      "metadata": {
        "id": "JZWPINhK4pvB",
        "colab_type": "code",
        "outputId": "72f1e955-fdb2-431b-b5a7-61011bf600f5",
        "colab": {
          "base_uri": "https://localhost:8080/",
          "height": 107
        }
      },
      "source": [
        "X = get_X(data)\n",
        "print(X.shape, type(X))\n",
        "\n",
        "y = get_y(data)\n",
        "print(y.shape, type(y))#看下数据的维度和类型"
      ],
      "execution_count": 68,
      "outputs": [
        {
          "output_type": "stream",
          "text": [
            "(47, 4) <class 'numpy.ndarray'>\n",
            "(47,) <class 'numpy.ndarray'>\n"
          ],
          "name": "stdout"
        },
        {
          "output_type": "stream",
          "text": [
            "/usr/local/lib/python3.6/dist-packages/ipykernel_launcher.py:6: FutureWarning: Method .as_matrix will be removed in a future version. Use .values instead.\n",
            "  \n"
          ],
          "name": "stderr"
        }
      ]
    },
    {
      "cell_type": "code",
      "metadata": {
        "id": "W5FhYeRT4t7S",
        "colab_type": "code",
        "colab": {}
      },
      "source": [
        "alpha = 0.01 # 学习率\n",
        "theta = np.zeros(X.shape[1]) # X.shape[1]：特征数n\n",
        "epoch = 500 # 轮数"
      ],
      "execution_count": 0,
      "outputs": []
    },
    {
      "cell_type": "code",
      "metadata": {
        "id": "doLrxLyx40jB",
        "colab_type": "code",
        "colab": {}
      },
      "source": [
        "final_theta, cost_data = batch_gradient_decent(theta, X, y, epoch, alpha=alpha)"
      ],
      "execution_count": 0,
      "outputs": []
    },
    {
      "cell_type": "code",
      "metadata": {
        "id": "rKScpS-K5AHC",
        "colab_type": "code",
        "outputId": "29ade284-6427-4127-d242-ede250cc678d",
        "colab": {
          "base_uri": "https://localhost:8080/",
          "height": 351
        }
      },
      "source": [
        "sns.tsplot(time = np.arange(len(cost_data)), data = cost_data)\n",
        "plt.xlabel('epoch', fontsize=18)\n",
        "plt.ylabel('cost', fontsize=18)\n",
        "plt.show()"
      ],
      "execution_count": 72,
      "outputs": [
        {
          "output_type": "stream",
          "text": [
            "/usr/local/lib/python3.6/dist-packages/seaborn/timeseries.py:183: UserWarning: The `tsplot` function is deprecated and will be removed in a future release. Please update your code to use the new `lineplot` function.\n",
            "  warnings.warn(msg, UserWarning)\n"
          ],
          "name": "stderr"
        },
        {
          "output_type": "display_data",
          "data": {
            "image/png": "[encoded data removed]",
            "text/plain": [
              "<Figure size 432x288 with 1 Axes>"
            ]
          },
          "metadata": {
            "tags": []
          }
        }
      ]
    },
    {
      "cell_type": "code",
      "metadata": {
        "id": "EB4LUkyD5UQx",
        "colab_type": "code",
        "outputId": "46c68772-0394-4c80-b1b5-f79f29e23966",
        "colab": {
          "base_uri": "https://localhost:8080/",
          "height": 35
        }
      },
      "source": [
        "final_theta"
      ],
      "execution_count": 73,
      "outputs": [
        {
          "output_type": "execute_result",
          "data": {
            "text/plain": [
              "array([-4.41254598e-17,  1.03788801e-02, -1.17633118e-01,  2.67442968e-01])"
            ]
          },
          "metadata": {
            "tags": []
          },
          "execution_count": 73
        }
      ]
    },
    {
      "cell_type": "markdown",
      "metadata": {
        "id": "-UNIZZQkRXqO",
        "colab_type": "text"
      },
      "source": [
        "**学习率（learning rate）**"
      ]
    },
    {
      "cell_type": "code",
      "metadata": {
        "id": "fu3mG7I65XoS",
        "colab_type": "code",
        "outputId": "0f9e7d36-fcd4-4232-8885-35c1dcc97cf2",
        "colab": {
          "base_uri": "https://localhost:8080/",
          "height": 52
        }
      },
      "source": [
        "base = np.logspace(-1, -5, num=4)\n",
        "candidate = np.sort(np.concatenate((base, base*3)))\n",
        "print(candidate)"
      ],
      "execution_count": 74,
      "outputs": [
        {
          "output_type": "stream",
          "text": [
            "[1.00000000e-05 3.00000000e-05 2.15443469e-04 6.46330407e-04\n",
            " 4.64158883e-03 1.39247665e-02 1.00000000e-01 3.00000000e-01]\n"
          ],
          "name": "stdout"
        }
      ]
    },
    {
      "cell_type": "code",
      "metadata": {
        "id": "trFflY3C5uEa",
        "colab_type": "code",
        "outputId": "6cec069a-4f8f-42c7-d3ea-c0b7d5ad278e",
        "colab": {
          "base_uri": "https://localhost:8080/",
          "height": 602
        }
      },
      "source": [
        "epoch = 50\n",
        "\n",
        "fig , ax = plt.subplots(figsize = (16, 9))\n",
        "\n",
        "for alpha in candidate:\n",
        "    _, cost_data = batch_gradient_decent(theta, X, y, epoch, alpha=alpha)\n",
        "    ax.plot(np.arange(epoch+1), cost_data, label = alpha)\n",
        "    \n",
        "ax.set_xlabel('epoch', fontsize=18)\n",
        "ax.set_ylabel('cost', fontsize=18)\n",
        "ax.legend(bbox_to_anchor=(1.05, 1), loc=2, borderaxespad=0.)\n",
        "ax.set_title('learning rate', fontsize=18)\n",
        "plt.show()"
      ],
      "execution_count": 75,
      "outputs": [
        {
          "output_type": "display_data",
          "data": {
            "image/png": "[encoded data removed]",
            "text/plain": [
              "<Figure size 1152x648 with 1 Axes>"
            ]
          },
          "metadata": {
            "tags": []
          }
        }
      ]
    },
    {
      "cell_type": "markdown",
      "metadata": {
        "id": "0AIuG1jARnPA",
        "colab_type": "text"
      },
      "source": [
        "**正规方程（normal equation）**\n",
        "\n",
        "正规方程是通过求解：$\\frac{\\partial }{\\partial {{\\theta }_{j}}}J\\left( {{\\theta }_{j}} \\right)=0$ 得到最小化代价函数参数。\n",
        "\n",
        "$\\theta ={{\\left( {{X}^{T}}X \\right)}^{-1}}{{X}^{T}}y$ 。 \n",
        "\n",
        "上标T代表矩阵转置，上标-1 代表矩阵的逆。设矩阵$A={{X}^{T}}X$，则：${{\\left( {{X}^{T}}X \\right)}^{-1}}={{A}^{-1}}$"
      ]
    },
    {
      "cell_type": "code",
      "metadata": {
        "id": "Vxk_CUeG6f_a",
        "colab_type": "code",
        "colab": {}
      },
      "source": [
        "def normalEqn(X, y):\n",
        "    \"\"\"\n",
        "    正规方程\n",
        "    \"\"\"\n",
        "    theta = np.linalg.inv(X.T @ X) @ X.T @ y\n",
        "    \n",
        "    return theta"
      ],
      "execution_count": 0,
      "outputs": []
    },
    {
      "cell_type": "code",
      "metadata": {
        "id": "cm6CQOas68q6",
        "colab_type": "code",
        "outputId": "db7955c6-5b42-4f22-f57e-9116f0df7423",
        "colab": {
          "base_uri": "https://localhost:8080/",
          "height": 35
        }
      },
      "source": [
        "final_theta2 = normalEqn(X, y)\n",
        "final_theta2"
      ],
      "execution_count": 77,
      "outputs": [
        {
          "output_type": "execute_result",
          "data": {
            "text/plain": [
              "array([-2.77555756e-17, -1.08788316e-01, -1.04208924e-01,  3.81064902e-01])"
            ]
          },
          "metadata": {
            "tags": []
          },
          "execution_count": 77
        }
      ]
    },
    {
      "cell_type": "code",
      "metadata": {
        "id": "BJiJuucO7Hai",
        "colab_type": "code",
        "outputId": "49c8e89a-8baf-4837-8148-fd6341fa2401",
        "colab": {
          "base_uri": "https://localhost:8080/",
          "height": 108
        }
      },
      "source": [
        "X_data = get_X(data)\n",
        "print(X_data.shape, type(X_data))\n",
        "\n",
        "y_data = get_y(data).reshape(len(X_data), 1)\n",
        "print(y_data.shape, type(y_data))"
      ],
      "execution_count": 78,
      "outputs": [
        {
          "output_type": "stream",
          "text": [
            "(47, 4) <class 'numpy.ndarray'>\n",
            "(47, 1) <class 'numpy.ndarray'>\n"
          ],
          "name": "stdout"
        },
        {
          "output_type": "stream",
          "text": [
            "/usr/local/lib/python3.6/dist-packages/ipykernel_launcher.py:6: FutureWarning: Method .as_matrix will be removed in a future version. Use .values instead.\n",
            "  \n"
          ],
          "name": "stderr"
        }
      ]
    },
    {
      "cell_type": "code",
      "metadata": {
        "id": "PvclWou37uZC",
        "colab_type": "code",
        "colab": {}
      },
      "source": [
        "epoch = 200\n",
        "alpha = 0.01"
      ],
      "execution_count": 0,
      "outputs": []
    },
    {
      "cell_type": "code",
      "metadata": {
        "id": "uUm2XQaI7zoL",
        "colab_type": "code",
        "outputId": "df84ce45-2a85-42a9-e388-cff59c21d61a",
        "colab": {
          "base_uri": "https://localhost:8080/",
          "height": 240
        }
      },
      "source": [
        "optimizer_dict = {\n",
        "    'GD' : tf.train.GradientDescentOptimizer,\n",
        "    'Adagrad': tf.train.AdagradOptimizer,\n",
        "    'Adam' : tf.train.AdamOptimizer,\n",
        "    'Ftrl' : tf.train.FtrlOptimizer,\n",
        "    'RMS' : tf.train.RMSPropOptimizer\n",
        "}\n",
        "results = []\n",
        "for name in optimizer_dict:\n",
        "    res = linear_regression(X_data, y_data, alpha, epoch, optimizer=optimizer_dict[name])\n",
        "    res['name'] = name\n",
        "    results.append(res)"
      ],
      "execution_count": 99,
      "outputs": [
        {
          "output_type": "error",
          "ename": "TypeError",
          "evalue": "ignored",
          "traceback": [
            "\u001b[0;31m---------------------------------------------------------------------------\u001b[0m",
            "\u001b[0;31mTypeError\u001b[0m                                 Traceback (most recent call last)",
            "\u001b[0;32m<ipython-input-99-1299b084b903>\u001b[0m in \u001b[0;36m<module>\u001b[0;34m()\u001b[0m\n\u001b[1;32m      8\u001b[0m \u001b[0mresults\u001b[0m \u001b[0;34m=\u001b[0m \u001b[0;34m[\u001b[0m\u001b[0;34m]\u001b[0m\u001b[0;34m\u001b[0m\u001b[0;34m\u001b[0m\u001b[0m\n\u001b[1;32m      9\u001b[0m \u001b[0;32mfor\u001b[0m \u001b[0mname\u001b[0m \u001b[0;32min\u001b[0m \u001b[0moptimizer_dict\u001b[0m\u001b[0;34m:\u001b[0m\u001b[0;34m\u001b[0m\u001b[0;34m\u001b[0m\u001b[0m\n\u001b[0;32m---> 10\u001b[0;31m     \u001b[0mres\u001b[0m \u001b[0;34m=\u001b[0m \u001b[0mlinear_regression\u001b[0m\u001b[0;34m(\u001b[0m\u001b[0mX_data\u001b[0m\u001b[0;34m,\u001b[0m \u001b[0my_data\u001b[0m\u001b[0;34m,\u001b[0m \u001b[0malpha\u001b[0m\u001b[0;34m,\u001b[0m \u001b[0mepoch\u001b[0m\u001b[0;34m,\u001b[0m \u001b[0moptimizer\u001b[0m\u001b[0;34m=\u001b[0m\u001b[0moptimizer_dict\u001b[0m\u001b[0;34m[\u001b[0m\u001b[0mname\u001b[0m\u001b[0;34m]\u001b[0m\u001b[0;34m)\u001b[0m\u001b[0;34m\u001b[0m\u001b[0;34m\u001b[0m\u001b[0m\n\u001b[0m\u001b[1;32m     11\u001b[0m     \u001b[0mres\u001b[0m\u001b[0;34m[\u001b[0m\u001b[0;34m'name'\u001b[0m\u001b[0;34m]\u001b[0m \u001b[0;34m=\u001b[0m \u001b[0mname\u001b[0m\u001b[0;34m\u001b[0m\u001b[0;34m\u001b[0m\u001b[0m\n\u001b[1;32m     12\u001b[0m     \u001b[0mresults\u001b[0m\u001b[0;34m.\u001b[0m\u001b[0mappend\u001b[0m\u001b[0;34m(\u001b[0m\u001b[0mres\u001b[0m\u001b[0;34m)\u001b[0m\u001b[0;34m\u001b[0m\u001b[0;34m\u001b[0m\u001b[0m\n",
            "\u001b[0;31mTypeError\u001b[0m: linear_regression() got multiple values for argument 'optimizer'"
          ]
        }
      ]
    },
    {
      "cell_type": "code",
      "metadata": {
        "id": "OOHgX5668-ss",
        "colab_type": "code",
        "colab": {
          "base_uri": "https://localhost:8080/",
          "height": 620
        },
        "outputId": "6f979c0a-0999-4578-a36d-7e2a5be03546"
      },
      "source": [
        "fig, ax = plt.subplots(figsize = (16, 9))\n",
        "\n",
        "for res in results:\n",
        "    loss_data = res['loss']\n",
        "    ax.plot(np.arange(len(loss_data)), loss_data, label=res['name'])\n",
        "    \n",
        "ax.set_xlabel('epoch', fontsize = 18)\n",
        "ax.set_ylabel('cost', fontsize = 18)\n",
        "ax.legend(bbox_to_anchor = (1.05, 1), loc = 2, borderaxespad = 0.)\n",
        "ax.set_title('different optimizer', fontsize = 18)\n",
        "plt.show()"
      ],
      "execution_count": 93,
      "outputs": [
        {
          "output_type": "stream",
          "text": [
            "No handles with labels found to put in legend.\n"
          ],
          "name": "stderr"
        },
        {
          "output_type": "display_data",
          "data": {
            "image/png": "[encoded data removed]",
            "text/plain": [
              "<Figure size 1152x648 with 1 Axes>"
            ]
          },
          "metadata": {
            "tags": []
          }
        }
      ]
    }
  ]
}