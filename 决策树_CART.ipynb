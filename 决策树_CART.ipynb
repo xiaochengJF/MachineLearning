{
  "nbformat": 4,
  "nbformat_minor": 0,
  "metadata": {
    "colab": {
      "name": "决策树:CART.ipynb",
      "provenance": [],
      "collapsed_sections": [],
      "toc_visible": true,
      "authorship_tag": "ABX9TyN0R+8fnrvMBn+kzlUpXphL",
      "include_colab_link": true
    },
    "kernelspec": {
      "name": "python2",
      "display_name": "Python 2"
    }
  },
  "cells": [
    {
      "cell_type": "markdown",
      "metadata": {
        "id": "view-in-github",
        "colab_type": "text"
      },
      "source": [
        "<a href=\"https://colab.research.google.com/github/xiaochengJF/MachineLearning/blob/master/%E5%86%B3%E7%AD%96%E6%A0%91_CART.ipynb\" target=\"_parent\"><img src=\"https://colab.research.google.com/assets/colab-badge.svg\" alt=\"Open In Colab\"/></a>"
      ]
    },
    {
      "cell_type": "markdown",
      "metadata": {
        "id": "uK3O277xYjQK",
        "colab_type": "text"
      },
      "source": [
        "# CART_Classification"
      ]
    },
    {
      "cell_type": "code",
      "metadata": {
        "id": "RBHMhy0daVtm",
        "colab_type": "code",
        "colab": {}
      },
      "source": [
        "from numpy import *"
      ],
      "execution_count": 0,
      "outputs": []
    },
    {
      "cell_type": "code",
      "metadata": {
        "id": "PgBN1yaVaVmh",
        "colab_type": "code",
        "colab": {}
      },
      "source": [
        "def loadDataSet():\n",
        "    dataSet = [[0, 0, 0],\n",
        "               [0, 1, 1],\n",
        "               [0, 2, 0],\n",
        "               [1, 0, 1],\n",
        "               [1, 1, 1],\n",
        "               [1, 2, 1],\n",
        "               [2, 0, 0],\n",
        "               [2, 1, 1],\n",
        "               [2, 2, 0]]\n",
        "    labels = ['color','shape']\n",
        "    return dataSet, labels"
      ],
      "execution_count": 0,
      "outputs": []
    },
    {
      "cell_type": "markdown",
      "metadata": {
        "id": "LYwzwVxgaX1G",
        "colab_type": "text"
      },
      "source": [
        "## 计算基尼指数\n",
        "基尼指数可以理解为熵模型的一阶泰勒  \n",
        "基尼指数（基尼不纯度）= 样本被选中的概率 $\\times$ 样本被分错的概率\n",
        "$$Gini(D) = \\sum_{k=1}^{K}p_{k}(1-p_{k}) = 1 - \\sum_{k=1}^{K}p_{k}^{2}=1 - \\sum_{k=1}^{K}\\frac{|D_{k}|}{|D|}$$\n",
        "\n",
        "- $p_k$表示选中的样本属于$k$类别的概率，则这个样本被分错的概率是$1-p_k$\n",
        "\n",
        "- 样本集合中有$K$个类别，一个随机选中的样本可以属于这$K$个类别中的任意一个，因而对类别求和\n",
        "\n",
        "- 当为二分类时：$Gini(P) = 2p(1-p)$\n",
        "\n",
        "对于样本$D$,如果根据特征$A$的某个值$a$,把$D$分成$D_1$和$D_2$两部分，则在特征$A$的条件下，$D$的基尼系数表达式为：\n",
        "$$Gini(D,A) = \\frac{|D_1|}{|D|}Gini(D_1) + \\frac{|D_2|}{|D|}Gini(D_2)$$ "
      ]
    },
    {
      "cell_type": "code",
      "metadata": {
        "id": "1EJgrd3uaVhX",
        "colab_type": "code",
        "colab": {}
      },
      "source": [
        "def calcGini(dataSet):\n",
        "    totalNum = shape(dataSet)[0]\n",
        "    labelNum = {}\n",
        "    gini = 0\n",
        "    for data in dataSet:\n",
        "        label = data[-1]\n",
        "        if label in labelNum:\n",
        "            labelNum[label] += 1\n",
        "        else:\n",
        "            labelNum[label] = 1\n",
        "\n",
        "    for key in labelNum:\n",
        "        p = labelNum[key] / totalNum\n",
        "        gini += p * (1 - p)\n",
        "    return gini"
      ],
      "execution_count": 0,
      "outputs": []
    },
    {
      "cell_type": "markdown",
      "metadata": {
        "id": "ergaDJP_ajgS",
        "colab_type": "text"
      },
      "source": [
        "## 选择最优特征"
      ]
    },
    {
      "cell_type": "code",
      "metadata": {
        "id": "RuJoOk8XaVey",
        "colab_type": "code",
        "colab": {}
      },
      "source": [
        "def chooseBestFeatVal2Split(dataSet):\n",
        "    #如果没有可划分的特征或所有目标变量相等，停止\n",
        "    if(len(dataSet[0]) == 1): return None, None\n",
        "    if(len(set([d[-1] for d in dataSet])) == 1): return None, None\n",
        "    bestFeature = 0\n",
        "    bestValue = 0\n",
        "    lowestGini = 100000\n",
        "    totalGini = calcGini(dataSet)\n",
        "    totalNum = shape(dataSet)[0]\n",
        "    for feature in range(shape(dataSet)[1] - 1):\n",
        "        allValues = [d[feature] for d in dataSet]\n",
        "        values = set(allValues)\n",
        "        for value in values:\n",
        "            leftChild, rightChild = splitByFeatVal(feature, value, dataSet)\n",
        "            if(shape(leftChild)[0] == 0 or shape(rightChild)[0] == 0): continue\n",
        "            leftNum = shape(leftChild)[0]\n",
        "            rightNum = shape(rightChild)[0]\n",
        "            curGini = leftNum / totalNum * calcGini(leftChild) + \\\n",
        "                      rightNum / totalNum * calcGini(rightChild)\n",
        "            if(curGini < lowestGini):\n",
        "                bestFeature = feature\n",
        "                bestValue = value\n",
        "                lowestGini = curGini\n",
        "    #如果gini减少很小，停止\n",
        "    if(totalGini - lowestGini < 0.00001): return None, None\n",
        "    return bestFeature, bestValue"
      ],
      "execution_count": 0,
      "outputs": []
    },
    {
      "cell_type": "markdown",
      "metadata": {
        "id": "runh1X2lasRR",
        "colab_type": "text"
      },
      "source": [
        "## 按特征划分数据集\n",
        "如果 feature 对应的属性值等于 value 值，则将该条数据划分到左子树；如果 feature 对应的属性值不等于 value 值，则将该条数据划分到右子树"
      ]
    },
    {
      "cell_type": "code",
      "metadata": {
        "id": "7hjsco5zaVbV",
        "colab_type": "code",
        "colab": {}
      },
      "source": [
        "def splitByFeatVal(feature, value, dataSet):\n",
        "    #左子树的值大于根节点的值\n",
        "    dataSet = mat(dataSet)\n",
        "    leftChild = dataSet[nonzero(dataSet[:,feature] == value)[0], :].tolist()\n",
        "    #右子树的值小于等于根节点的值\n",
        "    rightChild = dataSet[nonzero(dataSet[:,feature] != value)[0], :].tolist()\n",
        "\n",
        "    return leftChild, rightChild"
      ],
      "execution_count": 0,
      "outputs": []
    },
    {
      "cell_type": "markdown",
      "metadata": {
        "id": "WkP58T0Ka32u",
        "colab_type": "text"
      },
      "source": [
        "## 结束条件\n",
        "\n",
        "checkIsOneCateg 函数用来判断数据集的目标变量是否为一个分类结果  \n",
        "majorityCateg 函数用来选出目标变量中的大多数值作为输出变量"
      ]
    },
    {
      "cell_type": "code",
      "metadata": {
        "id": "VB2sItoraVYg",
        "colab_type": "code",
        "colab": {}
      },
      "source": [
        "def checkIsOneCateg(newDataSet):\n",
        "    flag = False\n",
        "    categoryList = [data[-1] for data in newDataSet]\n",
        "    category = set(categoryList)\n",
        "    if(len(category) == 1):\n",
        "        flag = True\n",
        "    return flag\n",
        "\n",
        "# 按分类后类别数量排序，比如：最后分类为2男1女，则判定为男；\n",
        "def majorityCateg(newDataSet):  \n",
        "    categCount = {}\n",
        "    categList = [data[-1] for data in newDataSet]\n",
        "    for c in categList:\n",
        "        if c not in categCount:\n",
        "            categCount[c] = 1\n",
        "        else:\n",
        "            categCount[c] += 1\n",
        "    sortedCateg = sorted(categCount.items(), key = lambda x:x[1], reverse = True)\n",
        "\n",
        "    return sortedCateg[0][0]"
      ],
      "execution_count": 0,
      "outputs": []
    },
    {
      "cell_type": "markdown",
      "metadata": {
        "id": "aeb6BQDybMU8",
        "colab_type": "text"
      },
      "source": [
        "## 创建分类树"
      ]
    },
    {
      "cell_type": "code",
      "metadata": {
        "id": "olBVaiFSaVUI",
        "colab_type": "code",
        "colab": {
          "base_uri": "https://localhost:8080/",
          "height": 35
        },
        "outputId": "dab0b941-1265-4163-954e-286d1fb29fce"
      },
      "source": [
        "def createClassifTree(dataSet):\n",
        "    feature, value = chooseBestFeatVal2Split(dataSet)\n",
        "    #如果无法分割，那么返回叶节点的值,即所有目标变量相同则为此值，不同则为多数值\n",
        "    if feature == None and checkIsOneCateg(dataSet):\n",
        "        return dataSet[0][-1]\n",
        "    if feature == None and not checkIsOneCateg(dataSet):\n",
        "        return majorityCateg(dataSet)\n",
        "    #如果可以继续分割，那么继续创建新的子树\n",
        "    classifTree = {}\n",
        "    classifTree['featIndex'] = feature\n",
        "    classifTree['value'] = value\n",
        "    leftChild, rightChild = splitByFeatVal(feature, value, dataSet)\n",
        "    classifTree['leftChild'] = createClassifTree(leftChild)\n",
        "    classifTree['rightChild'] = createClassifTree(rightChild)\n",
        "\n",
        "    return classifTree\n",
        "\n",
        "if __name__ == '__main__':\n",
        "    dataSet, labels = loadDataSet()\n",
        "    classifTree = createClassifTree(dataSet)\n",
        "    print(classifTree)"
      ],
      "execution_count": 7,
      "outputs": [
        {
          "output_type": "stream",
          "text": [
            "{'featIndex': 0, 'value': 1, 'leftChild': 1, 'rightChild': {'featIndex': 1, 'value': 1, 'leftChild': 1, 'rightChild': 0}}\n"
          ],
          "name": "stdout"
        }
      ]
    },
    {
      "cell_type": "markdown",
      "metadata": {
        "id": "ruNJeDseY3Oc",
        "colab_type": "text"
      },
      "source": [
        "# CART_Regression"
      ]
    },
    {
      "cell_type": "code",
      "metadata": {
        "id": "D4E72a7gbRfT",
        "colab_type": "code",
        "colab": {}
      },
      "source": [
        "from numpy import *"
      ],
      "execution_count": 0,
      "outputs": []
    },
    {
      "cell_type": "markdown",
      "metadata": {
        "id": "U-2zCHMysncm",
        "colab_type": "text"
      },
      "source": [
        "## 数据集\n",
        "数据集共 25 条数据。第一列数据代表房子的评价得分，此数据集中所有数据的评价得分都是 5.23。第二列数据代表房子的平方数，第三列数据代表房子的价格，以万为单位  \n",
        "5.23\t1\t0.1  \n",
        "5.23\t2\t0.12  \n",
        "5.23\t3\t0.02  \n",
        "5.23\t4\t0.03  \n",
        "5.23\t5\t0.12  \n",
        "5.23\t6\t5.0  \n",
        "5.23\t7\t5.2  \n",
        "5.23\t8\t5.1  \n",
        "5.23\t9\t5.02  \n",
        "5.23\t10\t5.03  \n",
        "5.23\t11\t10.8  \n",
        "5.23\t12\t10.06  \n",
        "5.23\t13\t10.03  \n",
        "5.23\t14\t10.02  \n",
        "5.23\t15\t10.44  \n",
        "5.23\t16\t15.88  \n",
        "5.23\t17\t15.06  \n",
        "5.23\t18\t15.04  \n",
        "5.23\t19\t15.30  \n",
        "5.23\t20\t15.05  \n",
        "5.23\t21\t20.8  \n",
        "5.23\t22\t20.16  \n",
        "5.23\t23\t20.24  \n",
        "5.23\t24\t20.05  \n",
        "5.23\t25\t20.09  "
      ]
    },
    {
      "cell_type": "code",
      "metadata": {
        "id": "StVaZ-KIbRdY",
        "colab_type": "code",
        "colab": {}
      },
      "source": [
        "def loadDataSet():\n",
        "    dataSet = []\n",
        "    f = open('regData.txt')\n",
        "    fr = f.readlines()\n",
        "    for line in fr:\n",
        "        line = line.strip().split('\\t')\n",
        "        linef = [float(li) for li in line]\n",
        "        dataSet.append(linef)\n",
        "    dataSetMat = mat(dataSet)\n",
        "    return dataSetMat"
      ],
      "execution_count": 0,
      "outputs": []
    },
    {
      "cell_type": "markdown",
      "metadata": {
        "id": "MwlJRkaxbSKH",
        "colab_type": "text"
      },
      "source": [
        "## 计算平方误差"
      ]
    },
    {
      "cell_type": "code",
      "metadata": {
        "id": "WDy_-ClTbRam",
        "colab_type": "code",
        "colab": {}
      },
      "source": [
        "def calcErr(dataSetMat):\n",
        "    error = var(dataSetMat[:,-1]) * shape(dataSetMat)[0]\n",
        "    return error"
      ],
      "execution_count": 0,
      "outputs": []
    },
    {
      "cell_type": "markdown",
      "metadata": {
        "id": "-UsBOqfOr-Es",
        "colab_type": "text"
      },
      "source": [
        "## 选择最优特征\n",
        "\n",
        "对每个特征的每个属性值，计算按该属性值二分后的两个子数据集的平方误差和，选择平方误差和最小的特征作为最优特征。除了用平方误差代替基尼指数之外，其他过程和分类树基本相同"
      ]
    },
    {
      "cell_type": "code",
      "metadata": {
        "id": "lHWEz_AxbRYA",
        "colab_type": "code",
        "colab": {}
      },
      "source": [
        "def chooseBestFeatVal2Split(dataSetMat):\n",
        "    #如果所有目标变量相等，停止\n",
        "    if(len(set(dataSetMat[:,-1].T.tolist()[0])) == 1): return None, None\n",
        "    bestFeature = 0\n",
        "    bestValue = 0\n",
        "    lowestErr = 100000\n",
        "    totalErr = calcErr(dataSetMat)\n",
        "    for feature in range(shape(dataSetMat)[1] - 1):\n",
        "        allValues = [d[feature] for d in dataSetMat.tolist()]\n",
        "        values = set(allValues)\n",
        "        for value in values:\n",
        "            leftChild, rightChild = splitByFeatVal(feature, value, dataSetMat)\n",
        "            if(shape(leftChild)[0] == 0 or shape(rightChild)[0] == 0): continue\n",
        "            curErr = calcErr(leftChild) + calcErr(rightChild)\n",
        "            if(curErr < lowestErr):\n",
        "                bestFeature = feature\n",
        "                bestValue = value\n",
        "                lowestErr = curErr\n",
        "    #如果误差减少很小，停止\n",
        "    if(totalErr - lowestErr < 1): return None, None\n",
        "    return bestFeature, bestValue"
      ],
      "execution_count": 0,
      "outputs": []
    },
    {
      "cell_type": "markdown",
      "metadata": {
        "id": "ejtcrMdLsHA5",
        "colab_type": "text"
      },
      "source": [
        " ## 按特征划分数据集"
      ]
    },
    {
      "cell_type": "code",
      "metadata": {
        "id": "unhlAmhVbRWC",
        "colab_type": "code",
        "colab": {}
      },
      "source": [
        "def splitByFeatVal(feature, value, dataSetMat):\n",
        "    #左子树的值大于根节点的值\n",
        "    leftChild = dataSetMat[nonzero(dataSetMat[:,feature] > value)[0], :]\n",
        "    #右子树的值小于等于根节点的值\n",
        "    rightChild = dataSetMat[nonzero(dataSetMat[:,feature] <= value)[0], :]\n",
        "\n",
        "    return leftChild, rightChild"
      ],
      "execution_count": 0,
      "outputs": []
    },
    {
      "cell_type": "markdown",
      "metadata": {
        "id": "KTN_hxijsLJ0",
        "colab_type": "text"
      },
      "source": [
        "## 创建回归树"
      ]
    },
    {
      "cell_type": "code",
      "metadata": {
        "id": "jtwpZrlPY1yK",
        "colab_type": "code",
        "colab": {
          "base_uri": "https://localhost:8080/",
          "height": 55
        },
        "outputId": "b80c5ffe-b6a9-411b-de00-500a85cdb0ff"
      },
      "source": [
        "def createRegTree(dataSetMat):\n",
        "    feature, value = chooseBestFeatVal2Split(dataSetMat)\n",
        "    #如果无法分割，那么返回叶节点的值，即所有dataSetMat的均值\n",
        "    if feature == None: return mean(dataSetMat[:,-1])\n",
        "    #如果可以继续分割，那么继续创建新的子树\n",
        "    regTree = {}\n",
        "    regTree['featIndex'] = feature\n",
        "    regTree['value'] = value\n",
        "    leftChild, rightChild = splitByFeatVal(feature, value, dataSetMat)\n",
        "    regTree['leftChild'] = createRegTree(leftChild)\n",
        "    regTree['rightChild'] = createRegTree(rightChild)\n",
        "\n",
        "    return regTree\n",
        "\n",
        "if __name__ == '__main__':\n",
        "    dataSetMat = loadDataSet()\n",
        "    regTree = createRegTree(dataSetMat)\n",
        "    print(regTree)"
      ],
      "execution_count": 24,
      "outputs": [
        {
          "output_type": "stream",
          "text": [
            "{'leftChild': {'leftChild': 20.268, 'featIndex': 1, 'value': 20.0, 'rightChild': {'leftChild': 15.266, 'featIndex': 1, 'value': 15.0, 'rightChild': 10.27}}, 'featIndex': 1, 'value': 10.0, 'rightChild': {'leftChild': 5.07, 'featIndex': 1, 'value': 5.0, 'rightChild': 0.078}}\n"
          ],
          "name": "stdout"
        }
      ]
    }
  ]
}