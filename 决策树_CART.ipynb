{
  "nbformat": 4,
  "nbformat_minor": 0,
  "metadata": {
    "colab": {
      "name": "决策树:CART.ipynb",
      "provenance": [],
      "collapsed_sections": [],
      "toc_visible": true,
      "authorship_tag": "ABX9TyNMm+fI7pyTiPg61y0MSQTu",
      "include_colab_link": true
    },
    "kernelspec": {
      "name": "python2",
      "display_name": "Python 2"
    }
  },
  "cells": [
    {
      "cell_type": "markdown",
      "metadata": {
        "id": "view-in-github",
        "colab_type": "text"
      },
      "source": [
        "<a href=\"https://colab.research.google.com/github/xiaochengJF/MachineLearning/blob/master/%E5%86%B3%E7%AD%96%E6%A0%91_CART.ipynb\" target=\"_parent\"><img src=\"https://colab.research.google.com/assets/colab-badge.svg\" alt=\"Open In Colab\"/></a>"
      ]
    },
    {
      "cell_type": "code",
      "metadata": {
        "id": "vFW9vsj8ZwN0",
        "colab_type": "code",
        "colab": {}
      },
      "source": [
        "# 对y的各种可能的取值出现的个数进行计数。其他函数利用该函数来计算数据集和的混杂程度\n",
        "def uniquecounts(rows):\n",
        "    results = {}\n",
        "    for row in rows:\n",
        "        #计数结果在最后一列\n",
        "        r = row[len(row)-1]\n",
        "        if r not in results:results[r] = 0\n",
        "        results[r]+=1\n",
        "    return results # 返回一个字典\n",
        "\n",
        "\n",
        "# 熵\n",
        "def entropy(rows):\n",
        "    from math import log\n",
        "    log2 = lambda x:log(x)/log(2)\n",
        "    results = uniquecounts(rows)\n",
        "    #开始计算熵的值\n",
        "    ent = 0.0\n",
        "    for r in results.keys():\n",
        "        p = float(results[r])/len(rows)\n",
        "        ent = ent - p*log2(p)\n",
        "    return ent"
      ],
      "execution_count": 0,
      "outputs": []
    },
    {
      "cell_type": "code",
      "metadata": {
        "id": "3lSaqzU7zHXN",
        "colab_type": "code",
        "colab": {}
      },
      "source": [
        "#定义节点的属性\n",
        "class decisionnode:\n",
        "    def __init__(self,col = -1,value = None, results = None, tb = None,fb = None):\n",
        "        self.col = col   # col是待检验的判断条件所对应的列索引值\n",
        "        self.value = value # value对应于为了使结果为True，当前列必须匹配的值\n",
        "        self.results = results #保存的是针对当前分支的结果，它是一个字典\n",
        "        self.tb = tb ## desision node,对应于结果为true时，树上相对于当前节点的子树上的节点\n",
        "        self.fb = fb ## desision node,对应于结果为true时，树上相对于当前节点的子树上的节点\n",
        "\n",
        "\n",
        "\n",
        "# 基尼不纯度\n",
        "\n",
        "\n",
        "# 随机放置的数据项出现于错误分类中的概率\n",
        "def giniimpurity(rows):\n",
        "    total = len(rows)\n",
        "    counts = uniquecounts(rows)\n",
        "    imp =0\n",
        "    for k1 in counts:\n",
        "        p1 = float(counts[k1])/total\n",
        "        for k2 in counts: # 这个循环是否可以用（1-p1）替换？\n",
        "            if k1 == k2: continue\n",
        "            p2 = float(counts[k2])/total\n",
        "            imp+=p1*p2\n",
        "    return imp\n",
        "\n",
        "\n",
        "# 改进giniimpurity\n",
        "\n",
        "\n",
        "def giniimpurity_2(rows):\n",
        "    total = len(rows)\n",
        "    counts = uniquecounts(rows)\n",
        "    imp = 0\n",
        "    for k1 in counts.keys():\n",
        "        p1 = float(counts[k1])/total\n",
        "        imp+= p1*(1-p1)\n",
        "    return imp\n",
        "\n",
        "\n",
        "\n",
        "#在某一列上对数据集进行拆分。可应用于数值型或因子型变量\n",
        "def divideset(rows, column, value):\n",
        "    #定义一个函数，判断当前数据行属于第一组还是第二组\n",
        "    split_function = None\n",
        "    if isinstance(value,int) or isinstance(value,float):\n",
        "        split_function = lambda row:row[column] >= value\n",
        "    else:\n",
        "        split_function = lambda row:row[column] == value\n",
        "    # 将数据集拆分成两个集合，并返回\n",
        "    set1 = [row for row in rows if split_function(row)]\n",
        "    set2 = [row for row in rows if not split_function(row)]\n",
        "    return(set1,set2)\n",
        "\n",
        "\n",
        "# 以递归方式构造树\n",
        "\n",
        "def buildtree(rows,scoref = entropy):\n",
        "    if len(rows)==0 : return decisionnode()\n",
        "    current_score = scoref(rows)\n",
        "    \n",
        "    # 定义一些变量以记录最佳拆分条件\n",
        "    best_gain = 0.0\n",
        "    best_criteria = None\n",
        "    best_sets = None\n",
        "    \n",
        "    column_count = len(rows[0]) - 1\n",
        "    for col in range(0,column_count):\n",
        "        #在当前列中生成一个由不同值构成的序列\n",
        "        column_values = {}\n",
        "        for row in rows:\n",
        "            column_values[row[col]] = 1 # 初始化\n",
        "        #根据这一列中的每个值，尝试对数据集进行拆分\n",
        "        for value in column_values.keys():\n",
        "            (set1,set2) = divideset(rows,col,value)\n",
        "            \n",
        "            # 信息增益\n",
        "            p = float(len(set1))/len(rows)\n",
        "            gain = current_score - p*scoref(set1) - (1-p)*scoref(set2)\n",
        "            if gain>best_gain and len(set1)>0 and len(set2)>0:\n",
        "                best_gain = gain\n",
        "                best_criteria = (col,value)\n",
        "                best_sets = (set1,set2)\n",
        "                \n",
        "    #创建子分支\n",
        "    if best_gain>0:\n",
        "        trueBranch = buildtree(best_sets[0])  #递归调用\n",
        "        falseBranch = buildtree(best_sets[1])\n",
        "        return decisionnode(col = best_criteria[0],value = best_criteria[1],\n",
        "                            tb = trueBranch,fb = falseBranch)\n",
        "    else:\n",
        "        return decisionnode(results = uniquecounts(rows))\n",
        "\n",
        "# 决策树的显示\n",
        "def printtree(tree,indent = ''):\n",
        "    # 是否是叶节点\n",
        "    if tree.results != None:\n",
        "        print str(tree.results)\n",
        "    else:\n",
        "        # 打印判断条件\n",
        "        print str(tree.col)+\":\"+str(tree.value)+\"? \"\n",
        "        #打印分支\n",
        "        print indent+\"T->\",\n",
        "        printtree(tree.tb,indent+\" \")\n",
        "        print indent+\"F->\",\n",
        "        printtree(tree.fb,indent+\" \")\n",
        "\n",
        "\n",
        "# 对新的观测数据进行分类\n",
        "\n",
        "\n",
        "def classify(observation,tree):\n",
        "    if tree.results!= None:\n",
        "        return tree.results\n",
        "    else:\n",
        "        v = observation[tree.col]\n",
        "        branch = None\n",
        "        if isinstance(v,int) or isinstance(v,float):\n",
        "            if v>= tree.value: branch = tree.tb\n",
        "            else: branch = tree.fb\n",
        "        else:\n",
        "            if v==tree.value : branch = tree.tb\n",
        "            else: branch = tree.fb\n",
        "        return classify(observation,branch)"
      ],
      "execution_count": 0,
      "outputs": []
    },
    {
      "cell_type": "code",
      "metadata": {
        "id": "Ydk6HXuwzR1_",
        "colab_type": "code",
        "outputId": "705dcbb4-a01c-42a5-d2b7-27183d39aa69",
        "colab": {
          "base_uri": "https://localhost:8080/",
          "height": 305
        }
      },
      "source": [
        "# test\n",
        "my_data=[['slashdot','USA','yes',18,'None'],\n",
        "        ['google','France','yes',23,'Premium'],\n",
        "        ['digg','USA','yes',24,'Basic'],\n",
        "        ['kiwitobes','France','yes',23,'Basic'],\n",
        "        ['google','UK','no',21,'Premium'],\n",
        "        ['(direct)','New Zealand','no',12,'None'],\n",
        "        ['(direct)','UK','no',21,'Basic'],\n",
        "        ['google','USA','no',24,'Premium'],\n",
        "        ['slashdot','France','yes',19,'None'],\n",
        "        ['digg','USA','no',18,'None'],\n",
        "        ['google','UK','no',18,'None'],\n",
        "        ['kiwitobes','UK','no',19,'None'],\n",
        "        ['digg','New Zealand','yes',12,'Basic'],\n",
        "        ['slashdot','UK','no',21,'None'],\n",
        "        ['google','UK','yes',18,'Basic'],\n",
        "        ['kiwitobes','France','yes',19,'Basic']]\n",
        "\n",
        "\n",
        "\n",
        "divideset(my_data,2,'yes')"
      ],
      "execution_count": 0,
      "outputs": [
        {
          "output_type": "execute_result",
          "data": {
            "text/plain": [
              "([['slashdot', 'USA', 'yes', 18, 'None'],\n",
              "  ['google', 'France', 'yes', 23, 'Premium'],\n",
              "  ['digg', 'USA', 'yes', 24, 'Basic'],\n",
              "  ['kiwitobes', 'France', 'yes', 23, 'Basic'],\n",
              "  ['slashdot', 'France', 'yes', 19, 'None'],\n",
              "  ['digg', 'New Zealand', 'yes', 12, 'Basic'],\n",
              "  ['google', 'UK', 'yes', 18, 'Basic'],\n",
              "  ['kiwitobes', 'France', 'yes', 19, 'Basic']],\n",
              " [['google', 'UK', 'no', 21, 'Premium'],\n",
              "  ['(direct)', 'New Zealand', 'no', 12, 'None'],\n",
              "  ['(direct)', 'UK', 'no', 21, 'Basic'],\n",
              "  ['google', 'USA', 'no', 24, 'Premium'],\n",
              "  ['digg', 'USA', 'no', 18, 'None'],\n",
              "  ['google', 'UK', 'no', 18, 'None'],\n",
              "  ['kiwitobes', 'UK', 'no', 19, 'None'],\n",
              "  ['slashdot', 'UK', 'no', 21, 'None']])"
            ]
          },
          "metadata": {
            "tags": []
          },
          "execution_count": 9
        }
      ]
    },
    {
      "cell_type": "code",
      "metadata": {
        "id": "e9HCQo3I1IwF",
        "colab_type": "code",
        "outputId": "17546c7b-584a-450d-b661-9d9d08a35e5a",
        "colab": {
          "base_uri": "https://localhost:8080/",
          "height": 35
        }
      },
      "source": [
        "giniimpurity(my_data)"
      ],
      "execution_count": 0,
      "outputs": [
        {
          "output_type": "execute_result",
          "data": {
            "text/plain": [
              "0.6328125"
            ]
          },
          "metadata": {
            "tags": []
          },
          "execution_count": 10
        }
      ]
    },
    {
      "cell_type": "code",
      "metadata": {
        "id": "3n5N5PXu1Isj",
        "colab_type": "code",
        "outputId": "93e81e5e-24c2-4366-c789-7cfa8fd55d84",
        "colab": {
          "base_uri": "https://localhost:8080/",
          "height": 35
        }
      },
      "source": [
        "giniimpurity_2(my_data)"
      ],
      "execution_count": 0,
      "outputs": [
        {
          "output_type": "execute_result",
          "data": {
            "text/plain": [
              "0.6328125"
            ]
          },
          "metadata": {
            "tags": []
          },
          "execution_count": 11
        }
      ]
    },
    {
      "cell_type": "code",
      "metadata": {
        "id": "VaJlGa731Ioj",
        "colab_type": "code",
        "colab": {}
      },
      "source": [
        "tree = buildtree(my_data)"
      ],
      "execution_count": 0,
      "outputs": []
    },
    {
      "cell_type": "code",
      "metadata": {
        "id": "GWc5Dex41OtD",
        "colab_type": "code",
        "outputId": "e922396e-70ed-4d2a-8baa-48a3688ba861",
        "colab": {
          "base_uri": "https://localhost:8080/",
          "height": 251
        }
      },
      "source": [
        "printtree(tree = tree)"
      ],
      "execution_count": 0,
      "outputs": [
        {
          "output_type": "stream",
          "text": [
            "0:google? \n",
            "T-> 3:21? \n",
            " T-> {'Premium': 3}\n",
            " F-> 2:yes? \n",
            "  T-> {'Basic': 1}\n",
            "  F-> {'None': 1}\n",
            "F-> 0:slashdot? \n",
            " T-> {'None': 3}\n",
            " F-> 2:yes? \n",
            "  T-> {'Basic': 4}\n",
            "  F-> 3:21? \n",
            "   T-> {'Basic': 1}\n",
            "   F-> {'None': 3}\n"
          ],
          "name": "stdout"
        }
      ]
    },
    {
      "cell_type": "code",
      "metadata": {
        "id": "YuECGoI31Ibl",
        "colab_type": "code",
        "outputId": "df642c45-4bd5-485b-ab9a-ec1036ee4128",
        "colab": {
          "base_uri": "https://localhost:8080/",
          "height": 35
        }
      },
      "source": [
        "classify(['(direct)','USA','yes',5],tree)"
      ],
      "execution_count": 0,
      "outputs": [
        {
          "output_type": "execute_result",
          "data": {
            "text/plain": [
              "{'Basic': 4}"
            ]
          },
          "metadata": {
            "tags": []
          },
          "execution_count": 14
        }
      ]
    },
    {
      "cell_type": "code",
      "metadata": {
        "id": "OjjFYSwqzy5M",
        "colab_type": "code",
        "colab": {}
      },
      "source": [
        "# 决策树的剪枝\n",
        "def prune(tree,mingain):\n",
        "    # 如果分支不是叶节点，则对其进行剪枝\n",
        "    if tree.tb.results == None:\n",
        "        prune(tree.tb,mingain)\n",
        "    if tree.fb.results == None:\n",
        "        prune(tree.fb,mingain)\n",
        "    # 如果两个子分支都是叶节点，判断是否能够合并\n",
        "    if tree.tb.results !=None and tree.fb.results !=None:\n",
        "        #构造合并后的数据集\n",
        "        tb,fb = [],[]\n",
        "        for v,c in tree.tb.results.items():\n",
        "            tb+=[[v]]*c\n",
        "        for v,c in tree.fb.results.items():\n",
        "            fb+=[[v]]*c\n",
        "        #检查熵的减少量\n",
        "        delta = entropy(tb+fb)-(entropy(tb)+entropy(fb)/2)\n",
        "        if delta < mingain:\n",
        "            # 合并分支\n",
        "            tree.tb,tree.fb = None,None\n",
        "            tree.results = uniquecounts(tb+fb)\n",
        "# test\n",
        "tree = buildtree(my_data,scoref = giniimpurity)"
      ],
      "execution_count": 0,
      "outputs": []
    },
    {
      "cell_type": "code",
      "metadata": {
        "id": "VZNZrLSLz7q_",
        "colab_type": "code",
        "outputId": "b9d6847f-2624-401b-91f3-06d3974656fc",
        "colab": {
          "base_uri": "https://localhost:8080/",
          "height": 251
        }
      },
      "source": [
        "prune(tree,0.1)\n",
        "printtree(tree)"
      ],
      "execution_count": 0,
      "outputs": [
        {
          "output_type": "stream",
          "text": [
            "0:google? \n",
            "T-> 3:21? \n",
            " T-> {'Premium': 3}\n",
            " F-> 2:yes? \n",
            "  T-> {'Basic': 1}\n",
            "  F-> {'None': 1}\n",
            "F-> 0:slashdot? \n",
            " T-> {'None': 3}\n",
            " F-> 2:yes? \n",
            "  T-> {'Basic': 4}\n",
            "  F-> 3:21? \n",
            "   T-> {'Basic': 1}\n",
            "   F-> {'None': 3}\n"
          ],
          "name": "stdout"
        }
      ]
    },
    {
      "cell_type": "markdown",
      "metadata": {
        "id": "uK3O277xYjQK",
        "colab_type": "text"
      },
      "source": [
        "# CART_Classification"
      ]
    },
    {
      "cell_type": "code",
      "metadata": {
        "id": "RBHMhy0daVtm",
        "colab_type": "code",
        "colab": {}
      },
      "source": [
        "from numpy import *"
      ],
      "execution_count": 0,
      "outputs": []
    },
    {
      "cell_type": "code",
      "metadata": {
        "id": "PgBN1yaVaVmh",
        "colab_type": "code",
        "colab": {}
      },
      "source": [
        "def loadDataSet():\n",
        "    dataSet = [[0, 0, 0],\n",
        "               [0, 1, 1],\n",
        "               [0, 2, 0],\n",
        "               [1, 0, 1],\n",
        "               [1, 1, 1],\n",
        "               [1, 2, 1],\n",
        "               [2, 0, 0],\n",
        "               [2, 1, 1],\n",
        "               [2, 2, 0]]\n",
        "    labels = ['color','shape']\n",
        "    return dataSet, labels"
      ],
      "execution_count": 0,
      "outputs": []
    },
    {
      "cell_type": "markdown",
      "metadata": {
        "id": "LYwzwVxgaX1G",
        "colab_type": "text"
      },
      "source": [
        "## 计算基尼指数\n",
        "基尼指数（基尼不纯度）= 样本被选中的概率 * 样本被分错的概率\n",
        "$$Gini(D) = \\sum_{k=1}^{K}p_{k}(1-p_{k}) = 1 - \\sum_{k=1}^{K}p_{k}^{2}=1 - \\sum_{k=1}^{K}\\frac{|D_{k}|}{|D|}$$\n",
        "\n",
        "- $p_k$表示选中的样本属于k类别的概率，则这个样本被分错的概率是$1-p_k$\n",
        "\n",
        "- 样本集合中有$K$个类别，一个随机选中的样本可以属于这$K$个类别中的任意一个，因而对类别求和\n",
        "\n",
        "- 当为二分类时Gini(P) = 2p(1-p)\n",
        "\n",
        "<font face=楷体 color=yellow size=5>疑问</font>  "
      ]
    },
    {
      "cell_type": "code",
      "metadata": {
        "id": "1EJgrd3uaVhX",
        "colab_type": "code",
        "colab": {}
      },
      "source": [
        "def calcGini(dataSet):\n",
        "    totalNum = shape(dataSet)[0]\n",
        "    labelNum = {}\n",
        "    gini = 0\n",
        "    for data in dataSet:\n",
        "        label = data[-1]\n",
        "        if label in labelNum:\n",
        "            labelNum[label] += 1\n",
        "        else:\n",
        "            labelNum[label] = 1\n",
        "\n",
        "    for key in labelNum:\n",
        "        p = labelNum[key] / totalNum\n",
        "        gini += p * (1 - p)\n",
        "    return gini"
      ],
      "execution_count": 0,
      "outputs": []
    },
    {
      "cell_type": "markdown",
      "metadata": {
        "id": "ergaDJP_ajgS",
        "colab_type": "text"
      },
      "source": [
        "## 选择最优特征"
      ]
    },
    {
      "cell_type": "code",
      "metadata": {
        "id": "RuJoOk8XaVey",
        "colab_type": "code",
        "colab": {}
      },
      "source": [
        "def chooseBestFeatVal2Split(dataSet):\n",
        "    #如果没有可划分的特征或所有目标变量相等，停止\n",
        "    if(len(dataSet[0]) == 1): return None, None\n",
        "    if(len(set([d[-1] for d in dataSet])) == 1): return None, None\n",
        "    bestFeature = 0\n",
        "    bestValue = 0\n",
        "    lowestGini = 100000\n",
        "    totalGini = calcGini(dataSet)\n",
        "    totalNum = shape(dataSet)[0]\n",
        "    for feature in range(shape(dataSet)[1] - 1):\n",
        "        allValues = [d[feature] for d in dataSet]\n",
        "        values = set(allValues)\n",
        "        for value in values:\n",
        "            leftChild, rightChild = splitByFeatVal(feature, value, dataSet)\n",
        "            if(shape(leftChild)[0] == 0 or shape(rightChild)[0] == 0): continue\n",
        "            leftNum = shape(leftChild)[0]\n",
        "            rightNum = shape(rightChild)[0]\n",
        "            curGini = leftNum / totalNum * calcGini(leftChild) + \\\n",
        "                      rightNum / totalNum * calcGini(rightChild)\n",
        "            if(curGini < lowestGini):\n",
        "                bestFeature = feature\n",
        "                bestValue = value\n",
        "                lowestGini = curGini\n",
        "    #如果gini减少很小，停止\n",
        "    if(totalGini - lowestGini < 0.00001): return None, None\n",
        "    return bestFeature, bestValue"
      ],
      "execution_count": 0,
      "outputs": []
    },
    {
      "cell_type": "markdown",
      "metadata": {
        "id": "runh1X2lasRR",
        "colab_type": "text"
      },
      "source": [
        "## 按特征划分数据集\n",
        "如果 feature 对应的属性值等于 value 值，则将该条数据划分到左子树；如果 feature 对应的属性值不等于 value 值，则将该条数据划分到右子树"
      ]
    },
    {
      "cell_type": "code",
      "metadata": {
        "id": "7hjsco5zaVbV",
        "colab_type": "code",
        "colab": {}
      },
      "source": [
        "def splitByFeatVal(feature, value, dataSet):\n",
        "    #左子树的值大于根节点的值\n",
        "    dataSet = mat(dataSet)\n",
        "    leftChild = dataSet[nonzero(dataSet[:,feature] == value)[0], :].tolist()\n",
        "    #右子树的值小于等于根节点的值\n",
        "    rightChild = dataSet[nonzero(dataSet[:,feature] != value)[0], :].tolist()\n",
        "\n",
        "    return leftChild, rightChild"
      ],
      "execution_count": 0,
      "outputs": []
    },
    {
      "cell_type": "markdown",
      "metadata": {
        "id": "WkP58T0Ka32u",
        "colab_type": "text"
      },
      "source": [
        "## 结束条件\n",
        "\n",
        "checkIsOneCateg 函数用来判断数据集的目标变量是否为一个分类结果  \n",
        "majorityCateg 函数用来选出目标变量中的大多数值作为输出变量"
      ]
    },
    {
      "cell_type": "code",
      "metadata": {
        "id": "VB2sItoraVYg",
        "colab_type": "code",
        "colab": {}
      },
      "source": [
        "def checkIsOneCateg(newDataSet):\n",
        "    flag = False\n",
        "    categoryList = [data[-1] for data in newDataSet]\n",
        "    category = set(categoryList)\n",
        "    if(len(category) == 1):\n",
        "        flag = True\n",
        "    return flag\n",
        "\n",
        "def majorityCateg(newDataSet):\n",
        "    categCount = {}\n",
        "    categList = [data[-1] for data in newDataSet]\n",
        "    for c in categList:\n",
        "        if c not in categCount:\n",
        "            categCount[c] = 1\n",
        "        else:\n",
        "            categCount[c] += 1\n",
        "    sortedCateg = sorted(categCount.items(), key = lambda x:x[1], reverse = True)\n",
        "\n",
        "    return sortedCateg[0][0]"
      ],
      "execution_count": 0,
      "outputs": []
    },
    {
      "cell_type": "markdown",
      "metadata": {
        "id": "aeb6BQDybMU8",
        "colab_type": "text"
      },
      "source": [
        "## 创建分类树"
      ]
    },
    {
      "cell_type": "code",
      "metadata": {
        "id": "olBVaiFSaVUI",
        "colab_type": "code",
        "colab": {}
      },
      "source": [
        "def createClassifTree(dataSet):\n",
        "    feature, value = chooseBestFeatVal2Split(dataSet)\n",
        "    #如果无法分割，那么返回叶节点的值,即所有目标变量相同则为此值，不同则为多数值\n",
        "    if feature == None and checkIsOneCateg(dataSet):\n",
        "        return dataSet[0][-1]\n",
        "    if feature == None and not checkIsOneCateg(dataSet):\n",
        "        return majorityCateg(dataSet)\n",
        "    #如果可以继续分割，那么继续创建新的子树\n",
        "    classifTree = {}\n",
        "    classifTree['featIndex'] = feature\n",
        "    classifTree['value'] = value\n",
        "    leftChild, rightChild = splitByFeatVal(feature, value, dataSet)\n",
        "    classifTree['leftChild'] = createClassifTree(leftChild)\n",
        "    classifTree['rightChild'] = createClassifTree(rightChild)\n",
        "\n",
        "    return classifTree\n",
        "\n",
        "if __name__ == '__main__':\n",
        "    dataSet, labels = loadDataSet()\n",
        "    classifTree = createClassifTree(dataSet)\n",
        "    print(classifTree)"
      ],
      "execution_count": 0,
      "outputs": []
    },
    {
      "cell_type": "markdown",
      "metadata": {
        "id": "ruNJeDseY3Oc",
        "colab_type": "text"
      },
      "source": [
        "# CART_Regression"
      ]
    },
    {
      "cell_type": "code",
      "metadata": {
        "id": "D4E72a7gbRfT",
        "colab_type": "code",
        "colab": {}
      },
      "source": [
        "from numpy import *"
      ],
      "execution_count": 0,
      "outputs": []
    },
    {
      "cell_type": "markdown",
      "metadata": {
        "id": "U-2zCHMysncm",
        "colab_type": "text"
      },
      "source": [
        "## 数据集\n",
        "数据集共 25 条数据。第一列数据代表房子的评价得分，此数据集中所有数据的评价得分都是 5.23。第二列数据代表房子的平方数，第三列数据代表房子的价格，以万为单位  \n",
        "5.23\t1\t0.1  \n",
        "5.23\t2\t0.12  \n",
        "5.23\t3\t0.02  \n",
        "5.23\t4\t0.03  \n",
        "5.23\t5\t0.12  \n",
        "5.23\t6\t5.0  \n",
        "5.23\t7\t5.2  \n",
        "5.23\t8\t5.1  \n",
        "5.23\t9\t5.02  \n",
        "5.23\t10\t5.03  \n",
        "5.23\t11\t10.8  \n",
        "5.23\t12\t10.06  \n",
        "5.23\t13\t10.03  \n",
        "5.23\t14\t10.02  \n",
        "5.23\t15\t10.44  \n",
        "5.23\t16\t15.88  \n",
        "5.23\t17\t15.06  \n",
        "5.23\t18\t15.04  \n",
        "5.23\t19\t15.30  \n",
        "5.23\t20\t15.05  \n",
        "5.23\t21\t20.8  \n",
        "5.23\t22\t20.16  \n",
        "5.23\t23\t20.24  \n",
        "5.23\t24\t20.05  \n",
        "5.23\t25\t20.09  "
      ]
    },
    {
      "cell_type": "code",
      "metadata": {
        "id": "StVaZ-KIbRdY",
        "colab_type": "code",
        "colab": {}
      },
      "source": [
        "def loadDataSet():\n",
        "    dataSet = []\n",
        "    f = open('regData.txt')\n",
        "    fr = f.readlines()\n",
        "    for line in fr:\n",
        "        line = line.strip().split('\\t')\n",
        "        linef = [float(li) for li in line]\n",
        "        dataSet.append(linef)\n",
        "    dataSetMat = mat(dataSet)\n",
        "    return dataSetMat"
      ],
      "execution_count": 0,
      "outputs": []
    },
    {
      "cell_type": "markdown",
      "metadata": {
        "id": "MwlJRkaxbSKH",
        "colab_type": "text"
      },
      "source": [
        "## 计算平方误差"
      ]
    },
    {
      "cell_type": "code",
      "metadata": {
        "id": "WDy_-ClTbRam",
        "colab_type": "code",
        "colab": {}
      },
      "source": [
        "def calcErr(dataSetMat):\n",
        "    error = var(dataSetMat[:,-1]) * shape(dataSetMat)[0]\n",
        "    return error"
      ],
      "execution_count": 0,
      "outputs": []
    },
    {
      "cell_type": "markdown",
      "metadata": {
        "id": "-UsBOqfOr-Es",
        "colab_type": "text"
      },
      "source": [
        "## 选择最优特征\n",
        "\n",
        "对每个特征的每个属性值，计算按该属性值二分后的两个子数据集的平方误差和，选择平方误差和最小的特征作为最优特征。除了用平方误差代替基尼指数之外，其他过程和分类树基本相同"
      ]
    },
    {
      "cell_type": "code",
      "metadata": {
        "id": "lHWEz_AxbRYA",
        "colab_type": "code",
        "colab": {}
      },
      "source": [
        "def chooseBestFeatVal2Split(dataSetMat):\n",
        "    #如果所有目标变量相等，停止\n",
        "    if(len(set(dataSetMat[:,-1].T.tolist()[0])) == 1): return None, None\n",
        "    bestFeature = 0\n",
        "    bestValue = 0\n",
        "    lowestErr = 100000\n",
        "    totalErr = calcErr(dataSetMat)\n",
        "    for feature in range(shape(dataSetMat)[1] - 1):\n",
        "        allValues = [d[feature] for d in dataSetMat.tolist()]\n",
        "        values = set(allValues)\n",
        "        for value in values:\n",
        "            leftChild, rightChild = splitByFeatVal(feature, value, dataSetMat)\n",
        "            if(shape(leftChild)[0] == 0 or shape(rightChild)[0] == 0): continue\n",
        "            curErr = calcErr(leftChild) + calcErr(rightChild)\n",
        "            if(curErr < lowestErr):\n",
        "                bestFeature = feature\n",
        "                bestValue = value\n",
        "                lowestErr = curErr\n",
        "    #如果误差减少很小，停止\n",
        "    if(totalErr - lowestErr < 1): return None, None\n",
        "    return bestFeature, bestValue"
      ],
      "execution_count": 0,
      "outputs": []
    },
    {
      "cell_type": "markdown",
      "metadata": {
        "id": "ejtcrMdLsHA5",
        "colab_type": "text"
      },
      "source": [
        " ## 按特征划分数据集"
      ]
    },
    {
      "cell_type": "code",
      "metadata": {
        "id": "unhlAmhVbRWC",
        "colab_type": "code",
        "colab": {}
      },
      "source": [
        "def splitByFeatVal(feature, value, dataSetMat):\n",
        "    #左子树的值大于根节点的值\n",
        "    leftChild = dataSetMat[nonzero(dataSetMat[:,feature] > value)[0], :]\n",
        "    #右子树的值小于等于根节点的值\n",
        "    rightChild = dataSetMat[nonzero(dataSetMat[:,feature] <= value)[0], :]\n",
        "\n",
        "    return leftChild, rightChild"
      ],
      "execution_count": 0,
      "outputs": []
    },
    {
      "cell_type": "markdown",
      "metadata": {
        "id": "KTN_hxijsLJ0",
        "colab_type": "text"
      },
      "source": [
        "## 创建回归树"
      ]
    },
    {
      "cell_type": "code",
      "metadata": {
        "id": "jtwpZrlPY1yK",
        "colab_type": "code",
        "colab": {
          "base_uri": "https://localhost:8080/",
          "height": 55
        },
        "outputId": "b80c5ffe-b6a9-411b-de00-500a85cdb0ff"
      },
      "source": [
        "def createRegTree(dataSetMat):\n",
        "    feature, value = chooseBestFeatVal2Split(dataSetMat)\n",
        "    #如果无法分割，那么返回叶节点的值，即所有dataSetMat的均值\n",
        "    if feature == None: return mean(dataSetMat[:,-1])\n",
        "    #如果可以继续分割，那么继续创建新的子树\n",
        "    regTree = {}\n",
        "    regTree['featIndex'] = feature\n",
        "    regTree['value'] = value\n",
        "    leftChild, rightChild = splitByFeatVal(feature, value, dataSetMat)\n",
        "    regTree['leftChild'] = createRegTree(leftChild)\n",
        "    regTree['rightChild'] = createRegTree(rightChild)\n",
        "\n",
        "    return regTree\n",
        "\n",
        "if __name__ == '__main__':\n",
        "    dataSetMat = loadDataSet()\n",
        "    regTree = createRegTree(dataSetMat)\n",
        "    print(regTree)"
      ],
      "execution_count": 24,
      "outputs": [
        {
          "output_type": "stream",
          "text": [
            "{'leftChild': {'leftChild': 20.268, 'featIndex': 1, 'value': 20.0, 'rightChild': {'leftChild': 15.266, 'featIndex': 1, 'value': 15.0, 'rightChild': 10.27}}, 'featIndex': 1, 'value': 10.0, 'rightChild': {'leftChild': 5.07, 'featIndex': 1, 'value': 5.0, 'rightChild': 0.078}}\n"
          ],
          "name": "stdout"
        }
      ]
    },
    {
      "cell_type": "code",
      "metadata": {
        "id": "OrdXBABoZFZs",
        "colab_type": "code",
        "colab": {}
      },
      "source": [
        ""
      ],
      "execution_count": 0,
      "outputs": []
    }
  ]
}