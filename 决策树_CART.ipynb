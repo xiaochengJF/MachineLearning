{
  "nbformat": 4,
  "nbformat_minor": 0,
  "metadata": {
    "colab": {
      "name": "决策树:CART.ipynb",
      "provenance": [],
      "authorship_tag": "ABX9TyOhmfQpbyc/i5PGS9CkErfo",
      "include_colab_link": true
    },
    "kernelspec": {
      "name": "python2",
      "display_name": "Python 2"
    }
  },
  "cells": [
    {
      "cell_type": "markdown",
      "metadata": {
        "id": "view-in-github",
        "colab_type": "text"
      },
      "source": [
        "<a href=\"https://colab.research.google.com/github/xiaochengJF/MachineLearning/blob/master/%E5%86%B3%E7%AD%96%E6%A0%91_CART.ipynb\" target=\"_parent\"><img src=\"https://colab.research.google.com/assets/colab-badge.svg\" alt=\"Open In Colab\"/></a>"
      ]
    },
    {
      "cell_type": "code",
      "metadata": {
        "id": "vFW9vsj8ZwN0",
        "colab_type": "code",
        "colab": {}
      },
      "source": [
        "# 对y的各种可能的取值出现的个数进行计数.。其他函数利用该函数来计算数据集和的混杂程度\n",
        "def uniquecounts(rows):\n",
        "    results = {}\n",
        "    for row in rows:\n",
        "        #计数结果在最后一列\n",
        "        r = row[len(row)-1]\n",
        "        if r not in results:results[r] = 0\n",
        "        results[r]+=1\n",
        "    return results # 返回一个字典\n",
        "\n",
        "\n",
        "# 熵\n",
        "def entropy(rows):\n",
        "    from math import log\n",
        "    log2 = lambda x:log(x)/log(2)\n",
        "    results = uniquecounts(rows)\n",
        "    #开始计算熵的值\n",
        "    ent = 0.0\n",
        "    for r in results.keys():\n",
        "        p = float(results[r])/len(rows)\n",
        "        ent = ent - p*log2(p)\n",
        "    return ent"
      ],
      "execution_count": 0,
      "outputs": []
    },
    {
      "cell_type": "code",
      "metadata": {
        "id": "3lSaqzU7zHXN",
        "colab_type": "code",
        "colab": {}
      },
      "source": [
        "#定义节点的属性\n",
        "class decisionnode:\n",
        "    def __init__(self,col = -1,value = None, results = None, tb = None,fb = None):\n",
        "        self.col = col   # col是待检验的判断条件所对应的列索引值\n",
        "        self.value = value # value对应于为了使结果为True，当前列必须匹配的值\n",
        "        self.results = results #保存的是针对当前分支的结果，它是一个字典\n",
        "        self.tb = tb ## desision node,对应于结果为true时，树上相对于当前节点的子树上的节点\n",
        "        self.fb = fb ## desision node,对应于结果为true时，树上相对于当前节点的子树上的节点\n",
        "\n",
        "\n",
        "\n",
        "# 基尼不纯度\n",
        "\n",
        "\n",
        "# 随机放置的数据项出现于错误分类中的概率\n",
        "def giniimpurity(rows):\n",
        "    total = len(rows)\n",
        "    counts = uniquecounts(rows)\n",
        "    imp =0\n",
        "    for k1 in counts:\n",
        "        p1 = float(counts[k1])/total\n",
        "        for k2 in counts: # 这个循环是否可以用（1-p1）替换？\n",
        "            if k1 == k2: continue\n",
        "            p2 = float(counts[k2])/total\n",
        "            imp+=p1*p2\n",
        "    return imp\n",
        "\n",
        "\n",
        "# 改进giniimpurity\n",
        "\n",
        "\n",
        "def giniimpurity_2(rows):\n",
        "    total = len(rows)\n",
        "    counts = uniquecounts(rows)\n",
        "    imp = 0\n",
        "    for k1 in counts.keys():\n",
        "        p1 = float(counts[k1])/total\n",
        "        imp+= p1*(1-p1)\n",
        "    return imp\n",
        "\n",
        "\n",
        "\n",
        "#在某一列上对数据集进行拆分。可应用于数值型或因子型变量\n",
        "def divideset(rows,column,value):\n",
        "    #定义一个函数，判断当前数据行属于第一组还是第二组\n",
        "    split_function = None\n",
        "    if isinstance(value,int) or isinstance(value,float):\n",
        "        split_function = lambda row:row[column] >= value\n",
        "    else:\n",
        "        split_function = lambda row:row[column]==value\n",
        "    # 将数据集拆分成两个集合，并返回\n",
        "    set1 = [row for row in rows if split_function(row)]\n",
        "    set2 = [row for row in rows if not split_function(row)]\n",
        "    return(set1,set2)\n",
        "\n",
        "\n",
        "# 以递归方式构造树\n",
        "\n",
        "def buildtree(rows,scoref = entropy):\n",
        "    if len(rows)==0 : return decisionnode()\n",
        "    current_score = scoref(rows)\n",
        "    \n",
        "    # 定义一些变量以记录最佳拆分条件\n",
        "    best_gain = 0.0\n",
        "    best_criteria = None\n",
        "    best_sets = None\n",
        "    \n",
        "    column_count = len(rows[0]) - 1\n",
        "    for col in range(0,column_count):\n",
        "        #在当前列中生成一个由不同值构成的序列\n",
        "        column_values = {}\n",
        "        for row in rows:\n",
        "            column_values[row[col]] = 1 # 初始化\n",
        "        #根据这一列中的每个值，尝试对数据集进行拆分\n",
        "        for value in column_values.keys():\n",
        "            (set1,set2) = divideset(rows,col,value)\n",
        "            \n",
        "            # 信息增益\n",
        "            p = float(len(set1))/len(rows)\n",
        "            gain = current_score - p*scoref(set1) - (1-p)*scoref(set2)\n",
        "            if gain>best_gain and len(set1)>0 and len(set2)>0:\n",
        "                best_gain = gain\n",
        "                best_criteria = (col,value)\n",
        "                best_sets = (set1,set2)\n",
        "                \n",
        "    #创建子分支\n",
        "    if best_gain>0:\n",
        "        trueBranch = buildtree(best_sets[0])  #递归调用\n",
        "        falseBranch = buildtree(best_sets[1])\n",
        "        return decisionnode(col = best_criteria[0],value = best_criteria[1],\n",
        "                            tb = trueBranch,fb = falseBranch)\n",
        "    else:\n",
        "        return decisionnode(results = uniquecounts(rows))\n",
        "\n",
        "# 决策树的显示\n",
        "def printtree(tree,indent = ''):\n",
        "    # 是否是叶节点\n",
        "    if tree.results != None:\n",
        "        print str(tree.results)\n",
        "    else:\n",
        "        # 打印判断条件\n",
        "        print str(tree.col)+\":\"+str(tree.value)+\"? \"\n",
        "        #打印分支\n",
        "        print indent+\"T->\",\n",
        "        printtree(tree.tb,indent+\" \")\n",
        "        print indent+\"F->\",\n",
        "        printtree(tree.fb,indent+\" \")\n",
        "\n",
        "\n",
        "# 对新的观测数据进行分类\n",
        "\n",
        "\n",
        "def classify(observation,tree):\n",
        "    if tree.results!= None:\n",
        "        return tree.results\n",
        "    else:\n",
        "        v = observation[tree.col]\n",
        "        branch = None\n",
        "        if isinstance(v,int) or isinstance(v,float):\n",
        "            if v>= tree.value: branch = tree.tb\n",
        "            else: branch = tree.fb\n",
        "        else:\n",
        "            if v==tree.value : branch = tree.tb\n",
        "            else: branch = tree.fb\n",
        "        return classify(observation,branch)"
      ],
      "execution_count": 0,
      "outputs": []
    },
    {
      "cell_type": "code",
      "metadata": {
        "id": "Ydk6HXuwzR1_",
        "colab_type": "code",
        "colab": {
          "base_uri": "https://localhost:8080/",
          "height": 305
        },
        "outputId": "705dcbb4-a01c-42a5-d2b7-27183d39aa69"
      },
      "source": [
        "# test\n",
        "my_data=[['slashdot','USA','yes',18,'None'],\n",
        "        ['google','France','yes',23,'Premium'],\n",
        "        ['digg','USA','yes',24,'Basic'],\n",
        "        ['kiwitobes','France','yes',23,'Basic'],\n",
        "        ['google','UK','no',21,'Premium'],\n",
        "        ['(direct)','New Zealand','no',12,'None'],\n",
        "        ['(direct)','UK','no',21,'Basic'],\n",
        "        ['google','USA','no',24,'Premium'],\n",
        "        ['slashdot','France','yes',19,'None'],\n",
        "        ['digg','USA','no',18,'None'],\n",
        "        ['google','UK','no',18,'None'],\n",
        "        ['kiwitobes','UK','no',19,'None'],\n",
        "        ['digg','New Zealand','yes',12,'Basic'],\n",
        "        ['slashdot','UK','no',21,'None'],\n",
        "        ['google','UK','yes',18,'Basic'],\n",
        "        ['kiwitobes','France','yes',19,'Basic']]\n",
        "\n",
        "\n",
        "\n",
        "divideset(my_data,2,'yes')"
      ],
      "execution_count": 9,
      "outputs": [
        {
          "output_type": "execute_result",
          "data": {
            "text/plain": [
              "([['slashdot', 'USA', 'yes', 18, 'None'],\n",
              "  ['google', 'France', 'yes', 23, 'Premium'],\n",
              "  ['digg', 'USA', 'yes', 24, 'Basic'],\n",
              "  ['kiwitobes', 'France', 'yes', 23, 'Basic'],\n",
              "  ['slashdot', 'France', 'yes', 19, 'None'],\n",
              "  ['digg', 'New Zealand', 'yes', 12, 'Basic'],\n",
              "  ['google', 'UK', 'yes', 18, 'Basic'],\n",
              "  ['kiwitobes', 'France', 'yes', 19, 'Basic']],\n",
              " [['google', 'UK', 'no', 21, 'Premium'],\n",
              "  ['(direct)', 'New Zealand', 'no', 12, 'None'],\n",
              "  ['(direct)', 'UK', 'no', 21, 'Basic'],\n",
              "  ['google', 'USA', 'no', 24, 'Premium'],\n",
              "  ['digg', 'USA', 'no', 18, 'None'],\n",
              "  ['google', 'UK', 'no', 18, 'None'],\n",
              "  ['kiwitobes', 'UK', 'no', 19, 'None'],\n",
              "  ['slashdot', 'UK', 'no', 21, 'None']])"
            ]
          },
          "metadata": {
            "tags": []
          },
          "execution_count": 9
        }
      ]
    },
    {
      "cell_type": "code",
      "metadata": {
        "id": "e9HCQo3I1IwF",
        "colab_type": "code",
        "colab": {
          "base_uri": "https://localhost:8080/",
          "height": 35
        },
        "outputId": "17546c7b-584a-450d-b661-9d9d08a35e5a"
      },
      "source": [
        "giniimpurity(my_data)"
      ],
      "execution_count": 10,
      "outputs": [
        {
          "output_type": "execute_result",
          "data": {
            "text/plain": [
              "0.6328125"
            ]
          },
          "metadata": {
            "tags": []
          },
          "execution_count": 10
        }
      ]
    },
    {
      "cell_type": "code",
      "metadata": {
        "id": "3n5N5PXu1Isj",
        "colab_type": "code",
        "colab": {
          "base_uri": "https://localhost:8080/",
          "height": 35
        },
        "outputId": "93e81e5e-24c2-4366-c789-7cfa8fd55d84"
      },
      "source": [
        "giniimpurity_2(my_data)"
      ],
      "execution_count": 11,
      "outputs": [
        {
          "output_type": "execute_result",
          "data": {
            "text/plain": [
              "0.6328125"
            ]
          },
          "metadata": {
            "tags": []
          },
          "execution_count": 11
        }
      ]
    },
    {
      "cell_type": "code",
      "metadata": {
        "id": "VaJlGa731Ioj",
        "colab_type": "code",
        "colab": {}
      },
      "source": [
        "tree = buildtree(my_data)"
      ],
      "execution_count": 0,
      "outputs": []
    },
    {
      "cell_type": "code",
      "metadata": {
        "id": "GWc5Dex41OtD",
        "colab_type": "code",
        "colab": {
          "base_uri": "https://localhost:8080/",
          "height": 251
        },
        "outputId": "e922396e-70ed-4d2a-8baa-48a3688ba861"
      },
      "source": [
        "printtree(tree = tree)"
      ],
      "execution_count": 13,
      "outputs": [
        {
          "output_type": "stream",
          "text": [
            "0:google? \n",
            "T-> 3:21? \n",
            " T-> {'Premium': 3}\n",
            " F-> 2:yes? \n",
            "  T-> {'Basic': 1}\n",
            "  F-> {'None': 1}\n",
            "F-> 0:slashdot? \n",
            " T-> {'None': 3}\n",
            " F-> 2:yes? \n",
            "  T-> {'Basic': 4}\n",
            "  F-> 3:21? \n",
            "   T-> {'Basic': 1}\n",
            "   F-> {'None': 3}\n"
          ],
          "name": "stdout"
        }
      ]
    },
    {
      "cell_type": "code",
      "metadata": {
        "id": "YuECGoI31Ibl",
        "colab_type": "code",
        "colab": {
          "base_uri": "https://localhost:8080/",
          "height": 35
        },
        "outputId": "df642c45-4bd5-485b-ab9a-ec1036ee4128"
      },
      "source": [
        "classify(['(direct)','USA','yes',5],tree)"
      ],
      "execution_count": 14,
      "outputs": [
        {
          "output_type": "execute_result",
          "data": {
            "text/plain": [
              "{'Basic': 4}"
            ]
          },
          "metadata": {
            "tags": []
          },
          "execution_count": 14
        }
      ]
    },
    {
      "cell_type": "code",
      "metadata": {
        "id": "OjjFYSwqzy5M",
        "colab_type": "code",
        "colab": {}
      },
      "source": [
        "# 决策树的剪枝\n",
        "def prune(tree,mingain):\n",
        "    # 如果分支不是叶节点，则对其进行剪枝\n",
        "    if tree.tb.results == None:\n",
        "        prune(tree.tb,mingain)\n",
        "    if tree.fb.results == None:\n",
        "        prune(tree.fb,mingain)\n",
        "    # 如果两个子分支都是叶节点，判断是否能够合并\n",
        "    if tree.tb.results !=None and tree.fb.results !=None:\n",
        "        #构造合并后的数据集\n",
        "        tb,fb = [],[]\n",
        "        for v,c in tree.tb.results.items():\n",
        "            tb+=[[v]]*c\n",
        "        for v,c in tree.fb.results.items():\n",
        "            fb+=[[v]]*c\n",
        "        #检查熵的减少量\n",
        "        delta = entropy(tb+fb)-(entropy(tb)+entropy(fb)/2)\n",
        "        if delta < mingain:\n",
        "            # 合并分支\n",
        "            tree.tb,tree.fb = None,None\n",
        "            tree.results = uniquecounts(tb+fb)\n",
        "# test\n",
        "tree = buildtree(my_data,scoref = giniimpurity)"
      ],
      "execution_count": 0,
      "outputs": []
    },
    {
      "cell_type": "code",
      "metadata": {
        "id": "VZNZrLSLz7q_",
        "colab_type": "code",
        "colab": {
          "base_uri": "https://localhost:8080/",
          "height": 251
        },
        "outputId": "b9d6847f-2624-401b-91f3-06d3974656fc"
      },
      "source": [
        "prune(tree,0.1)\n",
        "printtree(tree)"
      ],
      "execution_count": 23,
      "outputs": [
        {
          "output_type": "stream",
          "text": [
            "0:google? \n",
            "T-> 3:21? \n",
            " T-> {'Premium': 3}\n",
            " F-> 2:yes? \n",
            "  T-> {'Basic': 1}\n",
            "  F-> {'None': 1}\n",
            "F-> 0:slashdot? \n",
            " T-> {'None': 3}\n",
            " F-> 2:yes? \n",
            "  T-> {'Basic': 4}\n",
            "  F-> 3:21? \n",
            "   T-> {'Basic': 1}\n",
            "   F-> {'None': 3}\n"
          ],
          "name": "stdout"
        }
      ]
    },
    {
      "cell_type": "code",
      "metadata": {
        "id": "B6bVNKYY1gZ8",
        "colab_type": "code",
        "colab": {}
      },
      "source": [
        ""
      ],
      "execution_count": 0,
      "outputs": []
    }
  ]
}