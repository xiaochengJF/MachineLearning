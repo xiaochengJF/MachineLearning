{
  "nbformat": 4,
  "nbformat_minor": 0,
  "metadata": {
    "anaconda-cloud": {},
    "kernelspec": {
      "display_name": "Python 3",
      "language": "python",
      "name": "python3"
    },
    "language_info": {
      "codemirror_mode": {
        "name": "ipython",
        "version": 3
      },
      "file_extension": ".py",
      "mimetype": "text/x-python",
      "name": "python",
      "nbconvert_exporter": "python",
      "pygments_lexer": "ipython3",
      "version": "3.6.2"
    },
    "colab": {
      "name": "Ex4_NN back propagation",
      "provenance": [],
      "collapsed_sections": [],
      "include_colab_link": true
    }
  },
  "cells": [
    {
      "cell_type": "markdown",
      "metadata": {
        "id": "view-in-github",
        "colab_type": "text"
      },
      "source": [
        "<a href=\"https://colab.research.google.com/github/xiaochengJF/MachineLearning/blob/master/Ex4_NN_back_propagation.ipynb\" target=\"_parent\"><img src=\"https://colab.research.google.com/assets/colab-badge.svg\" alt=\"Open In Colab\"/></a>"
      ]
    },
    {
      "cell_type": "code",
      "metadata": {
        "id": "pgQXvZ_wlDih",
        "colab_type": "code",
        "colab": {
          "base_uri": "https://localhost:8080/",
          "height": 127
        },
        "outputId": "9a9a5f18-01bf-41e4-ab74-49eec2197729"
      },
      "source": [
        "from google.colab import drive\n",
        "drive.mount('/content/drive')"
      ],
      "execution_count": 2,
      "outputs": [
        {
          "output_type": "stream",
          "text": [
            "Go to this URL in a browser: https://accounts.google.com/o/oauth2/auth?client_id=947318989803-6bn6qk8qdgf4n4g3pfee6491hc0brc4i.apps.googleusercontent.com&redirect_uri=urn%3Aietf%3Awg%3Aoauth%3A2.0%3Aoob&scope=email%20https%3A%2F%2Fwww.googleapis.com%2Fauth%2Fdocs.test%20https%3A%2F%2Fwww.googleapis.com%2Fauth%2Fdrive%20https%3A%2F%2Fwww.googleapis.com%2Fauth%2Fdrive.photos.readonly%20https%3A%2F%2Fwww.googleapis.com%2Fauth%2Fpeopleapi.readonly&response_type=code\n",
            "\n",
            "Enter your authorization code:\n",
            "··········\n",
            "Mounted at /content/drive\n"
          ],
          "name": "stdout"
        }
      ]
    },
    {
      "cell_type": "code",
      "metadata": {
        "id": "3lB3EuLNlCp7",
        "colab_type": "code",
        "colab": {
          "base_uri": "https://localhost:8080/",
          "height": 35
        },
        "outputId": "ae6fd37a-7658-4a96-e57a-3f69e33230c8"
      },
      "source": [
        "cd /content/drive/My Drive/MachineLearning/ex4-NN back propagation"
      ],
      "execution_count": 3,
      "outputs": [
        {
          "output_type": "stream",
          "text": [
            "/content/drive/My Drive/MachineLearning/ex4-NN back propagation\n"
          ],
          "name": "stdout"
        }
      ]
    },
    {
      "cell_type": "markdown",
      "metadata": {
        "id": "dyjeizWNOAE8",
        "colab_type": "text"
      },
      "source": [
        "# NN back propagation（神经网络反向传播）"
      ]
    },
    {
      "cell_type": "code",
      "metadata": {
        "id": "lDGnbnPTOAE-",
        "colab_type": "code",
        "colab": {}
      },
      "source": [
        "import matplotlib.pyplot as plt\n",
        "import numpy as np\n",
        "import scipy.io as sio\n",
        "import matplotlib\n",
        "import scipy.optimize as opt\n",
        "from sklearn.metrics import classification_report  # 这个包是评价报告"
      ],
      "execution_count": 0,
      "outputs": []
    },
    {
      "cell_type": "code",
      "metadata": {
        "id": "ZBKfG_D5OAFA",
        "colab_type": "code",
        "colab": {}
      },
      "source": [
        "def load_data(path, transpose=True):\n",
        "    data = sio.loadmat(path)\n",
        "    y = data.get('y')  # (5000,1)\n",
        "    y = y.reshape(y.shape[0])  # make it back to column vector\n",
        "\n",
        "    X = data.get('X')  # (5000,400)\n",
        "\n",
        "    if transpose:\n",
        "        # for this dataset, you need a transpose to get the orientation right\n",
        "        X = np.array([im.reshape((20, 20)).T for im in X])\n",
        "\n",
        "        # and I flat the image again to preserve the vector presentation\n",
        "        X = np.array([im.reshape(400) for im in X])\n",
        "\n",
        "    return X, y"
      ],
      "execution_count": 0,
      "outputs": []
    },
    {
      "cell_type": "code",
      "metadata": {
        "id": "JHVbOhdoOAFC",
        "colab_type": "code",
        "colab": {}
      },
      "source": [
        "X, _ = load_data('ex4data1.mat')"
      ],
      "execution_count": 0,
      "outputs": []
    },
    {
      "cell_type": "code",
      "metadata": {
        "id": "Fuipt006OAFE",
        "colab_type": "code",
        "colab": {}
      },
      "source": [
        "def plot_100_image(X):\n",
        "    \"\"\" sample 100 image and show them\n",
        "    assume the image is square\n",
        "\n",
        "    X : (5000, 400)\n",
        "    \"\"\"\n",
        "    size = int(np.sqrt(X.shape[1]))\n",
        "\n",
        "    # sample 100 image, reshape, reorg it\n",
        "    sample_idx = np.random.choice(np.arange(X.shape[0]), 100)  # 100*400\n",
        "    sample_images = X[sample_idx, :]\n",
        "\n",
        "    fig, ax_array = plt.subplots(nrows=10, ncols=10, sharey=True, sharex=True, figsize=(8, 8))\n",
        "\n",
        "    for r in range(10):\n",
        "        for c in range(10):\n",
        "            ax_array[r, c].matshow(sample_images[10 * r + c].reshape((size, size)),\n",
        "                                   cmap=matplotlib.cm.binary)\n",
        "            plt.xticks(np.array([]))\n",
        "            plt.yticks(np.array([]))"
      ],
      "execution_count": 0,
      "outputs": []
    },
    {
      "cell_type": "code",
      "metadata": {
        "id": "0MCr2kerOAFG",
        "colab_type": "code",
        "outputId": "ba8387b3-70f0-42d1-8ed8-bf9f5c52f5ee",
        "colab": {
          "base_uri": "https://localhost:8080/",
          "height": 473
        }
      },
      "source": [
        "plot_100_image(X)\n",
        "plt.show()"
      ],
      "execution_count": 14,
      "outputs": [
        {
          "output_type": "display_data",
          "data": {
            "image/png": "[encoded data removed]",
            "text/plain": [
              "<Figure size 576x576 with 100 Axes>"
            ]
          },
          "metadata": {
            "tags": []
          }
        }
      ]
    },
    {
      "cell_type": "markdown",
      "metadata": {
        "id": "PtZ8iGM1OAFJ",
        "colab_type": "text"
      },
      "source": [
        "# 代价函数"
      ]
    },
    {
      "cell_type": "code",
      "metadata": {
        "id": "5F5ZzkUgOAFJ",
        "colab_type": "code",
        "outputId": "984172f0-42d9-400d-e7c0-530623d8b211",
        "colab": {
          "base_uri": "https://localhost:8080/",
          "height": 35
        }
      },
      "source": [
        "X_raw, y_raw = load_data('ex4data1.mat', transpose=False)\n",
        "X = np.insert(X_raw, 0, np.ones(X_raw.shape[0]), axis=1)#增加全部为1的一列\n",
        "X.shape"
      ],
      "execution_count": 15,
      "outputs": [
        {
          "output_type": "execute_result",
          "data": {
            "text/plain": [
              "(5000, 401)"
            ]
          },
          "metadata": {
            "tags": []
          },
          "execution_count": 15
        }
      ]
    },
    {
      "cell_type": "code",
      "metadata": {
        "id": "FiObmdMpOAFL",
        "colab_type": "code",
        "outputId": "f7c2aa96-b95c-43f8-fbbb-70a86c8753ca",
        "colab": {
          "base_uri": "https://localhost:8080/",
          "height": 35
        }
      },
      "source": [
        "y_raw"
      ],
      "execution_count": 16,
      "outputs": [
        {
          "output_type": "execute_result",
          "data": {
            "text/plain": [
              "array([10, 10, 10, ...,  9,  9,  9], dtype=uint8)"
            ]
          },
          "metadata": {
            "tags": []
          },
          "execution_count": 16
        }
      ]
    },
    {
      "cell_type": "code",
      "metadata": {
        "id": "6aAE0k59OAFN",
        "colab_type": "code",
        "colab": {}
      },
      "source": [
        "def expand_y(y):\n",
        "#     \"\"\"expand 5000*1 into 5000*10\n",
        "#     where y=10 -> [0, 0, 0, 0, 0, 0, 0, 0, 0, 1]: ndarray\n",
        "#     \"\"\"\n",
        "    res = []\n",
        "    for i in y:\n",
        "        y_array = np.zeros(10)\n",
        "        y_array[i - 1] = 1\n",
        "\n",
        "        res.append(y_array)\n",
        "\n",
        "    return np.array(res)\n",
        "# from sklearn.preprocessing import OneHotEncoder\n",
        "# encoder = OneHotEncoder(sparse=False)\n",
        "# y_onehot = encoder.fit_transform(y)\n",
        "# y_onehot.shape #这个函数与expand_y(y)一致"
      ],
      "execution_count": 0,
      "outputs": []
    },
    {
      "cell_type": "code",
      "metadata": {
        "id": "u8mHR20BOAFO",
        "colab_type": "code",
        "outputId": "1dbb0a41-ff54-475f-83c4-56f015676d09",
        "colab": {
          "base_uri": "https://localhost:8080/",
          "height": 143
        }
      },
      "source": [
        "y = expand_y(y_raw)\n",
        "y"
      ],
      "execution_count": 18,
      "outputs": [
        {
          "output_type": "execute_result",
          "data": {
            "text/plain": [
              "array([[0., 0., 0., ..., 0., 0., 1.],\n",
              "       [0., 0., 0., ..., 0., 0., 1.],\n",
              "       [0., 0., 0., ..., 0., 0., 1.],\n",
              "       ...,\n",
              "       [0., 0., 0., ..., 0., 1., 0.],\n",
              "       [0., 0., 0., ..., 0., 1., 0.],\n",
              "       [0., 0., 0., ..., 0., 1., 0.]])"
            ]
          },
          "metadata": {
            "tags": []
          },
          "execution_count": 18
        }
      ]
    },
    {
      "cell_type": "markdown",
      "metadata": {
        "id": "HUL6tPrhOAFQ",
        "colab_type": "text"
      },
      "source": [
        "# 读取权重"
      ]
    },
    {
      "cell_type": "code",
      "metadata": {
        "id": "wvbAYwC4OAFQ",
        "colab_type": "code",
        "colab": {}
      },
      "source": [
        "def load_weight(path):\n",
        "    data = sio.loadmat(path)\n",
        "    return data['Theta1'], data['Theta2']"
      ],
      "execution_count": 0,
      "outputs": []
    },
    {
      "cell_type": "code",
      "metadata": {
        "id": "xFjWRY6HOAFS",
        "colab_type": "code",
        "outputId": "a27aa97b-d57d-4b2f-b080-9e2727d9f7d1",
        "colab": {
          "base_uri": "https://localhost:8080/",
          "height": 35
        }
      },
      "source": [
        "t1, t2 = load_weight('ex4weights.mat')\n",
        "t1.shape, t2.shape"
      ],
      "execution_count": 20,
      "outputs": [
        {
          "output_type": "execute_result",
          "data": {
            "text/plain": [
              "((25, 401), (10, 26))"
            ]
          },
          "metadata": {
            "tags": []
          },
          "execution_count": 20
        }
      ]
    },
    {
      "cell_type": "markdown",
      "metadata": {
        "id": "mc_AbKLsEu6f",
        "colab_type": "text"
      },
      "source": [
        "<font face=楷体 color=green size=4>**绿色链接：**</font>  \n",
        "【1】 [numpy.ravel() vs numpy.flatten()](https://blog.csdn.net/lanchunhui/article/details/50354978)"
      ]
    },
    {
      "cell_type": "code",
      "metadata": {
        "id": "5oj4pU6VOAFU",
        "colab_type": "code",
        "colab": {}
      },
      "source": [
        "# 序列化2矩阵\n",
        "# 在这个nn架构中，有theta1（25,401），theta2（10,26），它们的梯度是delta1，delta2 \n",
        "def serialize(a, b):\n",
        "    \n",
        "    return np.concatenate((np.ravel(a), np.ravel(b)))  # raval改变原列表 flatten返回的则是复制的列表"
      ],
      "execution_count": 0,
      "outputs": []
    },
    {
      "cell_type": "code",
      "metadata": {
        "id": "IjK7jX5yOAFW",
        "colab_type": "code",
        "outputId": "bfcd45a3-a17e-4dd6-ded0-87eac5376896",
        "colab": {
          "base_uri": "https://localhost:8080/",
          "height": 35
        }
      },
      "source": [
        "theta = serialize(t1, t2)  # 扁平化参数，25*401+10*26=10285\n",
        "theta.shape"
      ],
      "execution_count": 22,
      "outputs": [
        {
          "output_type": "execute_result",
          "data": {
            "text/plain": [
              "(10285,)"
            ]
          },
          "metadata": {
            "tags": []
          },
          "execution_count": 22
        }
      ]
    },
    {
      "cell_type": "markdown",
      "metadata": {
        "id": "0feWA4kFOAFX",
        "colab_type": "text"
      },
      "source": [
        "# feed forward（前向传播）\n",
        "> (400 + 1) -> (25 + 1) -> (10)\n",
        "\n",
        "<img style=\"float: left;\" src=\"https://github.com/fengdu78/Coursera-ML-AndrewNg-Notes/blob/master/code/img/nn_model.png?raw=1\">"
      ]
    },
    {
      "cell_type": "markdown",
      "metadata": {
        "id": "ePTmzIKhQW4i",
        "colab_type": "text"
      },
      "source": [
        "<font face=楷体 color=green size=4>**绿色链接：**</font>  \n",
        "【1】[numpy.insert](http://doc.codingdict.com/NumPy_v111/reference/generated/numpy.insert.html)"
      ]
    },
    {
      "cell_type": "code",
      "metadata": {
        "id": "hRY68KouOAFY",
        "colab_type": "code",
        "colab": {}
      },
      "source": [
        "def feed_forward(theta, X):\n",
        "    \"\"\"apply to architecture 400+1 * 25+1 *10\n",
        "    X: 5000 * 401\n",
        "    \"\"\"\n",
        "\n",
        "    t1, t2 = deserialize(theta)  # t1: (25,401) t2: (10,26)\n",
        "    m = X.shape[0]\n",
        "    a1 = X  # 5000 * 401\n",
        "\n",
        "    z2 = a1 @ t1.T  # 5000 * 25\n",
        "    a2 = np.insert(sigmoid(z2), 0, np.ones(m), axis=1)  # 5000*26\n",
        "\n",
        "    z3 = a2 @ t2.T  # 5000 * 10\n",
        "    h = sigmoid(z3)  # 5000*10, this is h_theta(X)\n",
        "\n",
        "    return a1, z2, a2, z3, h  # you need all those for backprop"
      ],
      "execution_count": 0,
      "outputs": []
    },
    {
      "cell_type": "code",
      "metadata": {
        "id": "N4WjCAnyOAFZ",
        "colab_type": "code",
        "colab": {}
      },
      "source": [
        "def sigmoid(z):\n",
        "    return 1 / (1 + np.exp(-z))\n"
      ],
      "execution_count": 0,
      "outputs": []
    },
    {
      "cell_type": "code",
      "metadata": {
        "id": "F_vLcPZWOAFb",
        "colab_type": "code",
        "colab": {}
      },
      "source": [
        "def deserialize(seq):\n",
        "#     \"\"\"into ndarray of (25, 401), (10, 26)\"\"\"\n",
        "    return seq[:25 * 401].reshape(25, 401), seq[25 * 401:].reshape(10, 26)\n"
      ],
      "execution_count": 0,
      "outputs": []
    },
    {
      "cell_type": "code",
      "metadata": {
        "id": "j17br46JOAFc",
        "colab_type": "code",
        "outputId": "a80dac37-ee89-4244-e253-a0c72579a7cd",
        "colab": {
          "base_uri": "https://localhost:8080/",
          "height": 251
        }
      },
      "source": [
        "_, _, _, _, h = feed_forward(theta, X)\n",
        "h # 5000*10"
      ],
      "execution_count": 26,
      "outputs": [
        {
          "output_type": "execute_result",
          "data": {
            "text/plain": [
              "array([[1.12661530e-04, 1.74127856e-03, 2.52696959e-03, ...,\n",
              "        4.01468105e-04, 6.48072305e-03, 9.95734012e-01],\n",
              "       [4.79026796e-04, 2.41495958e-03, 3.44755685e-03, ...,\n",
              "        2.39107046e-03, 1.97025086e-03, 9.95696931e-01],\n",
              "       [8.85702310e-05, 3.24266731e-03, 2.55419797e-02, ...,\n",
              "        6.22892325e-02, 5.49803551e-03, 9.28008397e-01],\n",
              "       ...,\n",
              "       [5.17641791e-02, 3.81715020e-03, 2.96297510e-02, ...,\n",
              "        2.15667361e-03, 6.49826950e-01, 2.42384687e-05],\n",
              "       [8.30631310e-04, 6.22003774e-04, 3.14518512e-04, ...,\n",
              "        1.19366192e-02, 9.71410499e-01, 2.06173648e-04],\n",
              "       [4.81465717e-05, 4.58821829e-04, 2.15146201e-05, ...,\n",
              "        5.73434571e-03, 6.96288990e-01, 8.18576980e-02]])"
            ]
          },
          "metadata": {
            "tags": []
          },
          "execution_count": 26
        }
      ]
    },
    {
      "cell_type": "markdown",
      "metadata": {
        "id": "tYtG1PGPOAFd",
        "colab_type": "text"
      },
      "source": [
        "# 代价函数  \n",
        "$$\\begin{align}\n",
        "  J\\left( \\theta  \\right) =\\frac{1}{m}\\sum\\limits_{i=1}^{m}\\sum^K_{k=1}{\\left[-{{y}_k^{(i)}}(\\log ( {{h}_{\\theta }}( {{x}^{(i)}}))_k)-( 1-{{y}_k^{(i)}} )\\log ( 1-({{h}_{\\theta }}( {{x}^{(i)}} ))_k)\\right]} \\quad\\quad \n",
        "y,h_{\\theta} \\in R^{5000 \\times 10}\n",
        "\\end{align}$$ \n"
      ]
    },
    {
      "cell_type": "code",
      "metadata": {
        "id": "upanFvLvOAFe",
        "colab_type": "code",
        "colab": {}
      },
      "source": [
        "def cost(theta, X, y):\n",
        "#     \"\"\"calculate cost\n",
        "#     y: (m, k) ndarray\n",
        "#     \"\"\"\n",
        "    m = X.shape[0]  # get the data size m\n",
        "\n",
        "    _, _, _, _, h = feed_forward(theta, X)\n",
        "\n",
        "    # np.multiply is pairwise operation\n",
        "    pair_computation = -np.multiply(y, np.log(h)) - np.multiply((1 - y), np.log(1 - h))\n",
        "\n",
        "    return pair_computation.sum() / m\n"
      ],
      "execution_count": 0,
      "outputs": []
    },
    {
      "cell_type": "code",
      "metadata": {
        "id": "nXPn8MrpOAFh",
        "colab_type": "code",
        "outputId": "1ec1d2ae-8bd4-4a16-94da-607f71b2f463",
        "colab": {
          "base_uri": "https://localhost:8080/",
          "height": 35
        }
      },
      "source": [
        "cost(theta, X, y)"
      ],
      "execution_count": 28,
      "outputs": [
        {
          "output_type": "execute_result",
          "data": {
            "text/plain": [
              "0.2876291651613189"
            ]
          },
          "metadata": {
            "tags": []
          },
          "execution_count": 28
        }
      ]
    },
    {
      "cell_type": "markdown",
      "metadata": {
        "id": "GzFwxTvSOAFk",
        "colab_type": "text"
      },
      "source": [
        "# 正则化代价函数  \n",
        "\n",
        "$$\\begin{align}\n",
        "  J\\left( \\theta  \\right) =\\frac{1}{m}\\sum\\limits_{i=1}^{m}\\sum^K_{k=1}{\\left[-{{y}_k^{(i)}}(\\log ( {{h}_{\\theta }}( {{x}^{(i)}}))_k)-( 1-{{y}_k^{(i)}} )\\log ( 1-({{h}_{\\theta }}( {{x}^{(i)}} ))_k)\\right]} + \\frac{\\lambda}{2m} \\left[\\sum^{25}_{j=1}\\sum^{400}_{k=1}(\\Theta_{j,k}^{(1)})^2 + \\sum^{10}_{j=1}\\sum^{25}_{k=1}(\\Theta_{j,k}^{(2)})^2\\right]\n",
        "\\end{align}$$   \n",
        "\n",
        "<font face=楷体 color=skyblue size=4>$t1、t2$的第一列是截距$\\theta$，正则化的时候就不用管</font>"
      ]
    },
    {
      "cell_type": "code",
      "metadata": {
        "id": "2nDL-NP4OAFl",
        "colab_type": "code",
        "colab": {}
      },
      "source": [
        "def regularized_cost(theta, X, y, l=1):\n",
        "    \"\"\"the first column of t1 and t2 is intercept theta, ignore them when you do regularization\"\"\"\n",
        "    t1, t2 = deserialize(theta)  # t1: (25,401) t2: (10,26)\n",
        "    m = X.shape[0]\n",
        "\n",
        "    reg_t1 = (l / (2 * m)) * np.power(t1[:, 1:], 2).sum()  # this is how you ignore first col\n",
        "    reg_t2 = (l / (2 * m)) * np.power(t2[:, 1:], 2).sum()\n",
        "\n",
        "    return cost(theta, X, y) + reg_t1 + reg_t2\n"
      ],
      "execution_count": 0,
      "outputs": []
    },
    {
      "cell_type": "code",
      "metadata": {
        "scrolled": true,
        "id": "FgtweKgaOAFo",
        "colab_type": "code",
        "outputId": "0c81fb2c-ee2a-40d3-8459-68d3036e9a34",
        "colab": {}
      },
      "source": [
        "regularized_cost(theta, X, y)"
      ],
      "execution_count": 0,
      "outputs": [
        {
          "output_type": "execute_result",
          "data": {
            "text/plain": [
              "0.38376985909092365"
            ]
          },
          "metadata": {
            "tags": []
          },
          "execution_count": 30
        }
      ]
    },
    {
      "cell_type": "markdown",
      "metadata": {
        "id": "8N1s0L4wOAFp",
        "colab_type": "text"
      },
      "source": [
        "# 反向传播"
      ]
    },
    {
      "cell_type": "markdown",
      "metadata": {
        "id": "Cs4TVLueOAFq",
        "colab_type": "text"
      },
      "source": [
        "<font face=楷体 color=skyblue size=4>读取数据和权重过程与前向传播相同</font>"
      ]
    },
    {
      "cell_type": "code",
      "metadata": {
        "id": "iv1LH9zhOAFq",
        "colab_type": "code",
        "outputId": "e9f9006b-0329-40e5-cbb3-bb037caf2892",
        "colab": {
          "base_uri": "https://localhost:8080/",
          "height": 35
        }
      },
      "source": [
        "X.shape, y.shape"
      ],
      "execution_count": 29,
      "outputs": [
        {
          "output_type": "execute_result",
          "data": {
            "text/plain": [
              "((5000, 401), (5000, 10))"
            ]
          },
          "metadata": {
            "tags": []
          },
          "execution_count": 29
        }
      ]
    },
    {
      "cell_type": "code",
      "metadata": {
        "id": "00XI5w-GOAFu",
        "colab_type": "code",
        "outputId": "f2cec0dd-a0c8-4d35-f348-a569fdb2392c",
        "colab": {
          "base_uri": "https://localhost:8080/",
          "height": 35
        }
      },
      "source": [
        "t1.shape, t2.shape"
      ],
      "execution_count": 30,
      "outputs": [
        {
          "output_type": "execute_result",
          "data": {
            "text/plain": [
              "((25, 401), (10, 26))"
            ]
          },
          "metadata": {
            "tags": []
          },
          "execution_count": 30
        }
      ]
    },
    {
      "cell_type": "code",
      "metadata": {
        "id": "FQGuHxSFOAFv",
        "colab_type": "code",
        "outputId": "085d96f9-9b9e-4014-adc0-390056b58efc",
        "colab": {
          "base_uri": "https://localhost:8080/",
          "height": 35
        }
      },
      "source": [
        "theta.shape"
      ],
      "execution_count": 31,
      "outputs": [
        {
          "output_type": "execute_result",
          "data": {
            "text/plain": [
              "(10285,)"
            ]
          },
          "metadata": {
            "tags": []
          },
          "execution_count": 31
        }
      ]
    },
    {
      "cell_type": "code",
      "metadata": {
        "id": "4jxe94ENOAFw",
        "colab_type": "code",
        "colab": {}
      },
      "source": [
        "def sigmoid_gradient(z):\n",
        "    \"\"\"\n",
        "    pairwise op is key for this to work on both vector and matrix\n",
        "    \"\"\"\n",
        "    return np.multiply(sigmoid(z), 1 - sigmoid(z))"
      ],
      "execution_count": 0,
      "outputs": []
    },
    {
      "cell_type": "code",
      "metadata": {
        "id": "UYlWv4KTOAFx",
        "colab_type": "code",
        "outputId": "28619a7f-5c50-4414-9ba9-ebc5686c40b1",
        "colab": {
          "base_uri": "https://localhost:8080/",
          "height": 35
        }
      },
      "source": [
        "sigmoid_gradient(0)"
      ],
      "execution_count": 33,
      "outputs": [
        {
          "output_type": "execute_result",
          "data": {
            "text/plain": [
              "0.25"
            ]
          },
          "metadata": {
            "tags": []
          },
          "execution_count": 33
        }
      ]
    },
    {
      "cell_type": "markdown",
      "metadata": {
        "id": "N0NCfApeOAFy",
        "colab_type": "text"
      },
      "source": [
        "# $\\theta$ 梯度"
      ]
    },
    {
      "cell_type": "code",
      "metadata": {
        "id": "MR9p56dOOAF0",
        "colab_type": "code",
        "colab": {}
      },
      "source": [
        "def gradient(theta, X, y):\n",
        "    # initialize\n",
        "    t1, t2 = deserialize(theta)  # t1: (25,401) t2: (10,26)\n",
        "    m = X.shape[0]\n",
        "\n",
        "    delta1 = np.zeros(t1.shape)  # (25, 401)\n",
        "    delta2 = np.zeros(t2.shape)  # (10, 26)\n",
        "\n",
        "    a1, z2, a2, z3, h = feed_forward(theta, X)\n",
        "\n",
        "    for i in range(m):\n",
        "        a1i = a1[i, :]  # (1, 401)\n",
        "        z2i = z2[i, :]  # (1, 25)\n",
        "        a2i = a2[i, :]  # (1, 26)\n",
        "\n",
        "        hi = h[i, :]    # (1, 10)\n",
        "        yi = y[i, :]    # (1, 10)\n",
        "\n",
        "        d3i = hi - yi  # (1, 10)\n",
        "\n",
        "        z2i = np.insert(z2i, 0, np.ones(1))  # make it (1, 26) to compute d2i\n",
        "        d2i = np.multiply(t2.T @ d3i, sigmoid_gradient(z2i))  # (1, 26)\n",
        "\n",
        "        # careful with np vector transpose\n",
        "        delta2 += np.matrix(d3i).T @ np.matrix(a2i)  # (1, 10).T @ (1, 26) -> (10, 26)\n",
        "        delta1 += np.matrix(d2i[1:]).T @ np.matrix(a1i)  # (1, 25).T @ (1, 401) -> (25, 401)\n",
        "\n",
        "    delta1 = delta1 / m\n",
        "    delta2 = delta2 / m\n",
        "\n",
        "    return serialize(delta1, delta2)"
      ],
      "execution_count": 0,
      "outputs": []
    },
    {
      "cell_type": "code",
      "metadata": {
        "id": "HpG2Hd2QOAF1",
        "colab_type": "code",
        "colab": {}
      },
      "source": [
        "d1, d2 = deserialize(gradient(theta, X, y))"
      ],
      "execution_count": 0,
      "outputs": []
    },
    {
      "cell_type": "code",
      "metadata": {
        "id": "DH0z_t4tOAF4",
        "colab_type": "code",
        "outputId": "0c733d14-844b-4ec8-bfec-17cea715ae12",
        "colab": {}
      },
      "source": [
        "d1.shape, d2.shape"
      ],
      "execution_count": 0,
      "outputs": [
        {
          "output_type": "execute_result",
          "data": {
            "text/plain": [
              "((25, 401), (10, 26))"
            ]
          },
          "metadata": {
            "tags": []
          },
          "execution_count": 45
        }
      ]
    },
    {
      "cell_type": "markdown",
      "metadata": {
        "id": "0_PxR15rOAF6",
        "colab_type": "text"
      },
      "source": [
        "# 梯度校验  \n",
        "\n",
        "$$f_i(\\theta)\\approx\\frac{J(\\theta^{i+})-J(\\theta^{i-})}{2\\epsilon}$$"
      ]
    },
    {
      "cell_type": "code",
      "metadata": {
        "id": "5HH0FDPoOAF7",
        "colab_type": "code",
        "colab": {}
      },
      "source": [
        "def gradient_checking(theta, X, y, epsilon, regularized=False):\n",
        "    def a_numeric_grad(plus, minus, regularized=False):\n",
        "        \"\"\"calculate a partial gradient with respect to 1 theta\"\"\"\n",
        "        if regularized:\n",
        "            return (regularized_cost(plus, X, y) - regularized_cost(minus, X, y)) / (epsilon * 2)\n",
        "        else:\n",
        "            return (cost(plus, X, y) - cost(minus, X, y)) / (epsilon * 2)\n",
        "\n",
        "    theta_matrix = expand_array(theta)  # expand to (10285, 10285)\n",
        "    epsilon_matrix = np.identity(len(theta)) * epsilon\n",
        "\n",
        "    plus_matrix = theta_matrix + epsilon_matrix\n",
        "    minus_matrix = theta_matrix - epsilon_matrix\n",
        "\n",
        "    # calculate numerical gradient with respect to all theta\n",
        "    numeric_grad = np.array([a_numeric_grad(plus_matrix[i], minus_matrix[i], regularized)\n",
        "                                    for i in range(len(theta))])\n",
        "\n",
        "    # analytical grad will depend on if you want it to be regularized or not\n",
        "    analytic_grad = regularized_gradient(theta, X, y) if regularized else gradient(theta, X, y)\n",
        "\n",
        "    # If you have a correct implementation, and assuming you used EPSILON = 0.0001\n",
        "    # the diff below should be less than 1e-9\n",
        "    # this is how original matlab code do gradient checking\n",
        "    diff = np.linalg.norm(numeric_grad - analytic_grad) / np.linalg.norm(numeric_grad + analytic_grad)\n",
        "\n",
        "    print('If your backpropagation implementation is correct,\\nthe relative difference will be smaller than 10e-9 (assume epsilon=0.0001).\\nRelative Difference: {}\\n'.format(diff))\n"
      ],
      "execution_count": 0,
      "outputs": []
    },
    {
      "cell_type": "code",
      "metadata": {
        "id": "WK7SddtAOAF9",
        "colab_type": "code",
        "colab": {}
      },
      "source": [
        "def expand_array(arr):\n",
        "    \"\"\"replicate array into matrix\n",
        "    [1, 2, 3]\n",
        "\n",
        "    [[1, 2, 3],\n",
        "     [1, 2, 3],\n",
        "     [1, 2, 3]]\n",
        "    \"\"\"\n",
        "    # turn matrix back to ndarray\n",
        "    return np.array(np.matrix(np.ones(arr.shape[0])).T @ np.matrix(arr))\n"
      ],
      "execution_count": 0,
      "outputs": []
    },
    {
      "cell_type": "code",
      "metadata": {
        "scrolled": true,
        "id": "GdmUyXBXOAF-",
        "colab_type": "code",
        "outputId": "47e7d858-74f3-4b9e-d84e-57d611f89725",
        "colab": {}
      },
      "source": [
        "gradient_checking(theta, X, y, epsilon= 0.0001)#这个运行很慢，谨慎运行"
      ],
      "execution_count": 0,
      "outputs": [
        {
          "output_type": "stream",
          "text": [
            "If your backpropagation implementation is correct,\n",
            "the relative difference will be smaller than 10e-9 (assume epsilon=0.0001).\n",
            "Relative Difference: 2.1455623285988868e-09\n",
            "\n"
          ],
          "name": "stdout"
        }
      ]
    },
    {
      "cell_type": "markdown",
      "metadata": {
        "id": "7lATBKpFOAGA",
        "colab_type": "text"
      },
      "source": [
        "# regularized gradient\n",
        "Use normal gradient + regularized term"
      ]
    },
    {
      "cell_type": "markdown",
      "metadata": {
        "id": "1F0B4L4QOAGA",
        "colab_type": "text"
      },
      "source": [
        "<img style=\"float: left;\" src=\"https://github.com/fengdu78/Coursera-ML-AndrewNg-Notes/blob/master/code/img/nn_reg_grad.png?raw=1\">"
      ]
    },
    {
      "cell_type": "code",
      "metadata": {
        "id": "Oas02bGmOAGA",
        "colab_type": "code",
        "colab": {}
      },
      "source": [
        "def regularized_gradient(theta, X, y, l=1):\n",
        "    \"\"\"don't regularize theta of bias terms\"\"\"\n",
        "    m = X.shape[0]\n",
        "    delta1, delta2 = deserialize(gradient(theta, X, y))\n",
        "    t1, t2 = deserialize(theta)\n",
        "\n",
        "    t1[:, 0] = 0\n",
        "    reg_term_d1 = (l / m) * t1\n",
        "    delta1 = delta1 + reg_term_d1\n",
        "\n",
        "    t2[:, 0] = 0\n",
        "    reg_term_d2 = (l / m) * t2\n",
        "    delta2 = delta2 + reg_term_d2\n",
        "\n",
        "    return serialize(delta1, delta2)"
      ],
      "execution_count": 0,
      "outputs": []
    },
    {
      "cell_type": "code",
      "metadata": {
        "id": "NrauKdhDOAGC",
        "colab_type": "code",
        "outputId": "42acd4b3-5eb1-42f7-8e24-b5c052661a25",
        "colab": {}
      },
      "source": [
        "gradient_checking(theta, X, y, epsilon=0.0001, regularized=True)#这个运行很慢，谨慎运行"
      ],
      "execution_count": 0,
      "outputs": [
        {
          "output_type": "stream",
          "text": [
            "If your backpropagation implementation is correct,\n",
            "the relative difference will be smaller than 10e-9 (assume epsilon=0.0001).\n",
            "Relative Difference: 3.1905824084956572e-09\n",
            "\n"
          ],
          "name": "stdout"
        }
      ]
    },
    {
      "cell_type": "markdown",
      "metadata": {
        "id": "s_iUM3_mOAGG",
        "colab_type": "text"
      },
      "source": [
        "# ready to train the model"
      ]
    },
    {
      "cell_type": "markdown",
      "metadata": {
        "id": "_WCiEoxOOAGH",
        "colab_type": "text"
      },
      "source": [
        " remember to randomly initlized the parameters to break symmetry\n",
        "\n",
        "take a look at the doc of this argument: `jac`\n",
        "\n",
        ">jac : bool or callable, optional\n",
        "Jacobian (gradient) of objective function. Only for CG, BFGS, Newton-CG, L-BFGS-B, TNC, SLSQP, dogleg, trust-ncg. **If jac is a Boolean and is True, fun is assumed to return the gradient along with the objective function.** If False, the gradient will be estimated numerically. jac can also be a callable returning the gradient of the objective. In this case, it must accept the same arguments as fun.\n",
        "\n",
        "it means if your `backprop` function return `(cost, grad)`, you could set `jac=True`  \n",
        "\n",
        "This is the implementation of http://nbviewer.jupyter.org/github/jdwittenauer/ipython-notebooks/blob/master/notebooks/ml/ML-Exercise4.ipynb\n",
        "\n",
        "but I choose to seperate them"
      ]
    },
    {
      "cell_type": "code",
      "metadata": {
        "id": "bgCyvL0XOAGH",
        "colab_type": "code",
        "colab": {}
      },
      "source": [
        "def random_init(size):\n",
        "    return np.random.uniform(-0.12, 0.12, size)\n"
      ],
      "execution_count": 0,
      "outputs": []
    },
    {
      "cell_type": "code",
      "metadata": {
        "id": "a2bWu9oaOAGI",
        "colab_type": "code",
        "colab": {}
      },
      "source": [
        "def nn_training(X, y):\n",
        "    \"\"\"regularized version\n",
        "    the architecture is hard coded here... won't generalize\n",
        "    \"\"\"\n",
        "    init_theta = random_init(10285)  # 25*401 + 10*26\n",
        "\n",
        "    res = opt.minimize(fun=regularized_cost,\n",
        "                       x0=init_theta,\n",
        "                       args=(X, y, 1),\n",
        "                       method='TNC',\n",
        "                       jac=regularized_gradient,\n",
        "                       options={'maxiter': 400})\n",
        "    return res"
      ],
      "execution_count": 0,
      "outputs": []
    },
    {
      "cell_type": "code",
      "metadata": {
        "scrolled": true,
        "id": "sBqSXLpLOAGJ",
        "colab_type": "code",
        "outputId": "04684f83-45be-42b2-cda8-6281d4de5af1",
        "colab": {}
      },
      "source": [
        "res = nn_training(X, y)#慢\n",
        "res"
      ],
      "execution_count": 0,
      "outputs": [
        {
          "output_type": "execute_result",
          "data": {
            "text/plain": [
              "     fun: 0.31677973007087407\n",
              "     jac: array([ -4.85498059e-05,   1.52435475e-09,  -2.42237461e-08, ...,\n",
              "         5.36244893e-05,   5.82601644e-05,   7.84943560e-05])\n",
              " message: 'Max. number of function evaluations reached'\n",
              "    nfev: 400\n",
              "     nit: 28\n",
              "  status: 3\n",
              " success: False\n",
              "       x: array([  0.00000000e+00,   7.62177373e-06,  -1.21118731e-04, ...,\n",
              "        -1.12048523e+00,  -1.00430109e+00,   1.42107038e+00])"
            ]
          },
          "metadata": {
            "tags": []
          },
          "execution_count": 58
        }
      ]
    },
    {
      "cell_type": "markdown",
      "metadata": {
        "id": "DM0uzpA5OAGL",
        "colab_type": "text"
      },
      "source": [
        "# 显示准确率"
      ]
    },
    {
      "cell_type": "code",
      "metadata": {
        "id": "uZAclVyhOAGN",
        "colab_type": "code",
        "outputId": "c0c03148-193f-4913-c357-53a3908a3c12",
        "colab": {}
      },
      "source": [
        "_, y_answer = load_data('ex4data1.mat')\n",
        "y_answer[:20]"
      ],
      "execution_count": 0,
      "outputs": [
        {
          "output_type": "execute_result",
          "data": {
            "text/plain": [
              "array([10, 10, 10, 10, 10, 10, 10, 10, 10, 10, 10, 10, 10, 10, 10, 10, 10,\n",
              "       10, 10, 10], dtype=uint8)"
            ]
          },
          "metadata": {
            "tags": []
          },
          "execution_count": 59
        }
      ]
    },
    {
      "cell_type": "code",
      "metadata": {
        "id": "gQthmG0-OAGT",
        "colab_type": "code",
        "colab": {}
      },
      "source": [
        "final_theta = res.x"
      ],
      "execution_count": 0,
      "outputs": []
    },
    {
      "cell_type": "code",
      "metadata": {
        "id": "_n-B-mYROAGW",
        "colab_type": "code",
        "colab": {}
      },
      "source": [
        "def show_accuracy(theta, X, y):\n",
        "    _, _, _, _, h = feed_forward(theta, X)\n",
        "\n",
        "    y_pred = np.argmax(h, axis=1) + 1\n",
        "\n",
        "    print(classification_report(y, y_pred))\n",
        "\n"
      ],
      "execution_count": 0,
      "outputs": []
    },
    {
      "cell_type": "markdown",
      "metadata": {
        "id": "1CsHYDmeOAGX",
        "colab_type": "text"
      },
      "source": [
        "# 显示隐藏层"
      ]
    },
    {
      "cell_type": "code",
      "metadata": {
        "id": "-QWYnP4tOAGX",
        "colab_type": "code",
        "colab": {}
      },
      "source": [
        "def plot_hidden_layer(theta):\n",
        "    \"\"\"\n",
        "    theta: (10285, )\n",
        "    \"\"\"\n",
        "    final_theta1, _ = deserialize(theta)\n",
        "    hidden_layer = final_theta1[:, 1:]  # ger rid of bias term theta\n",
        "\n",
        "    fig, ax_array = plt.subplots(nrows=5, ncols=5, sharey=True, sharex=True, figsize=(5, 5))\n",
        "\n",
        "    for r in range(5):\n",
        "        for c in range(5):\n",
        "            ax_array[r, c].matshow(hidden_layer[5 * r + c].reshape((20, 20)),\n",
        "                                   cmap=matplotlib.cm.binary)\n",
        "            plt.xticks(np.array([]))\n",
        "            plt.yticks(np.array([]))\n",
        "\n",
        "\n",
        "# nn functions starts here ---------------------------\n",
        "# ps. all the y here is expanded version (5000,10)"
      ],
      "execution_count": 0,
      "outputs": []
    },
    {
      "cell_type": "code",
      "metadata": {
        "id": "2MnIGCc7OAGY",
        "colab_type": "code",
        "outputId": "86c6d0e8-7b4b-4482-d0ad-3cca55d5c478",
        "colab": {}
      },
      "source": [
        "plot_hidden_layer(final_theta)\n",
        "plt.show()"
      ],
      "execution_count": 0,
      "outputs": [
        {
          "output_type": "display_data",
          "data": {
            "image/png": "[encoded data removed]",
            "text/plain": [
              "<matplotlib.figure.Figure at 0x8e2e400>"
            ]
          },
          "metadata": {
            "tags": []
          }
        }
      ]
    },
    {
      "cell_type": "code",
      "metadata": {
        "id": "IGYVKGxROAGc",
        "colab_type": "code",
        "colab": {}
      },
      "source": [
        ""
      ],
      "execution_count": 0,
      "outputs": []
    }
  ]
}