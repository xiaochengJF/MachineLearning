{
  "nbformat": 4,
  "nbformat_minor": 0,
  "metadata": {
    "anaconda-cloud": {},
    "kernelspec": {
      "display_name": "Python 3",
      "language": "python",
      "name": "python3"
    },
    "language_info": {
      "codemirror_mode": {
        "name": "ipython",
        "version": 3
      },
      "file_extension": ".py",
      "mimetype": "text/x-python",
      "name": "python",
      "nbconvert_exporter": "python",
      "pygments_lexer": "ipython3",
      "version": "3.7.0"
    },
    "colab": {
      "name": "Ex3_ Neural Network",
      "provenance": [],
      "collapsed_sections": [],
      "include_colab_link": true
    }
  },
  "cells": [
    {
      "cell_type": "markdown",
      "metadata": {
        "id": "view-in-github",
        "colab_type": "text"
      },
      "source": [
        "<a href=\"https://colab.research.google.com/github/xiaochengJF/MachineLearning/blob/master/Ex3__Neural_Network.ipynb\" target=\"_parent\"><img src=\"https://colab.research.google.com/assets/colab-badge.svg\" alt=\"Open In Colab\"/></a>"
      ]
    },
    {
      "cell_type": "code",
      "metadata": {
        "id": "8Fvr_6xlHaFI",
        "colab_type": "code",
        "colab": {
          "base_uri": "https://localhost:8080/",
          "height": 127
        },
        "outputId": "7d335076-fc10-42fe-a17e-2cdbbcfba872"
      },
      "source": [
        "from google.colab import drive\n",
        "drive.mount('/content/drive')"
      ],
      "execution_count": 1,
      "outputs": [
        {
          "output_type": "stream",
          "text": [
            "Go to this URL in a browser: https://accounts.google.com/o/oauth2/auth?client_id=947318989803-6bn6qk8qdgf4n4g3pfee6491hc0brc4i.apps.googleusercontent.com&redirect_uri=urn%3Aietf%3Awg%3Aoauth%3A2.0%3Aoob&scope=email%20https%3A%2F%2Fwww.googleapis.com%2Fauth%2Fdocs.test%20https%3A%2F%2Fwww.googleapis.com%2Fauth%2Fdrive%20https%3A%2F%2Fwww.googleapis.com%2Fauth%2Fdrive.photos.readonly%20https%3A%2F%2Fwww.googleapis.com%2Fauth%2Fpeopleapi.readonly&response_type=code\n",
            "\n",
            "Enter your authorization code:\n",
            "··········\n",
            "Mounted at /content/drive\n"
          ],
          "name": "stdout"
        }
      ]
    },
    {
      "cell_type": "code",
      "metadata": {
        "id": "A9e5KnYwHp2t",
        "colab_type": "code",
        "colab": {
          "base_uri": "https://localhost:8080/",
          "height": 35
        },
        "outputId": "8a133d7d-ac32-45d3-9c8a-b45454e11b6d"
      },
      "source": [
        "cd /content/drive/My Drive/MachineLearning/ex3-neural network"
      ],
      "execution_count": 2,
      "outputs": [
        {
          "output_type": "stream",
          "text": [
            "/content/drive/My Drive/MachineLearning/ex3-neural network\n"
          ],
          "name": "stdout"
        }
      ]
    },
    {
      "cell_type": "markdown",
      "metadata": {
        "id": "sTV3j4zRdA27",
        "colab_type": "text"
      },
      "source": [
        "# neural network（神经网络）"
      ]
    },
    {
      "cell_type": "code",
      "metadata": {
        "id": "_iKxI-QxdA2-",
        "colab_type": "code",
        "colab": {}
      },
      "source": [
        "import matplotlib.pyplot as plt\n",
        "import numpy as np\n",
        "import scipy.io as sio\n",
        "import matplotlib\n",
        "import scipy.optimize as opt\n",
        "from sklearn.metrics import classification_report  # 这个包是评价报告"
      ],
      "execution_count": 0,
      "outputs": []
    },
    {
      "cell_type": "code",
      "metadata": {
        "id": "V6bMjK7FdA3C",
        "colab_type": "code",
        "colab": {}
      },
      "source": [
        "def load_data(path, transpose=True):\n",
        "    data = sio.loadmat(path)\n",
        "    y = data.get('y')  # (5000,1)\n",
        "    y = y.reshape(y.shape[0])  # make it back to column vector\n",
        "\n",
        "    X = data.get('X')  # (5000,400)\n",
        "\n",
        "    if transpose:\n",
        "        # for this dataset, you need a transpose to get the orientation right\n",
        "        X = np.array([im.reshape((20, 20)).T for im in X])\n",
        "\n",
        "        # and I flat the image again to preserve the vector presentation\n",
        "        X = np.array([im.reshape(400) for im in X])\n",
        "\n",
        "    return X, y"
      ],
      "execution_count": 0,
      "outputs": []
    },
    {
      "cell_type": "code",
      "metadata": {
        "id": "Q1RwQCladA3F",
        "colab_type": "code",
        "outputId": "f3aa18ba-4c77-4a0c-d225-c693b2844c1f",
        "colab": {
          "base_uri": "https://localhost:8080/",
          "height": 53
        }
      },
      "source": [
        "X, y = load_data('ex3data1.mat')\n",
        "\n",
        "print(X.shape)\n",
        "print(y.shape)"
      ],
      "execution_count": 9,
      "outputs": [
        {
          "output_type": "stream",
          "text": [
            "(5000, 400)\n",
            "(5000,)\n"
          ],
          "name": "stdout"
        }
      ]
    },
    {
      "cell_type": "code",
      "metadata": {
        "id": "sJFR33yddA3J",
        "colab_type": "code",
        "colab": {}
      },
      "source": [
        "#绘图函数\n",
        "def plot_an_image(image):\n",
        "    \"\"\"\n",
        "    image : (400,)\n",
        "    \"\"\"\n",
        "    fig, ax = plt.subplots(figsize=(1, 1))\n",
        "    ax.matshow(image.reshape((20, 20)), cmap=matplotlib.cm.binary)\n",
        "    plt.xticks(np.array([]))  # just get rid of ticks\n",
        "    plt.yticks(np.array([]))"
      ],
      "execution_count": 0,
      "outputs": []
    },
    {
      "cell_type": "code",
      "metadata": {
        "id": "EwTjnGbEdA3M",
        "colab_type": "code",
        "outputId": "51269d4a-d75d-4c11-e458-c98779ad81e1",
        "colab": {
          "base_uri": "https://localhost:8080/",
          "height": 111
        }
      },
      "source": [
        "pick_one = np.random.randint(0, 5000)\n",
        "plot_an_image(X[pick_one, :])\n",
        "plt.show()\n",
        "print('this should be {}'.format(y[pick_one]))"
      ],
      "execution_count": 11,
      "outputs": [
        {
          "output_type": "display_data",
          "data": {
            "image/png": "[encoded data removed]",
            "text/plain": [
              "<Figure size 72x72 with 1 Axes>"
            ]
          },
          "metadata": {
            "tags": []
          }
        },
        {
          "output_type": "stream",
          "text": [
            "this should be 8\n"
          ],
          "name": "stdout"
        }
      ]
    },
    {
      "cell_type": "code",
      "metadata": {
        "id": "IyjB5hFfdA3P",
        "colab_type": "code",
        "colab": {}
      },
      "source": [
        "# 绘图函数，画100张图片\n",
        "def plot_100_image(X):\n",
        "    \"\"\" sample 100 image and show them\n",
        "    assume the image is square\n",
        "\n",
        "    X : (5000, 400)\n",
        "    \"\"\"\n",
        "    size = int(np.sqrt(X.shape[1]))\n",
        "\n",
        "    # sample 100 image, reshape, reorg it\n",
        "    sample_idx = np.random.choice(np.arange(X.shape[0]), 100)  # 100*400\n",
        "    sample_images = X[sample_idx, :]\n",
        "\n",
        "    fig, ax_array = plt.subplots(nrows=10, ncols=10, sharey=True, sharex=True, figsize=(8, 8))\n",
        "\n",
        "    for r in range(10):\n",
        "        for c in range(10):\n",
        "            ax_array[r, c].matshow(sample_images[10 * r + c].reshape((size, size)),\n",
        "                                   cmap=matplotlib.cm.binary)\n",
        "            plt.xticks(np.array([]))\n",
        "            plt.yticks(np.array([]))  "
      ],
      "execution_count": 0,
      "outputs": []
    },
    {
      "cell_type": "code",
      "metadata": {
        "id": "99EYLidEdA3S",
        "colab_type": "code",
        "outputId": "c06c1635-2898-46cd-f109-301e5d676d7c",
        "colab": {
          "base_uri": "https://localhost:8080/",
          "height": 473
        }
      },
      "source": [
        "plot_100_image(X)\n",
        "plt.show()"
      ],
      "execution_count": 13,
      "outputs": [
        {
          "output_type": "display_data",
          "data": {
            "image/png": "[encoded data removed]",
            "text/plain": [
              "<Figure size 576x576 with 100 Axes>"
            ]
          },
          "metadata": {
            "tags": []
          }
        }
      ]
    },
    {
      "cell_type": "code",
      "metadata": {
        "id": "jKwQXaXZdA3V",
        "colab_type": "code",
        "outputId": "a296a297-6cb8-4def-862e-d6a7dc72ed25",
        "colab": {
          "base_uri": "https://localhost:8080/",
          "height": 53
        }
      },
      "source": [
        "raw_X, raw_y = load_data('ex3data1.mat')\n",
        "print(raw_X.shape)\n",
        "print(raw_y.shape)"
      ],
      "execution_count": 14,
      "outputs": [
        {
          "output_type": "stream",
          "text": [
            "(5000, 400)\n",
            "(5000,)\n"
          ],
          "name": "stdout"
        }
      ]
    },
    {
      "cell_type": "markdown",
      "metadata": {
        "id": "XGFfzR--dA3Y",
        "colab_type": "text"
      },
      "source": [
        "# 准备数据"
      ]
    },
    {
      "cell_type": "code",
      "metadata": {
        "id": "xE9JygnUdA3Z",
        "colab_type": "code",
        "outputId": "7a6a8ce6-348e-4e2e-ea5a-164d2579440e",
        "colab": {
          "base_uri": "https://localhost:8080/",
          "height": 35
        }
      },
      "source": [
        "# add intercept=1 for x0\n",
        "X = np.insert(raw_X, 0, values=np.ones(raw_X.shape[0]), axis=1)  # 插入了第一列（全部为1）\n",
        "X.shape"
      ],
      "execution_count": 15,
      "outputs": [
        {
          "output_type": "execute_result",
          "data": {
            "text/plain": [
              "(5000, 401)"
            ]
          },
          "metadata": {
            "tags": []
          },
          "execution_count": 15
        }
      ]
    },
    {
      "cell_type": "code",
      "metadata": {
        "id": "yrzBsi2edA3a",
        "colab_type": "code",
        "outputId": "f6e3a215-d6c3-4db0-815b-04836636c736",
        "colab": {
          "base_uri": "https://localhost:8080/",
          "height": 35
        }
      },
      "source": [
        "# y have 10 categories here. 1..10, they represent digit 0 as category 10 because matlab index start at 1\n",
        "# I'll ditit 0, index 0 again\n",
        "y_matrix = []\n",
        "\n",
        "for k in range(1, 11):\n",
        "    y_matrix.append((raw_y == k).astype(int))    # 见配图 \"向量化标签.png\"\n",
        "\n",
        "# last one is k==10, it's digit 0, bring it to the first position，最后一列k=10，都是0，把最后一列放到第一列\n",
        "y_matrix = [y_matrix[-1]] + y_matrix[:-1]\n",
        "y = np.array(y_matrix)\n",
        "\n",
        "y.shape\n",
        "\n",
        "# 扩展 5000*1 到 5000*10\n",
        "#     比如 y=10 -> [0, 0, 0, 0, 0, 0, 0, 0, 0, 1]: ndarray\n",
        "#     \"\"\""
      ],
      "execution_count": 16,
      "outputs": [
        {
          "output_type": "execute_result",
          "data": {
            "text/plain": [
              "(10, 5000)"
            ]
          },
          "metadata": {
            "tags": []
          },
          "execution_count": 16
        }
      ]
    },
    {
      "cell_type": "code",
      "metadata": {
        "id": "3TpXXQWNdA3b",
        "colab_type": "code",
        "outputId": "48406df8-cef8-489a-bf32-b0c580c6267e",
        "colab": {
          "base_uri": "https://localhost:8080/",
          "height": 143
        }
      },
      "source": [
        "y"
      ],
      "execution_count": 17,
      "outputs": [
        {
          "output_type": "execute_result",
          "data": {
            "text/plain": [
              "array([[1, 1, 1, ..., 0, 0, 0],\n",
              "       [0, 0, 0, ..., 0, 0, 0],\n",
              "       [0, 0, 0, ..., 0, 0, 0],\n",
              "       ...,\n",
              "       [0, 0, 0, ..., 0, 0, 0],\n",
              "       [0, 0, 0, ..., 0, 0, 0],\n",
              "       [0, 0, 0, ..., 1, 1, 1]])"
            ]
          },
          "metadata": {
            "tags": []
          },
          "execution_count": 17
        }
      ]
    },
    {
      "cell_type": "markdown",
      "metadata": {
        "id": "OLFxb0QVdA3d",
        "colab_type": "text"
      },
      "source": [
        "# train 1 model（训练一维模型）"
      ]
    },
    {
      "cell_type": "code",
      "metadata": {
        "id": "1nGMwdy5dA3d",
        "colab_type": "code",
        "colab": {}
      },
      "source": [
        "def cost(theta, X, y):\n",
        "    ''' cost fn is -l(theta) for you to minimize'''\n",
        "    return np.mean(-y * np.log(sigmoid(X @ theta)) - (1 - y) * np.log(1 - sigmoid(X @ theta)))\n"
      ],
      "execution_count": 0,
      "outputs": []
    },
    {
      "cell_type": "code",
      "metadata": {
        "id": "1zA3eunYdA3e",
        "colab_type": "code",
        "colab": {}
      },
      "source": [
        "def regularized_cost(theta, X, y, l=1):\n",
        "    '''you don't penalize theta_0'''\n",
        "    theta_j1_to_n = theta[1:]\n",
        "    regularized_term = (l / (2 * len(X))) * np.power(theta_j1_to_n, 2).sum()\n",
        "\n",
        "    return cost(theta, X, y) + regularized_term"
      ],
      "execution_count": 0,
      "outputs": []
    },
    {
      "cell_type": "code",
      "metadata": {
        "id": "2eYEgF3MdA3g",
        "colab_type": "code",
        "colab": {}
      },
      "source": [
        "def regularized_gradient(theta, X, y, l=1):\n",
        "    '''still, leave theta_0 alone'''\n",
        "    theta_j1_to_n = theta[1:]\n",
        "    regularized_theta = (l / len(X)) * theta_j1_to_n\n",
        "\n",
        "    # by doing this, no offset is on theta_0\n",
        "    regularized_term = np.concatenate([np.array([0]), regularized_theta])\n",
        "\n",
        "    return gradient(theta, X, y) + regularized_term"
      ],
      "execution_count": 0,
      "outputs": []
    },
    {
      "cell_type": "code",
      "metadata": {
        "id": "LVd3gdWEdA3h",
        "colab_type": "code",
        "colab": {}
      },
      "source": [
        "def sigmoid(z):\n",
        "    return 1 / (1 + np.exp(-z))"
      ],
      "execution_count": 0,
      "outputs": []
    },
    {
      "cell_type": "code",
      "metadata": {
        "id": "3cNuOomldA3j",
        "colab_type": "code",
        "colab": {}
      },
      "source": [
        "def gradient(theta, X, y):\n",
        "    '''just 1 batch gradient'''\n",
        "    return (1 / len(X)) * X.T @ (sigmoid(X @ theta) - y)\n"
      ],
      "execution_count": 0,
      "outputs": []
    },
    {
      "cell_type": "code",
      "metadata": {
        "id": "Gg6SjiNhdA3k",
        "colab_type": "code",
        "colab": {}
      },
      "source": [
        "def logistic_regression(X, y, l=1):\n",
        "    \"\"\"generalized logistic regression\n",
        "    args:\n",
        "        X: feature matrix, (m, n+1) # with incercept x0=1\n",
        "        y: target vector, (m, )\n",
        "        l: lambda constant for regularization\n",
        "\n",
        "    return: trained parameters\n",
        "    \"\"\"\n",
        "    # init theta\n",
        "    theta = np.zeros(X.shape[1])\n",
        "\n",
        "    # train it\n",
        "    res = opt.minimize(fun=regularized_cost,\n",
        "                       x0=theta,\n",
        "                       args=(X, y, l),\n",
        "                       method='TNC',\n",
        "                       jac=regularized_gradient,\n",
        "                       options={'disp': True})\n",
        "    # get trained parameters\n",
        "    final_theta = res.x\n",
        "\n",
        "    return final_theta"
      ],
      "execution_count": 0,
      "outputs": []
    },
    {
      "cell_type": "code",
      "metadata": {
        "id": "79QN90ULdA3n",
        "colab_type": "code",
        "colab": {}
      },
      "source": [
        "def predict(x, theta):\n",
        "    prob = sigmoid(x @ theta)\n",
        "    return (prob >= 0.5).astype(int)\n"
      ],
      "execution_count": 0,
      "outputs": []
    },
    {
      "cell_type": "code",
      "metadata": {
        "id": "Lrf2jWRBdA3p",
        "colab_type": "code",
        "colab": {}
      },
      "source": [
        "t0 = logistic_regression(X, y[0])"
      ],
      "execution_count": 0,
      "outputs": []
    },
    {
      "cell_type": "code",
      "metadata": {
        "id": "d_gL3BBddA3s",
        "colab_type": "code",
        "outputId": "ec8e59e8-d196-4403-be92-6844af6d2d98",
        "colab": {
          "base_uri": "https://localhost:8080/",
          "height": 53
        }
      },
      "source": [
        "print(t0.shape)\n",
        "y_pred = predict(X, t0)\n",
        "print('Accuracy={}'.format(np.mean(y[0] == y_pred)))"
      ],
      "execution_count": 26,
      "outputs": [
        {
          "output_type": "stream",
          "text": [
            "(401,)\n",
            "Accuracy=0.9974\n"
          ],
          "name": "stdout"
        }
      ]
    },
    {
      "cell_type": "markdown",
      "metadata": {
        "id": "_bwWcCKjdA3u",
        "colab_type": "text"
      },
      "source": [
        "# train k model（训练k维模型）"
      ]
    },
    {
      "cell_type": "code",
      "metadata": {
        "id": "ut9ReIAJdA3v",
        "colab_type": "code",
        "outputId": "941666e2-e6dd-4547-9c74-6783147bf034",
        "colab": {
          "base_uri": "https://localhost:8080/",
          "height": 35
        }
      },
      "source": [
        "k_theta = np.array([logistic_regression(X, y[k]) for k in range(10)])\n",
        "print(k_theta.shape)"
      ],
      "execution_count": 27,
      "outputs": [
        {
          "output_type": "stream",
          "text": [
            "(10, 401)\n"
          ],
          "name": "stdout"
        }
      ]
    },
    {
      "cell_type": "markdown",
      "metadata": {
        "id": "LY0nR2pSdA3w",
        "colab_type": "text"
      },
      "source": [
        "# 进行预测\n",
        "* think about the shape of k_theta, now you are making $X\\times\\theta^T$\n",
        "> $(5000, 401) \\times (10, 401).T = (5000, 10)$\n",
        "* after that, you run sigmoid to get probabilities and for each row, you find the highest prob as the answer"
      ]
    },
    {
      "cell_type": "code",
      "metadata": {
        "id": "ZJDmPnPHdA3w",
        "colab_type": "code",
        "colab": {}
      },
      "source": [
        "prob_matrix = sigmoid(X @ k_theta.T)"
      ],
      "execution_count": 0,
      "outputs": []
    },
    {
      "cell_type": "code",
      "metadata": {
        "id": "ZprbMhCVdA3y",
        "colab_type": "code",
        "outputId": "41809e4b-b811-4392-eca9-048d5ae652e2",
        "colab": {
          "base_uri": "https://localhost:8080/",
          "height": 251
        }
      },
      "source": [
        "np.set_printoptions(suppress=True)\n",
        "prob_matrix"
      ],
      "execution_count": 29,
      "outputs": [
        {
          "output_type": "execute_result",
          "data": {
            "text/plain": [
              "array([[0.99577434, 0.        , 0.00053458, ..., 0.0000647 , 0.00003916,\n",
              "        0.00172131],\n",
              "       [0.99834578, 0.0000001 , 0.00005605, ..., 0.00009684, 0.00000291,\n",
              "        0.00008486],\n",
              "       [0.99139726, 0.        , 0.00056872, ..., 0.00000655, 0.02654589,\n",
              "        0.00197421],\n",
              "       ...,\n",
              "       [0.00000068, 0.04144617, 0.00321069, ..., 0.00012721, 0.00297692,\n",
              "        0.70758389],\n",
              "       [0.00001844, 0.00000013, 0.00000009, ..., 0.00164753, 0.0681323 ,\n",
              "        0.86112386],\n",
              "       [0.02881215, 0.        , 0.00012978, ..., 0.36617875, 0.00498616,\n",
              "        0.14813425]])"
            ]
          },
          "metadata": {
            "tags": []
          },
          "execution_count": 29
        }
      ]
    },
    {
      "cell_type": "code",
      "metadata": {
        "id": "LRML09cYdA3z",
        "colab_type": "code",
        "colab": {}
      },
      "source": [
        "y_pred = np.argmax(prob_matrix, axis=1)#返回沿轴axis最大值的索引，axis=1代表行"
      ],
      "execution_count": 0,
      "outputs": []
    },
    {
      "cell_type": "code",
      "metadata": {
        "id": "GOQjZRuqdA30",
        "colab_type": "code",
        "outputId": "b9c63dd2-79dc-45b8-9021-3ddd7b696e49",
        "colab": {
          "base_uri": "https://localhost:8080/",
          "height": 35
        }
      },
      "source": [
        "y_pred"
      ],
      "execution_count": 31,
      "outputs": [
        {
          "output_type": "execute_result",
          "data": {
            "text/plain": [
              "array([0, 0, 0, ..., 9, 9, 7])"
            ]
          },
          "metadata": {
            "tags": []
          },
          "execution_count": 31
        }
      ]
    },
    {
      "cell_type": "code",
      "metadata": {
        "id": "fpjlLzrddA31",
        "colab_type": "code",
        "colab": {}
      },
      "source": [
        "y_answer = raw_y.copy()\n",
        "y_answer[y_answer==10] = 0"
      ],
      "execution_count": 0,
      "outputs": []
    },
    {
      "cell_type": "code",
      "metadata": {
        "id": "_O5Yb1eidA32",
        "colab_type": "code",
        "outputId": "f505a7ff-2424-4449-9e7f-aa14aabf01ae",
        "colab": {
          "base_uri": "https://localhost:8080/",
          "height": 323
        }
      },
      "source": [
        "print(classification_report(y_answer, y_pred))"
      ],
      "execution_count": 33,
      "outputs": [
        {
          "output_type": "stream",
          "text": [
            "              precision    recall  f1-score   support\n",
            "\n",
            "           0       0.97      0.99      0.98       500\n",
            "           1       0.95      0.99      0.97       500\n",
            "           2       0.95      0.92      0.93       500\n",
            "           3       0.95      0.91      0.93       500\n",
            "           4       0.95      0.95      0.95       500\n",
            "           5       0.92      0.92      0.92       500\n",
            "           6       0.97      0.98      0.97       500\n",
            "           7       0.95      0.95      0.95       500\n",
            "           8       0.93      0.92      0.92       500\n",
            "           9       0.92      0.92      0.92       500\n",
            "\n",
            "    accuracy                           0.94      5000\n",
            "   macro avg       0.94      0.94      0.94      5000\n",
            "weighted avg       0.94      0.94      0.94      5000\n",
            "\n"
          ],
          "name": "stdout"
        }
      ]
    },
    {
      "cell_type": "markdown",
      "metadata": {
        "id": "UqmbyR_3dA33",
        "colab_type": "text"
      },
      "source": [
        "# 神经网络模型图示\n",
        "<img style=\"float: left;\" src=\"https://github.com/fengdu78/Coursera-ML-AndrewNg-Notes/blob/master/code/img/nn_model.png?raw=1\">"
      ]
    },
    {
      "cell_type": "code",
      "metadata": {
        "id": "2F36kCOudA34",
        "colab_type": "code",
        "colab": {}
      },
      "source": [
        "def load_weight(path):\n",
        "    data = sio.loadmat(path)\n",
        "    return data['Theta1'], data['Theta2']\n"
      ],
      "execution_count": 0,
      "outputs": []
    },
    {
      "cell_type": "code",
      "metadata": {
        "id": "f_5FLo1vdA35",
        "colab_type": "code",
        "outputId": "0a03bca4-1acc-45b4-832a-50991b05d2d2",
        "colab": {
          "base_uri": "https://localhost:8080/",
          "height": 35
        }
      },
      "source": [
        "theta1, theta2 = load_weight('ex3weights.mat')\n",
        "\n",
        "theta1.shape, theta2.shape"
      ],
      "execution_count": 35,
      "outputs": [
        {
          "output_type": "execute_result",
          "data": {
            "text/plain": [
              "((25, 401), (10, 26))"
            ]
          },
          "metadata": {
            "tags": []
          },
          "execution_count": 35
        }
      ]
    },
    {
      "cell_type": "markdown",
      "metadata": {
        "id": "hBfE8Fi2dA37",
        "colab_type": "text"
      },
      "source": [
        " 因此在数据加载函数中，原始数据做了转置，然而，转置的数据与给定的参数不兼容，因为这些参数是由原始数据训练的。 所以为了应用给定的参数，我需要使用原始数据（不转置）"
      ]
    },
    {
      "cell_type": "code",
      "metadata": {
        "id": "aF0m0edodA37",
        "colab_type": "code",
        "outputId": "61c931e6-0c7a-4be5-b281-938c7d988501",
        "colab": {
          "base_uri": "https://localhost:8080/",
          "height": 35
        }
      },
      "source": [
        "X, y = load_data('ex3data1.mat',transpose=False)\n",
        "\n",
        "X = np.insert(X, 0, values=np.ones(X.shape[0]), axis=1)  # intercept\n",
        "\n",
        "X.shape, y.shape"
      ],
      "execution_count": 36,
      "outputs": [
        {
          "output_type": "execute_result",
          "data": {
            "text/plain": [
              "((5000, 401), (5000,))"
            ]
          },
          "metadata": {
            "tags": []
          },
          "execution_count": 36
        }
      ]
    },
    {
      "cell_type": "markdown",
      "metadata": {
        "id": "GHUiR3DUdA38",
        "colab_type": "text"
      },
      "source": [
        "# feed forward prediction（前馈预测）"
      ]
    },
    {
      "cell_type": "code",
      "metadata": {
        "id": "TjPfcjatdA39",
        "colab_type": "code",
        "colab": {}
      },
      "source": [
        "a1 = X"
      ],
      "execution_count": 0,
      "outputs": []
    },
    {
      "cell_type": "code",
      "metadata": {
        "id": "S_GcYxbsdA3-",
        "colab_type": "code",
        "outputId": "5053778b-5588-4268-813c-1e22579f8dce",
        "colab": {
          "base_uri": "https://localhost:8080/",
          "height": 35
        }
      },
      "source": [
        "z2 = a1 @ theta1.T # (5000, 401) @ (25,401).T = (5000, 25)\n",
        "z2.shape"
      ],
      "execution_count": 38,
      "outputs": [
        {
          "output_type": "execute_result",
          "data": {
            "text/plain": [
              "(5000, 25)"
            ]
          },
          "metadata": {
            "tags": []
          },
          "execution_count": 38
        }
      ]
    },
    {
      "cell_type": "code",
      "metadata": {
        "id": "RgNco8SSdA4C",
        "colab_type": "code",
        "colab": {}
      },
      "source": [
        "z2 = np.insert(z2, 0, values=np.ones(z2.shape[0]), axis=1)"
      ],
      "execution_count": 0,
      "outputs": []
    },
    {
      "cell_type": "code",
      "metadata": {
        "id": "eRCtgeXKdA4D",
        "colab_type": "code",
        "outputId": "ed7727b5-d24b-415c-c66c-adb99d76736a",
        "colab": {
          "base_uri": "https://localhost:8080/",
          "height": 35
        }
      },
      "source": [
        "a2 = sigmoid(z2)\n",
        "a2.shape"
      ],
      "execution_count": 40,
      "outputs": [
        {
          "output_type": "execute_result",
          "data": {
            "text/plain": [
              "(5000, 26)"
            ]
          },
          "metadata": {
            "tags": []
          },
          "execution_count": 40
        }
      ]
    },
    {
      "cell_type": "code",
      "metadata": {
        "id": "AQRFNj22dA4F",
        "colab_type": "code",
        "outputId": "0ee44e4d-2202-4897-8b15-5d324ef4366f",
        "colab": {
          "base_uri": "https://localhost:8080/",
          "height": 35
        }
      },
      "source": [
        "z3 = a2 @ theta2.T\n",
        "z3.shape"
      ],
      "execution_count": 41,
      "outputs": [
        {
          "output_type": "execute_result",
          "data": {
            "text/plain": [
              "(5000, 10)"
            ]
          },
          "metadata": {
            "tags": []
          },
          "execution_count": 41
        }
      ]
    },
    {
      "cell_type": "code",
      "metadata": {
        "id": "ksfOr56udA4G",
        "colab_type": "code",
        "outputId": "5c48e376-85d8-435c-d0fa-9b02fef6b351",
        "colab": {
          "base_uri": "https://localhost:8080/",
          "height": 251
        }
      },
      "source": [
        "a3 = sigmoid(z3)\n",
        "a3"
      ],
      "execution_count": 42,
      "outputs": [
        {
          "output_type": "execute_result",
          "data": {
            "text/plain": [
              "array([[0.00013825, 0.0020554 , 0.00304012, ..., 0.00049102, 0.00774326,\n",
              "        0.99622946],\n",
              "       [0.00058776, 0.00285027, 0.00414688, ..., 0.00292311, 0.00235617,\n",
              "        0.99619667],\n",
              "       [0.00010868, 0.0038266 , 0.03058551, ..., 0.07514539, 0.0065704 ,\n",
              "        0.93586278],\n",
              "       ...,\n",
              "       [0.06278247, 0.00450406, 0.03545109, ..., 0.0026367 , 0.68944816,\n",
              "        0.00002744],\n",
              "       [0.00101909, 0.00073436, 0.00037856, ..., 0.01456166, 0.97598976,\n",
              "        0.00023337],\n",
              "       [0.00005908, 0.00054172, 0.0000259 , ..., 0.00700508, 0.73281465,\n",
              "        0.09166961]])"
            ]
          },
          "metadata": {
            "tags": []
          },
          "execution_count": 42
        }
      ]
    },
    {
      "cell_type": "code",
      "metadata": {
        "id": "uL56CUU5dA4J",
        "colab_type": "code",
        "outputId": "a692110c-bd3a-4aa4-d7ff-7388b0ef8f09",
        "colab": {
          "base_uri": "https://localhost:8080/",
          "height": 35
        }
      },
      "source": [
        "y_pred = np.argmax(a3, axis=1) + 1  # numpy is 0 base index, +1 for matlab convention，返回沿轴axis最大值的索引，axis=1代表行\n",
        "y_pred.shape"
      ],
      "execution_count": 43,
      "outputs": [
        {
          "output_type": "execute_result",
          "data": {
            "text/plain": [
              "(5000,)"
            ]
          },
          "metadata": {
            "tags": []
          },
          "execution_count": 43
        }
      ]
    },
    {
      "cell_type": "markdown",
      "metadata": {
        "id": "gvsbDe6XdA4K",
        "colab_type": "text"
      },
      "source": [
        "# 准确率\n",
        " \n",
        "虽然人工神经网络是非常强大的模型，但训练数据的准确性并不能完美预测实际数据，在这里很容易过拟合。"
      ]
    },
    {
      "cell_type": "code",
      "metadata": {
        "id": "edagnkmXdA4K",
        "colab_type": "code",
        "outputId": "0d2256d7-2136-47db-bb09-7ed7edbe0219",
        "colab": {
          "base_uri": "https://localhost:8080/",
          "height": 323
        }
      },
      "source": [
        "print(classification_report(y, y_pred))"
      ],
      "execution_count": 44,
      "outputs": [
        {
          "output_type": "stream",
          "text": [
            "              precision    recall  f1-score   support\n",
            "\n",
            "           1       0.97      0.98      0.97       500\n",
            "           2       0.98      0.97      0.97       500\n",
            "           3       0.98      0.96      0.97       500\n",
            "           4       0.97      0.97      0.97       500\n",
            "           5       0.98      0.98      0.98       500\n",
            "           6       0.97      0.99      0.98       500\n",
            "           7       0.98      0.97      0.97       500\n",
            "           8       0.98      0.98      0.98       500\n",
            "           9       0.97      0.96      0.96       500\n",
            "          10       0.98      0.99      0.99       500\n",
            "\n",
            "    accuracy                           0.98      5000\n",
            "   macro avg       0.98      0.98      0.98      5000\n",
            "weighted avg       0.98      0.98      0.98      5000\n",
            "\n"
          ],
          "name": "stdout"
        }
      ]
    },
    {
      "cell_type": "code",
      "metadata": {
        "id": "v0DbgrlkdA4L",
        "colab_type": "code",
        "colab": {}
      },
      "source": [
        ""
      ],
      "execution_count": 0,
      "outputs": []
    }
  ]
}