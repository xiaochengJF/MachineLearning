{
  "nbformat": 4,
  "nbformat_minor": 0,
  "metadata": {
    "anaconda-cloud": {},
    "kernelspec": {
      "display_name": "Python 3",
      "language": "python",
      "name": "python3"
    },
    "language_info": {
      "codemirror_mode": {
        "name": "ipython",
        "version": 3
      },
      "file_extension": ".py",
      "mimetype": "text/x-python",
      "name": "python",
      "nbconvert_exporter": "python",
      "pygments_lexer": "ipython3",
      "version": "3.7.0"
    },
    "colab": {
      "name": "Ex3_ Neural Network",
      "provenance": [],
      "collapsed_sections": [],
      "include_colab_link": true
    }
  },
  "cells": [
    {
      "cell_type": "markdown",
      "metadata": {
        "id": "view-in-github",
        "colab_type": "text"
      },
      "source": [
        "<a href=\"https://colab.research.google.com/github/xiaochengJF/MachineLearning/blob/master/Ex3__Neural_Network.ipynb\" target=\"_parent\"><img src=\"https://colab.research.google.com/assets/colab-badge.svg\" alt=\"Open In Colab\"/></a>"
      ]
    },
    {
      "cell_type": "code",
      "metadata": {
        "id": "8Fvr_6xlHaFI",
        "colab_type": "code",
        "outputId": "6a923bc5-236a-47f2-dd5f-13029fa0b229",
        "colab": {
          "base_uri": "https://localhost:8080/",
          "height": 127
        }
      },
      "source": [
        "from google.colab import drive\n",
        "drive.mount('/content/drive')"
      ],
      "execution_count": 1,
      "outputs": [
        {
          "output_type": "stream",
          "text": [
            "Go to this URL in a browser: https://accounts.google.com/o/oauth2/auth?client_id=947318989803-6bn6qk8qdgf4n4g3pfee6491hc0brc4i.apps.googleusercontent.com&redirect_uri=urn%3Aietf%3Awg%3Aoauth%3A2.0%3Aoob&scope=email%20https%3A%2F%2Fwww.googleapis.com%2Fauth%2Fdocs.test%20https%3A%2F%2Fwww.googleapis.com%2Fauth%2Fdrive%20https%3A%2F%2Fwww.googleapis.com%2Fauth%2Fdrive.photos.readonly%20https%3A%2F%2Fwww.googleapis.com%2Fauth%2Fpeopleapi.readonly&response_type=code\n",
            "\n",
            "Enter your authorization code:\n",
            "··········\n",
            "Mounted at /content/drive\n"
          ],
          "name": "stdout"
        }
      ]
    },
    {
      "cell_type": "code",
      "metadata": {
        "id": "A9e5KnYwHp2t",
        "colab_type": "code",
        "outputId": "c6a830f5-618a-4789-d96e-ecb1436c580f",
        "colab": {
          "base_uri": "https://localhost:8080/",
          "height": 35
        }
      },
      "source": [
        "cd /content/drive/My Drive/MachineLearning/ex3-neural network"
      ],
      "execution_count": 2,
      "outputs": [
        {
          "output_type": "stream",
          "text": [
            "/content/drive/My Drive/MachineLearning/ex3-neural network\n"
          ],
          "name": "stdout"
        }
      ]
    },
    {
      "cell_type": "markdown",
      "metadata": {
        "id": "sTV3j4zRdA27",
        "colab_type": "text"
      },
      "source": [
        "# neural network（神经网络）"
      ]
    },
    {
      "cell_type": "code",
      "metadata": {
        "id": "_iKxI-QxdA2-",
        "colab_type": "code",
        "colab": {}
      },
      "source": [
        "import matplotlib.pyplot as plt\n",
        "import numpy as np\n",
        "import scipy.io as sio\n",
        "import matplotlib\n",
        "import scipy.optimize as opt\n",
        "from sklearn.metrics import classification_report  # 这个包是评价报告"
      ],
      "execution_count": 0,
      "outputs": []
    },
    {
      "cell_type": "code",
      "metadata": {
        "id": "V6bMjK7FdA3C",
        "colab_type": "code",
        "colab": {}
      },
      "source": [
        "def load_data(path, transpose=True):\n",
        "    data = sio.loadmat(path)\n",
        "    y = data.get('y')          # (5000,1)\n",
        "    y = y.reshape(y.shape[0])  # make it back to column vector\n",
        "\n",
        "    X = data.get('X')          # (5000,400)\n",
        "\n",
        "    if transpose:\n",
        "        # for this dataset, you need a transpose to get the orientation right\n",
        "        X = np.array([im.reshape((20, 20)).T for im in X])\n",
        "\n",
        "        # and I flat the image again to preserve the vector presentation\n",
        "        X = np.array([im.reshape(400) for im in X])\n",
        "\n",
        "    return X, y"
      ],
      "execution_count": 0,
      "outputs": []
    },
    {
      "cell_type": "code",
      "metadata": {
        "id": "Q1RwQCladA3F",
        "colab_type": "code",
        "outputId": "31a7ed8b-bab5-4fc0-f3ac-c6d445cc229e",
        "colab": {
          "base_uri": "https://localhost:8080/",
          "height": 71
        }
      },
      "source": [
        "X, y = load_data('ex3data1.mat')\n",
        "\n",
        "print(X.shape)\n",
        "print(y.shape)\n",
        "print(y)"
      ],
      "execution_count": 5,
      "outputs": [
        {
          "output_type": "stream",
          "text": [
            "(5000, 400)\n",
            "(5000,)\n",
            "[10 10 10 ...  9  9  9]\n"
          ],
          "name": "stdout"
        }
      ]
    },
    {
      "cell_type": "markdown",
      "metadata": {
        "id": "9UbBAyUOZamz",
        "colab_type": "text"
      },
      "source": [
        "<font face=楷体 color=yellow size=4>疑问：</font>  \n",
        "fig, ax = plt.subplots(figsize=(1, 1))  \n",
        "ax.matshow(image.reshape((20, 20)), cmap=matplotlib.cm.binary)"
      ]
    },
    {
      "cell_type": "code",
      "metadata": {
        "id": "sJFR33yddA3J",
        "colab_type": "code",
        "colab": {}
      },
      "source": [
        "# 绘图函数\n",
        "def plot_an_image(image):\n",
        "    \"\"\"\n",
        "    image : (400,)\n",
        "    \"\"\"\n",
        "    fig, ax = plt.subplots(figsize=(1, 1))\n",
        "    ax.matshow(image.reshape((20, 20)), cmap=matplotlib.cm.binary)\n",
        "    plt.xticks(np.array([]))  # just get rid of ticks\n",
        "    plt.yticks(np.array([]))"
      ],
      "execution_count": 0,
      "outputs": []
    },
    {
      "cell_type": "code",
      "metadata": {
        "id": "EwTjnGbEdA3M",
        "colab_type": "code",
        "outputId": "b011335c-952c-4022-cb08-b91073a3693b",
        "colab": {
          "base_uri": "https://localhost:8080/",
          "height": 111
        }
      },
      "source": [
        "pick_one = np.random.randint(0, 5000)\n",
        "plot_an_image(X[pick_one, :])\n",
        "plt.show()\n",
        "print('this should be {}'.format(y[pick_one]))"
      ],
      "execution_count": 7,
      "outputs": [
        {
          "output_type": "display_data",
          "data": {
            "image/png": "[encoded data removed]",
            "text/plain": [
              "<Figure size 72x72 with 1 Axes>"
            ]
          },
          "metadata": {
            "tags": []
          }
        },
        {
          "output_type": "stream",
          "text": [
            "this should be 5\n"
          ],
          "name": "stdout"
        }
      ]
    },
    {
      "cell_type": "code",
      "metadata": {
        "id": "IyjB5hFfdA3P",
        "colab_type": "code",
        "colab": {}
      },
      "source": [
        "# 绘图函数，画100张图片\n",
        "def plot_100_image(X):\n",
        "    \"\"\" sample 100 image and show them\n",
        "    assume the image is square\n",
        "\n",
        "    X : (5000, 400)\n",
        "    \"\"\"\n",
        "    size = int(np.sqrt(X.shape[1]))\n",
        "\n",
        "    # sample 100 image, reshape, reorg it\n",
        "    sample_idx = np.random.choice(np.arange(X.shape[0]), 100)  # 100*400\n",
        "    sample_images = X[sample_idx, :]\n",
        "\n",
        "    fig, ax_array = plt.subplots(nrows=10, ncols=10, sharey=True, sharex=True, figsize=(8, 8))\n",
        "\n",
        "    for r in range(10):\n",
        "        for c in range(10):\n",
        "            ax_array[r, c].matshow(sample_images[10 * r + c].reshape((size, size)),\n",
        "                                   cmap=matplotlib.cm.binary)\n",
        "            plt.xticks(np.array([]))\n",
        "            plt.yticks(np.array([]))  "
      ],
      "execution_count": 0,
      "outputs": []
    },
    {
      "cell_type": "code",
      "metadata": {
        "id": "99EYLidEdA3S",
        "colab_type": "code",
        "outputId": "e884eaef-81bc-4921-9833-ec54be538799",
        "colab": {
          "base_uri": "https://localhost:8080/",
          "height": 473
        }
      },
      "source": [
        "plot_100_image(X)\n",
        "plt.show()"
      ],
      "execution_count": 0,
      "outputs": [
        {
          "output_type": "display_data",
          "data": {
            "image/png": "[encoded data removed]",
            "text/plain": [
              "<Figure size 576x576 with 100 Axes>"
            ]
          },
          "metadata": {
            "tags": []
          }
        }
      ]
    },
    {
      "cell_type": "code",
      "metadata": {
        "id": "jKwQXaXZdA3V",
        "colab_type": "code",
        "outputId": "81c25691-d950-4cf1-bef9-3d046c6146bb",
        "colab": {
          "base_uri": "https://localhost:8080/",
          "height": 89
        }
      },
      "source": [
        "raw_X, raw_y = load_data('ex3data1.mat')\n",
        "print(raw_X.shape)\n",
        "print(raw_y.shape)\n",
        "print(raw_y)\n",
        "np.unique(raw_y)"
      ],
      "execution_count": 0,
      "outputs": [
        {
          "output_type": "stream",
          "text": [
            "(5000, 400)\n",
            "(5000,)\n",
            "[10 10 10 ...  9  9  9]\n"
          ],
          "name": "stdout"
        },
        {
          "output_type": "execute_result",
          "data": {
            "text/plain": [
              "array([ 1,  2,  3,  4,  5,  6,  7,  8,  9, 10], dtype=uint8)"
            ]
          },
          "metadata": {
            "tags": []
          },
          "execution_count": 11
        }
      ]
    },
    {
      "cell_type": "markdown",
      "metadata": {
        "id": "XGFfzR--dA3Y",
        "colab_type": "text"
      },
      "source": [
        "## 准备数据"
      ]
    },
    {
      "cell_type": "code",
      "metadata": {
        "id": "xE9JygnUdA3Z",
        "colab_type": "code",
        "outputId": "e6c04157-6ba2-4f99-c555-01869694be2f",
        "colab": {
          "base_uri": "https://localhost:8080/",
          "height": 35
        }
      },
      "source": [
        "# add intercept=1 for x0\n",
        "X = np.insert(raw_X, 0, values=np.ones(raw_X.shape[0]), axis=1)  # 插入了第一列（全部为1）\n",
        "X.shape"
      ],
      "execution_count": 0,
      "outputs": [
        {
          "output_type": "execute_result",
          "data": {
            "text/plain": [
              "(5000, 401)"
            ]
          },
          "metadata": {
            "tags": []
          },
          "execution_count": 18
        }
      ]
    },
    {
      "cell_type": "markdown",
      "metadata": {
        "id": "ZQM4prBCfFL1",
        "colab_type": "text"
      },
      "source": [
        "![替代文字](https://img-blog.csdnimg.cn/20191002142050984.png?x-oss-process=image/watermark,type_ZmFuZ3poZW5naGVpdGk,shadow_10,text_aHR0cHM6Ly9ibG9nLmNzZG4ubmV0L3dlaXhpbl80MzcxMTU1NA==,size_16,color_FFFFFF,t_70)"
      ]
    },
    {
      "cell_type": "code",
      "metadata": {
        "id": "yrzBsi2edA3a",
        "colab_type": "code",
        "outputId": "1b091164-0418-46f6-9949-8bef3301fe75",
        "colab": {
          "base_uri": "https://localhost:8080/",
          "height": 161
        }
      },
      "source": [
        "y_matrix = []\n",
        "\n",
        "for k in range(1, 11):\n",
        "    y_matrix.append((raw_y == k).astype(int))    # 向量化标签\n",
        "\n",
        "# 最后一列是10，而在raw_y中，标签10位置在最前面，因此把最后一列放回第一列，对应raw_y中的位置\n",
        "y_matrix = [y_matrix[-1]] + y_matrix[:-1]\n",
        "y = np.array(y_matrix)\n",
        "\n",
        "print(y.shape)\n",
        "print(y)\n"
      ],
      "execution_count": 0,
      "outputs": [
        {
          "output_type": "stream",
          "text": [
            "(10, 5000)\n",
            "[[1 1 1 ... 0 0 0]\n",
            " [0 0 0 ... 0 0 0]\n",
            " [0 0 0 ... 0 0 0]\n",
            " ...\n",
            " [0 0 0 ... 0 0 0]\n",
            " [0 0 0 ... 0 0 0]\n",
            " [0 0 0 ... 1 1 1]]\n"
          ],
          "name": "stdout"
        }
      ]
    },
    {
      "cell_type": "markdown",
      "metadata": {
        "id": "OLFxb0QVdA3d",
        "colab_type": "text"
      },
      "source": [
        "## 训练一维模型"
      ]
    },
    {
      "cell_type": "code",
      "metadata": {
        "id": "1nGMwdy5dA3d",
        "colab_type": "code",
        "colab": {}
      },
      "source": [
        "def cost(theta, X, y):\n",
        "    ''' cost fn is -l(theta) for you to minimize'''\n",
        "    return np.mean(-y * np.log(sigmoid(X @ theta)) - (1 - y) * np.log(1 - sigmoid(X @ theta)))"
      ],
      "execution_count": 0,
      "outputs": []
    },
    {
      "cell_type": "code",
      "metadata": {
        "id": "1zA3eunYdA3e",
        "colab_type": "code",
        "colab": {}
      },
      "source": [
        "def regularized_cost(theta, X, y, l=1):\n",
        "    '''you don't penalize theta_0'''\n",
        "    theta_j1_to_n = theta[1:]\n",
        "    regularized_term = (l / (2 * len(X))) * np.power(theta_j1_to_n, 2).sum()\n",
        "\n",
        "    return cost(theta, X, y) + regularized_term"
      ],
      "execution_count": 0,
      "outputs": []
    },
    {
      "cell_type": "markdown",
      "metadata": {
        "id": "C7u9oVNnfajn",
        "colab_type": "text"
      },
      "source": [
        "<font face=楷体 color=yellow size=4>疑问：</font>   \n",
        "<font face=楷体>\n",
        "为什么不对$\\theta_0$惩罚\n",
        "</font>"
      ]
    },
    {
      "cell_type": "code",
      "metadata": {
        "id": "2eYEgF3MdA3g",
        "colab_type": "code",
        "colab": {}
      },
      "source": [
        "def regularized_gradient(theta, X, y, l=1):\n",
        "    '''still, leave theta_0 alone'''\n",
        "    theta_j1_to_n = theta[1:]\n",
        "    regularized_theta = (l / len(X)) * theta_j1_to_n\n",
        "\n",
        "    # theta_0无偏移量\n",
        "    regularized_term = np.concatenate([np.array([0]), regularized_theta])\n",
        "\n",
        "    return gradient(theta, X, y) + regularized_term"
      ],
      "execution_count": 0,
      "outputs": []
    },
    {
      "cell_type": "code",
      "metadata": {
        "id": "LVd3gdWEdA3h",
        "colab_type": "code",
        "colab": {}
      },
      "source": [
        "def sigmoid(z):\n",
        "    return 1 / (1 + np.exp(-z))"
      ],
      "execution_count": 0,
      "outputs": []
    },
    {
      "cell_type": "code",
      "metadata": {
        "id": "3cNuOomldA3j",
        "colab_type": "code",
        "colab": {}
      },
      "source": [
        "def gradient(theta, X, y):\n",
        "    '''just 1 batch gradient'''\n",
        "    return (1 / len(X)) * X.T @ (sigmoid(X @ theta) - y)\n"
      ],
      "execution_count": 0,
      "outputs": []
    },
    {
      "cell_type": "code",
      "metadata": {
        "id": "Gg6SjiNhdA3k",
        "colab_type": "code",
        "colab": {}
      },
      "source": [
        "def logistic_regression(X, y, l=1):\n",
        "    \"\"\"generalized logistic regression\n",
        "    args:\n",
        "        X: feature matrix, (m, n+1) # with incercept x0=1\n",
        "        y: target vector, (m, )\n",
        "        l: lambda constant for regularization\n",
        "\n",
        "    return: trained parameters\n",
        "    \"\"\"\n",
        "    # init theta\n",
        "    theta = np.zeros(X.shape[1])\n",
        "\n",
        "    # train it\n",
        "    res = opt.minimize(fun=regularized_cost,\n",
        "                       x0=theta,\n",
        "                       args=(X, y, l),\n",
        "                       method='TNC',\n",
        "                       jac=regularized_gradient,\n",
        "                       options={'disp': True})\n",
        "    # get trained parameters\n",
        "    final_theta = res.x\n",
        "\n",
        "    return final_theta"
      ],
      "execution_count": 0,
      "outputs": []
    },
    {
      "cell_type": "code",
      "metadata": {
        "id": "79QN90ULdA3n",
        "colab_type": "code",
        "colab": {}
      },
      "source": [
        "def predict(x, theta):\n",
        "    prob = sigmoid(x @ theta)\n",
        "    return (prob >= 0.5).astype(int)\n"
      ],
      "execution_count": 0,
      "outputs": []
    },
    {
      "cell_type": "code",
      "metadata": {
        "id": "d_gL3BBddA3s",
        "colab_type": "code",
        "outputId": "31119c47-0d31-4155-c3ab-f9eef3f5646c",
        "colab": {
          "base_uri": "https://localhost:8080/",
          "height": 53
        }
      },
      "source": [
        "t0 = logistic_regression(X, y[0])\n",
        "print(t0.shape)\n",
        "y_pred = predict(X, t0)\n",
        "print('Accuracy={}'.format(np.mean(y[0] == y_pred)))"
      ],
      "execution_count": 0,
      "outputs": [
        {
          "output_type": "stream",
          "text": [
            "(401,)\n",
            "Accuracy=0.9974\n"
          ],
          "name": "stdout"
        }
      ]
    },
    {
      "cell_type": "markdown",
      "metadata": {
        "id": "_bwWcCKjdA3u",
        "colab_type": "text"
      },
      "source": [
        "## 训练k维模型"
      ]
    },
    {
      "cell_type": "code",
      "metadata": {
        "id": "ut9ReIAJdA3v",
        "colab_type": "code",
        "outputId": "1a848126-f4e6-4840-dfd5-95b5b3ba76f0",
        "colab": {
          "base_uri": "https://localhost:8080/",
          "height": 35
        }
      },
      "source": [
        "k_theta = np.array([logistic_regression(X, y[k]) for k in range(10)])\n",
        "print(k_theta.shape)"
      ],
      "execution_count": 0,
      "outputs": [
        {
          "output_type": "stream",
          "text": [
            "(10, 401)\n"
          ],
          "name": "stdout"
        }
      ]
    },
    {
      "cell_type": "markdown",
      "metadata": {
        "id": "LY0nR2pSdA3w",
        "colab_type": "text"
      },
      "source": [
        "## 预测\n",
        "<font face=楷体>\n",
        "$X\\times\\theta^T\\rightarrow (5000, 401) \\times (10, 401).T = (5000, 10)$，再通过sigmoid获得概率，找到每一行最高概率作为最终结果</font>  \n",
        "\n",
        "<font face=楷体 color=yellow size=4>疑问：</font>  \n",
        "np.set_printoptions(suppress=True)"
      ]
    },
    {
      "cell_type": "code",
      "metadata": {
        "id": "ZJDmPnPHdA3w",
        "colab_type": "code",
        "outputId": "9264c0d8-662f-49b7-9c4f-15ca9272642d",
        "colab": {
          "base_uri": "https://localhost:8080/",
          "height": 251
        }
      },
      "source": [
        "prob_matrix = sigmoid(X @ k_theta.T)\n",
        "\n",
        "np.set_printoptions(suppress=True)\n",
        "prob_matrix"
      ],
      "execution_count": 0,
      "outputs": [
        {
          "output_type": "execute_result",
          "data": {
            "text/plain": [
              "array([[0.99577434, 0.        , 0.00053458, ..., 0.0000647 , 0.00003916,\n",
              "        0.00172131],\n",
              "       [0.99834578, 0.0000001 , 0.00005605, ..., 0.00009684, 0.00000291,\n",
              "        0.00008486],\n",
              "       [0.99139726, 0.        , 0.00056872, ..., 0.00000655, 0.02654589,\n",
              "        0.00197421],\n",
              "       ...,\n",
              "       [0.00000068, 0.04144617, 0.00321069, ..., 0.00012721, 0.00297692,\n",
              "        0.70758389],\n",
              "       [0.00001844, 0.00000013, 0.00000009, ..., 0.00164753, 0.0681323 ,\n",
              "        0.86112386],\n",
              "       [0.02881215, 0.        , 0.00012978, ..., 0.36617875, 0.00498616,\n",
              "        0.14813425]])"
            ]
          },
          "metadata": {
            "tags": []
          },
          "execution_count": 74
        }
      ]
    },
    {
      "cell_type": "code",
      "metadata": {
        "id": "LRML09cYdA3z",
        "colab_type": "code",
        "outputId": "cb0e6573-a923-4ac6-de9a-d28103883a64",
        "colab": {
          "base_uri": "https://localhost:8080/",
          "height": 35
        }
      },
      "source": [
        "y_pred = np.argmax(prob_matrix, axis=1)  # 返回沿轴axis最大值的索引，axis=1代表行\n",
        "y_pred"
      ],
      "execution_count": 0,
      "outputs": [
        {
          "output_type": "execute_result",
          "data": {
            "text/plain": [
              "array([0, 0, 0, ..., 9, 9, 7])"
            ]
          },
          "metadata": {
            "tags": []
          },
          "execution_count": 75
        }
      ]
    },
    {
      "cell_type": "code",
      "metadata": {
        "id": "fpjlLzrddA31",
        "colab_type": "code",
        "outputId": "47b4f6b7-f304-49c3-b0a2-1fa62f1462cc",
        "colab": {
          "base_uri": "https://localhost:8080/",
          "height": 323
        }
      },
      "source": [
        "y_answer = raw_y.copy()\n",
        "y_answer[y_answer==10] = 0\n",
        "\n",
        "print(classification_report(y_answer, y_pred))"
      ],
      "execution_count": 0,
      "outputs": [
        {
          "output_type": "stream",
          "text": [
            "              precision    recall  f1-score   support\n",
            "\n",
            "           0       0.97      0.99      0.98       500\n",
            "           1       0.95      0.99      0.97       500\n",
            "           2       0.95      0.92      0.93       500\n",
            "           3       0.95      0.91      0.93       500\n",
            "           4       0.95      0.95      0.95       500\n",
            "           5       0.92      0.92      0.92       500\n",
            "           6       0.97      0.98      0.97       500\n",
            "           7       0.95      0.95      0.95       500\n",
            "           8       0.93      0.92      0.92       500\n",
            "           9       0.92      0.92      0.92       500\n",
            "\n",
            "    accuracy                           0.94      5000\n",
            "   macro avg       0.94      0.94      0.94      5000\n",
            "weighted avg       0.94      0.94      0.94      5000\n",
            "\n"
          ],
          "name": "stdout"
        }
      ]
    },
    {
      "cell_type": "markdown",
      "metadata": {
        "id": "UqmbyR_3dA33",
        "colab_type": "text"
      },
      "source": [
        "## 神经网络模型图示\n",
        "<img style=\"float: left;\" src=\"https://github.com/fengdu78/Coursera-ML-AndrewNg-Notes/blob/master/code/img/nn_model.png?raw=1\">"
      ]
    },
    {
      "cell_type": "code",
      "metadata": {
        "id": "2F36kCOudA34",
        "colab_type": "code",
        "colab": {}
      },
      "source": [
        "def load_weight(path):\n",
        "    data = sio.loadmat(path)\n",
        "    return data['Theta1'], data['Theta2']"
      ],
      "execution_count": 0,
      "outputs": []
    },
    {
      "cell_type": "code",
      "metadata": {
        "id": "f_5FLo1vdA35",
        "colab_type": "code",
        "outputId": "e428ed97-86b7-4cd1-c8d7-371dc483bb74",
        "colab": {
          "base_uri": "https://localhost:8080/",
          "height": 35
        }
      },
      "source": [
        "theta1, theta2 = load_weight('ex3weights.mat')\n",
        "\n",
        "theta1.shape, theta2.shape"
      ],
      "execution_count": 0,
      "outputs": [
        {
          "output_type": "execute_result",
          "data": {
            "text/plain": [
              "((25, 401), (10, 26))"
            ]
          },
          "metadata": {
            "tags": []
          },
          "execution_count": 78
        }
      ]
    },
    {
      "cell_type": "markdown",
      "metadata": {
        "id": "hBfE8Fi2dA37",
        "colab_type": "text"
      },
      "source": [
        "\n",
        "<font face=楷体 color=skyblue>\n",
        "数据加载函数中，原始数据做了转置，然而，转置的数据与给定的参数不兼容，因为这些参数是由原始数据训练的。 所以为了应用给定参数，需要使用原始数据（不转置）\n",
        "</font>"
      ]
    },
    {
      "cell_type": "code",
      "metadata": {
        "id": "aF0m0edodA37",
        "colab_type": "code",
        "outputId": "e7904e0c-fd5d-41a7-e55e-ffff6d25b1f5",
        "colab": {
          "base_uri": "https://localhost:8080/",
          "height": 35
        }
      },
      "source": [
        "X, y = load_data('ex3data1.mat',transpose=False)\n",
        "X = np.insert(X, 0, values=np.ones(X.shape[0]), axis=1)  # intercept\n",
        "\n",
        "X.shape, y.shape"
      ],
      "execution_count": 0,
      "outputs": [
        {
          "output_type": "execute_result",
          "data": {
            "text/plain": [
              "((5000, 401), (5000,))"
            ]
          },
          "metadata": {
            "tags": []
          },
          "execution_count": 79
        }
      ]
    },
    {
      "cell_type": "markdown",
      "metadata": {
        "id": "GHUiR3DUdA38",
        "colab_type": "text"
      },
      "source": [
        "## feed forward prediction（前馈预测）"
      ]
    },
    {
      "cell_type": "code",
      "metadata": {
        "id": "TjPfcjatdA39",
        "colab_type": "code",
        "outputId": "4f2c8e36-9bf5-4814-8af8-7cc0347fa60c",
        "colab": {
          "base_uri": "https://localhost:8080/",
          "height": 35
        }
      },
      "source": [
        "a1 = X\n",
        "\n",
        "z2 = a1 @ theta1.T # (5000, 401) @ (25,401).T = (5000, 25)\n",
        "z2.shape"
      ],
      "execution_count": 0,
      "outputs": [
        {
          "output_type": "execute_result",
          "data": {
            "text/plain": [
              "(5000, 25)"
            ]
          },
          "metadata": {
            "tags": []
          },
          "execution_count": 80
        }
      ]
    },
    {
      "cell_type": "code",
      "metadata": {
        "id": "S_GcYxbsdA3-",
        "colab_type": "code",
        "outputId": "f0b6c12f-3a3a-430a-d20f-fe1e0affd5bc",
        "colab": {
          "base_uri": "https://localhost:8080/",
          "height": 35
        }
      },
      "source": [
        "z2 = np.insert(z2, 0, values=np.ones(z2.shape[0]), axis=1)\n",
        "\n",
        "a2 = sigmoid(z2)\n",
        "a2.shape"
      ],
      "execution_count": 0,
      "outputs": [
        {
          "output_type": "execute_result",
          "data": {
            "text/plain": [
              "(5000, 26)"
            ]
          },
          "metadata": {
            "tags": []
          },
          "execution_count": 81
        }
      ]
    },
    {
      "cell_type": "code",
      "metadata": {
        "id": "AQRFNj22dA4F",
        "colab_type": "code",
        "outputId": "8e460806-52b2-49b6-9a99-b0a3a8d8a83e",
        "colab": {
          "base_uri": "https://localhost:8080/",
          "height": 35
        }
      },
      "source": [
        "z3 = a2 @ theta2.T\n",
        "z3.shape"
      ],
      "execution_count": 0,
      "outputs": [
        {
          "output_type": "execute_result",
          "data": {
            "text/plain": [
              "(5000, 10)"
            ]
          },
          "metadata": {
            "tags": []
          },
          "execution_count": 82
        }
      ]
    },
    {
      "cell_type": "code",
      "metadata": {
        "id": "ksfOr56udA4G",
        "colab_type": "code",
        "outputId": "13b0b32c-ad6f-43dd-ac8d-74ea4798e166",
        "colab": {
          "base_uri": "https://localhost:8080/",
          "height": 251
        }
      },
      "source": [
        "a3 = sigmoid(z3)\n",
        "a3"
      ],
      "execution_count": 0,
      "outputs": [
        {
          "output_type": "execute_result",
          "data": {
            "text/plain": [
              "array([[0.00013825, 0.0020554 , 0.00304012, ..., 0.00049102, 0.00774326,\n",
              "        0.99622946],\n",
              "       [0.00058776, 0.00285027, 0.00414688, ..., 0.00292311, 0.00235617,\n",
              "        0.99619667],\n",
              "       [0.00010868, 0.0038266 , 0.03058551, ..., 0.07514539, 0.0065704 ,\n",
              "        0.93586278],\n",
              "       ...,\n",
              "       [0.06278247, 0.00450406, 0.03545109, ..., 0.0026367 , 0.68944816,\n",
              "        0.00002744],\n",
              "       [0.00101909, 0.00073436, 0.00037856, ..., 0.01456166, 0.97598976,\n",
              "        0.00023337],\n",
              "       [0.00005908, 0.00054172, 0.0000259 , ..., 0.00700508, 0.73281465,\n",
              "        0.09166961]])"
            ]
          },
          "metadata": {
            "tags": []
          },
          "execution_count": 83
        }
      ]
    },
    {
      "cell_type": "code",
      "metadata": {
        "id": "uL56CUU5dA4J",
        "colab_type": "code",
        "outputId": "97e4f11a-3bdb-4d62-9399-d31ab66ada4e",
        "colab": {
          "base_uri": "https://localhost:8080/",
          "height": 35
        }
      },
      "source": [
        "y_pred = np.argmax(a3, axis=1) + 1  # numpy is 0 base index, +1 for matlab convention，返回沿轴axis最大值的索引，axis=1代表行\n",
        "y_pred.shape"
      ],
      "execution_count": 0,
      "outputs": [
        {
          "output_type": "execute_result",
          "data": {
            "text/plain": [
              "(5000,)"
            ]
          },
          "metadata": {
            "tags": []
          },
          "execution_count": 84
        }
      ]
    },
    {
      "cell_type": "markdown",
      "metadata": {
        "id": "gvsbDe6XdA4K",
        "colab_type": "text"
      },
      "source": [
        "## 准确率\n",
        "\n",
        "<font face=楷体 color=skyblue>\n",
        "神经网络虽然强大，但容易过拟合，训练准确率高并不一定能在实际数据上表现很好\n",
        "</font>"
      ]
    },
    {
      "cell_type": "code",
      "metadata": {
        "id": "edagnkmXdA4K",
        "colab_type": "code",
        "outputId": "3e5dfdb8-7a0f-40a8-fe34-e2fd301006bd",
        "colab": {
          "base_uri": "https://localhost:8080/",
          "height": 323
        }
      },
      "source": [
        "print(classification_report(y, y_pred))"
      ],
      "execution_count": 0,
      "outputs": [
        {
          "output_type": "stream",
          "text": [
            "              precision    recall  f1-score   support\n",
            "\n",
            "           1       0.97      0.98      0.97       500\n",
            "           2       0.98      0.97      0.97       500\n",
            "           3       0.98      0.96      0.97       500\n",
            "           4       0.97      0.97      0.97       500\n",
            "           5       0.98      0.98      0.98       500\n",
            "           6       0.97      0.99      0.98       500\n",
            "           7       0.98      0.97      0.97       500\n",
            "           8       0.98      0.98      0.98       500\n",
            "           9       0.97      0.96      0.96       500\n",
            "          10       0.98      0.99      0.99       500\n",
            "\n",
            "    accuracy                           0.98      5000\n",
            "   macro avg       0.98      0.98      0.98      5000\n",
            "weighted avg       0.98      0.98      0.98      5000\n",
            "\n"
          ],
          "name": "stdout"
        }
      ]
    },
    {
      "cell_type": "code",
      "metadata": {
        "id": "v0DbgrlkdA4L",
        "colab_type": "code",
        "colab": {}
      },
      "source": [
        ""
      ],
      "execution_count": 0,
      "outputs": []
    }
  ]
}