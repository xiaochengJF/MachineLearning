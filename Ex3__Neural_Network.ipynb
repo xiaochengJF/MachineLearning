{
  "nbformat": 4,
  "nbformat_minor": 0,
  "metadata": {
    "anaconda-cloud": {},
    "kernelspec": {
      "display_name": "Python 3",
      "language": "python",
      "name": "python3"
    },
    "language_info": {
      "codemirror_mode": {
        "name": "ipython",
        "version": 3
      },
      "file_extension": ".py",
      "mimetype": "text/x-python",
      "name": "python",
      "nbconvert_exporter": "python",
      "pygments_lexer": "ipython3",
      "version": "3.7.0"
    },
    "colab": {
      "name": "Ex3_ Neural Network",
      "provenance": [],
      "collapsed_sections": [],
      "include_colab_link": true
    }
  },
  "cells": [
    {
      "cell_type": "markdown",
      "metadata": {
        "id": "view-in-github",
        "colab_type": "text"
      },
      "source": [
        "<a href=\"https://colab.research.google.com/github/xiaochengJF/MachineLearning/blob/master/Ex3__Neural_Network.ipynb\" target=\"_parent\"><img src=\"https://colab.research.google.com/assets/colab-badge.svg\" alt=\"Open In Colab\"/></a>"
      ]
    },
    {
      "cell_type": "code",
      "metadata": {
        "id": "8Fvr_6xlHaFI",
        "colab_type": "code",
        "outputId": "57086c74-d365-4034-fbdd-c1b8a66de029",
        "colab": {
          "base_uri": "https://localhost:8080/",
          "height": 127
        }
      },
      "source": [
        "from google.colab import drive\n",
        "drive.mount('/content/drive')"
      ],
      "execution_count": 1,
      "outputs": [
        {
          "output_type": "stream",
          "text": [
            "Go to this URL in a browser: https://accounts.google.com/o/oauth2/auth?client_id=947318989803-6bn6qk8qdgf4n4g3pfee6491hc0brc4i.apps.googleusercontent.com&redirect_uri=urn%3Aietf%3Awg%3Aoauth%3A2.0%3Aoob&scope=email%20https%3A%2F%2Fwww.googleapis.com%2Fauth%2Fdocs.test%20https%3A%2F%2Fwww.googleapis.com%2Fauth%2Fdrive%20https%3A%2F%2Fwww.googleapis.com%2Fauth%2Fdrive.photos.readonly%20https%3A%2F%2Fwww.googleapis.com%2Fauth%2Fpeopleapi.readonly&response_type=code\n",
            "\n",
            "Enter your authorization code:\n",
            "··········\n",
            "Mounted at /content/drive\n"
          ],
          "name": "stdout"
        }
      ]
    },
    {
      "cell_type": "code",
      "metadata": {
        "id": "A9e5KnYwHp2t",
        "colab_type": "code",
        "outputId": "86713742-8140-4375-e978-fbafdb0ef630",
        "colab": {
          "base_uri": "https://localhost:8080/",
          "height": 35
        }
      },
      "source": [
        "cd /content/drive/My Drive/MachineLearning/ex3-neural network"
      ],
      "execution_count": 2,
      "outputs": [
        {
          "output_type": "stream",
          "text": [
            "/content/drive/My Drive/MachineLearning/ex3-neural network\n"
          ],
          "name": "stdout"
        }
      ]
    },
    {
      "cell_type": "markdown",
      "metadata": {
        "id": "sTV3j4zRdA27",
        "colab_type": "text"
      },
      "source": [
        "# neural network（神经网络）"
      ]
    },
    {
      "cell_type": "code",
      "metadata": {
        "id": "_iKxI-QxdA2-",
        "colab_type": "code",
        "colab": {}
      },
      "source": [
        "import matplotlib.pyplot as plt\n",
        "import numpy as np\n",
        "import scipy.io as sio\n",
        "import matplotlib\n",
        "import scipy.optimize as opt\n",
        "from sklearn.metrics import classification_report  # 这个包是评价报告"
      ],
      "execution_count": 0,
      "outputs": []
    },
    {
      "cell_type": "code",
      "metadata": {
        "id": "V6bMjK7FdA3C",
        "colab_type": "code",
        "colab": {}
      },
      "source": [
        "def load_data(path, transpose=True):\n",
        "    data = sio.loadmat(path)\n",
        "    y = data.get('y')  # (5000,1)\n",
        "    y = y.reshape(y.shape[0])  # make it back to column vector\n",
        "\n",
        "    X = data.get('X')  # (5000,400)\n",
        "\n",
        "    if transpose:\n",
        "        # for this dataset, you need a transpose to get the orientation right\n",
        "        X = np.array([im.reshape((20, 20)).T for im in X])\n",
        "\n",
        "        # and I flat the image again to preserve the vector presentation\n",
        "        X = np.array([im.reshape(400) for im in X])\n",
        "\n",
        "    return X, y"
      ],
      "execution_count": 0,
      "outputs": []
    },
    {
      "cell_type": "code",
      "metadata": {
        "id": "Q1RwQCladA3F",
        "colab_type": "code",
        "outputId": "4d1de40b-794f-4068-8df9-5ddc15d98ca6",
        "colab": {
          "base_uri": "https://localhost:8080/",
          "height": 53
        }
      },
      "source": [
        "X, y = load_data('ex3data1.mat')\n",
        "\n",
        "print(X.shape)\n",
        "print(y.shape)"
      ],
      "execution_count": 8,
      "outputs": [
        {
          "output_type": "stream",
          "text": [
            "(5000, 400)\n",
            "(5000,)\n"
          ],
          "name": "stdout"
        }
      ]
    },
    {
      "cell_type": "markdown",
      "metadata": {
        "id": "9UbBAyUOZamz",
        "colab_type": "text"
      },
      "source": [
        "<font face=楷体 color=yellow size=4>疑问：</font>  \n",
        "fig, ax = plt.subplots(figsize=(1, 1))  \n",
        "ax.matshow(image.reshape((20, 20)), cmap=matplotlib.cm.binary)"
      ]
    },
    {
      "cell_type": "code",
      "metadata": {
        "id": "sJFR33yddA3J",
        "colab_type": "code",
        "colab": {}
      },
      "source": [
        "#绘图函数\n",
        "def plot_an_image(image):\n",
        "    \"\"\"\n",
        "    image : (400,)\n",
        "    \"\"\"\n",
        "    fig, ax = plt.subplots(figsize=(1, 1))\n",
        "    ax.matshow(image.reshape((20, 20)), cmap=matplotlib.cm.binary)\n",
        "    plt.xticks(np.array([]))  # just get rid of ticks\n",
        "    plt.yticks(np.array([]))"
      ],
      "execution_count": 0,
      "outputs": []
    },
    {
      "cell_type": "code",
      "metadata": {
        "id": "EwTjnGbEdA3M",
        "colab_type": "code",
        "outputId": "8d958b7c-56a5-4dec-b273-7756edae2087",
        "colab": {
          "base_uri": "https://localhost:8080/",
          "height": 111
        }
      },
      "source": [
        "pick_one = np.random.randint(0, 5000)\n",
        "plot_an_image(X[pick_one, :])\n",
        "plt.show()\n",
        "print('this should be {}'.format(y[pick_one]))"
      ],
      "execution_count": 10,
      "outputs": [
        {
          "output_type": "display_data",
          "data": {
            "image/png": "[encoded data removed]",
            "text/plain": [
              "<Figure size 72x72 with 1 Axes>"
            ]
          },
          "metadata": {
            "tags": []
          }
        },
        {
          "output_type": "stream",
          "text": [
            "this should be 5\n"
          ],
          "name": "stdout"
        }
      ]
    },
    {
      "cell_type": "code",
      "metadata": {
        "id": "IyjB5hFfdA3P",
        "colab_type": "code",
        "colab": {}
      },
      "source": [
        "# 绘图函数，画100张图片\n",
        "def plot_100_image(X):\n",
        "    \"\"\" sample 100 image and show them\n",
        "    assume the image is square\n",
        "\n",
        "    X : (5000, 400)\n",
        "    \"\"\"\n",
        "    size = int(np.sqrt(X.shape[1]))\n",
        "\n",
        "    # sample 100 image, reshape, reorg it\n",
        "    sample_idx = np.random.choice(np.arange(X.shape[0]), 100)  # 100*400\n",
        "    sample_images = X[sample_idx, :]\n",
        "\n",
        "    fig, ax_array = plt.subplots(nrows=10, ncols=10, sharey=True, sharex=True, figsize=(8, 8))\n",
        "\n",
        "    for r in range(10):\n",
        "        for c in range(10):\n",
        "            ax_array[r, c].matshow(sample_images[10 * r + c].reshape((size, size)),\n",
        "                                   cmap=matplotlib.cm.binary)\n",
        "            plt.xticks(np.array([]))\n",
        "            plt.yticks(np.array([]))  "
      ],
      "execution_count": 0,
      "outputs": []
    },
    {
      "cell_type": "code",
      "metadata": {
        "id": "99EYLidEdA3S",
        "colab_type": "code",
        "outputId": "959f5811-b7b5-4ec8-ea4e-36a9f4fd3fdc",
        "colab": {
          "base_uri": "https://localhost:8080/",
          "height": 473
        }
      },
      "source": [
        "plot_100_image(X)\n",
        "plt.show()"
      ],
      "execution_count": 12,
      "outputs": [
        {
          "output_type": "display_data",
          "data": {
            "image/png": "[encoded data removed]",
            "text/plain": [
              "<Figure size 576x576 with 100 Axes>"
            ]
          },
          "metadata": {
            "tags": []
          }
        }
      ]
    },
    {
      "cell_type": "code",
      "metadata": {
        "id": "jKwQXaXZdA3V",
        "colab_type": "code",
        "outputId": "4d13101c-3a1a-497e-c2ba-ece69f7fdd0c",
        "colab": {
          "base_uri": "https://localhost:8080/",
          "height": 53
        }
      },
      "source": [
        "raw_X, raw_y = load_data('ex3data1.mat')\n",
        "print(raw_X.shape)\n",
        "print(raw_y.shape)"
      ],
      "execution_count": 13,
      "outputs": [
        {
          "output_type": "stream",
          "text": [
            "(5000, 400)\n",
            "(5000,)\n"
          ],
          "name": "stdout"
        }
      ]
    },
    {
      "cell_type": "markdown",
      "metadata": {
        "id": "XGFfzR--dA3Y",
        "colab_type": "text"
      },
      "source": [
        "# 准备数据"
      ]
    },
    {
      "cell_type": "code",
      "metadata": {
        "id": "xE9JygnUdA3Z",
        "colab_type": "code",
        "outputId": "b1d3d9b6-c440-4fea-c637-5098ce8438cd",
        "colab": {
          "base_uri": "https://localhost:8080/",
          "height": 35
        }
      },
      "source": [
        "# add intercept=1 for x0\n",
        "X = np.insert(raw_X, 0, values=np.ones(raw_X.shape[0]), axis=1)  # 插入了第一列（全部为1）\n",
        "X.shape"
      ],
      "execution_count": 14,
      "outputs": [
        {
          "output_type": "execute_result",
          "data": {
            "text/plain": [
              "(5000, 401)"
            ]
          },
          "metadata": {
            "tags": []
          },
          "execution_count": 14
        }
      ]
    },
    {
      "cell_type": "code",
      "metadata": {
        "id": "yrzBsi2edA3a",
        "colab_type": "code",
        "outputId": "53c46e1c-7dc0-4ecc-8eb2-edcc63c532c9",
        "colab": {
          "base_uri": "https://localhost:8080/",
          "height": 35
        }
      },
      "source": [
        "# y have 10 categories here. 1..10, they represent digit 0 as category 10 because matlab index start at 1\n",
        "# I'll ditit 0, index 0 again\n",
        "y_matrix = []\n",
        "\n",
        "for k in range(1, 11):\n",
        "    y_matrix.append((raw_y == k).astype(int))    # 见配图 \"向量化标签.png\"\n",
        "\n",
        "# last one is k==10, it's digit 0, bring it to the first position，最后一列k=10，都是0，把最后一列放到第一列\n",
        "y_matrix = [y_matrix[-1]] + y_matrix[:-1]\n",
        "y = np.array(y_matrix)\n",
        "\n",
        "y.shape\n",
        "\n",
        "# 扩展 5000*1 到 5000*10\n",
        "#     比如 y=10 -> [0, 0, 0, 0, 0, 0, 0, 0, 0, 1]: ndarray\n",
        "#     \"\"\""
      ],
      "execution_count": 15,
      "outputs": [
        {
          "output_type": "execute_result",
          "data": {
            "text/plain": [
              "(10, 5000)"
            ]
          },
          "metadata": {
            "tags": []
          },
          "execution_count": 15
        }
      ]
    },
    {
      "cell_type": "code",
      "metadata": {
        "id": "3TpXXQWNdA3b",
        "colab_type": "code",
        "outputId": "2dc08823-991d-4c05-b26e-4e11661fea67",
        "colab": {
          "base_uri": "https://localhost:8080/",
          "height": 143
        }
      },
      "source": [
        "y"
      ],
      "execution_count": 16,
      "outputs": [
        {
          "output_type": "execute_result",
          "data": {
            "text/plain": [
              "array([[1, 1, 1, ..., 0, 0, 0],\n",
              "       [0, 0, 0, ..., 0, 0, 0],\n",
              "       [0, 0, 0, ..., 0, 0, 0],\n",
              "       ...,\n",
              "       [0, 0, 0, ..., 0, 0, 0],\n",
              "       [0, 0, 0, ..., 0, 0, 0],\n",
              "       [0, 0, 0, ..., 1, 1, 1]])"
            ]
          },
          "metadata": {
            "tags": []
          },
          "execution_count": 16
        }
      ]
    },
    {
      "cell_type": "markdown",
      "metadata": {
        "id": "OLFxb0QVdA3d",
        "colab_type": "text"
      },
      "source": [
        "# train 1 model（训练一维模型）"
      ]
    },
    {
      "cell_type": "code",
      "metadata": {
        "id": "1nGMwdy5dA3d",
        "colab_type": "code",
        "colab": {}
      },
      "source": [
        "def cost(theta, X, y):\n",
        "    ''' cost fn is -l(theta) for you to minimize'''\n",
        "    return np.mean(-y * np.log(sigmoid(X @ theta)) - (1 - y) * np.log(1 - sigmoid(X @ theta)))\n"
      ],
      "execution_count": 0,
      "outputs": []
    },
    {
      "cell_type": "code",
      "metadata": {
        "id": "1zA3eunYdA3e",
        "colab_type": "code",
        "colab": {}
      },
      "source": [
        "def regularized_cost(theta, X, y, l=1):\n",
        "    '''you don't penalize theta_0'''\n",
        "    theta_j1_to_n = theta[1:]\n",
        "    regularized_term = (l / (2 * len(X))) * np.power(theta_j1_to_n, 2).sum()\n",
        "\n",
        "    return cost(theta, X, y) + regularized_term"
      ],
      "execution_count": 0,
      "outputs": []
    },
    {
      "cell_type": "code",
      "metadata": {
        "id": "2eYEgF3MdA3g",
        "colab_type": "code",
        "colab": {}
      },
      "source": [
        "def regularized_gradient(theta, X, y, l=1):\n",
        "    '''still, leave theta_0 alone'''\n",
        "    theta_j1_to_n = theta[1:]\n",
        "    regularized_theta = (l / len(X)) * theta_j1_to_n\n",
        "\n",
        "    # by doing this, no offset is on theta_0\n",
        "    regularized_term = np.concatenate([np.array([0]), regularized_theta])\n",
        "\n",
        "    return gradient(theta, X, y) + regularized_term"
      ],
      "execution_count": 0,
      "outputs": []
    },
    {
      "cell_type": "code",
      "metadata": {
        "id": "LVd3gdWEdA3h",
        "colab_type": "code",
        "colab": {}
      },
      "source": [
        "def sigmoid(z):\n",
        "    return 1 / (1 + np.exp(-z))"
      ],
      "execution_count": 0,
      "outputs": []
    },
    {
      "cell_type": "code",
      "metadata": {
        "id": "3cNuOomldA3j",
        "colab_type": "code",
        "colab": {}
      },
      "source": [
        "def gradient(theta, X, y):\n",
        "    '''just 1 batch gradient'''\n",
        "    return (1 / len(X)) * X.T @ (sigmoid(X @ theta) - y)\n"
      ],
      "execution_count": 0,
      "outputs": []
    },
    {
      "cell_type": "code",
      "metadata": {
        "id": "Gg6SjiNhdA3k",
        "colab_type": "code",
        "colab": {}
      },
      "source": [
        "def logistic_regression(X, y, l=1):\n",
        "    \"\"\"generalized logistic regression\n",
        "    args:\n",
        "        X: feature matrix, (m, n+1) # with incercept x0=1\n",
        "        y: target vector, (m, )\n",
        "        l: lambda constant for regularization\n",
        "\n",
        "    return: trained parameters\n",
        "    \"\"\"\n",
        "    # init theta\n",
        "    theta = np.zeros(X.shape[1])\n",
        "\n",
        "    # train it\n",
        "    res = opt.minimize(fun=regularized_cost,\n",
        "                       x0=theta,\n",
        "                       args=(X, y, l),\n",
        "                       method='TNC',\n",
        "                       jac=regularized_gradient,\n",
        "                       options={'disp': True})\n",
        "    # get trained parameters\n",
        "    final_theta = res.x\n",
        "\n",
        "    return final_theta"
      ],
      "execution_count": 0,
      "outputs": []
    },
    {
      "cell_type": "code",
      "metadata": {
        "id": "79QN90ULdA3n",
        "colab_type": "code",
        "colab": {}
      },
      "source": [
        "def predict(x, theta):\n",
        "    prob = sigmoid(x @ theta)\n",
        "    return (prob >= 0.5).astype(int)\n"
      ],
      "execution_count": 0,
      "outputs": []
    },
    {
      "cell_type": "code",
      "metadata": {
        "id": "Lrf2jWRBdA3p",
        "colab_type": "code",
        "colab": {}
      },
      "source": [
        "t0 = logistic_regression(X, y[0])"
      ],
      "execution_count": 0,
      "outputs": []
    },
    {
      "cell_type": "code",
      "metadata": {
        "id": "d_gL3BBddA3s",
        "colab_type": "code",
        "outputId": "ddd54f28-6bab-4f00-d7be-63cba0ce4f78",
        "colab": {
          "base_uri": "https://localhost:8080/",
          "height": 53
        }
      },
      "source": [
        "print(t0.shape)\n",
        "y_pred = predict(X, t0)\n",
        "print('Accuracy={}'.format(np.mean(y[0] == y_pred)))"
      ],
      "execution_count": 25,
      "outputs": [
        {
          "output_type": "stream",
          "text": [
            "(401,)\n",
            "Accuracy=0.9974\n"
          ],
          "name": "stdout"
        }
      ]
    },
    {
      "cell_type": "markdown",
      "metadata": {
        "id": "_bwWcCKjdA3u",
        "colab_type": "text"
      },
      "source": [
        "# train k model（训练k维模型）"
      ]
    },
    {
      "cell_type": "code",
      "metadata": {
        "id": "ut9ReIAJdA3v",
        "colab_type": "code",
        "outputId": "80d9b3a7-6153-4796-9a69-7cb1b17d17f8",
        "colab": {
          "base_uri": "https://localhost:8080/",
          "height": 35
        }
      },
      "source": [
        "k_theta = np.array([logistic_regression(X, y[k]) for k in range(10)])\n",
        "print(k_theta.shape)"
      ],
      "execution_count": 26,
      "outputs": [
        {
          "output_type": "stream",
          "text": [
            "(10, 401)\n"
          ],
          "name": "stdout"
        }
      ]
    },
    {
      "cell_type": "markdown",
      "metadata": {
        "id": "LY0nR2pSdA3w",
        "colab_type": "text"
      },
      "source": [
        "# 进行预测\n",
        "* think about the shape of k_theta, now you are making $X\\times\\theta^T$\n",
        "> $(5000, 401) \\times (10, 401).T = (5000, 10)$\n",
        "* after that, you run sigmoid to get probabilities and for each row, you find the highest prob as the answer"
      ]
    },
    {
      "cell_type": "code",
      "metadata": {
        "id": "ZJDmPnPHdA3w",
        "colab_type": "code",
        "colab": {}
      },
      "source": [
        "prob_matrix = sigmoid(X @ k_theta.T)"
      ],
      "execution_count": 0,
      "outputs": []
    },
    {
      "cell_type": "code",
      "metadata": {
        "id": "ZprbMhCVdA3y",
        "colab_type": "code",
        "outputId": "60c62283-713f-4f89-cd1b-8f215725aa27",
        "colab": {
          "base_uri": "https://localhost:8080/",
          "height": 251
        }
      },
      "source": [
        "np.set_printoptions(suppress=True)\n",
        "prob_matrix"
      ],
      "execution_count": 28,
      "outputs": [
        {
          "output_type": "execute_result",
          "data": {
            "text/plain": [
              "array([[0.99577434, 0.        , 0.00053458, ..., 0.0000647 , 0.00003916,\n",
              "        0.00172131],\n",
              "       [0.99834578, 0.0000001 , 0.00005605, ..., 0.00009684, 0.00000291,\n",
              "        0.00008486],\n",
              "       [0.99139726, 0.        , 0.00056872, ..., 0.00000655, 0.02654589,\n",
              "        0.00197421],\n",
              "       ...,\n",
              "       [0.00000068, 0.04144617, 0.00321069, ..., 0.00012721, 0.00297692,\n",
              "        0.70758389],\n",
              "       [0.00001844, 0.00000013, 0.00000009, ..., 0.00164753, 0.0681323 ,\n",
              "        0.86112386],\n",
              "       [0.02881215, 0.        , 0.00012978, ..., 0.36617875, 0.00498616,\n",
              "        0.14813425]])"
            ]
          },
          "metadata": {
            "tags": []
          },
          "execution_count": 28
        }
      ]
    },
    {
      "cell_type": "code",
      "metadata": {
        "id": "LRML09cYdA3z",
        "colab_type": "code",
        "colab": {}
      },
      "source": [
        "y_pred = np.argmax(prob_matrix, axis=1)#返回沿轴axis最大值的索引，axis=1代表行"
      ],
      "execution_count": 0,
      "outputs": []
    },
    {
      "cell_type": "code",
      "metadata": {
        "id": "GOQjZRuqdA30",
        "colab_type": "code",
        "outputId": "1e763a7f-0e3e-458e-c499-f6965a818c0a",
        "colab": {
          "base_uri": "https://localhost:8080/",
          "height": 35
        }
      },
      "source": [
        "y_pred"
      ],
      "execution_count": 30,
      "outputs": [
        {
          "output_type": "execute_result",
          "data": {
            "text/plain": [
              "array([0, 0, 0, ..., 9, 9, 7])"
            ]
          },
          "metadata": {
            "tags": []
          },
          "execution_count": 30
        }
      ]
    },
    {
      "cell_type": "code",
      "metadata": {
        "id": "fpjlLzrddA31",
        "colab_type": "code",
        "colab": {}
      },
      "source": [
        "y_answer = raw_y.copy()\n",
        "y_answer[y_answer==10] = 0"
      ],
      "execution_count": 0,
      "outputs": []
    },
    {
      "cell_type": "code",
      "metadata": {
        "id": "_O5Yb1eidA32",
        "colab_type": "code",
        "outputId": "983ea878-1496-49f0-d812-e83c69a3a445",
        "colab": {
          "base_uri": "https://localhost:8080/",
          "height": 323
        }
      },
      "source": [
        "print(classification_report(y_answer, y_pred))"
      ],
      "execution_count": 32,
      "outputs": [
        {
          "output_type": "stream",
          "text": [
            "              precision    recall  f1-score   support\n",
            "\n",
            "           0       0.97      0.99      0.98       500\n",
            "           1       0.95      0.99      0.97       500\n",
            "           2       0.95      0.92      0.93       500\n",
            "           3       0.95      0.91      0.93       500\n",
            "           4       0.95      0.95      0.95       500\n",
            "           5       0.92      0.92      0.92       500\n",
            "           6       0.97      0.98      0.97       500\n",
            "           7       0.95      0.95      0.95       500\n",
            "           8       0.93      0.92      0.92       500\n",
            "           9       0.92      0.92      0.92       500\n",
            "\n",
            "    accuracy                           0.94      5000\n",
            "   macro avg       0.94      0.94      0.94      5000\n",
            "weighted avg       0.94      0.94      0.94      5000\n",
            "\n"
          ],
          "name": "stdout"
        }
      ]
    },
    {
      "cell_type": "markdown",
      "metadata": {
        "id": "UqmbyR_3dA33",
        "colab_type": "text"
      },
      "source": [
        "# 神经网络模型图示\n",
        "<img style=\"float: left;\" src=\"https://github.com/fengdu78/Coursera-ML-AndrewNg-Notes/blob/master/code/img/nn_model.png?raw=1\">"
      ]
    },
    {
      "cell_type": "code",
      "metadata": {
        "id": "2F36kCOudA34",
        "colab_type": "code",
        "colab": {}
      },
      "source": [
        "def load_weight(path):\n",
        "    data = sio.loadmat(path)\n",
        "    return data['Theta1'], data['Theta2']\n"
      ],
      "execution_count": 0,
      "outputs": []
    },
    {
      "cell_type": "code",
      "metadata": {
        "id": "f_5FLo1vdA35",
        "colab_type": "code",
        "outputId": "65dac076-778d-4c2a-fdc5-f8532aaa603e",
        "colab": {
          "base_uri": "https://localhost:8080/",
          "height": 35
        }
      },
      "source": [
        "theta1, theta2 = load_weight('ex3weights.mat')\n",
        "\n",
        "theta1.shape, theta2.shape"
      ],
      "execution_count": 34,
      "outputs": [
        {
          "output_type": "execute_result",
          "data": {
            "text/plain": [
              "((25, 401), (10, 26))"
            ]
          },
          "metadata": {
            "tags": []
          },
          "execution_count": 34
        }
      ]
    },
    {
      "cell_type": "markdown",
      "metadata": {
        "id": "hBfE8Fi2dA37",
        "colab_type": "text"
      },
      "source": [
        " 因此在数据加载函数中，原始数据做了转置，然而，转置的数据与给定的参数不兼容，因为这些参数是由原始数据训练的。 所以为了应用给定的参数，我需要使用原始数据（不转置）"
      ]
    },
    {
      "cell_type": "code",
      "metadata": {
        "id": "aF0m0edodA37",
        "colab_type": "code",
        "outputId": "2ee05b55-2555-46ee-abee-3994ec933c10",
        "colab": {
          "base_uri": "https://localhost:8080/",
          "height": 35
        }
      },
      "source": [
        "X, y = load_data('ex3data1.mat',transpose=False)\n",
        "\n",
        "X = np.insert(X, 0, values=np.ones(X.shape[0]), axis=1)  # intercept\n",
        "\n",
        "X.shape, y.shape"
      ],
      "execution_count": 35,
      "outputs": [
        {
          "output_type": "execute_result",
          "data": {
            "text/plain": [
              "((5000, 401), (5000,))"
            ]
          },
          "metadata": {
            "tags": []
          },
          "execution_count": 35
        }
      ]
    },
    {
      "cell_type": "markdown",
      "metadata": {
        "id": "GHUiR3DUdA38",
        "colab_type": "text"
      },
      "source": [
        "# feed forward prediction（前馈预测）"
      ]
    },
    {
      "cell_type": "code",
      "metadata": {
        "id": "TjPfcjatdA39",
        "colab_type": "code",
        "colab": {}
      },
      "source": [
        "a1 = X"
      ],
      "execution_count": 0,
      "outputs": []
    },
    {
      "cell_type": "code",
      "metadata": {
        "id": "S_GcYxbsdA3-",
        "colab_type": "code",
        "outputId": "74f574ee-71c0-415f-f646-88d78ddc08bf",
        "colab": {
          "base_uri": "https://localhost:8080/",
          "height": 35
        }
      },
      "source": [
        "z2 = a1 @ theta1.T # (5000, 401) @ (25,401).T = (5000, 25)\n",
        "z2.shape"
      ],
      "execution_count": 37,
      "outputs": [
        {
          "output_type": "execute_result",
          "data": {
            "text/plain": [
              "(5000, 25)"
            ]
          },
          "metadata": {
            "tags": []
          },
          "execution_count": 37
        }
      ]
    },
    {
      "cell_type": "code",
      "metadata": {
        "id": "RgNco8SSdA4C",
        "colab_type": "code",
        "colab": {}
      },
      "source": [
        "z2 = np.insert(z2, 0, values=np.ones(z2.shape[0]), axis=1)"
      ],
      "execution_count": 0,
      "outputs": []
    },
    {
      "cell_type": "code",
      "metadata": {
        "id": "eRCtgeXKdA4D",
        "colab_type": "code",
        "outputId": "5e97cfaf-2a30-46dd-bac9-1fb90741b752",
        "colab": {
          "base_uri": "https://localhost:8080/",
          "height": 35
        }
      },
      "source": [
        "a2 = sigmoid(z2)\n",
        "a2.shape"
      ],
      "execution_count": 39,
      "outputs": [
        {
          "output_type": "execute_result",
          "data": {
            "text/plain": [
              "(5000, 26)"
            ]
          },
          "metadata": {
            "tags": []
          },
          "execution_count": 39
        }
      ]
    },
    {
      "cell_type": "code",
      "metadata": {
        "id": "AQRFNj22dA4F",
        "colab_type": "code",
        "outputId": "be932165-4723-45f6-d4ab-b41167eebdc0",
        "colab": {
          "base_uri": "https://localhost:8080/",
          "height": 35
        }
      },
      "source": [
        "z3 = a2 @ theta2.T\n",
        "z3.shape"
      ],
      "execution_count": 40,
      "outputs": [
        {
          "output_type": "execute_result",
          "data": {
            "text/plain": [
              "(5000, 10)"
            ]
          },
          "metadata": {
            "tags": []
          },
          "execution_count": 40
        }
      ]
    },
    {
      "cell_type": "code",
      "metadata": {
        "id": "ksfOr56udA4G",
        "colab_type": "code",
        "outputId": "2e6b01b0-1cb3-4dc7-8d56-0bf018c1bfdf",
        "colab": {
          "base_uri": "https://localhost:8080/",
          "height": 251
        }
      },
      "source": [
        "a3 = sigmoid(z3)\n",
        "a3"
      ],
      "execution_count": 41,
      "outputs": [
        {
          "output_type": "execute_result",
          "data": {
            "text/plain": [
              "array([[0.00013825, 0.0020554 , 0.00304012, ..., 0.00049102, 0.00774326,\n",
              "        0.99622946],\n",
              "       [0.00058776, 0.00285027, 0.00414688, ..., 0.00292311, 0.00235617,\n",
              "        0.99619667],\n",
              "       [0.00010868, 0.0038266 , 0.03058551, ..., 0.07514539, 0.0065704 ,\n",
              "        0.93586278],\n",
              "       ...,\n",
              "       [0.06278247, 0.00450406, 0.03545109, ..., 0.0026367 , 0.68944816,\n",
              "        0.00002744],\n",
              "       [0.00101909, 0.00073436, 0.00037856, ..., 0.01456166, 0.97598976,\n",
              "        0.00023337],\n",
              "       [0.00005908, 0.00054172, 0.0000259 , ..., 0.00700508, 0.73281465,\n",
              "        0.09166961]])"
            ]
          },
          "metadata": {
            "tags": []
          },
          "execution_count": 41
        }
      ]
    },
    {
      "cell_type": "code",
      "metadata": {
        "id": "uL56CUU5dA4J",
        "colab_type": "code",
        "outputId": "bc0d4028-10c0-459b-f420-cae4b3bcdfa2",
        "colab": {
          "base_uri": "https://localhost:8080/",
          "height": 35
        }
      },
      "source": [
        "y_pred = np.argmax(a3, axis=1) + 1  # numpy is 0 base index, +1 for matlab convention，返回沿轴axis最大值的索引，axis=1代表行\n",
        "y_pred.shape"
      ],
      "execution_count": 42,
      "outputs": [
        {
          "output_type": "execute_result",
          "data": {
            "text/plain": [
              "(5000,)"
            ]
          },
          "metadata": {
            "tags": []
          },
          "execution_count": 42
        }
      ]
    },
    {
      "cell_type": "markdown",
      "metadata": {
        "id": "gvsbDe6XdA4K",
        "colab_type": "text"
      },
      "source": [
        "# 准确率\n",
        " \n",
        "虽然人工神经网络是非常强大的模型，但训练数据的准确性并不能完美预测实际数据，在这里很容易过拟合。"
      ]
    },
    {
      "cell_type": "code",
      "metadata": {
        "id": "edagnkmXdA4K",
        "colab_type": "code",
        "outputId": "a8e4ecde-d989-409d-cd28-6113c3d2c1bf",
        "colab": {
          "base_uri": "https://localhost:8080/",
          "height": 323
        }
      },
      "source": [
        "print(classification_report(y, y_pred))"
      ],
      "execution_count": 43,
      "outputs": [
        {
          "output_type": "stream",
          "text": [
            "              precision    recall  f1-score   support\n",
            "\n",
            "           1       0.97      0.98      0.97       500\n",
            "           2       0.98      0.97      0.97       500\n",
            "           3       0.98      0.96      0.97       500\n",
            "           4       0.97      0.97      0.97       500\n",
            "           5       0.98      0.98      0.98       500\n",
            "           6       0.97      0.99      0.98       500\n",
            "           7       0.98      0.97      0.97       500\n",
            "           8       0.98      0.98      0.98       500\n",
            "           9       0.97      0.96      0.96       500\n",
            "          10       0.98      0.99      0.99       500\n",
            "\n",
            "    accuracy                           0.98      5000\n",
            "   macro avg       0.98      0.98      0.98      5000\n",
            "weighted avg       0.98      0.98      0.98      5000\n",
            "\n"
          ],
          "name": "stdout"
        }
      ]
    },
    {
      "cell_type": "code",
      "metadata": {
        "id": "v0DbgrlkdA4L",
        "colab_type": "code",
        "colab": {}
      },
      "source": [
        ""
      ],
      "execution_count": 0,
      "outputs": []
    }
  ]
}