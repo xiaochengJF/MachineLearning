{
  "nbformat": 4,
  "nbformat_minor": 0,
  "metadata": {
    "anaconda-cloud": {},
    "kernelspec": {
      "name": "python3",
      "display_name": "Python 3"
    },
    "language_info": {
      "codemirror_mode": {
        "name": "ipython",
        "version": 3
      },
      "file_extension": ".py",
      "mimetype": "text/x-python",
      "name": "python",
      "nbconvert_exporter": "python",
      "pygments_lexer": "ipython3",
      "version": "3.6.2"
    },
    "colab": {
      "name": "Ex5_Bais VS Variance",
      "provenance": [],
      "collapsed_sections": [],
      "toc_visible": true,
      "include_colab_link": true
    },
    "accelerator": "GPU"
  },
  "cells": [
    {
      "cell_type": "markdown",
      "metadata": {
        "id": "view-in-github",
        "colab_type": "text"
      },
      "source": [
        "<a href=\"https://colab.research.google.com/github/xiaochengJF/MachineLearning/blob/master/Ex5_Bais_VS_Variance.ipynb\" target=\"_parent\"><img src=\"https://colab.research.google.com/assets/colab-badge.svg\" alt=\"Open In Colab\"/></a>"
      ]
    },
    {
      "cell_type": "code",
      "metadata": {
        "id": "SydFXsEWwtU1",
        "colab_type": "code",
        "outputId": "74a7f93c-9774-4f37-bb11-9e66d41d7b09",
        "colab": {
          "base_uri": "https://localhost:8080/",
          "height": 127
        }
      },
      "source": [
        "from google.colab import drive\n",
        "drive.mount('/content/drive')"
      ],
      "execution_count": 1,
      "outputs": [
        {
          "output_type": "stream",
          "text": [
            "Go to this URL in a browser: https://accounts.google.com/o/oauth2/auth?client_id=947318989803-6bn6qk8qdgf4n4g3pfee6491hc0brc4i.apps.googleusercontent.com&redirect_uri=urn%3Aietf%3Awg%3Aoauth%3A2.0%3Aoob&scope=email%20https%3A%2F%2Fwww.googleapis.com%2Fauth%2Fdocs.test%20https%3A%2F%2Fwww.googleapis.com%2Fauth%2Fdrive%20https%3A%2F%2Fwww.googleapis.com%2Fauth%2Fdrive.photos.readonly%20https%3A%2F%2Fwww.googleapis.com%2Fauth%2Fpeopleapi.readonly&response_type=code\n",
            "\n",
            "Enter your authorization code:\n",
            "··········\n",
            "Mounted at /content/drive\n"
          ],
          "name": "stdout"
        }
      ]
    },
    {
      "cell_type": "code",
      "metadata": {
        "id": "28kgMYfDxrK-",
        "colab_type": "code",
        "outputId": "34c5133f-d109-4e19-ca9c-13cda91d5c08",
        "colab": {
          "base_uri": "https://localhost:8080/",
          "height": 35
        }
      },
      "source": [
        "cd /content/drive/My Drive/MachineLearning/ex5-bias vs variance"
      ],
      "execution_count": 2,
      "outputs": [
        {
          "output_type": "stream",
          "text": [
            "/content/drive/My Drive/MachineLearning/ex5-bias vs variance\n"
          ],
          "name": "stdout"
        }
      ]
    },
    {
      "cell_type": "markdown",
      "metadata": {
        "id": "1fitnMBlPW6P",
        "colab_type": "text"
      },
      "source": [
        "# 偏差和方差"
      ]
    },
    {
      "cell_type": "code",
      "metadata": {
        "id": "zHQtaitxPW6R",
        "colab_type": "code",
        "colab": {}
      },
      "source": [
        "import numpy as np\n",
        "import scipy.io as sio\n",
        "import scipy.optimize as opt\n",
        "import pandas as pd\n",
        "import matplotlib.pyplot as plt\n",
        "import seaborn as sns"
      ],
      "execution_count": 0,
      "outputs": []
    },
    {
      "cell_type": "code",
      "metadata": {
        "id": "nFI9GpgRPW6T",
        "colab_type": "code",
        "colab": {}
      },
      "source": [
        "def load_data():\n",
        "    \"\"\"for ex5\n",
        "    d['X'] shape = (12, 1)\n",
        "    pandas has trouble taking this 2d ndarray to construct a dataframe, so I ravel\n",
        "    the results\n",
        "    \"\"\"\n",
        "    d = sio.loadmat('ex5data1.mat')\n",
        "    return map(np.ravel, [d['X'], d['y'], d['Xval'], d['yval'], d['Xtest'], d['ytest']])"
      ],
      "execution_count": 0,
      "outputs": []
    },
    {
      "cell_type": "code",
      "metadata": {
        "id": "KKigPa9xPW6U",
        "colab_type": "code",
        "colab": {}
      },
      "source": [
        "X, y, Xval, yval, Xtest, ytest = load_data()"
      ],
      "execution_count": 0,
      "outputs": []
    },
    {
      "cell_type": "code",
      "metadata": {
        "id": "OH8stmg1PW6W",
        "colab_type": "code",
        "colab": {}
      },
      "source": [
        "df = pd.DataFrame({'water_level':X, 'flow':y})\n",
        "\n",
        "sns.lmplot('water_level', 'flow', data=df, fit_reg=False, size=7)\n",
        "plt.show()"
      ],
      "execution_count": 0,
      "outputs": []
    },
    {
      "cell_type": "code",
      "metadata": {
        "id": "8SGv55FhPW6Y",
        "colab_type": "code",
        "colab": {}
      },
      "source": [
        "X, Xval, Xtest = [np.insert(x.reshape(x.shape[0], 1), 0, np.ones(x.shape[0]), axis=1) for x in (X, Xval, Xtest)]"
      ],
      "execution_count": 0,
      "outputs": []
    },
    {
      "cell_type": "markdown",
      "metadata": {
        "id": "e-ZWC4wTPW6Z",
        "colab_type": "text"
      },
      "source": [
        "# 代价函数\n",
        "$$J(\\theta)=\\frac1{2m}\\sum^m_{i=1}\\left(h_\\theta(x^{(i)})-y^{(i)}\\right)^2$$"
      ]
    },
    {
      "cell_type": "code",
      "metadata": {
        "id": "9auW6MjjPW6a",
        "colab_type": "code",
        "colab": {}
      },
      "source": [
        "def cost(theta, X, y):\n",
        "    \"\"\"\n",
        "    X: R(m*n), m records, n features\n",
        "    y: R(m)\n",
        "    theta : R(n), linear regression parameters\n",
        "    \"\"\"\n",
        "    m = X.shape[0]\n",
        "\n",
        "    inner = X @ theta - y  # R(m*1)\n",
        "\n",
        "    # 1*m @ m*1 = 1*1 in matrix multiplication\n",
        "    # but you know numpy didn't do transpose in 1d array, so here is just a\n",
        "    # vector inner product to itselves\n",
        "    square_sum = inner.T @ inner\n",
        "    cost = square_sum / (2 * m)\n",
        "\n",
        "    return cost"
      ],
      "execution_count": 0,
      "outputs": []
    },
    {
      "cell_type": "code",
      "metadata": {
        "id": "ChcgQUezPW6b",
        "colab_type": "code",
        "outputId": "aa9422b3-accc-438a-e141-aa9f1481a8bf",
        "colab": {
          "base_uri": "https://localhost:8080/",
          "height": 35
        }
      },
      "source": [
        "theta = np.ones(X.shape[1])\n",
        "cost(theta, X, y)"
      ],
      "execution_count": 8,
      "outputs": [
        {
          "output_type": "execute_result",
          "data": {
            "text/plain": [
              "303.9515255535976"
            ]
          },
          "metadata": {
            "tags": []
          },
          "execution_count": 8
        }
      ]
    },
    {
      "cell_type": "markdown",
      "metadata": {
        "id": "f3P6WLWoPW6c",
        "colab_type": "text"
      },
      "source": [
        "# 梯度\n",
        "$$\\theta_j：=\\theta_j-\\alpha\\frac\\partial{\\partial\\theta_j}J(\\theta)$$"
      ]
    },
    {
      "cell_type": "code",
      "metadata": {
        "id": "DMwp7Lg5PW6d",
        "colab_type": "code",
        "colab": {}
      },
      "source": [
        "def gradient(theta, X, y):\n",
        "    m = X.shape[0]\n",
        "\n",
        "    inner = X.T @ (X @ theta - y)  # (m,n).T @ (m, 1) -> (n, 1)\n",
        "\n",
        "    return inner / m"
      ],
      "execution_count": 0,
      "outputs": []
    },
    {
      "cell_type": "code",
      "metadata": {
        "id": "UAqK2hD7PW6e",
        "colab_type": "code",
        "outputId": "0af32bb0-de88-44a7-f8f4-79cc47aed678",
        "colab": {
          "base_uri": "https://localhost:8080/",
          "height": 35
        }
      },
      "source": [
        "gradient(theta, X, y)"
      ],
      "execution_count": 10,
      "outputs": [
        {
          "output_type": "execute_result",
          "data": {
            "text/plain": [
              "array([-15.30301567, 598.16741084])"
            ]
          },
          "metadata": {
            "tags": []
          },
          "execution_count": 10
        }
      ]
    },
    {
      "cell_type": "markdown",
      "metadata": {
        "id": "PbWQYWDsPW6g",
        "colab_type": "text"
      },
      "source": [
        "# 正则化梯度\n",
        "$$\\begin{aligned}\n",
        "\\frac{\\partial J(\\theta)}{\\partial\\theta_0}&=\n",
        "\\frac1{m}\\sum^m_{i=1}\\left(h_\\theta(x^{(i)})-y^{(i)}\\right)x_j^{(i)}&\\qquad\\text{for $j=0$}\\\\\n",
        "\\frac{\\partial J(\\theta)}{\\partial\\theta_j}&=\n",
        "\\left(\\frac1{m}\\sum^m_{i=1}\\left(h_\\theta(x^{(i)})-y^{(i)}\\right)x_j^{(i)}\\right)+\\frac\\lambda m\\theta_j&\\qquad\\text{for $j\\geq1$}\n",
        "\\end{aligned}$$"
      ]
    },
    {
      "cell_type": "code",
      "metadata": {
        "id": "Ks95zC_2PW6h",
        "colab_type": "code",
        "colab": {}
      },
      "source": [
        "def regularized_gradient(theta, X, y, l=1):\n",
        "    m = X.shape[0]\n",
        "\n",
        "    regularized_term = theta.copy()  # same shape as theta\n",
        "    regularized_term[0] = 0  # don't regularize intercept theta\n",
        "\n",
        "    regularized_term = (l / m) * regularized_term\n",
        "\n",
        "    return gradient(theta, X, y) + regularized_term"
      ],
      "execution_count": 0,
      "outputs": []
    },
    {
      "cell_type": "code",
      "metadata": {
        "id": "d2IgyYGfPW6i",
        "colab_type": "code",
        "outputId": "0cc2e8ba-e617-45a7-c9e9-2ebe7102d2c8",
        "colab": {
          "base_uri": "https://localhost:8080/",
          "height": 35
        }
      },
      "source": [
        "regularized_gradient(theta, X, y)"
      ],
      "execution_count": 12,
      "outputs": [
        {
          "output_type": "execute_result",
          "data": {
            "text/plain": [
              "array([-15.30301567, 598.25074417])"
            ]
          },
          "metadata": {
            "tags": []
          },
          "execution_count": 12
        }
      ]
    },
    {
      "cell_type": "markdown",
      "metadata": {
        "id": "tYj-wn3JPW6k",
        "colab_type": "text"
      },
      "source": [
        "# 拟合数据\n",
        "\n",
        "<font face=楷体 color=skyblue size=4>正则化项 $\\lambda=0$</font>"
      ]
    },
    {
      "cell_type": "code",
      "metadata": {
        "id": "di3xLyeCPW6k",
        "colab_type": "code",
        "colab": {}
      },
      "source": [
        "def linear_regression_np(X, y, l=1):\n",
        "    \"\"\"linear regression\n",
        "    args:\n",
        "        X: feature matrix, (m, n+1) # with incercept x0=1\n",
        "        y: target vector, (m, )\n",
        "        l: lambda constant for regularization\n",
        "\n",
        "    return: trained parameters\n",
        "    \"\"\"\n",
        "    # init theta\n",
        "    theta = np.ones(X.shape[1])\n",
        "\n",
        "    # train it\n",
        "    res = opt.minimize(fun=regularized_cost,\n",
        "                       x0=theta,\n",
        "                       args=(X, y, l),\n",
        "                       method='TNC',\n",
        "                       jac=regularized_gradient,\n",
        "                       options={'disp': True})\n",
        "    return res\n"
      ],
      "execution_count": 0,
      "outputs": []
    },
    {
      "cell_type": "code",
      "metadata": {
        "id": "wk4boGibPW6l",
        "colab_type": "code",
        "colab": {}
      },
      "source": [
        "def regularized_cost(theta, X, y, l=1):\n",
        "    m = X.shape[0]\n",
        "\n",
        "    regularized_term = (l / (2 * m)) * np.power(theta[1:], 2).sum()\n",
        "\n",
        "    return cost(theta, X, y) + regularized_term"
      ],
      "execution_count": 0,
      "outputs": []
    },
    {
      "cell_type": "code",
      "metadata": {
        "id": "LJd3ij9yPW6n",
        "colab_type": "code",
        "colab": {}
      },
      "source": [
        "theta = np.ones(X.shape[0])\n",
        "\n",
        "final_theta = linear_regression_np(X, y, l=0).get('x')"
      ],
      "execution_count": 0,
      "outputs": []
    },
    {
      "cell_type": "code",
      "metadata": {
        "id": "5yH1s7aEPW6o",
        "colab_type": "code",
        "outputId": "23c680b7-fa93-4a18-9891-318d83a7628a",
        "colab": {
          "base_uri": "https://localhost:8080/",
          "height": 269
        }
      },
      "source": [
        "b = final_theta[0]  # intercept\n",
        "m = final_theta[1]  # slope\n",
        "\n",
        "plt.scatter(X[:,1], y, label=\"Training data\")\n",
        "plt.plot(X[:, 1], X[:, 1]*m + b, label=\"Prediction\")\n",
        "plt.legend(loc=2)\n",
        "plt.show()"
      ],
      "execution_count": 16,
      "outputs": [
        {
          "output_type": "display_data",
          "data": {
            "image/png": "[encoded data removed]",
            "text/plain": [
              "<Figure size 432x288 with 1 Axes>"
            ]
          },
          "metadata": {
            "tags": []
          }
        }
      ]
    },
    {
      "cell_type": "code",
      "metadata": {
        "id": "yMSXVnm4PW6q",
        "colab_type": "code",
        "colab": {}
      },
      "source": [
        "training_cost, cv_cost = [], []"
      ],
      "execution_count": 0,
      "outputs": []
    },
    {
      "cell_type": "markdown",
      "metadata": {
        "id": "ilOuhIKfPW6u",
        "colab_type": "text"
      },
      "source": [
        "<font face=楷体>\n",
        "1.使用训练集的子集来拟合应模型\n",
        "\n",
        "2.在计算训练代价和交叉验证代价时，没有用正则化\n",
        "\n",
        "3.记住使用相同的训练集子集来计算训练代价\n",
        "</font>"
      ]
    },
    {
      "cell_type": "code",
      "metadata": {
        "id": "f9N5SMoDPW6u",
        "colab_type": "code",
        "colab": {}
      },
      "source": [
        "m = X.shape[0]\n",
        "for i in range(1, m+1):\n",
        "    res = linear_regression_np(X[:i, :], y[:i], l=0)\n",
        "    \n",
        "    tc = regularized_cost(res.x, X[:i, :], y[:i], l=0)\n",
        "    cv = regularized_cost(res.x, Xval, yval, l=0)\n",
        "    \n",
        "    training_cost.append(tc)\n",
        "    cv_cost.append(cv)"
      ],
      "execution_count": 0,
      "outputs": []
    },
    {
      "cell_type": "code",
      "metadata": {
        "id": "UCJ7kZXmPW6w",
        "colab_type": "code",
        "outputId": "bd13bcdc-667c-4b99-d7e8-453f18f9d6e8",
        "colab": {}
      },
      "source": [
        "plt.plot(np.arange(1, m+1), training_cost, label='training cost')\n",
        "plt.plot(np.arange(1, m+1), cv_cost, label='cv cost')\n",
        "plt.legend(loc=1)\n",
        "plt.show()"
      ],
      "execution_count": 0,
      "outputs": [
        {
          "output_type": "display_data",
          "data": {
            "image/png": "[encoded data removed]",
            "text/plain": [
              "<matplotlib.figure.Figure at 0xb9faa20>"
            ]
          },
          "metadata": {
            "tags": []
          }
        }
      ]
    },
    {
      "cell_type": "markdown",
      "metadata": {
        "id": "yRkGqEdKPW60",
        "colab_type": "text"
      },
      "source": [
        "<font face=楷体>从图可知模型欠拟合</font>"
      ]
    },
    {
      "cell_type": "markdown",
      "metadata": {
        "id": "EoLxLkKqPW61",
        "colab_type": "text"
      },
      "source": [
        "# 创建多项式特征"
      ]
    },
    {
      "cell_type": "code",
      "metadata": {
        "id": "xG93yZ4oPW62",
        "colab_type": "code",
        "colab": {}
      },
      "source": [
        "def prepare_poly_data(*args, power):\n",
        "    \"\"\"\n",
        "    args: keep feeding in X, Xval, or Xtest\n",
        "        will return in the same order\n",
        "    \"\"\"\n",
        "    def prepare(x):\n",
        "        # expand feature\n",
        "        df = poly_features(x, power=power)\n",
        "\n",
        "        # normalization\n",
        "        ndarr = normalize_feature(df).as_matrix() \n",
        "\n",
        "        # add intercept term\n",
        "        return np.insert(ndarr, 0, np.ones(ndarr.shape[0]), axis=1)\n",
        "\n",
        "    return [prepare(x) for x in args]"
      ],
      "execution_count": 0,
      "outputs": []
    },
    {
      "cell_type": "code",
      "metadata": {
        "id": "x45H3NFCPW64",
        "colab_type": "code",
        "colab": {}
      },
      "source": [
        "def poly_features(x, power, as_ndarray=False):\n",
        "    data = {'f{}'.format(i): np.power(x, i) for i in range(1, power + 1)}\n",
        "    df = pd.DataFrame(data)\n",
        "\n",
        "    return df.as_matrix() if as_ndarray else df\n"
      ],
      "execution_count": 0,
      "outputs": []
    },
    {
      "cell_type": "code",
      "metadata": {
        "id": "O5eBcVyEPW65",
        "colab_type": "code",
        "colab": {}
      },
      "source": [
        "X, y, Xval, yval, Xtest, ytest = load_data()"
      ],
      "execution_count": 0,
      "outputs": []
    },
    {
      "cell_type": "code",
      "metadata": {
        "id": "hOBFFI4zPW67",
        "colab_type": "code",
        "outputId": "f9307c1a-ab4c-4028-b89f-23484543125b",
        "colab": {
          "base_uri": "https://localhost:8080/",
          "height": 417
        }
      },
      "source": [
        "poly_features(X, power=3)"
      ],
      "execution_count": 22,
      "outputs": [
        {
          "output_type": "execute_result",
          "data": {
            "text/html": [
              "<div>\n",
              "<style scoped>\n",
              "    .dataframe tbody tr th:only-of-type {\n",
              "        vertical-align: middle;\n",
              "    }\n",
              "\n",
              "    .dataframe tbody tr th {\n",
              "        vertical-align: top;\n",
              "    }\n",
              "\n",
              "    .dataframe thead th {\n",
              "        text-align: right;\n",
              "    }\n",
              "</style>\n",
              "<table border=\"1\" class=\"dataframe\">\n",
              "  <thead>\n",
              "    <tr style=\"text-align: right;\">\n",
              "      <th></th>\n",
              "      <th>f1</th>\n",
              "      <th>f2</th>\n",
              "      <th>f3</th>\n",
              "    </tr>\n",
              "  </thead>\n",
              "  <tbody>\n",
              "    <tr>\n",
              "      <th>0</th>\n",
              "      <td>-15.936758</td>\n",
              "      <td>253.980260</td>\n",
              "      <td>-4047.621971</td>\n",
              "    </tr>\n",
              "    <tr>\n",
              "      <th>1</th>\n",
              "      <td>-29.152979</td>\n",
              "      <td>849.896197</td>\n",
              "      <td>-24777.006175</td>\n",
              "    </tr>\n",
              "    <tr>\n",
              "      <th>2</th>\n",
              "      <td>36.189549</td>\n",
              "      <td>1309.683430</td>\n",
              "      <td>47396.852168</td>\n",
              "    </tr>\n",
              "    <tr>\n",
              "      <th>3</th>\n",
              "      <td>37.492187</td>\n",
              "      <td>1405.664111</td>\n",
              "      <td>52701.422173</td>\n",
              "    </tr>\n",
              "    <tr>\n",
              "      <th>4</th>\n",
              "      <td>-48.058829</td>\n",
              "      <td>2309.651088</td>\n",
              "      <td>-110999.127750</td>\n",
              "    </tr>\n",
              "    <tr>\n",
              "      <th>5</th>\n",
              "      <td>-8.941458</td>\n",
              "      <td>79.949670</td>\n",
              "      <td>-714.866612</td>\n",
              "    </tr>\n",
              "    <tr>\n",
              "      <th>6</th>\n",
              "      <td>15.307793</td>\n",
              "      <td>234.328523</td>\n",
              "      <td>3587.052500</td>\n",
              "    </tr>\n",
              "    <tr>\n",
              "      <th>7</th>\n",
              "      <td>-34.706266</td>\n",
              "      <td>1204.524887</td>\n",
              "      <td>-41804.560890</td>\n",
              "    </tr>\n",
              "    <tr>\n",
              "      <th>8</th>\n",
              "      <td>1.389154</td>\n",
              "      <td>1.929750</td>\n",
              "      <td>2.680720</td>\n",
              "    </tr>\n",
              "    <tr>\n",
              "      <th>9</th>\n",
              "      <td>-44.383760</td>\n",
              "      <td>1969.918139</td>\n",
              "      <td>-87432.373590</td>\n",
              "    </tr>\n",
              "    <tr>\n",
              "      <th>10</th>\n",
              "      <td>7.013502</td>\n",
              "      <td>49.189211</td>\n",
              "      <td>344.988637</td>\n",
              "    </tr>\n",
              "    <tr>\n",
              "      <th>11</th>\n",
              "      <td>22.762749</td>\n",
              "      <td>518.142738</td>\n",
              "      <td>11794.353058</td>\n",
              "    </tr>\n",
              "  </tbody>\n",
              "</table>\n",
              "</div>"
            ],
            "text/plain": [
              "           f1           f2             f3\n",
              "0  -15.936758   253.980260   -4047.621971\n",
              "1  -29.152979   849.896197  -24777.006175\n",
              "2   36.189549  1309.683430   47396.852168\n",
              "3   37.492187  1405.664111   52701.422173\n",
              "4  -48.058829  2309.651088 -110999.127750\n",
              "5   -8.941458    79.949670    -714.866612\n",
              "6   15.307793   234.328523    3587.052500\n",
              "7  -34.706266  1204.524887  -41804.560890\n",
              "8    1.389154     1.929750       2.680720\n",
              "9  -44.383760  1969.918139  -87432.373590\n",
              "10   7.013502    49.189211     344.988637\n",
              "11  22.762749   518.142738   11794.353058"
            ]
          },
          "metadata": {
            "tags": []
          },
          "execution_count": 22
        }
      ]
    },
    {
      "cell_type": "markdown",
      "metadata": {
        "id": "Ct7tu-WIPW69",
        "colab_type": "text"
      },
      "source": [
        "# 准备多项式回归数据\n",
        "<font face=楷体>\n",
        "    \n",
        "1. 扩展特征到 8阶,或者你需要的阶数  \n",
        "2. 使用 **归一化** 来合并 $x^n$   \n",
        "3. 注意截距项\n",
        "    \n",
        "</font>"
      ]
    },
    {
      "cell_type": "code",
      "metadata": {
        "id": "aKv6gN99PW69",
        "colab_type": "code",
        "colab": {}
      },
      "source": [
        "def normalize_feature(df):\n",
        "    \"\"\"Applies function along input axis(default 0) of DataFrame.\"\"\"\n",
        "    return df.apply(lambda column: (column - column.mean()) / column.std())"
      ],
      "execution_count": 0,
      "outputs": []
    },
    {
      "cell_type": "code",
      "metadata": {
        "id": "W6Sziqd0PW6-",
        "colab_type": "code",
        "outputId": "72cdba40-8879-41f5-943f-a404e5441d57",
        "colab": {
          "base_uri": "https://localhost:8080/",
          "height": 235
        }
      },
      "source": [
        "X_poly, Xval_poly, Xtest_poly= prepare_poly_data(X, Xval, Xtest, power=8)\n",
        "X_poly[:3, :]"
      ],
      "execution_count": 24,
      "outputs": [
        {
          "output_type": "stream",
          "text": [
            "/usr/local/lib/python3.6/dist-packages/ipykernel_launcher.py:11: FutureWarning: Method .as_matrix will be removed in a future version. Use .values instead.\n",
            "  # This is added back by InteractiveShellApp.init_path()\n"
          ],
          "name": "stderr"
        },
        {
          "output_type": "execute_result",
          "data": {
            "text/plain": [
              "array([[ 1.00000000e+00, -3.62140776e-01, -7.55086688e-01,\n",
              "         1.82225876e-01, -7.06189908e-01,  3.06617917e-01,\n",
              "        -5.90877673e-01,  3.44515797e-01, -5.08481165e-01],\n",
              "       [ 1.00000000e+00, -8.03204845e-01,  1.25825266e-03,\n",
              "        -2.47936991e-01, -3.27023420e-01,  9.33963187e-02,\n",
              "        -4.35817606e-01,  2.55416116e-01, -4.48912493e-01],\n",
              "       [ 1.00000000e+00,  1.37746700e+00,  5.84826715e-01,\n",
              "         1.24976856e+00,  2.45311974e-01,  9.78359696e-01,\n",
              "        -1.21556976e-02,  7.56568484e-01, -1.70352114e-01]])"
            ]
          },
          "metadata": {
            "tags": []
          },
          "execution_count": 24
        }
      ]
    },
    {
      "cell_type": "markdown",
      "metadata": {
        "id": "FoaBk8jBPW6_",
        "colab_type": "text"
      },
      "source": [
        "# 画出学习曲线  \n",
        "<font face=楷体 color=skyblue size=4>\n",
        "先不使用正则化，所以 $\\lambda=0$  \n",
        "\n",
        "</font>  \n",
        "<font face=楷体 color=yellow size=4>疑问：</font>  \n",
        "为什么优化时用正则项，计算cost不用正则项"
      ]
    },
    {
      "cell_type": "code",
      "metadata": {
        "id": "lYXo8jVmPW7A",
        "colab_type": "code",
        "colab": {}
      },
      "source": [
        "def plot_learning_curve(X, y, Xval, yval, l=0):\n",
        "    training_cost, cv_cost = [], []\n",
        "    m = X.shape[0]\n",
        "\n",
        "    for i in range(1, m + 1):\n",
        "        # 正则化用于拟合参数\n",
        "        res = linear_regression_np(X[:i, :], y[:i], l=l)\n",
        "\n",
        "        # remember, when you compute the cost here, you are computing\n",
        "        # non-regularized cost. Regularization is used to fit parameters only\n",
        "        # 正则化仅用于拟合参数，cost不包含正则项？？？？？？？？？？？？？？？？？？？？？？？？？？？？？？？？？？？\n",
        "        tc = cost(res.x, X[:i, :], y[:i])\n",
        "        cv = cost(res.x, Xval, yval)\n",
        "\n",
        "        training_cost.append(tc)\n",
        "        cv_cost.append(cv)\n",
        "\n",
        "    plt.plot(np.arange(1, m + 1), training_cost, label='training cost')\n",
        "    plt.plot(np.arange(1, m + 1), cv_cost, label='cv cost')\n",
        "    plt.legend(loc=1)"
      ],
      "execution_count": 0,
      "outputs": []
    },
    {
      "cell_type": "code",
      "metadata": {
        "id": "V_318QffPW7B",
        "colab_type": "code",
        "outputId": "7d1ce050-d2a7-407f-83cd-dddfd42343a4",
        "colab": {
          "base_uri": "https://localhost:8080/",
          "height": 269
        }
      },
      "source": [
        "plot_learning_curve(X_poly, y, Xval_poly, yval, l=0)\n",
        "plt.show()"
      ],
      "execution_count": 26,
      "outputs": [
        {
          "output_type": "display_data",
          "data": {
            "image/png": "[encoded data removed]",
            "text/plain": [
              "<Figure size 432x288 with 1 Axes>"
            ]
          },
          "metadata": {
            "tags": []
          }
        }
      ]
    },
    {
      "cell_type": "markdown",
      "metadata": {
        "id": "HlGOXhMtPW7C",
        "colab_type": "text"
      },
      "source": [
        "<font face=楷体> training cost为0，明显过拟合</font>"
      ]
    },
    {
      "cell_type": "markdown",
      "metadata": {
        "id": "ADIWr3FUPW7D",
        "colab_type": "text"
      },
      "source": [
        "<font face=楷体 color=skyblue size=4>\n",
        "$\\lambda=1$\n",
        "</font>"
      ]
    },
    {
      "cell_type": "code",
      "metadata": {
        "id": "8DyvIxM5PW7D",
        "colab_type": "code",
        "outputId": "3247b970-1fc1-4d4b-85b9-a21312569495",
        "colab": {
          "base_uri": "https://localhost:8080/",
          "height": 269
        }
      },
      "source": [
        "plot_learning_curve(X_poly, y, Xval_poly, yval, l=1)\n",
        "plt.show()"
      ],
      "execution_count": 28,
      "outputs": [
        {
          "output_type": "display_data",
          "data": {
            "image/png": "[encoded data removed]",
            "text/plain": [
              "<Figure size 432x288 with 1 Axes>"
            ]
          },
          "metadata": {
            "tags": []
          }
        }
      ]
    },
    {
      "cell_type": "markdown",
      "metadata": {
        "id": "1y8_NHozPW7F",
        "colab_type": "text"
      },
      "source": [
        "<font face=楷体> \n",
        "减轻过拟合\n",
        "</font>"
      ]
    },
    {
      "cell_type": "markdown",
      "metadata": {
        "id": "p5qRB4B5PW7F",
        "colab_type": "text"
      },
      "source": [
        "<font face=楷体 color=skyblue size=4>\n",
        "$\\lambda=100$\n",
        "</font>"
      ]
    },
    {
      "cell_type": "code",
      "metadata": {
        "id": "hsiwEL3FPW7F",
        "colab_type": "code",
        "outputId": "18690f1e-c67b-445e-f82a-3132391fa442",
        "colab": {
          "base_uri": "https://localhost:8080/",
          "height": 269
        }
      },
      "source": [
        "plot_learning_curve(X_poly, y, Xval_poly, yval, l=100)\n",
        "plt.show()"
      ],
      "execution_count": 29,
      "outputs": [
        {
          "output_type": "display_data",
          "data": {
            "image/png": "[encoded data removed]",
            "text/plain": [
              "<Figure size 432x288 with 1 Axes>"
            ]
          },
          "metadata": {
            "tags": []
          }
        }
      ]
    },
    {
      "cell_type": "markdown",
      "metadata": {
        "id": "kHSPGuVDPW7H",
        "colab_type": "text"
      },
      "source": [
        "<font face=楷体> \n",
        "欠拟合\n",
        "</font>"
      ]
    },
    {
      "cell_type": "markdown",
      "metadata": {
        "id": "5pAnEl5tPW7H",
        "colab_type": "text"
      },
      "source": [
        "<font face=楷体 color=skyblue size=4>\n",
        "找到最佳的 $\\lambda$\n",
        "</font>"
      ]
    },
    {
      "cell_type": "code",
      "metadata": {
        "id": "YdWn6CPwPW7H",
        "colab_type": "code",
        "colab": {}
      },
      "source": [
        "l_candidate = [0, 0.001, 0.003, 0.01, 0.03, 0.1, 0.3, 1, 3, 10]\n",
        "training_cost, cv_cost = [], []"
      ],
      "execution_count": 0,
      "outputs": []
    },
    {
      "cell_type": "code",
      "metadata": {
        "id": "C_r2PMklPW7J",
        "colab_type": "code",
        "colab": {}
      },
      "source": [
        "for l in l_candidate:\n",
        "    res = linear_regression_np(X_poly, y, l)\n",
        "    \n",
        "    tc = cost(res.x, X_poly, y)\n",
        "    cv = cost(res.x, Xval_poly, yval)\n",
        "    \n",
        "    training_cost.append(tc)\n",
        "    cv_cost.append(cv)"
      ],
      "execution_count": 0,
      "outputs": []
    },
    {
      "cell_type": "code",
      "metadata": {
        "id": "YR76fOTgPW7K",
        "colab_type": "code",
        "outputId": "7bf20ed9-c7a0-4230-fe6e-6422b177dee6",
        "colab": {
          "base_uri": "https://localhost:8080/",
          "height": 283
        }
      },
      "source": [
        "plt.plot(l_candidate, training_cost, label='training')\n",
        "plt.plot(l_candidate, cv_cost, label='cross validation')\n",
        "plt.legend(loc=2)\n",
        "\n",
        "plt.xlabel('lambda')\n",
        "\n",
        "plt.ylabel('cost')\n",
        "plt.show()"
      ],
      "execution_count": 32,
      "outputs": [
        {
          "output_type": "display_data",
          "data": {
            "image/png": "[encoded data removed]",
            "text/plain": [
              "<Figure size 432x288 with 1 Axes>"
            ]
          },
          "metadata": {
            "tags": []
          }
        }
      ]
    },
    {
      "cell_type": "code",
      "metadata": {
        "id": "Tg0J3JrMPW7M",
        "colab_type": "code",
        "outputId": "38e904e9-419f-4cba-9260-85d2049f9c34",
        "colab": {
          "base_uri": "https://localhost:8080/",
          "height": 35
        }
      },
      "source": [
        "# 返回最小cv_cost下标，即：挑出验证集上表现最好的lambda\n",
        "l_candidate[np.argmin(cv_cost)]"
      ],
      "execution_count": 39,
      "outputs": [
        {
          "output_type": "execute_result",
          "data": {
            "text/plain": [
              "1"
            ]
          },
          "metadata": {
            "tags": []
          },
          "execution_count": 39
        }
      ]
    },
    {
      "cell_type": "markdown",
      "metadata": {
        "id": "pASmAjB7w2ui",
        "colab_type": "text"
      },
      "source": [
        "<font face=楷体> \n",
        "验证集上表现最好的是$\\lambda=0.001$\n",
        "</font>"
      ]
    },
    {
      "cell_type": "code",
      "metadata": {
        "id": "akRwOFisPW7N",
        "colab_type": "code",
        "outputId": "7c166d48-0049-4317-c273-33ff2fef3032",
        "colab": {
          "base_uri": "https://localhost:8080/",
          "height": 197
        }
      },
      "source": [
        "# 使用测试数据来计算成本\n",
        "for l in l_candidate:\n",
        "    theta = linear_regression_np(X_poly, y, l).x\n",
        "    print('test cost(l={}) = {}'.format(l, cost(theta, Xtest_poly, ytest)))"
      ],
      "execution_count": 34,
      "outputs": [
        {
          "output_type": "stream",
          "text": [
            "test cost(l=0) = 9.982275423899827\n",
            "test cost(l=0.001) = 10.96403493885111\n",
            "test cost(l=0.003) = 11.264458872657682\n",
            "test cost(l=0.01) = 10.880094765571297\n",
            "test cost(l=0.03) = 10.022266931655883\n",
            "test cost(l=0.1) = 8.632063139750382\n",
            "test cost(l=0.3) = 7.336640278544401\n",
            "test cost(l=1) = 7.466289435179381\n",
            "test cost(l=3) = 11.64393193727906\n",
            "test cost(l=10) = 27.715080291767972\n"
          ],
          "name": "stdout"
        }
      ]
    },
    {
      "cell_type": "markdown",
      "metadata": {
        "id": "N8Z7Ib5XPW7O",
        "colab_type": "text"
      },
      "source": [
        "<font face=楷体> \n",
        "调参后， $\\lambda = 0.3$ 是最优选择，测试代价最小\n",
        "</font>"
      ]
    },
    {
      "cell_type": "code",
      "metadata": {
        "id": "AN45mx7JPW7P",
        "colab_type": "code",
        "colab": {}
      },
      "source": [
        ""
      ],
      "execution_count": 0,
      "outputs": []
    }
  ]
}