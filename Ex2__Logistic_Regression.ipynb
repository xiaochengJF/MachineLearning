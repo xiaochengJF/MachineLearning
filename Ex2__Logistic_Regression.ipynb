{
  "nbformat": 4,
  "nbformat_minor": 0,
  "metadata": {
    "anaconda-cloud": {},
    "kernelspec": {
      "display_name": "Python 3",
      "language": "python",
      "name": "python3"
    },
    "language_info": {
      "codemirror_mode": {
        "name": "ipython",
        "version": 3
      },
      "file_extension": ".py",
      "mimetype": "text/x-python",
      "name": "python",
      "nbconvert_exporter": "python",
      "pygments_lexer": "ipython3",
      "version": "3.6.1"
    },
    "colab": {
      "name": "Ex2_ Logistic Regression",
      "provenance": [],
      "collapsed_sections": [],
      "toc_visible": true,
      "include_colab_link": true
    }
  },
  "cells": [
    {
      "cell_type": "markdown",
      "metadata": {
        "id": "view-in-github",
        "colab_type": "text"
      },
      "source": [
        "<a href=\"https://colab.research.google.com/github/xiaochengJF/MachineLearning/blob/master/Ex2__Logistic_Regression.ipynb\" target=\"_parent\"><img src=\"https://colab.research.google.com/assets/colab-badge.svg\" alt=\"Open In Colab\"/></a>"
      ]
    },
    {
      "cell_type": "code",
      "metadata": {
        "id": "SsgFwGTJ1IHz",
        "colab_type": "code",
        "outputId": "28d1185f-c162-48c8-bd27-d242fc42b44e",
        "colab": {
          "base_uri": "https://localhost:8080/",
          "height": 127
        }
      },
      "source": [
        "from google.colab import drive\n",
        "drive.mount('/content/drive')"
      ],
      "execution_count": 1,
      "outputs": [
        {
          "output_type": "stream",
          "text": [
            "Go to this URL in a browser: https://accounts.google.com/o/oauth2/auth?client_id=947318989803-6bn6qk8qdgf4n4g3pfee6491hc0brc4i.apps.googleusercontent.com&redirect_uri=urn%3Aietf%3Awg%3Aoauth%3A2.0%3Aoob&scope=email%20https%3A%2F%2Fwww.googleapis.com%2Fauth%2Fdocs.test%20https%3A%2F%2Fwww.googleapis.com%2Fauth%2Fdrive%20https%3A%2F%2Fwww.googleapis.com%2Fauth%2Fdrive.photos.readonly%20https%3A%2F%2Fwww.googleapis.com%2Fauth%2Fpeopleapi.readonly&response_type=code\n",
            "\n",
            "Enter your authorization code:\n",
            "··········\n",
            "Mounted at /content/drive\n"
          ],
          "name": "stdout"
        }
      ]
    },
    {
      "cell_type": "code",
      "metadata": {
        "id": "eiQVZkcB1PWo",
        "colab_type": "code",
        "outputId": "f2313217-e24a-48c6-c272-6442cf545c4a",
        "colab": {
          "base_uri": "https://localhost:8080/",
          "height": 35
        }
      },
      "source": [
        "cd /content/drive/My Drive/MachineLearning/ex2-logistic regression"
      ],
      "execution_count": 2,
      "outputs": [
        {
          "output_type": "stream",
          "text": [
            "/content/drive/My Drive/MachineLearning/ex2-logistic regression\n"
          ],
          "name": "stdout"
        }
      ]
    },
    {
      "cell_type": "markdown",
      "metadata": {
        "id": "CfKvoL690jUB",
        "colab_type": "text"
      },
      "source": [
        "# logistic_regression（逻辑回归）"
      ]
    },
    {
      "cell_type": "code",
      "metadata": {
        "id": "aSq7V7fo0jUE",
        "colab_type": "code",
        "colab": {}
      },
      "source": [
        "import pandas as pd\n",
        "import numpy as np\n",
        "import matplotlib.pyplot as plt\n",
        "import seaborn as sns\n",
        "plt.style.use('fivethirtyeight')\n",
        "import matplotlib.pyplot as plt\n",
        "# import tensorflow as tf\n",
        "from sklearn.metrics import classification_report  # 这个包可以生成评价报告"
      ],
      "execution_count": 0,
      "outputs": []
    },
    {
      "cell_type": "markdown",
      "metadata": {
        "id": "oULxi3Wc0jUH",
        "colab_type": "text"
      },
      "source": [
        "## 准备数据"
      ]
    },
    {
      "cell_type": "code",
      "metadata": {
        "id": "lNdp2L7Y0jUH",
        "colab_type": "code",
        "outputId": "e5aee511-2aec-43d3-c30d-1c54954dcb98",
        "colab": {
          "base_uri": "https://localhost:8080/",
          "height": 202
        }
      },
      "source": [
        "data = pd.read_csv('ex2data1.txt', names=['exam1', 'exam2', 'admitted'])\n",
        "data.head()  # 看前五行"
      ],
      "execution_count": 6,
      "outputs": [
        {
          "output_type": "execute_result",
          "data": {
            "text/html": [
              "<div>\n",
              "<style scoped>\n",
              "    .dataframe tbody tr th:only-of-type {\n",
              "        vertical-align: middle;\n",
              "    }\n",
              "\n",
              "    .dataframe tbody tr th {\n",
              "        vertical-align: top;\n",
              "    }\n",
              "\n",
              "    .dataframe thead th {\n",
              "        text-align: right;\n",
              "    }\n",
              "</style>\n",
              "<table border=\"1\" class=\"dataframe\">\n",
              "  <thead>\n",
              "    <tr style=\"text-align: right;\">\n",
              "      <th></th>\n",
              "      <th>exam1</th>\n",
              "      <th>exam2</th>\n",
              "      <th>admitted</th>\n",
              "    </tr>\n",
              "  </thead>\n",
              "  <tbody>\n",
              "    <tr>\n",
              "      <th>0</th>\n",
              "      <td>34.623660</td>\n",
              "      <td>78.024693</td>\n",
              "      <td>0</td>\n",
              "    </tr>\n",
              "    <tr>\n",
              "      <th>1</th>\n",
              "      <td>30.286711</td>\n",
              "      <td>43.894998</td>\n",
              "      <td>0</td>\n",
              "    </tr>\n",
              "    <tr>\n",
              "      <th>2</th>\n",
              "      <td>35.847409</td>\n",
              "      <td>72.902198</td>\n",
              "      <td>0</td>\n",
              "    </tr>\n",
              "    <tr>\n",
              "      <th>3</th>\n",
              "      <td>60.182599</td>\n",
              "      <td>86.308552</td>\n",
              "      <td>1</td>\n",
              "    </tr>\n",
              "    <tr>\n",
              "      <th>4</th>\n",
              "      <td>79.032736</td>\n",
              "      <td>75.344376</td>\n",
              "      <td>1</td>\n",
              "    </tr>\n",
              "  </tbody>\n",
              "</table>\n",
              "</div>"
            ],
            "text/plain": [
              "       exam1      exam2  admitted\n",
              "0  34.623660  78.024693         0\n",
              "1  30.286711  43.894998         0\n",
              "2  35.847409  72.902198         0\n",
              "3  60.182599  86.308552         1\n",
              "4  79.032736  75.344376         1"
            ]
          },
          "metadata": {
            "tags": []
          },
          "execution_count": 6
        }
      ]
    },
    {
      "cell_type": "code",
      "metadata": {
        "id": "XkioFpJ50jUL",
        "colab_type": "code",
        "outputId": "22b8b6ed-f3ca-4fa7-e828-34526136956b",
        "colab": {
          "base_uri": "https://localhost:8080/",
          "height": 294
        }
      },
      "source": [
        "data.describe()"
      ],
      "execution_count": 7,
      "outputs": [
        {
          "output_type": "execute_result",
          "data": {
            "text/html": [
              "<div>\n",
              "<style scoped>\n",
              "    .dataframe tbody tr th:only-of-type {\n",
              "        vertical-align: middle;\n",
              "    }\n",
              "\n",
              "    .dataframe tbody tr th {\n",
              "        vertical-align: top;\n",
              "    }\n",
              "\n",
              "    .dataframe thead th {\n",
              "        text-align: right;\n",
              "    }\n",
              "</style>\n",
              "<table border=\"1\" class=\"dataframe\">\n",
              "  <thead>\n",
              "    <tr style=\"text-align: right;\">\n",
              "      <th></th>\n",
              "      <th>exam1</th>\n",
              "      <th>exam2</th>\n",
              "      <th>admitted</th>\n",
              "    </tr>\n",
              "  </thead>\n",
              "  <tbody>\n",
              "    <tr>\n",
              "      <th>count</th>\n",
              "      <td>100.000000</td>\n",
              "      <td>100.000000</td>\n",
              "      <td>100.000000</td>\n",
              "    </tr>\n",
              "    <tr>\n",
              "      <th>mean</th>\n",
              "      <td>65.644274</td>\n",
              "      <td>66.221998</td>\n",
              "      <td>0.600000</td>\n",
              "    </tr>\n",
              "    <tr>\n",
              "      <th>std</th>\n",
              "      <td>19.458222</td>\n",
              "      <td>18.582783</td>\n",
              "      <td>0.492366</td>\n",
              "    </tr>\n",
              "    <tr>\n",
              "      <th>min</th>\n",
              "      <td>30.058822</td>\n",
              "      <td>30.603263</td>\n",
              "      <td>0.000000</td>\n",
              "    </tr>\n",
              "    <tr>\n",
              "      <th>25%</th>\n",
              "      <td>50.919511</td>\n",
              "      <td>48.179205</td>\n",
              "      <td>0.000000</td>\n",
              "    </tr>\n",
              "    <tr>\n",
              "      <th>50%</th>\n",
              "      <td>67.032988</td>\n",
              "      <td>67.682381</td>\n",
              "      <td>1.000000</td>\n",
              "    </tr>\n",
              "    <tr>\n",
              "      <th>75%</th>\n",
              "      <td>80.212529</td>\n",
              "      <td>79.360605</td>\n",
              "      <td>1.000000</td>\n",
              "    </tr>\n",
              "    <tr>\n",
              "      <th>max</th>\n",
              "      <td>99.827858</td>\n",
              "      <td>98.869436</td>\n",
              "      <td>1.000000</td>\n",
              "    </tr>\n",
              "  </tbody>\n",
              "</table>\n",
              "</div>"
            ],
            "text/plain": [
              "            exam1       exam2    admitted\n",
              "count  100.000000  100.000000  100.000000\n",
              "mean    65.644274   66.221998    0.600000\n",
              "std     19.458222   18.582783    0.492366\n",
              "min     30.058822   30.603263    0.000000\n",
              "25%     50.919511   48.179205    0.000000\n",
              "50%     67.032988   67.682381    1.000000\n",
              "75%     80.212529   79.360605    1.000000\n",
              "max     99.827858   98.869436    1.000000"
            ]
          },
          "metadata": {
            "tags": []
          },
          "execution_count": 7
        }
      ]
    },
    {
      "cell_type": "markdown",
      "metadata": {
        "id": "uZ74uOXd3Qmp",
        "colab_type": "text"
      },
      "source": [
        "\n",
        "TypeError: unhashable type: '_ColorPalette'  \n",
        "解决方法： color_codes=False"
      ]
    },
    {
      "cell_type": "code",
      "metadata": {
        "id": "ER3bEvFS0jUN",
        "colab_type": "code",
        "outputId": "0a6c256e-b3d4-46b8-b2fd-dede3ca30a39",
        "colab": {
          "base_uri": "https://localhost:8080/",
          "height": 493
        }
      },
      "source": [
        "sns.set(context=\"notebook\", style=\"darkgrid\", palette=sns.color_palette(\"RdBu\", 2), color_codes=False)\n",
        "sns.lmplot('exam1', 'exam2', hue='admitted', data=data, \n",
        "           size=6, \n",
        "           fit_reg=False, \n",
        "           scatter_kws={\"s\": 50}\n",
        "          )\n",
        "plt.show()"
      ],
      "execution_count": 8,
      "outputs": [
        {
          "output_type": "stream",
          "text": [
            "/usr/local/lib/python3.6/dist-packages/seaborn/regression.py:546: UserWarning: The `size` paramter has been renamed to `height`; please update your code.\n",
            "  warnings.warn(msg, UserWarning)\n"
          ],
          "name": "stderr"
        },
        {
          "output_type": "display_data",
          "data": {
            "image/png": "[encoded data removed]",
            "text/plain": [
              "<Figure size 487.55x432 with 1 Axes>"
            ]
          },
          "metadata": {
            "tags": []
          }
        }
      ]
    },
    {
      "cell_type": "code",
      "metadata": {
        "id": "9dpeevoW0jUP",
        "colab_type": "code",
        "colab": {}
      },
      "source": [
        "def get_X(df):  # 读取特征\n",
        "    \"\"\"\n",
        "    use concat to add intersect feature to avoid side effect\n",
        "    not efficient for big dataset though\n",
        "    \"\"\"\n",
        "    ones = pd.DataFrame({'ones': np.ones(len(df))})  # ones是m行1列的dataframe\n",
        "    data = pd.concat([ones, df], axis=1)             # 合并数据，根据列合并\n",
        "    return data.iloc[:, :-1].as_matrix()             # 这个操作返回 ndarray,不是矩阵\n",
        "\n",
        "\n",
        "def get_y(df):  # 读取标签\n",
        "    '''assume the last column is the target'''\n",
        "    return np.array(df.iloc[:, -1])                  # df.iloc[:, -1]是指df的最后一列\n",
        "\n",
        "\n",
        "def normalize_feature(df):\n",
        "    \"\"\"Applies function along input axis(default 0) of DataFrame.\"\"\"\n",
        "    return df.apply(lambda column: (column - column.mean()) / column.std())  "
      ],
      "execution_count": 0,
      "outputs": []
    },
    {
      "cell_type": "code",
      "metadata": {
        "id": "FKszq9Ec0jUS",
        "colab_type": "code",
        "outputId": "1e37660d-c168-4667-a684-ff387f836e79",
        "colab": {
          "base_uri": "https://localhost:8080/",
          "height": 109
        }
      },
      "source": [
        "X = get_X(data)\n",
        "print(X.shape)\n",
        "\n",
        "y = get_y(data)\n",
        "print(y.shape)"
      ],
      "execution_count": 11,
      "outputs": [
        {
          "output_type": "stream",
          "text": [
            "(100, 3)\n",
            "(100,)\n"
          ],
          "name": "stdout"
        },
        {
          "output_type": "stream",
          "text": [
            "/usr/local/lib/python3.6/dist-packages/ipykernel_launcher.py:8: FutureWarning: Method .as_matrix will be removed in a future version. Use .values instead.\n",
            "  \n"
          ],
          "name": "stderr"
        }
      ]
    },
    {
      "cell_type": "markdown",
      "metadata": {
        "collapsed": true,
        "id": "34tHWcEn0jUT",
        "colab_type": "text"
      },
      "source": [
        "## sigmoid 函数\n",
        "<font face=楷体>\n",
        "g 代表一个常用的逻辑函数（logistic function）为S形函数（Sigmoid function），公式为： $$g\\left( z \\right)=\\frac{1}{1+{{e}^{-z}}}$$\n",
        "逻辑回归模型假设函数： \n",
        "\t$${{h}_{\\theta }}\\left( x \\right)=\\frac{1}{1+{{e}^{-{{\\theta }^{T}}X}}}$$\n",
        "</font>"
      ]
    },
    {
      "cell_type": "code",
      "metadata": {
        "id": "WK6uS_-30jUU",
        "colab_type": "code",
        "colab": {}
      },
      "source": [
        "def sigmoid(z):\n",
        "    return 1 / (1 + np.exp(-z))"
      ],
      "execution_count": 0,
      "outputs": []
    },
    {
      "cell_type": "code",
      "metadata": {
        "scrolled": true,
        "id": "B95i1fd80jUV",
        "colab_type": "code",
        "outputId": "dad6208e-7c69-41bd-f614-5c18fd581945",
        "colab": {
          "base_uri": "https://localhost:8080/",
          "height": 443
        }
      },
      "source": [
        "fig, ax = plt.subplots(figsize=(8, 6))\n",
        "ax.plot(np.arange(-10, 10, step=0.01),\n",
        "        sigmoid(np.arange(-10, 10, step=0.01)))\n",
        "ax.set_ylim((-0.1,1.1))\n",
        "ax.set_xlabel('z', fontsize=18)\n",
        "ax.set_ylabel('g(z)', fontsize=18)\n",
        "ax.set_title('sigmoid function', fontsize=18)\n",
        "plt.show()"
      ],
      "execution_count": 15,
      "outputs": [
        {
          "output_type": "display_data",
          "data": {
            "image/png": "[encoded data removed]",
            "text/plain": [
              "<Figure size 576x432 with 1 Axes>"
            ]
          },
          "metadata": {
            "tags": []
          }
        }
      ]
    },
    {
      "cell_type": "markdown",
      "metadata": {
        "id": "8NRsc0Ot0jUX",
        "colab_type": "text"
      },
      "source": [
        "## cost function(代价函数)\n",
        "\n",
        "<font face=楷体>\n",
        "$\\max(\\ell(\\theta)) = \\min(-\\ell(\\theta))$  ，选择 $-\\ell(\\theta)$ 作为 $\\color{pink}{cost\\ function}$，所以优化目标变成最小化$J(\\theta)$\n",
        "</font>\n",
        "\n",
        "$$\\begin{align}\n",
        "  J\\left( \\theta  \\right) &=-\\frac{1}{m}\\sum\\limits_{i=1}^{m}{\\left[{{y}^{(i)}}\\log ( {{h}_{\\theta }}( {{x}^{(i)}}))+( 1-{{y}^{(i)}} )\\log ( 1-{{h}_{\\theta }}( {{x}^{(i)}} ))\\right]} \\\\ \n",
        " & =\\frac{1}{m}\\sum\\limits_{i=1}^{m}{\\left[-{{y}^{(i)}}\\log ( {{h}_{\\theta }}( {{x}^{(i)}} ) )-( 1-{{y}^{(i)}} )\\log ( 1-{{h}_{\\theta }}( {{x}^{(i)}}))\\right]} \\\\ \n",
        "\\end{align}$$\n"
      ]
    },
    {
      "cell_type": "code",
      "metadata": {
        "id": "E9k9Eru-0jUX",
        "colab_type": "code",
        "outputId": "bdc11f17-d91d-49d9-ef68-62206012f1c0",
        "colab": {
          "base_uri": "https://localhost:8080/",
          "height": 53
        }
      },
      "source": [
        "theta = np.zeros(3)  # X(m*n) so theta is n*1\n",
        "print(\"theta:\",theta)\n",
        "\n",
        "def cost(theta, X, y):\n",
        "    ''' cost fn is -l(theta) for you to minimize'''\n",
        "    return np.mean(-y * np.log(sigmoid(X @ theta)) - (1 - y) * np.log(1 - sigmoid(X @ theta)))  # X @ theta与X.dot(theta)等价\n",
        "\n",
        "print(\"cost:\",cost(theta, X, y))"
      ],
      "execution_count": 16,
      "outputs": [
        {
          "output_type": "stream",
          "text": [
            "theta: [0. 0. 0.]\n",
            "cost: 0.6931471805599453\n"
          ],
          "name": "stdout"
        }
      ]
    },
    {
      "cell_type": "markdown",
      "metadata": {
        "id": "RjjoQxCF0jUd",
        "colab_type": "text"
      },
      "source": [
        "## gradient descent(梯度下降)  \n",
        "\n",
        "<font face=楷体>\n",
        "    \n",
        "向量化批量梯度下降（$\\text{batch gradient descent}$）： $\\frac{1}{m} X^T( Sigmoid(X\\theta) - y )$  \n",
        "</font>  \n",
        "\n",
        "    \n",
        "$$\\frac{\\partial J\\left( \\theta  \\right)}{\\partial {{\\theta }_{j}}}=\\frac{1}{m}\\sum\\limits_{i=1}^{m}{({{h}_{\\theta }}\\left( {{x}^{(i)}} \\right)-{{y}^{(i)}})x_{_{j}}^{(i)}}$$"
      ]
    },
    {
      "cell_type": "code",
      "metadata": {
        "id": "aH4eYeBb0jUd",
        "colab_type": "code",
        "colab": {}
      },
      "source": [
        "def gradient(theta, X, y):\n",
        "    '''just 1 batch gradient'''\n",
        "    return (1 / len(X)) * X.T @ (sigmoid(X @ theta) - y)"
      ],
      "execution_count": 0,
      "outputs": []
    },
    {
      "cell_type": "code",
      "metadata": {
        "id": "PWc_L1nH0jUf",
        "colab_type": "code",
        "outputId": "33558c98-c8d1-49a6-8549-e997c1b2f8b1",
        "colab": {
          "base_uri": "https://localhost:8080/",
          "height": 35
        }
      },
      "source": [
        "gradient(theta, X, y)"
      ],
      "execution_count": 18,
      "outputs": [
        {
          "output_type": "execute_result",
          "data": {
            "text/plain": [
              "array([ -0.1       , -12.00921659, -11.26284221])"
            ]
          },
          "metadata": {
            "tags": []
          },
          "execution_count": 18
        }
      ]
    },
    {
      "cell_type": "markdown",
      "metadata": {
        "collapsed": true,
        "id": "_IFYeiA90jUh",
        "colab_type": "text"
      },
      "source": [
        "## 拟合参数  \n",
        "<font face=楷体 color=green size=4>绿色链接：</font>  \n",
        "\n",
        "【1】[`scipy.optimize.minimize`](http://docs.scipy.org/doc/scipy/reference/generated/scipy.optimize.minimize.html#scipy.optimize.minimize)   \n",
        "【2】[最优化学习笔记](https://www.cnblogs.com/NaughtyBaby/p/5590081.html)\n"
      ]
    },
    {
      "cell_type": "code",
      "metadata": {
        "id": "zEEsGvlg0jUh",
        "colab_type": "code",
        "outputId": "521c1443-7937-475f-e01d-b3b933b53ffc",
        "colab": {
          "base_uri": "https://localhost:8080/",
          "height": 197
        }
      },
      "source": [
        "import scipy.optimize as opt\n",
        "res = opt.minimize(fun=cost, x0=theta, args=(X, y), method='Newton-CG', jac=gradient)  # 寻找参数\n",
        "print(res)"
      ],
      "execution_count": 20,
      "outputs": [
        {
          "output_type": "stream",
          "text": [
            "     fun: 0.203497708881501\n",
            "     jac: array([-8.26207510e-06, -3.70033535e-04, -3.97954680e-04])\n",
            " message: 'Optimization terminated successfully.'\n",
            "    nfev: 72\n",
            "    nhev: 0\n",
            "     nit: 29\n",
            "    njev: 254\n",
            "  status: 0\n",
            " success: True\n",
            "       x: array([-25.16833701,   0.20628773,   0.20152827])\n"
          ],
          "name": "stdout"
        }
      ]
    },
    {
      "cell_type": "markdown",
      "metadata": {
        "id": "8xyjL5eZ0jUo",
        "colab_type": "text"
      },
      "source": [
        "## 用训练集预测和验证"
      ]
    },
    {
      "cell_type": "code",
      "metadata": {
        "id": "DtnzQ1no0jUp",
        "colab_type": "code",
        "colab": {}
      },
      "source": [
        "def predict(x, theta):\n",
        "    prob = sigmoid(x @ theta)\n",
        "    return (prob >= 0.5).astype(int)"
      ],
      "execution_count": 0,
      "outputs": []
    },
    {
      "cell_type": "code",
      "metadata": {
        "id": "Oe9Moqsq0jUs",
        "colab_type": "code",
        "outputId": "a8f14c7b-8417-4085-f9e9-6c5d2b95af54",
        "colab": {
          "base_uri": "https://localhost:8080/",
          "height": 179
        }
      },
      "source": [
        "final_theta = res.x  \n",
        "y_pred = predict(X, final_theta)\n",
        "\n",
        "print(classification_report(y, y_pred))"
      ],
      "execution_count": 22,
      "outputs": [
        {
          "output_type": "stream",
          "text": [
            "              precision    recall  f1-score   support\n",
            "\n",
            "           0       0.87      0.85      0.86        40\n",
            "           1       0.90      0.92      0.91        60\n",
            "\n",
            "    accuracy                           0.89       100\n",
            "   macro avg       0.89      0.88      0.88       100\n",
            "weighted avg       0.89      0.89      0.89       100\n",
            "\n"
          ],
          "name": "stdout"
        }
      ]
    },
    {
      "cell_type": "markdown",
      "metadata": {
        "id": "hHCvsP1g0jUv",
        "colab_type": "text"
      },
      "source": [
        "## 寻找决策边界\n",
        "\n",
        " $X \\times \\theta = 0$  \n",
        "\n",
        "<font face=楷体 color=green size=4>**绿色链接:**</font>  \n",
        "【1】[Why is logistic regression a linear classifier](http://stats.stackexchange.com/questions/93569/why-is-logistic-regression-a-linear-classifier)"
      ]
    },
    {
      "cell_type": "code",
      "metadata": {
        "id": "x3EgTAG40jUw",
        "colab_type": "code",
        "outputId": "b15c6df5-9683-4297-9066-f28cb2cba5c5",
        "colab": {
          "base_uri": "https://localhost:8080/",
          "height": 35
        }
      },
      "source": [
        "print(res.x)  # this is final theta"
      ],
      "execution_count": 23,
      "outputs": [
        {
          "output_type": "stream",
          "text": [
            "[-25.16833701   0.20628773   0.20152827]\n"
          ],
          "name": "stdout"
        }
      ]
    },
    {
      "cell_type": "code",
      "metadata": {
        "id": "deqOzWhc0jUx",
        "colab_type": "code",
        "outputId": "76aa2eb9-60b0-403d-8405-786d8abff346",
        "colab": {
          "base_uri": "https://localhost:8080/",
          "height": 35
        }
      },
      "source": [
        "coef = -(res.x / res.x[2])  \n",
        "print(coef)\n",
        "\n",
        "x = np.arange(130, step=0.1)\n",
        "y = coef[0] + coef[1]*x   # 最优分界线"
      ],
      "execution_count": 24,
      "outputs": [
        {
          "output_type": "stream",
          "text": [
            "[124.88737673  -1.02361684  -1.        ]\n"
          ],
          "name": "stdout"
        }
      ]
    },
    {
      "cell_type": "code",
      "metadata": {
        "id": "ASKnDU290jUy",
        "colab_type": "code",
        "outputId": "11182e38-5ef4-402e-dd28-6f373c0881df",
        "colab": {
          "base_uri": "https://localhost:8080/",
          "height": 294
        }
      },
      "source": [
        "data.describe()  # find the range of x and y"
      ],
      "execution_count": 25,
      "outputs": [
        {
          "output_type": "execute_result",
          "data": {
            "text/html": [
              "<div>\n",
              "<style scoped>\n",
              "    .dataframe tbody tr th:only-of-type {\n",
              "        vertical-align: middle;\n",
              "    }\n",
              "\n",
              "    .dataframe tbody tr th {\n",
              "        vertical-align: top;\n",
              "    }\n",
              "\n",
              "    .dataframe thead th {\n",
              "        text-align: right;\n",
              "    }\n",
              "</style>\n",
              "<table border=\"1\" class=\"dataframe\">\n",
              "  <thead>\n",
              "    <tr style=\"text-align: right;\">\n",
              "      <th></th>\n",
              "      <th>exam1</th>\n",
              "      <th>exam2</th>\n",
              "      <th>admitted</th>\n",
              "    </tr>\n",
              "  </thead>\n",
              "  <tbody>\n",
              "    <tr>\n",
              "      <th>count</th>\n",
              "      <td>100.000000</td>\n",
              "      <td>100.000000</td>\n",
              "      <td>100.000000</td>\n",
              "    </tr>\n",
              "    <tr>\n",
              "      <th>mean</th>\n",
              "      <td>65.644274</td>\n",
              "      <td>66.221998</td>\n",
              "      <td>0.600000</td>\n",
              "    </tr>\n",
              "    <tr>\n",
              "      <th>std</th>\n",
              "      <td>19.458222</td>\n",
              "      <td>18.582783</td>\n",
              "      <td>0.492366</td>\n",
              "    </tr>\n",
              "    <tr>\n",
              "      <th>min</th>\n",
              "      <td>30.058822</td>\n",
              "      <td>30.603263</td>\n",
              "      <td>0.000000</td>\n",
              "    </tr>\n",
              "    <tr>\n",
              "      <th>25%</th>\n",
              "      <td>50.919511</td>\n",
              "      <td>48.179205</td>\n",
              "      <td>0.000000</td>\n",
              "    </tr>\n",
              "    <tr>\n",
              "      <th>50%</th>\n",
              "      <td>67.032988</td>\n",
              "      <td>67.682381</td>\n",
              "      <td>1.000000</td>\n",
              "    </tr>\n",
              "    <tr>\n",
              "      <th>75%</th>\n",
              "      <td>80.212529</td>\n",
              "      <td>79.360605</td>\n",
              "      <td>1.000000</td>\n",
              "    </tr>\n",
              "    <tr>\n",
              "      <th>max</th>\n",
              "      <td>99.827858</td>\n",
              "      <td>98.869436</td>\n",
              "      <td>1.000000</td>\n",
              "    </tr>\n",
              "  </tbody>\n",
              "</table>\n",
              "</div>"
            ],
            "text/plain": [
              "            exam1       exam2    admitted\n",
              "count  100.000000  100.000000  100.000000\n",
              "mean    65.644274   66.221998    0.600000\n",
              "std     19.458222   18.582783    0.492366\n",
              "min     30.058822   30.603263    0.000000\n",
              "25%     50.919511   48.179205    0.000000\n",
              "50%     67.032988   67.682381    1.000000\n",
              "75%     80.212529   79.360605    1.000000\n",
              "max     99.827858   98.869436    1.000000"
            ]
          },
          "metadata": {
            "tags": []
          },
          "execution_count": 25
        }
      ]
    },
    {
      "cell_type": "markdown",
      "metadata": {
        "id": "qgU-QIBz0jU0",
        "colab_type": "text"
      },
      "source": [
        "<font face=楷体 color=skyblue size=4>$x$和$y$的截距都在125左右</font>"
      ]
    },
    {
      "cell_type": "code",
      "metadata": {
        "id": "tmRl2s9H0jU0",
        "colab_type": "code",
        "outputId": "e7aefa3b-b5f0-411f-eff7-243027c09d8c",
        "colab": {
          "base_uri": "https://localhost:8080/",
          "height": 495
        }
      },
      "source": [
        "sns.set(context=\"notebook\", style=\"ticks\", font_scale=1.5)\n",
        "\n",
        "sns.lmplot('exam1', 'exam2', hue='admitted', data=data, \n",
        "           size=6, \n",
        "           fit_reg=False, \n",
        "           scatter_kws={\"s\": 25}\n",
        "          )\n",
        "\n",
        "plt.plot(x, y, 'grey')\n",
        "plt.xlim(0, 130)\n",
        "plt.ylim(0, 130)\n",
        "plt.title('Decision Boundary')\n",
        "plt.show()"
      ],
      "execution_count": 26,
      "outputs": [
        {
          "output_type": "stream",
          "text": [
            "/usr/local/lib/python3.6/dist-packages/seaborn/regression.py:546: UserWarning: The `size` paramter has been renamed to `height`; please update your code.\n",
            "  warnings.warn(msg, UserWarning)\n"
          ],
          "name": "stderr"
        },
        {
          "output_type": "display_data",
          "data": {
            "image/png": "[encoded data removed]",
            "text/plain": [
              "<Figure size 514.7x432 with 1 Axes>"
            ]
          },
          "metadata": {
            "tags": []
          }
        }
      ]
    },
    {
      "cell_type": "markdown",
      "metadata": {
        "collapsed": true,
        "id": "0Nv_idSD0jU2",
        "colab_type": "text"
      },
      "source": [
        "# 正则化逻辑回归"
      ]
    },
    {
      "cell_type": "code",
      "metadata": {
        "id": "wVOfUW2C0jU2",
        "colab_type": "code",
        "outputId": "02941544-6b97-473c-87f0-ba79d12ed633",
        "colab": {
          "base_uri": "https://localhost:8080/",
          "height": 202
        }
      },
      "source": [
        "df = pd.read_csv('ex2data2.txt', names=['test1', 'test2', 'accepted'])\n",
        "df.head()"
      ],
      "execution_count": 27,
      "outputs": [
        {
          "output_type": "execute_result",
          "data": {
            "text/html": [
              "<div>\n",
              "<style scoped>\n",
              "    .dataframe tbody tr th:only-of-type {\n",
              "        vertical-align: middle;\n",
              "    }\n",
              "\n",
              "    .dataframe tbody tr th {\n",
              "        vertical-align: top;\n",
              "    }\n",
              "\n",
              "    .dataframe thead th {\n",
              "        text-align: right;\n",
              "    }\n",
              "</style>\n",
              "<table border=\"1\" class=\"dataframe\">\n",
              "  <thead>\n",
              "    <tr style=\"text-align: right;\">\n",
              "      <th></th>\n",
              "      <th>test1</th>\n",
              "      <th>test2</th>\n",
              "      <th>accepted</th>\n",
              "    </tr>\n",
              "  </thead>\n",
              "  <tbody>\n",
              "    <tr>\n",
              "      <th>0</th>\n",
              "      <td>0.051267</td>\n",
              "      <td>0.69956</td>\n",
              "      <td>1</td>\n",
              "    </tr>\n",
              "    <tr>\n",
              "      <th>1</th>\n",
              "      <td>-0.092742</td>\n",
              "      <td>0.68494</td>\n",
              "      <td>1</td>\n",
              "    </tr>\n",
              "    <tr>\n",
              "      <th>2</th>\n",
              "      <td>-0.213710</td>\n",
              "      <td>0.69225</td>\n",
              "      <td>1</td>\n",
              "    </tr>\n",
              "    <tr>\n",
              "      <th>3</th>\n",
              "      <td>-0.375000</td>\n",
              "      <td>0.50219</td>\n",
              "      <td>1</td>\n",
              "    </tr>\n",
              "    <tr>\n",
              "      <th>4</th>\n",
              "      <td>-0.513250</td>\n",
              "      <td>0.46564</td>\n",
              "      <td>1</td>\n",
              "    </tr>\n",
              "  </tbody>\n",
              "</table>\n",
              "</div>"
            ],
            "text/plain": [
              "      test1    test2  accepted\n",
              "0  0.051267  0.69956         1\n",
              "1 -0.092742  0.68494         1\n",
              "2 -0.213710  0.69225         1\n",
              "3 -0.375000  0.50219         1\n",
              "4 -0.513250  0.46564         1"
            ]
          },
          "metadata": {
            "tags": []
          },
          "execution_count": 27
        }
      ]
    },
    {
      "cell_type": "code",
      "metadata": {
        "id": "eOskVJ-q0jU3",
        "colab_type": "code",
        "outputId": "6ab02d91-283e-439e-9a9a-78a4fac3d2dd",
        "colab": {
          "base_uri": "https://localhost:8080/",
          "height": 495
        }
      },
      "source": [
        "sns.set(context=\"notebook\", style=\"ticks\", font_scale=1.5)\n",
        "\n",
        "sns.lmplot('test1', 'test2', hue='accepted', data=df, \n",
        "           size=6, \n",
        "           fit_reg=False, \n",
        "           scatter_kws={\"s\": 50}\n",
        "          )\n",
        "\n",
        "plt.title('Regularized Logistic Regression')\n",
        "plt.show()"
      ],
      "execution_count": 28,
      "outputs": [
        {
          "output_type": "stream",
          "text": [
            "/usr/local/lib/python3.6/dist-packages/seaborn/regression.py:546: UserWarning: The `size` paramter has been renamed to `height`; please update your code.\n",
            "  warnings.warn(msg, UserWarning)\n"
          ],
          "name": "stderr"
        },
        {
          "output_type": "display_data",
          "data": {
            "image/png": "[encoded data removed]",
            "text/plain": [
              "<Figure size 516.075x432 with 1 Axes>"
            ]
          },
          "metadata": {
            "tags": []
          }
        }
      ]
    },
    {
      "cell_type": "markdown",
      "metadata": {
        "id": "oLpiXAAG0jU5",
        "colab_type": "text"
      },
      "source": [
        "## feature mapping（特征映射）\n",
        "\n",
        "<font face=楷体 color=skyblue size=4>多项式展开</font>\n",
        "\n",
        "$$mapFeature(x)=\n",
        "\\left[\\begin{array}{c}{1\\\\x_1\\\\x_2\\\\x_1^2\\\\x_1x_2\\\\x^2_2\\\\x_1^3\\\\\\ \\ \\vdots\\\\x_1x_2^5\\\\x_2^6}\\end{array}\\right]\n",
        "$$\n",
        "<font face=楷体 color=yellow size=4>**疑问：**</font>  \n",
        "二项式???????????????????????????????????????????????????????????????????  \n",
        "\n",
        "<font face=楷体 color=green size=4>**绿色链接：**</font>  \n",
        "【1】[Python format 格式化函数](https://www.runoob.com/python/att-string-format.html)"
      ]
    },
    {
      "cell_type": "code",
      "metadata": {
        "id": "W-vh9U3m0jU5",
        "colab_type": "code",
        "colab": {}
      },
      "source": [
        "def feature_mapping(x, y, power, as_ndarray=False):\n",
        "#     \"\"\"return mapped features as ndarray or dataframe\"\"\"\n",
        "    # data = {}\n",
        "    # # inclusive\n",
        "    # for i in np.arange(power + 1):\n",
        "    #     for p in np.arange(i + 1):\n",
        "    #         data[\"f{}{}\".format(i - p, p)] = np.power(x, i - p) * np.power(y, p)\n",
        "\n",
        "    data = {\"f{}{}\".format(i - p, p): np.power(x, i - p) * np.power(y, p)\n",
        "                for i in np.arange(power + 1)\n",
        "                for p in np.arange(i + 1)\n",
        "            }\n",
        "\n",
        "    if as_ndarray:\n",
        "        return pd.DataFrame(data).as_matrix()\n",
        "    else:\n",
        "        return pd.DataFrame(data)"
      ],
      "execution_count": 0,
      "outputs": []
    },
    {
      "cell_type": "code",
      "metadata": {
        "id": "dfG5Lvb70jU7",
        "colab_type": "code",
        "colab": {
          "base_uri": "https://localhost:8080/",
          "height": 327
        },
        "outputId": "9a4c64bd-da36-4d39-c59c-b56dd70dda61"
      },
      "source": [
        "x1 = np.array(df.test1)\n",
        "x2 = np.array(df.test2)\n",
        "\n",
        "data = feature_mapping(x1, x2, power=6)\n",
        "print(data.shape)\n",
        "data.head()"
      ],
      "execution_count": 30,
      "outputs": [
        {
          "output_type": "stream",
          "text": [
            "(118, 28)\n"
          ],
          "name": "stdout"
        },
        {
          "output_type": "execute_result",
          "data": {
            "text/html": [
              "<div>\n",
              "<style scoped>\n",
              "    .dataframe tbody tr th:only-of-type {\n",
              "        vertical-align: middle;\n",
              "    }\n",
              "\n",
              "    .dataframe tbody tr th {\n",
              "        vertical-align: top;\n",
              "    }\n",
              "\n",
              "    .dataframe thead th {\n",
              "        text-align: right;\n",
              "    }\n",
              "</style>\n",
              "<table border=\"1\" class=\"dataframe\">\n",
              "  <thead>\n",
              "    <tr style=\"text-align: right;\">\n",
              "      <th></th>\n",
              "      <th>f00</th>\n",
              "      <th>f10</th>\n",
              "      <th>f01</th>\n",
              "      <th>f20</th>\n",
              "      <th>f11</th>\n",
              "      <th>f02</th>\n",
              "      <th>f30</th>\n",
              "      <th>f21</th>\n",
              "      <th>f12</th>\n",
              "      <th>f03</th>\n",
              "      <th>f40</th>\n",
              "      <th>f31</th>\n",
              "      <th>f22</th>\n",
              "      <th>f13</th>\n",
              "      <th>f04</th>\n",
              "      <th>f50</th>\n",
              "      <th>f41</th>\n",
              "      <th>f32</th>\n",
              "      <th>f23</th>\n",
              "      <th>f14</th>\n",
              "      <th>f05</th>\n",
              "      <th>f60</th>\n",
              "      <th>f51</th>\n",
              "      <th>f42</th>\n",
              "      <th>f33</th>\n",
              "      <th>f24</th>\n",
              "      <th>f15</th>\n",
              "      <th>f06</th>\n",
              "    </tr>\n",
              "  </thead>\n",
              "  <tbody>\n",
              "    <tr>\n",
              "      <th>0</th>\n",
              "      <td>1.0</td>\n",
              "      <td>0.051267</td>\n",
              "      <td>0.69956</td>\n",
              "      <td>0.002628</td>\n",
              "      <td>0.035864</td>\n",
              "      <td>0.489384</td>\n",
              "      <td>0.000135</td>\n",
              "      <td>0.001839</td>\n",
              "      <td>0.025089</td>\n",
              "      <td>0.342354</td>\n",
              "      <td>0.000007</td>\n",
              "      <td>0.000094</td>\n",
              "      <td>0.001286</td>\n",
              "      <td>0.017551</td>\n",
              "      <td>0.239497</td>\n",
              "      <td>3.541519e-07</td>\n",
              "      <td>0.000005</td>\n",
              "      <td>0.000066</td>\n",
              "      <td>0.000900</td>\n",
              "      <td>0.012278</td>\n",
              "      <td>0.167542</td>\n",
              "      <td>1.815630e-08</td>\n",
              "      <td>2.477505e-07</td>\n",
              "      <td>0.000003</td>\n",
              "      <td>0.000046</td>\n",
              "      <td>0.000629</td>\n",
              "      <td>0.008589</td>\n",
              "      <td>0.117206</td>\n",
              "    </tr>\n",
              "    <tr>\n",
              "      <th>1</th>\n",
              "      <td>1.0</td>\n",
              "      <td>-0.092742</td>\n",
              "      <td>0.68494</td>\n",
              "      <td>0.008601</td>\n",
              "      <td>-0.063523</td>\n",
              "      <td>0.469143</td>\n",
              "      <td>-0.000798</td>\n",
              "      <td>0.005891</td>\n",
              "      <td>-0.043509</td>\n",
              "      <td>0.321335</td>\n",
              "      <td>0.000074</td>\n",
              "      <td>-0.000546</td>\n",
              "      <td>0.004035</td>\n",
              "      <td>-0.029801</td>\n",
              "      <td>0.220095</td>\n",
              "      <td>-6.860919e-06</td>\n",
              "      <td>0.000051</td>\n",
              "      <td>-0.000374</td>\n",
              "      <td>0.002764</td>\n",
              "      <td>-0.020412</td>\n",
              "      <td>0.150752</td>\n",
              "      <td>6.362953e-07</td>\n",
              "      <td>-4.699318e-06</td>\n",
              "      <td>0.000035</td>\n",
              "      <td>-0.000256</td>\n",
              "      <td>0.001893</td>\n",
              "      <td>-0.013981</td>\n",
              "      <td>0.103256</td>\n",
              "    </tr>\n",
              "    <tr>\n",
              "      <th>2</th>\n",
              "      <td>1.0</td>\n",
              "      <td>-0.213710</td>\n",
              "      <td>0.69225</td>\n",
              "      <td>0.045672</td>\n",
              "      <td>-0.147941</td>\n",
              "      <td>0.479210</td>\n",
              "      <td>-0.009761</td>\n",
              "      <td>0.031616</td>\n",
              "      <td>-0.102412</td>\n",
              "      <td>0.331733</td>\n",
              "      <td>0.002086</td>\n",
              "      <td>-0.006757</td>\n",
              "      <td>0.021886</td>\n",
              "      <td>-0.070895</td>\n",
              "      <td>0.229642</td>\n",
              "      <td>-4.457837e-04</td>\n",
              "      <td>0.001444</td>\n",
              "      <td>-0.004677</td>\n",
              "      <td>0.015151</td>\n",
              "      <td>-0.049077</td>\n",
              "      <td>0.158970</td>\n",
              "      <td>9.526844e-05</td>\n",
              "      <td>-3.085938e-04</td>\n",
              "      <td>0.001000</td>\n",
              "      <td>-0.003238</td>\n",
              "      <td>0.010488</td>\n",
              "      <td>-0.033973</td>\n",
              "      <td>0.110047</td>\n",
              "    </tr>\n",
              "    <tr>\n",
              "      <th>3</th>\n",
              "      <td>1.0</td>\n",
              "      <td>-0.375000</td>\n",
              "      <td>0.50219</td>\n",
              "      <td>0.140625</td>\n",
              "      <td>-0.188321</td>\n",
              "      <td>0.252195</td>\n",
              "      <td>-0.052734</td>\n",
              "      <td>0.070620</td>\n",
              "      <td>-0.094573</td>\n",
              "      <td>0.126650</td>\n",
              "      <td>0.019775</td>\n",
              "      <td>-0.026483</td>\n",
              "      <td>0.035465</td>\n",
              "      <td>-0.047494</td>\n",
              "      <td>0.063602</td>\n",
              "      <td>-7.415771e-03</td>\n",
              "      <td>0.009931</td>\n",
              "      <td>-0.013299</td>\n",
              "      <td>0.017810</td>\n",
              "      <td>-0.023851</td>\n",
              "      <td>0.031940</td>\n",
              "      <td>2.780914e-03</td>\n",
              "      <td>-3.724126e-03</td>\n",
              "      <td>0.004987</td>\n",
              "      <td>-0.006679</td>\n",
              "      <td>0.008944</td>\n",
              "      <td>-0.011978</td>\n",
              "      <td>0.016040</td>\n",
              "    </tr>\n",
              "    <tr>\n",
              "      <th>4</th>\n",
              "      <td>1.0</td>\n",
              "      <td>-0.513250</td>\n",
              "      <td>0.46564</td>\n",
              "      <td>0.263426</td>\n",
              "      <td>-0.238990</td>\n",
              "      <td>0.216821</td>\n",
              "      <td>-0.135203</td>\n",
              "      <td>0.122661</td>\n",
              "      <td>-0.111283</td>\n",
              "      <td>0.100960</td>\n",
              "      <td>0.069393</td>\n",
              "      <td>-0.062956</td>\n",
              "      <td>0.057116</td>\n",
              "      <td>-0.051818</td>\n",
              "      <td>0.047011</td>\n",
              "      <td>-3.561597e-02</td>\n",
              "      <td>0.032312</td>\n",
              "      <td>-0.029315</td>\n",
              "      <td>0.026596</td>\n",
              "      <td>-0.024128</td>\n",
              "      <td>0.021890</td>\n",
              "      <td>1.827990e-02</td>\n",
              "      <td>-1.658422e-02</td>\n",
              "      <td>0.015046</td>\n",
              "      <td>-0.013650</td>\n",
              "      <td>0.012384</td>\n",
              "      <td>-0.011235</td>\n",
              "      <td>0.010193</td>\n",
              "    </tr>\n",
              "  </tbody>\n",
              "</table>\n",
              "</div>"
            ],
            "text/plain": [
              "   f00       f10      f01       f20  ...       f33       f24       f15       f06\n",
              "0  1.0  0.051267  0.69956  0.002628  ...  0.000046  0.000629  0.008589  0.117206\n",
              "1  1.0 -0.092742  0.68494  0.008601  ... -0.000256  0.001893 -0.013981  0.103256\n",
              "2  1.0 -0.213710  0.69225  0.045672  ... -0.003238  0.010488 -0.033973  0.110047\n",
              "3  1.0 -0.375000  0.50219  0.140625  ... -0.006679  0.008944 -0.011978  0.016040\n",
              "4  1.0 -0.513250  0.46564  0.263426  ... -0.013650  0.012384 -0.011235  0.010193\n",
              "\n",
              "[5 rows x 28 columns]"
            ]
          },
          "metadata": {
            "tags": []
          },
          "execution_count": 30
        }
      ]
    },
    {
      "cell_type": "code",
      "metadata": {
        "id": "SHsFJBub0jU-",
        "colab_type": "code",
        "outputId": "c512a07a-ebec-4722-8e36-709583bf7f41",
        "colab": {
          "base_uri": "https://localhost:8080/",
          "height": 366
        }
      },
      "source": [
        "data.describe()"
      ],
      "execution_count": 31,
      "outputs": [
        {
          "output_type": "execute_result",
          "data": {
            "text/html": [
              "<div>\n",
              "<style scoped>\n",
              "    .dataframe tbody tr th:only-of-type {\n",
              "        vertical-align: middle;\n",
              "    }\n",
              "\n",
              "    .dataframe tbody tr th {\n",
              "        vertical-align: top;\n",
              "    }\n",
              "\n",
              "    .dataframe thead th {\n",
              "        text-align: right;\n",
              "    }\n",
              "</style>\n",
              "<table border=\"1\" class=\"dataframe\">\n",
              "  <thead>\n",
              "    <tr style=\"text-align: right;\">\n",
              "      <th></th>\n",
              "      <th>f00</th>\n",
              "      <th>f10</th>\n",
              "      <th>f01</th>\n",
              "      <th>f20</th>\n",
              "      <th>f11</th>\n",
              "      <th>f02</th>\n",
              "      <th>f30</th>\n",
              "      <th>f21</th>\n",
              "      <th>f12</th>\n",
              "      <th>f03</th>\n",
              "      <th>f40</th>\n",
              "      <th>f31</th>\n",
              "      <th>f22</th>\n",
              "      <th>f13</th>\n",
              "      <th>f04</th>\n",
              "      <th>f50</th>\n",
              "      <th>f41</th>\n",
              "      <th>f32</th>\n",
              "      <th>f23</th>\n",
              "      <th>f14</th>\n",
              "      <th>f05</th>\n",
              "      <th>f60</th>\n",
              "      <th>f51</th>\n",
              "      <th>f42</th>\n",
              "      <th>f33</th>\n",
              "      <th>f24</th>\n",
              "      <th>f15</th>\n",
              "      <th>f06</th>\n",
              "    </tr>\n",
              "  </thead>\n",
              "  <tbody>\n",
              "    <tr>\n",
              "      <th>count</th>\n",
              "      <td>118.0</td>\n",
              "      <td>118.000000</td>\n",
              "      <td>118.000000</td>\n",
              "      <td>118.000000</td>\n",
              "      <td>118.000000</td>\n",
              "      <td>118.000000</td>\n",
              "      <td>1.180000e+02</td>\n",
              "      <td>118.000000</td>\n",
              "      <td>118.000000</td>\n",
              "      <td>118.000000</td>\n",
              "      <td>1.180000e+02</td>\n",
              "      <td>118.000000</td>\n",
              "      <td>118.000000</td>\n",
              "      <td>118.000000</td>\n",
              "      <td>1.180000e+02</td>\n",
              "      <td>1.180000e+02</td>\n",
              "      <td>118.000000</td>\n",
              "      <td>1.180000e+02</td>\n",
              "      <td>118.000000</td>\n",
              "      <td>1.180000e+02</td>\n",
              "      <td>118.000000</td>\n",
              "      <td>1.180000e+02</td>\n",
              "      <td>118.000000</td>\n",
              "      <td>1.180000e+02</td>\n",
              "      <td>118.000000</td>\n",
              "      <td>1.180000e+02</td>\n",
              "      <td>118.000000</td>\n",
              "      <td>1.180000e+02</td>\n",
              "    </tr>\n",
              "    <tr>\n",
              "      <th>mean</th>\n",
              "      <td>1.0</td>\n",
              "      <td>0.054779</td>\n",
              "      <td>0.183102</td>\n",
              "      <td>0.247575</td>\n",
              "      <td>-0.025472</td>\n",
              "      <td>0.301370</td>\n",
              "      <td>5.983333e-02</td>\n",
              "      <td>0.030682</td>\n",
              "      <td>0.015483</td>\n",
              "      <td>0.142350</td>\n",
              "      <td>1.225384e-01</td>\n",
              "      <td>-0.005251</td>\n",
              "      <td>0.050433</td>\n",
              "      <td>-0.011048</td>\n",
              "      <td>1.710985e-01</td>\n",
              "      <td>5.196507e-02</td>\n",
              "      <td>0.011812</td>\n",
              "      <td>9.432094e-03</td>\n",
              "      <td>0.018278</td>\n",
              "      <td>4.089084e-03</td>\n",
              "      <td>0.115710</td>\n",
              "      <td>7.837118e-02</td>\n",
              "      <td>-0.000703</td>\n",
              "      <td>1.893340e-02</td>\n",
              "      <td>-0.001705</td>\n",
              "      <td>2.259170e-02</td>\n",
              "      <td>-0.006302</td>\n",
              "      <td>1.257256e-01</td>\n",
              "    </tr>\n",
              "    <tr>\n",
              "      <th>std</th>\n",
              "      <td>0.0</td>\n",
              "      <td>0.496654</td>\n",
              "      <td>0.519743</td>\n",
              "      <td>0.248532</td>\n",
              "      <td>0.224075</td>\n",
              "      <td>0.284536</td>\n",
              "      <td>2.746459e-01</td>\n",
              "      <td>0.134706</td>\n",
              "      <td>0.150143</td>\n",
              "      <td>0.326134</td>\n",
              "      <td>2.092709e-01</td>\n",
              "      <td>0.096738</td>\n",
              "      <td>0.068211</td>\n",
              "      <td>0.116735</td>\n",
              "      <td>2.815658e-01</td>\n",
              "      <td>2.148098e-01</td>\n",
              "      <td>0.072274</td>\n",
              "      <td>5.455787e-02</td>\n",
              "      <td>0.058513</td>\n",
              "      <td>9.993907e-02</td>\n",
              "      <td>0.299092</td>\n",
              "      <td>1.938621e-01</td>\n",
              "      <td>0.058271</td>\n",
              "      <td>3.430092e-02</td>\n",
              "      <td>0.037443</td>\n",
              "      <td>4.346935e-02</td>\n",
              "      <td>0.090621</td>\n",
              "      <td>2.964416e-01</td>\n",
              "    </tr>\n",
              "    <tr>\n",
              "      <th>min</th>\n",
              "      <td>1.0</td>\n",
              "      <td>-0.830070</td>\n",
              "      <td>-0.769740</td>\n",
              "      <td>0.000040</td>\n",
              "      <td>-0.484096</td>\n",
              "      <td>0.000026</td>\n",
              "      <td>-5.719317e-01</td>\n",
              "      <td>-0.358121</td>\n",
              "      <td>-0.483743</td>\n",
              "      <td>-0.456071</td>\n",
              "      <td>1.612020e-09</td>\n",
              "      <td>-0.296854</td>\n",
              "      <td>0.000006</td>\n",
              "      <td>-0.483390</td>\n",
              "      <td>6.855856e-10</td>\n",
              "      <td>-3.940702e-01</td>\n",
              "      <td>-0.246068</td>\n",
              "      <td>-1.592528e-01</td>\n",
              "      <td>-0.142660</td>\n",
              "      <td>-4.830370e-01</td>\n",
              "      <td>-0.270222</td>\n",
              "      <td>6.472253e-14</td>\n",
              "      <td>-0.203971</td>\n",
              "      <td>2.577297e-10</td>\n",
              "      <td>-0.113448</td>\n",
              "      <td>2.418097e-10</td>\n",
              "      <td>-0.482684</td>\n",
              "      <td>1.795116e-14</td>\n",
              "    </tr>\n",
              "    <tr>\n",
              "      <th>25%</th>\n",
              "      <td>1.0</td>\n",
              "      <td>-0.372120</td>\n",
              "      <td>-0.254385</td>\n",
              "      <td>0.043243</td>\n",
              "      <td>-0.178209</td>\n",
              "      <td>0.061086</td>\n",
              "      <td>-5.155632e-02</td>\n",
              "      <td>-0.023672</td>\n",
              "      <td>-0.042980</td>\n",
              "      <td>-0.016492</td>\n",
              "      <td>1.869975e-03</td>\n",
              "      <td>-0.029360</td>\n",
              "      <td>0.004076</td>\n",
              "      <td>-0.046392</td>\n",
              "      <td>3.741593e-03</td>\n",
              "      <td>-7.147973e-03</td>\n",
              "      <td>-0.001926</td>\n",
              "      <td>-3.659760e-03</td>\n",
              "      <td>-0.001400</td>\n",
              "      <td>-7.449462e-03</td>\n",
              "      <td>-0.001072</td>\n",
              "      <td>8.086369e-05</td>\n",
              "      <td>-0.006381</td>\n",
              "      <td>1.258285e-04</td>\n",
              "      <td>-0.005749</td>\n",
              "      <td>3.528590e-04</td>\n",
              "      <td>-0.016662</td>\n",
              "      <td>2.298277e-04</td>\n",
              "    </tr>\n",
              "    <tr>\n",
              "      <th>50%</th>\n",
              "      <td>1.0</td>\n",
              "      <td>-0.006336</td>\n",
              "      <td>0.213455</td>\n",
              "      <td>0.165397</td>\n",
              "      <td>-0.016521</td>\n",
              "      <td>0.252195</td>\n",
              "      <td>-2.544062e-07</td>\n",
              "      <td>0.006603</td>\n",
              "      <td>-0.000039</td>\n",
              "      <td>0.009734</td>\n",
              "      <td>2.736163e-02</td>\n",
              "      <td>-0.000512</td>\n",
              "      <td>0.018229</td>\n",
              "      <td>-0.000446</td>\n",
              "      <td>6.360222e-02</td>\n",
              "      <td>-1.021440e-11</td>\n",
              "      <td>0.000205</td>\n",
              "      <td>-1.473547e-07</td>\n",
              "      <td>0.001026</td>\n",
              "      <td>-8.972096e-09</td>\n",
              "      <td>0.000444</td>\n",
              "      <td>4.527344e-03</td>\n",
              "      <td>-0.000004</td>\n",
              "      <td>3.387050e-03</td>\n",
              "      <td>-0.000005</td>\n",
              "      <td>3.921378e-03</td>\n",
              "      <td>-0.000020</td>\n",
              "      <td>1.604015e-02</td>\n",
              "    </tr>\n",
              "    <tr>\n",
              "      <th>75%</th>\n",
              "      <td>1.0</td>\n",
              "      <td>0.478970</td>\n",
              "      <td>0.646562</td>\n",
              "      <td>0.389925</td>\n",
              "      <td>0.100795</td>\n",
              "      <td>0.464189</td>\n",
              "      <td>1.099616e-01</td>\n",
              "      <td>0.086392</td>\n",
              "      <td>0.079510</td>\n",
              "      <td>0.270310</td>\n",
              "      <td>1.520801e-01</td>\n",
              "      <td>0.015050</td>\n",
              "      <td>0.070063</td>\n",
              "      <td>0.012576</td>\n",
              "      <td>2.155453e-01</td>\n",
              "      <td>2.526861e-02</td>\n",
              "      <td>0.019183</td>\n",
              "      <td>1.370560e-02</td>\n",
              "      <td>0.021148</td>\n",
              "      <td>2.751341e-02</td>\n",
              "      <td>0.113020</td>\n",
              "      <td>5.932959e-02</td>\n",
              "      <td>0.002104</td>\n",
              "      <td>2.090875e-02</td>\n",
              "      <td>0.001024</td>\n",
              "      <td>2.103622e-02</td>\n",
              "      <td>0.001289</td>\n",
              "      <td>1.001215e-01</td>\n",
              "    </tr>\n",
              "    <tr>\n",
              "      <th>max</th>\n",
              "      <td>1.0</td>\n",
              "      <td>1.070900</td>\n",
              "      <td>1.108900</td>\n",
              "      <td>1.146827</td>\n",
              "      <td>0.568307</td>\n",
              "      <td>1.229659</td>\n",
              "      <td>1.228137e+00</td>\n",
              "      <td>0.449251</td>\n",
              "      <td>0.505577</td>\n",
              "      <td>1.363569</td>\n",
              "      <td>1.315212e+00</td>\n",
              "      <td>0.369805</td>\n",
              "      <td>0.322973</td>\n",
              "      <td>0.449772</td>\n",
              "      <td>1.512062e+00</td>\n",
              "      <td>1.408460e+00</td>\n",
              "      <td>0.304409</td>\n",
              "      <td>2.451845e-01</td>\n",
              "      <td>0.287323</td>\n",
              "      <td>4.012965e-01</td>\n",
              "      <td>1.676725</td>\n",
              "      <td>1.508320e+00</td>\n",
              "      <td>0.250577</td>\n",
              "      <td>2.018260e-01</td>\n",
              "      <td>0.183548</td>\n",
              "      <td>2.556084e-01</td>\n",
              "      <td>0.436209</td>\n",
              "      <td>1.859321e+00</td>\n",
              "    </tr>\n",
              "  </tbody>\n",
              "</table>\n",
              "</div>"
            ],
            "text/plain": [
              "         f00         f10         f01  ...           f24         f15           f06\n",
              "count  118.0  118.000000  118.000000  ...  1.180000e+02  118.000000  1.180000e+02\n",
              "mean     1.0    0.054779    0.183102  ...  2.259170e-02   -0.006302  1.257256e-01\n",
              "std      0.0    0.496654    0.519743  ...  4.346935e-02    0.090621  2.964416e-01\n",
              "min      1.0   -0.830070   -0.769740  ...  2.418097e-10   -0.482684  1.795116e-14\n",
              "25%      1.0   -0.372120   -0.254385  ...  3.528590e-04   -0.016662  2.298277e-04\n",
              "50%      1.0   -0.006336    0.213455  ...  3.921378e-03   -0.000020  1.604015e-02\n",
              "75%      1.0    0.478970    0.646562  ...  2.103622e-02    0.001289  1.001215e-01\n",
              "max      1.0    1.070900    1.108900  ...  2.556084e-01    0.436209  1.859321e+00\n",
              "\n",
              "[8 rows x 28 columns]"
            ]
          },
          "metadata": {
            "tags": []
          },
          "execution_count": 31
        }
      ]
    },
    {
      "cell_type": "markdown",
      "metadata": {
        "id": "z3CBilon0jVA",
        "colab_type": "text"
      },
      "source": [
        "## regularized cost（正则化代价函数）\n",
        "$$J\\left( \\theta  \\right)=\\frac{1}{m}\\sum\\limits_{i=1}^{m}{[-{{y}^{(i)}}\\log \\left( {{h}_{\\theta }}\\left( {{x}^{(i)}} \\right) \\right)-\\left( 1-{{y}^{(i)}} \\right)\\log \\left( 1-{{h}_{\\theta }}\\left( {{x}^{(i)}} \\right) \\right)]}+\\frac{\\lambda }{2m}\\sum\\limits_{j=1}^{n}{\\theta _{j}^{2}}$$"
      ]
    },
    {
      "cell_type": "code",
      "metadata": {
        "id": "PtjGeNap0jVA",
        "colab_type": "code",
        "outputId": "96f298ed-197b-40be-d172-af8f0956ec91",
        "colab": {
          "base_uri": "https://localhost:8080/",
          "height": 127
        }
      },
      "source": [
        "theta = np.zeros(data.shape[1])\n",
        "print(theta.shape)\n",
        "X = feature_mapping(x1, x2, power=6, as_ndarray=True)\n",
        "print(X.shape)\n",
        "\n",
        "y = get_y(df)\n",
        "print(y.shape)"
      ],
      "execution_count": 32,
      "outputs": [
        {
          "output_type": "stream",
          "text": [
            "(28,)\n",
            "(118, 28)\n",
            "(118,)\n"
          ],
          "name": "stdout"
        },
        {
          "output_type": "stream",
          "text": [
            "/usr/local/lib/python3.6/dist-packages/ipykernel_launcher.py:15: FutureWarning: Method .as_matrix will be removed in a future version. Use .values instead.\n",
            "  from ipykernel import kernelapp as app\n"
          ],
          "name": "stderr"
        }
      ]
    },
    {
      "cell_type": "code",
      "metadata": {
        "id": "n3wT_lVQ0jVB",
        "colab_type": "code",
        "colab": {
          "base_uri": "https://localhost:8080/",
          "height": 35
        },
        "outputId": "5c539e3d-464f-4166-9b67-46640d5bdc47"
      },
      "source": [
        "# 正则化代价函数\n",
        "def regularized_cost(theta, X, y, l=1):\n",
        "    '''you don't penalize theta_0'''\n",
        "    theta_j1_to_n = theta[1:]\n",
        "    regularized_term = (l / (2 * len(X))) * np.power(theta_j1_to_n, 2).sum()\n",
        "\n",
        "    return cost(theta, X, y) + regularized_term\n",
        "\n",
        "regularized_cost(theta, X, y, l=1)"
      ],
      "execution_count": 33,
      "outputs": [
        {
          "output_type": "execute_result",
          "data": {
            "text/plain": [
              "0.6931471805599454"
            ]
          },
          "metadata": {
            "tags": []
          },
          "execution_count": 33
        }
      ]
    },
    {
      "cell_type": "markdown",
      "metadata": {
        "id": "tgE1S26W0jVF",
        "colab_type": "text"
      },
      "source": [
        "<font face=楷体 color=skyblue>因为设置theta为0，所以正则化代价函数与代价函数的值相同"
      ]
    },
    {
      "cell_type": "markdown",
      "metadata": {
        "id": "XX4ZDGLz0jVF",
        "colab_type": "text"
      },
      "source": [
        "## regularized gradient(正则化梯度)\n",
        "$$\\frac{\\partial J\\left( \\theta  \\right)}{\\partial {{\\theta }_{j}}}=\\left( \\frac{1}{m}\\sum\\limits_{i=1}^{m}{\\left( {{h}_{\\theta }}\\left( {{x}^{\\left( i \\right)}} \\right)-{{y}^{\\left( i \\right)}} \\right)} \\right)+\\frac{\\lambda }{m}{{\\theta }_{j}}\\text{ }，\\ \\quad for  \\ j\\ge \\text{1}$$"
      ]
    },
    {
      "cell_type": "code",
      "metadata": {
        "id": "lbzVWNY80jVF",
        "colab_type": "code",
        "colab": {
          "base_uri": "https://localhost:8080/",
          "height": 143
        },
        "outputId": "61843430-2ab2-4576-dac3-4f1479eb9d53"
      },
      "source": [
        "def regularized_gradient(theta, X, y, l=1):\n",
        "    '''\n",
        "    still, leave theta_0 alone\n",
        "    '''\n",
        "    theta_j1_to_n = theta[1:]\n",
        "    regularized_theta = (l / len(X)) * theta_j1_to_n\n",
        "\n",
        "    # by doing this, no offset is on theta_0\n",
        "    regularized_term = np.concatenate([np.array([0]), regularized_theta])\n",
        "\n",
        "    return gradient(theta, X, y) + regularized_term\n",
        "\n",
        "regularized_gradient(theta, X, y)"
      ],
      "execution_count": 34,
      "outputs": [
        {
          "output_type": "execute_result",
          "data": {
            "text/plain": [
              "array([8.47457627e-03, 1.87880932e-02, 7.77711864e-05, 5.03446395e-02,\n",
              "       1.15013308e-02, 3.76648474e-02, 1.83559872e-02, 7.32393391e-03,\n",
              "       8.19244468e-03, 2.34764889e-02, 3.93486234e-02, 2.23923907e-03,\n",
              "       1.28600503e-02, 3.09593720e-03, 3.93028171e-02, 1.99707467e-02,\n",
              "       4.32983232e-03, 3.38643902e-03, 5.83822078e-03, 4.47629067e-03,\n",
              "       3.10079849e-02, 3.10312442e-02, 1.09740238e-03, 6.31570797e-03,\n",
              "       4.08503006e-04, 7.26504316e-03, 1.37646175e-03, 3.87936363e-02])"
            ]
          },
          "metadata": {
            "tags": []
          },
          "execution_count": 34
        }
      ]
    },
    {
      "cell_type": "markdown",
      "metadata": {
        "id": "t9fkEHVF0jVK",
        "colab_type": "text"
      },
      "source": [
        "## 拟合参数"
      ]
    },
    {
      "cell_type": "code",
      "metadata": {
        "id": "uHW9_vgP0jVK",
        "colab_type": "code",
        "colab": {
          "base_uri": "https://localhost:8080/",
          "height": 413
        },
        "outputId": "254d2539-2a4e-4cb2-ce1c-2af4d57c56cb"
      },
      "source": [
        "import scipy.optimize as opt\n",
        "\n",
        "print('init cost = {}'.format(regularized_cost(theta, X, y)))\n",
        "\n",
        "res = opt.minimize(fun=regularized_cost, x0=theta, args=(X, y), method='Newton-CG', jac=regularized_gradient)\n",
        "res"
      ],
      "execution_count": 35,
      "outputs": [
        {
          "output_type": "stream",
          "text": [
            "init cost = 0.6931471805599454\n"
          ],
          "name": "stdout"
        },
        {
          "output_type": "execute_result",
          "data": {
            "text/plain": [
              "     fun: 0.5290027297127532\n",
              "     jac: array([ 2.49665979e-08,  6.75202012e-11,  1.08466174e-07,  3.35532344e-08,\n",
              "        1.89306448e-08, -8.27493330e-09,  1.66090341e-08,  2.61579069e-08,\n",
              "        1.30397526e-08,  1.77535925e-08, -1.67712492e-08, -4.54007164e-10,\n",
              "       -2.85071983e-08,  5.92452807e-09, -3.30678421e-08,  8.84446122e-09,\n",
              "        1.64202223e-08, -8.36491532e-09, -1.84171537e-09,  1.07600649e-08,\n",
              "       -1.89008161e-08, -7.18406743e-09,  1.59962038e-09, -1.25117485e-08,\n",
              "       -5.03956881e-09, -1.21487383e-08,  2.04940517e-09, -4.00864843e-08])\n",
              " message: 'Optimization terminated successfully.'\n",
              "    nfev: 7\n",
              "    nhev: 0\n",
              "     nit: 6\n",
              "    njev: 68\n",
              "  status: 0\n",
              " success: True\n",
              "       x: array([ 1.27273858,  0.62527136,  1.18108796, -2.01996006, -0.91742423,\n",
              "       -1.43166336,  0.12400688, -0.3655345 , -0.35723914, -0.1751299 ,\n",
              "       -1.45815771, -0.05098963, -0.61555643, -0.27470696, -1.19281589,\n",
              "       -0.24218798, -0.2060058 , -0.04473123, -0.27778487, -0.29537783,\n",
              "       -0.45635728, -1.04320311,  0.02777153, -0.29243196,  0.01556631,\n",
              "       -0.32738005, -0.14388743, -0.92465235])"
            ]
          },
          "metadata": {
            "tags": []
          },
          "execution_count": 35
        }
      ]
    },
    {
      "cell_type": "markdown",
      "metadata": {
        "id": "D01UTDyC0jVO",
        "colab_type": "text"
      },
      "source": [
        "## 预测"
      ]
    },
    {
      "cell_type": "code",
      "metadata": {
        "id": "3b4yxlj-0jVP",
        "colab_type": "code",
        "outputId": "787004be-fcb4-4765-e4e5-2d2d40021b49",
        "colab": {
          "base_uri": "https://localhost:8080/",
          "height": 179
        }
      },
      "source": [
        "final_theta = res.x\n",
        "y_pred = predict(X, final_theta)\n",
        "\n",
        "print(classification_report(y, y_pred))"
      ],
      "execution_count": 36,
      "outputs": [
        {
          "output_type": "stream",
          "text": [
            "              precision    recall  f1-score   support\n",
            "\n",
            "           0       0.90      0.75      0.82        60\n",
            "           1       0.78      0.91      0.84        58\n",
            "\n",
            "    accuracy                           0.83       118\n",
            "   macro avg       0.84      0.83      0.83       118\n",
            "weighted avg       0.84      0.83      0.83       118\n",
            "\n"
          ],
          "name": "stdout"
        }
      ]
    },
    {
      "cell_type": "markdown",
      "metadata": {
        "id": "-AhOWzub0jVS",
        "colab_type": "text"
      },
      "source": [
        "## 使用不同的 $\\lambda$ （这个是常数）\n",
        "<font face=楷体 color=skyblue size=4>画出决策边界</font>\n",
        "<font face=楷体>\n",
        "* 找到所有满足 $X\\times \\theta = 0$ 的$X$\n",
        "* 不用解多项式方程，只需要创建一个密度足够大的网格，然后找出所有的$X\\times\\theta\\approx 0$，然后画出来\n",
        "</font>"
      ]
    },
    {
      "cell_type": "code",
      "metadata": {
        "id": "6sDzEYtl0jVS",
        "colab_type": "code",
        "colab": {}
      },
      "source": [
        "def draw_boundary(power, l):\n",
        "    \"\"\"\n",
        "    power: polynomial power for mapped feature\n",
        "    l: lambda constant\n",
        "    \"\"\"\n",
        "    density = 1000\n",
        "    threshhold = 2 * 10**-3\n",
        "\n",
        "    final_theta = feature_mapped_logistic_regression(power, l)\n",
        "    x, y = find_decision_boundary(density, power, final_theta, threshhold)\n",
        "\n",
        "    df = pd.read_csv('ex2data2.txt', names=['test1', 'test2', 'accepted'])\n",
        "    sns.lmplot('test1', 'test2', hue='accepted', data=df, size=6, fit_reg=False, scatter_kws={\"s\": 100})\n",
        "\n",
        "    plt.scatter(x, y, c='R', s=10)\n",
        "    plt.title('Decision boundary')\n",
        "    plt.show()"
      ],
      "execution_count": 0,
      "outputs": []
    },
    {
      "cell_type": "code",
      "metadata": {
        "id": "hZVTP_AO0jVX",
        "colab_type": "code",
        "colab": {}
      },
      "source": [
        "def feature_mapped_logistic_regression(power, l):\n",
        "    \"\"\"for drawing purpose only.. not a well generealize logistic regression\n",
        "    power: int\n",
        "        raise x1, x2 to polynomial power\n",
        "    l: int\n",
        "        lambda constant for regularization term\n",
        "    \"\"\"\n",
        "    df = pd.read_csv('ex2data2.txt', names=['test1', 'test2', 'accepted'])\n",
        "    x1 = np.array(df.test1)\n",
        "    x2 = np.array(df.test2)\n",
        "    y = get_y(df)\n",
        "\n",
        "    X = feature_mapping(x1, x2, power, as_ndarray=True)\n",
        "    theta = np.zeros(X.shape[1])\n",
        "\n",
        "    res = opt.minimize(fun=regularized_cost,\n",
        "                       x0=theta,\n",
        "                       args=(X, y, l),\n",
        "                       method='TNC',\n",
        "                       jac=regularized_gradient)\n",
        "    final_theta = res.x\n",
        "\n",
        "    return final_theta"
      ],
      "execution_count": 0,
      "outputs": []
    },
    {
      "cell_type": "markdown",
      "metadata": {
        "id": "9EY87tJ3JPXS",
        "colab_type": "text"
      },
      "source": [
        "<font face=楷体 color=yellow size=4>**疑问：**</font>  \n",
        "decision = mapped_cord[np.abs(inner_product) < threshhold]  \n",
        "<font face=楷体 color=green size=4>绿色链接：</font>  \n",
        "【1】[Python zip()](https://www.programiz.com/python-programming/methods/built-in/zip)"
      ]
    },
    {
      "cell_type": "code",
      "metadata": {
        "id": "FQ3guXbL0jVa",
        "colab_type": "code",
        "colab": {}
      },
      "source": [
        "#寻找决策边界函数\n",
        "def find_decision_boundary(density, power, theta, threshhold):\n",
        "    t1 = np.linspace(-1, 1.5, density)\n",
        "    t2 = np.linspace(-1, 1.5, density)\n",
        "\n",
        "    cordinates = [(x, y) for x in t1 for y in t2]\n",
        "    x_cord, y_cord = zip(*cordinates)  # * 表示解压返回tuple\n",
        "    mapped_cord = feature_mapping(x_cord, y_cord, power)  # this is a dataframe\n",
        "\n",
        "    inner_product = mapped_cord.as_matrix() @ theta\n",
        "\n",
        "    decision = mapped_cord[np.abs(inner_product) < threshhold]\n",
        "\n",
        "    return decision.f10, decision.f01"
      ],
      "execution_count": 0,
      "outputs": []
    },
    {
      "cell_type": "code",
      "metadata": {
        "scrolled": true,
        "id": "fZbl5t9d0jVc",
        "colab_type": "code",
        "outputId": "01884254-f081-47e8-b3ff-c317c086cd32",
        "colab": {
          "base_uri": "https://localhost:8080/",
          "height": 567
        }
      },
      "source": [
        "draw_boundary(power=6, l=1)  # lambda=1"
      ],
      "execution_count": 40,
      "outputs": [
        {
          "output_type": "stream",
          "text": [
            "/usr/local/lib/python3.6/dist-packages/ipykernel_launcher.py:15: FutureWarning: Method .as_matrix will be removed in a future version. Use .values instead.\n",
            "  from ipykernel import kernelapp as app\n",
            "/usr/local/lib/python3.6/dist-packages/ipykernel_launcher.py:9: FutureWarning: Method .as_matrix will be removed in a future version. Use .values instead.\n",
            "  if __name__ == '__main__':\n",
            "/usr/local/lib/python3.6/dist-packages/seaborn/regression.py:546: UserWarning: The `size` paramter has been renamed to `height`; please update your code.\n",
            "  warnings.warn(msg, UserWarning)\n"
          ],
          "name": "stderr"
        },
        {
          "output_type": "display_data",
          "data": {
            "image/png": "[encoded data removed]",
            "text/plain": [
              "<Figure size 516.075x432 with 1 Axes>"
            ]
          },
          "metadata": {
            "tags": []
          }
        }
      ]
    },
    {
      "cell_type": "code",
      "metadata": {
        "id": "WdqDVCBC0jVe",
        "colab_type": "code",
        "outputId": "84b37040-3af6-475f-93a0-6d1300350d67",
        "colab": {
          "base_uri": "https://localhost:8080/",
          "height": 567
        }
      },
      "source": [
        "draw_boundary(power=6, l=0)  # lambda=0,没有正则化，过拟合了"
      ],
      "execution_count": 41,
      "outputs": [
        {
          "output_type": "stream",
          "text": [
            "/usr/local/lib/python3.6/dist-packages/ipykernel_launcher.py:15: FutureWarning: Method .as_matrix will be removed in a future version. Use .values instead.\n",
            "  from ipykernel import kernelapp as app\n",
            "/usr/local/lib/python3.6/dist-packages/ipykernel_launcher.py:9: FutureWarning: Method .as_matrix will be removed in a future version. Use .values instead.\n",
            "  if __name__ == '__main__':\n",
            "/usr/local/lib/python3.6/dist-packages/seaborn/regression.py:546: UserWarning: The `size` paramter has been renamed to `height`; please update your code.\n",
            "  warnings.warn(msg, UserWarning)\n"
          ],
          "name": "stderr"
        },
        {
          "output_type": "display_data",
          "data": {
            "image/png": "[encoded data removed]",
            "text/plain": [
              "<Figure size 516.075x432 with 1 Axes>"
            ]
          },
          "metadata": {
            "tags": []
          }
        }
      ]
    },
    {
      "cell_type": "code",
      "metadata": {
        "id": "33CQnVit0jVi",
        "colab_type": "code",
        "outputId": "c27940a6-89d1-4f33-cc8f-56ecac599d40",
        "colab": {
          "base_uri": "https://localhost:8080/",
          "height": 567
        }
      },
      "source": [
        "draw_boundary(power=6, l=100)  # lambda=100,欠拟合"
      ],
      "execution_count": 42,
      "outputs": [
        {
          "output_type": "stream",
          "text": [
            "/usr/local/lib/python3.6/dist-packages/ipykernel_launcher.py:15: FutureWarning: Method .as_matrix will be removed in a future version. Use .values instead.\n",
            "  from ipykernel import kernelapp as app\n",
            "/usr/local/lib/python3.6/dist-packages/ipykernel_launcher.py:9: FutureWarning: Method .as_matrix will be removed in a future version. Use .values instead.\n",
            "  if __name__ == '__main__':\n",
            "/usr/local/lib/python3.6/dist-packages/seaborn/regression.py:546: UserWarning: The `size` paramter has been renamed to `height`; please update your code.\n",
            "  warnings.warn(msg, UserWarning)\n"
          ],
          "name": "stderr"
        },
        {
          "output_type": "display_data",
          "data": {
            "image/png": "[encoded data removed]",
            "text/plain": [
              "<Figure size 516.075x432 with 1 Axes>"
            ]
          },
          "metadata": {
            "tags": []
          }
        }
      ]
    },
    {
      "cell_type": "code",
      "metadata": {
        "id": "qyIA6ZtfOfrz",
        "colab_type": "code",
        "colab": {}
      },
      "source": [
        ""
      ],
      "execution_count": 0,
      "outputs": []
    }
  ]
}