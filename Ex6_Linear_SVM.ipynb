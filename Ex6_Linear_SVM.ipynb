{
  "nbformat": 4,
  "nbformat_minor": 0,
  "metadata": {
    "anaconda-cloud": {},
    "kernelspec": {
      "display_name": "Python 3",
      "language": "python",
      "name": "python3"
    },
    "language_info": {
      "codemirror_mode": {
        "name": "ipython",
        "version": 3
      },
      "file_extension": ".py",
      "mimetype": "text/x-python",
      "name": "python",
      "nbconvert_exporter": "python",
      "pygments_lexer": "ipython3",
      "version": "3.6.1"
    },
    "colab": {
      "name": "Ex6_Linear SVM",
      "provenance": [],
      "collapsed_sections": [],
      "include_colab_link": true
    }
  },
  "cells": [
    {
      "cell_type": "markdown",
      "metadata": {
        "id": "view-in-github",
        "colab_type": "text"
      },
      "source": [
        "<a href=\"https://colab.research.google.com/github/xiaochengJF/MachineLearning/blob/master/Ex6_Linear_SVM.ipynb\" target=\"_parent\"><img src=\"https://colab.research.google.com/assets/colab-badge.svg\" alt=\"Open In Colab\"/></a>"
      ]
    },
    {
      "cell_type": "markdown",
      "metadata": {
        "id": "B_WN0c6z_5tq",
        "colab_type": "text"
      },
      "source": [
        "# 1-线性SVM"
      ]
    },
    {
      "cell_type": "code",
      "metadata": {
        "id": "Xp8xy8kUx_Yg",
        "colab_type": "code",
        "outputId": "8f8bc404-749f-46f1-df56-f54a75210b4e",
        "colab": {
          "base_uri": "https://localhost:8080/",
          "height": 35
        }
      },
      "source": [
        "from google.colab import drive\n",
        "drive.mount('/content/drive')"
      ],
      "execution_count": 39,
      "outputs": [
        {
          "output_type": "stream",
          "text": [
            "Drive already mounted at /content/drive; to attempt to forcibly remount, call drive.mount(\"/content/drive\", force_remount=True).\n"
          ],
          "name": "stdout"
        }
      ]
    },
    {
      "cell_type": "code",
      "metadata": {
        "id": "6YruiYIiyPrn",
        "colab_type": "code",
        "outputId": "ba4ef1c4-c472-4ad8-917f-1bcfb60daf52",
        "colab": {
          "base_uri": "https://localhost:8080/",
          "height": 35
        }
      },
      "source": [
        "cd /content/drive/My Drive/MachineLearning/ex6-SVM"
      ],
      "execution_count": 40,
      "outputs": [
        {
          "output_type": "stream",
          "text": [
            "/content/drive/My Drive/MachineLearning/ex6-SVM\n"
          ],
          "name": "stdout"
        }
      ]
    },
    {
      "cell_type": "code",
      "metadata": {
        "id": "HkH-vTk5_5tu",
        "colab_type": "code",
        "colab": {}
      },
      "source": [
        "import numpy as np\n",
        "import pandas as pd\n",
        "import sklearn.svm\n",
        "import seaborn as sns\n",
        "import scipy.io as sio\n",
        "import matplotlib.pyplot as plt"
      ],
      "execution_count": 0,
      "outputs": []
    },
    {
      "cell_type": "code",
      "metadata": {
        "id": "0Htwm_6v_5t0",
        "colab_type": "code",
        "outputId": "b043faf2-d395-490a-9bde-33246750390c",
        "colab": {
          "base_uri": "https://localhost:8080/",
          "height": 220
        }
      },
      "source": [
        "mat = sio.loadmat('./data/ex6data1.mat')\n",
        "print(mat.keys())\n",
        "data = pd.DataFrame(mat.get('X'), columns=['X1', 'X2'])\n",
        "data['y'] = mat.get('y')\n",
        "\n",
        "data.head()"
      ],
      "execution_count": 42,
      "outputs": [
        {
          "output_type": "stream",
          "text": [
            "dict_keys(['__header__', '__version__', '__globals__', 'X', 'y'])\n"
          ],
          "name": "stdout"
        },
        {
          "output_type": "execute_result",
          "data": {
            "text/html": [
              "<div>\n",
              "<style scoped>\n",
              "    .dataframe tbody tr th:only-of-type {\n",
              "        vertical-align: middle;\n",
              "    }\n",
              "\n",
              "    .dataframe tbody tr th {\n",
              "        vertical-align: top;\n",
              "    }\n",
              "\n",
              "    .dataframe thead th {\n",
              "        text-align: right;\n",
              "    }\n",
              "</style>\n",
              "<table border=\"1\" class=\"dataframe\">\n",
              "  <thead>\n",
              "    <tr style=\"text-align: right;\">\n",
              "      <th></th>\n",
              "      <th>X1</th>\n",
              "      <th>X2</th>\n",
              "      <th>y</th>\n",
              "    </tr>\n",
              "  </thead>\n",
              "  <tbody>\n",
              "    <tr>\n",
              "      <th>0</th>\n",
              "      <td>1.9643</td>\n",
              "      <td>4.5957</td>\n",
              "      <td>1</td>\n",
              "    </tr>\n",
              "    <tr>\n",
              "      <th>1</th>\n",
              "      <td>2.2753</td>\n",
              "      <td>3.8589</td>\n",
              "      <td>1</td>\n",
              "    </tr>\n",
              "    <tr>\n",
              "      <th>2</th>\n",
              "      <td>2.9781</td>\n",
              "      <td>4.5651</td>\n",
              "      <td>1</td>\n",
              "    </tr>\n",
              "    <tr>\n",
              "      <th>3</th>\n",
              "      <td>2.9320</td>\n",
              "      <td>3.5519</td>\n",
              "      <td>1</td>\n",
              "    </tr>\n",
              "    <tr>\n",
              "      <th>4</th>\n",
              "      <td>3.5772</td>\n",
              "      <td>2.8560</td>\n",
              "      <td>1</td>\n",
              "    </tr>\n",
              "  </tbody>\n",
              "</table>\n",
              "</div>"
            ],
            "text/plain": [
              "       X1      X2  y\n",
              "0  1.9643  4.5957  1\n",
              "1  2.2753  3.8589  1\n",
              "2  2.9781  4.5651  1\n",
              "3  2.9320  3.5519  1\n",
              "4  3.5772  2.8560  1"
            ]
          },
          "metadata": {
            "tags": []
          },
          "execution_count": 42
        }
      ]
    },
    {
      "cell_type": "markdown",
      "metadata": {
        "id": "4l8BR4xh_5t6",
        "colab_type": "text"
      },
      "source": [
        "# 可视化数据"
      ]
    },
    {
      "cell_type": "code",
      "metadata": {
        "id": "wwEPGKE6_5t7",
        "colab_type": "code",
        "outputId": "4577f082-ab3d-48a4-f880-456ef04547f2",
        "colab": {
          "base_uri": "https://localhost:8080/",
          "height": 411
        }
      },
      "source": [
        "fig, ax = plt.subplots(figsize=(8,6))\n",
        "ax.scatter(data['X1'], data['X2'], s=50, c=data['y'], cmap='Reds')\n",
        "ax.set_title('Raw data')\n",
        "ax.set_xlabel('X1')\n",
        "ax.set_ylabel('X2')\n",
        "plt.show()"
      ],
      "execution_count": 43,
      "outputs": [
        {
          "output_type": "display_data",
          "data": {
            "image/png": "[encoded data removed]",
            "text/plain": [
              "<Figure size 576x432 with 1 Axes>"
            ]
          },
          "metadata": {
            "tags": []
          }
        }
      ]
    },
    {
      "cell_type": "markdown",
      "metadata": {
        "id": "IYZqr23k_5t-",
        "colab_type": "text"
      },
      "source": [
        "<font face=楷体 color=skyblue size=4>\n",
        "当$C=1$\n",
        "</font>\n",
        "    \n",
        "<font face=楷体 color=green size=4>绿色链接:</font>\n",
        "\n",
        "【1】[sklearn.svm.LinearSVC](https://scikit-learn.org/stable/modules/generated/sklearn.svm.LinearSVC.html#sklearn.svm.LinearSVC)"
      ]
    },
    {
      "cell_type": "code",
      "metadata": {
        "id": "LlmyV-dc_5t_",
        "colab_type": "code",
        "outputId": "309501a6-000b-4bcb-f2e4-3559c9b05125",
        "colab": {
          "base_uri": "https://localhost:8080/",
          "height": 71
        }
      },
      "source": [
        "svc1 = sklearn.svm.LinearSVC(C=1, loss='hinge')\n",
        "svc1.fit(data[['X1', 'X2']], data['y'])\n",
        "svc1.score(data[['X1', 'X2']], data['y'])"
      ],
      "execution_count": 44,
      "outputs": [
        {
          "output_type": "stream",
          "text": [
            "/usr/local/lib/python3.6/dist-packages/sklearn/svm/base.py:929: ConvergenceWarning: Liblinear failed to converge, increase the number of iterations.\n",
            "  \"the number of iterations.\", ConvergenceWarning)\n"
          ],
          "name": "stderr"
        },
        {
          "output_type": "execute_result",
          "data": {
            "text/plain": [
              "0.9803921568627451"
            ]
          },
          "metadata": {
            "tags": []
          },
          "execution_count": 44
        }
      ]
    },
    {
      "cell_type": "code",
      "metadata": {
        "id": "FX1ywROn_5uA",
        "colab_type": "code",
        "colab": {}
      },
      "source": [
        "data['SVM1 Confidence'] = svc1.decision_function(data[['X1', 'X2']])"
      ],
      "execution_count": 0,
      "outputs": []
    },
    {
      "cell_type": "code",
      "metadata": {
        "id": "vuFiVhzk_5uC",
        "colab_type": "code",
        "outputId": "2981798e-a996-4ddb-b91f-2d50fd1ce1a0",
        "colab": {
          "base_uri": "https://localhost:8080/",
          "height": 393
        }
      },
      "source": [
        "fig, ax = plt.subplots(figsize=(8,6))\n",
        "ax.scatter(data['X1'], data['X2'], s=50, c=data['SVM1 Confidence'], cmap='RdBu')\n",
        "ax.set_title('SVM (C=1) Decision Confidence')\n",
        "plt.show()"
      ],
      "execution_count": 46,
      "outputs": [
        {
          "output_type": "display_data",
          "data": {
            "image/png": "[encoded data removed]",
            "text/plain": [
              "<Figure size 576x432 with 1 Axes>"
            ]
          },
          "metadata": {
            "tags": []
          }
        }
      ]
    },
    {
      "cell_type": "markdown",
      "metadata": {
        "id": "QvlvDjsu_5uD",
        "colab_type": "text"
      },
      "source": [
        "<font face=楷体 color=skyblue size=4>\n",
        "当$C=100$\n",
        "</font>    \n",
        "\n",
        "<font face=楷体>\n",
        " \n",
        "设置较大的C，试图让其对数据过拟合\n",
        "</font>"
      ]
    },
    {
      "cell_type": "code",
      "metadata": {
        "id": "3sNXlRUr_5uE",
        "colab_type": "code",
        "outputId": "67f4a156-60cd-4b51-9a0c-3dec521a2cbb",
        "colab": {
          "base_uri": "https://localhost:8080/",
          "height": 71
        }
      },
      "source": [
        "svc100 = sklearn.svm.LinearSVC(C=100, loss='hinge')\n",
        "svc100.fit(data[['X1', 'X2']], data['y'])\n",
        "svc100.score(data[['X1', 'X2']], data['y'])"
      ],
      "execution_count": 47,
      "outputs": [
        {
          "output_type": "stream",
          "text": [
            "/usr/local/lib/python3.6/dist-packages/sklearn/svm/base.py:929: ConvergenceWarning: Liblinear failed to converge, increase the number of iterations.\n",
            "  \"the number of iterations.\", ConvergenceWarning)\n"
          ],
          "name": "stderr"
        },
        {
          "output_type": "execute_result",
          "data": {
            "text/plain": [
              "1.0"
            ]
          },
          "metadata": {
            "tags": []
          },
          "execution_count": 47
        }
      ]
    },
    {
      "cell_type": "code",
      "metadata": {
        "id": "yzRoF9Cc_5uF",
        "colab_type": "code",
        "colab": {}
      },
      "source": [
        "data['SVM100 Confidence'] = svc100.decision_function(data[['X1', 'X2']])"
      ],
      "execution_count": 0,
      "outputs": []
    },
    {
      "cell_type": "code",
      "metadata": {
        "id": "NzztYbD9_5uH",
        "colab_type": "code",
        "outputId": "523d9742-1f0a-4e39-f97b-64027dba6ed1",
        "colab": {
          "base_uri": "https://localhost:8080/",
          "height": 393
        }
      },
      "source": [
        "fig, ax = plt.subplots(figsize=(8,6))\n",
        "ax.scatter(data['X1'], data['X2'], s=50, c=data['SVM100 Confidence'], cmap='RdBu')\n",
        "ax.set_title('SVM (C=100) Decision Confidence')\n",
        "plt.show()"
      ],
      "execution_count": 49,
      "outputs": [
        {
          "output_type": "display_data",
          "data": {
            "image/png": "[encoded data removed]",
            "text/plain": [
              "<Figure size 576x432 with 1 Axes>"
            ]
          },
          "metadata": {
            "tags": []
          }
        }
      ]
    },
    {
      "cell_type": "markdown",
      "metadata": {
        "id": "CVZ1G-vG4Wsl",
        "colab_type": "text"
      },
      "source": [
        "<font face=楷体>\n",
        "将之前左侧边的分类为右侧\n",
        "</font>"
      ]
    },
    {
      "cell_type": "code",
      "metadata": {
        "id": "cwvZdjFC_5uJ",
        "colab_type": "code",
        "outputId": "97737104-8339-451d-c1d0-d2e217ba5cf3",
        "colab": {
          "base_uri": "https://localhost:8080/",
          "height": 202
        }
      },
      "source": [
        "data.head()"
      ],
      "execution_count": 50,
      "outputs": [
        {
          "output_type": "execute_result",
          "data": {
            "text/html": [
              "<div>\n",
              "<style scoped>\n",
              "    .dataframe tbody tr th:only-of-type {\n",
              "        vertical-align: middle;\n",
              "    }\n",
              "\n",
              "    .dataframe tbody tr th {\n",
              "        vertical-align: top;\n",
              "    }\n",
              "\n",
              "    .dataframe thead th {\n",
              "        text-align: right;\n",
              "    }\n",
              "</style>\n",
              "<table border=\"1\" class=\"dataframe\">\n",
              "  <thead>\n",
              "    <tr style=\"text-align: right;\">\n",
              "      <th></th>\n",
              "      <th>X1</th>\n",
              "      <th>X2</th>\n",
              "      <th>y</th>\n",
              "      <th>SVM1 Confidence</th>\n",
              "      <th>SVM100 Confidence</th>\n",
              "    </tr>\n",
              "  </thead>\n",
              "  <tbody>\n",
              "    <tr>\n",
              "      <th>0</th>\n",
              "      <td>1.9643</td>\n",
              "      <td>4.5957</td>\n",
              "      <td>1</td>\n",
              "      <td>0.800330</td>\n",
              "      <td>3.759247</td>\n",
              "    </tr>\n",
              "    <tr>\n",
              "      <th>1</th>\n",
              "      <td>2.2753</td>\n",
              "      <td>3.8589</td>\n",
              "      <td>1</td>\n",
              "      <td>0.382712</td>\n",
              "      <td>1.828385</td>\n",
              "    </tr>\n",
              "    <tr>\n",
              "      <th>2</th>\n",
              "      <td>2.9781</td>\n",
              "      <td>4.5651</td>\n",
              "      <td>1</td>\n",
              "      <td>1.375362</td>\n",
              "      <td>4.767380</td>\n",
              "    </tr>\n",
              "    <tr>\n",
              "      <th>3</th>\n",
              "      <td>2.9320</td>\n",
              "      <td>3.5519</td>\n",
              "      <td>1</td>\n",
              "      <td>0.520679</td>\n",
              "      <td>1.597026</td>\n",
              "    </tr>\n",
              "    <tr>\n",
              "      <th>4</th>\n",
              "      <td>3.5772</td>\n",
              "      <td>2.8560</td>\n",
              "      <td>1</td>\n",
              "      <td>0.334258</td>\n",
              "      <td>0.155515</td>\n",
              "    </tr>\n",
              "  </tbody>\n",
              "</table>\n",
              "</div>"
            ],
            "text/plain": [
              "       X1      X2  y  SVM1 Confidence  SVM100 Confidence\n",
              "0  1.9643  4.5957  1         0.800330           3.759247\n",
              "1  2.2753  3.8589  1         0.382712           1.828385\n",
              "2  2.9781  4.5651  1         1.375362           4.767380\n",
              "3  2.9320  3.5519  1         0.520679           1.597026\n",
              "4  3.5772  2.8560  1         0.334258           0.155515"
            ]
          },
          "metadata": {
            "tags": []
          },
          "execution_count": 50
        }
      ]
    },
    {
      "cell_type": "markdown",
      "metadata": {
        "id": "2MbBtL5w4rmo",
        "colab_type": "text"
      },
      "source": [
        "# 2-高斯核函数"
      ]
    },
    {
      "cell_type": "code",
      "metadata": {
        "id": "jmK8cVvf_5uL",
        "colab_type": "code",
        "colab": {}
      },
      "source": [
        "import matplotlib.pyplot as plt\n",
        "from sklearn import svm\n",
        "import numpy as np\n",
        "import pandas as pd\n",
        "import seaborn as sns\n",
        "import scipy.io as sio"
      ],
      "execution_count": 0,
      "outputs": []
    },
    {
      "cell_type": "code",
      "metadata": {
        "id": "DqDCkPPO44dA",
        "colab_type": "code",
        "colab": {}
      },
      "source": [
        "# kernek function 高斯核函数\n",
        "def gaussian_kernel(x1, x2, sigma):\n",
        "    return np.exp(- np.power(x1 - x2, 2).sum() / (2 * (sigma ** 2)))"
      ],
      "execution_count": 0,
      "outputs": []
    },
    {
      "cell_type": "code",
      "metadata": {
        "id": "QrIwhzMu46nA",
        "colab_type": "code",
        "colab": {
          "base_uri": "https://localhost:8080/",
          "height": 35
        },
        "outputId": "50eefbf3-3d9e-4f0b-b974-ba3d0d733034"
      },
      "source": [
        "x1 = np.array([1, 2, 1])\n",
        "x2 = np.array([0, 4, -1])\n",
        "sigma = 2\n",
        "\n",
        "gaussian_kernel(x1, x2, sigma)"
      ],
      "execution_count": 53,
      "outputs": [
        {
          "output_type": "execute_result",
          "data": {
            "text/plain": [
              "0.32465246735834974"
            ]
          },
          "metadata": {
            "tags": []
          },
          "execution_count": 53
        }
      ]
    },
    {
      "cell_type": "markdown",
      "metadata": {
        "id": "HvX8Ygt25D5d",
        "colab_type": "text"
      },
      "source": [
        "## 加载数据"
      ]
    },
    {
      "cell_type": "code",
      "metadata": {
        "id": "N_-ossDZ48Ci",
        "colab_type": "code",
        "colab": {
          "base_uri": "https://localhost:8080/",
          "height": 220
        },
        "outputId": "c58447fc-33c0-4cd2-be59-cee3332d2a1c"
      },
      "source": [
        "mat = sio.loadmat('./data/ex6data2.mat')\n",
        "print(mat.keys())\n",
        "data = pd.DataFrame(mat.get('X'), columns=['X1', 'X2'])\n",
        "data['y'] = mat.get('y')\n",
        "\n",
        "data.head()"
      ],
      "execution_count": 54,
      "outputs": [
        {
          "output_type": "stream",
          "text": [
            "dict_keys(['__header__', '__version__', '__globals__', 'X', 'y'])\n"
          ],
          "name": "stdout"
        },
        {
          "output_type": "execute_result",
          "data": {
            "text/html": [
              "<div>\n",
              "<style scoped>\n",
              "    .dataframe tbody tr th:only-of-type {\n",
              "        vertical-align: middle;\n",
              "    }\n",
              "\n",
              "    .dataframe tbody tr th {\n",
              "        vertical-align: top;\n",
              "    }\n",
              "\n",
              "    .dataframe thead th {\n",
              "        text-align: right;\n",
              "    }\n",
              "</style>\n",
              "<table border=\"1\" class=\"dataframe\">\n",
              "  <thead>\n",
              "    <tr style=\"text-align: right;\">\n",
              "      <th></th>\n",
              "      <th>X1</th>\n",
              "      <th>X2</th>\n",
              "      <th>y</th>\n",
              "    </tr>\n",
              "  </thead>\n",
              "  <tbody>\n",
              "    <tr>\n",
              "      <th>0</th>\n",
              "      <td>0.107143</td>\n",
              "      <td>0.603070</td>\n",
              "      <td>1</td>\n",
              "    </tr>\n",
              "    <tr>\n",
              "      <th>1</th>\n",
              "      <td>0.093318</td>\n",
              "      <td>0.649854</td>\n",
              "      <td>1</td>\n",
              "    </tr>\n",
              "    <tr>\n",
              "      <th>2</th>\n",
              "      <td>0.097926</td>\n",
              "      <td>0.705409</td>\n",
              "      <td>1</td>\n",
              "    </tr>\n",
              "    <tr>\n",
              "      <th>3</th>\n",
              "      <td>0.155530</td>\n",
              "      <td>0.784357</td>\n",
              "      <td>1</td>\n",
              "    </tr>\n",
              "    <tr>\n",
              "      <th>4</th>\n",
              "      <td>0.210829</td>\n",
              "      <td>0.866228</td>\n",
              "      <td>1</td>\n",
              "    </tr>\n",
              "  </tbody>\n",
              "</table>\n",
              "</div>"
            ],
            "text/plain": [
              "         X1        X2  y\n",
              "0  0.107143  0.603070  1\n",
              "1  0.093318  0.649854  1\n",
              "2  0.097926  0.705409  1\n",
              "3  0.155530  0.784357  1\n",
              "4  0.210829  0.866228  1"
            ]
          },
          "metadata": {
            "tags": []
          },
          "execution_count": 54
        }
      ]
    },
    {
      "cell_type": "code",
      "metadata": {
        "id": "8FisjukR5MRj",
        "colab_type": "code",
        "colab": {
          "base_uri": "https://localhost:8080/",
          "height": 35
        },
        "outputId": "5fafe529-1235-4d90-9393-62f1759b26de"
      },
      "source": [
        "data.shape"
      ],
      "execution_count": 55,
      "outputs": [
        {
          "output_type": "execute_result",
          "data": {
            "text/plain": [
              "(863, 3)"
            ]
          },
          "metadata": {
            "tags": []
          },
          "execution_count": 55
        }
      ]
    },
    {
      "cell_type": "markdown",
      "metadata": {
        "id": "OQgCWslm5TJs",
        "colab_type": "text"
      },
      "source": [
        "## 可视化数据"
      ]
    },
    {
      "cell_type": "code",
      "metadata": {
        "id": "92WoF6vz5RG6",
        "colab_type": "code",
        "colab": {
          "base_uri": "https://localhost:8080/",
          "height": 401
        },
        "outputId": "61f2b34e-ba3d-42f9-a70e-f3ae9253095c"
      },
      "source": [
        "sns.set(context=\"notebook\", style=\"white\", palette=sns.diverging_palette(240, 10, n=2), color_codes=False)\n",
        "sns.lmplot('X1', 'X2', hue='y', data=data, \n",
        "           size=5, \n",
        "           fit_reg=False, \n",
        "           scatter_kws={\"s\": 10}\n",
        "          )\n",
        "plt.show()"
      ],
      "execution_count": 56,
      "outputs": [
        {
          "output_type": "stream",
          "text": [
            "/usr/local/lib/python3.6/dist-packages/seaborn/regression.py:546: UserWarning: The `size` paramter has been renamed to `height`; please update your code.\n",
            "  warnings.warn(msg, UserWarning)\n"
          ],
          "name": "stderr"
        },
        {
          "output_type": "display_data",
          "data": {
            "image/png": "[encoded data removed]",
            "text/plain": [
              "<Figure size 406.6x360 with 1 Axes>"
            ]
          },
          "metadata": {
            "tags": []
          }
        }
      ]
    },
    {
      "cell_type": "markdown",
      "metadata": {
        "id": "2xEdMTTV51O6",
        "colab_type": "text"
      },
      "source": [
        "## sklearn内置高斯核函数"
      ]
    },
    {
      "cell_type": "code",
      "metadata": {
        "id": "cnFUG7JT5fxp",
        "colab_type": "code",
        "colab": {
          "base_uri": "https://localhost:8080/",
          "height": 89
        },
        "outputId": "ed600a54-5d28-428e-83b5-7e52eadbd622"
      },
      "source": [
        "svc = svm.SVC(C=100, kernel='rbf', gamma=10, probability=True)\n",
        "svc"
      ],
      "execution_count": 57,
      "outputs": [
        {
          "output_type": "execute_result",
          "data": {
            "text/plain": [
              "SVC(C=100, cache_size=200, class_weight=None, coef0=0.0,\n",
              "    decision_function_shape='ovr', degree=3, gamma=10, kernel='rbf',\n",
              "    max_iter=-1, probability=True, random_state=None, shrinking=True, tol=0.001,\n",
              "    verbose=False)"
            ]
          },
          "metadata": {
            "tags": []
          },
          "execution_count": 57
        }
      ]
    },
    {
      "cell_type": "code",
      "metadata": {
        "id": "cCBYDPol572i",
        "colab_type": "code",
        "colab": {
          "base_uri": "https://localhost:8080/",
          "height": 35
        },
        "outputId": "750a0f47-7c76-4a0f-eb31-fb32d4ab740b"
      },
      "source": [
        "svc.fit(data[['X1', 'X2']], data['y'])\n",
        "svc.score(data[['X1', 'X2']], data['y'])"
      ],
      "execution_count": 58,
      "outputs": [
        {
          "output_type": "execute_result",
          "data": {
            "text/plain": [
              "0.9698725376593279"
            ]
          },
          "metadata": {
            "tags": []
          },
          "execution_count": 58
        }
      ]
    },
    {
      "cell_type": "code",
      "metadata": {
        "id": "BbbA8BFe6CJZ",
        "colab_type": "code",
        "colab": {}
      },
      "source": [
        "predict_prob = svc.predict_proba(data[['X1', 'X2']])[:, 0]"
      ],
      "execution_count": 0,
      "outputs": []
    },
    {
      "cell_type": "code",
      "metadata": {
        "id": "dnjPeJvW6Dqb",
        "colab_type": "code",
        "colab": {
          "base_uri": "https://localhost:8080/",
          "height": 383
        },
        "outputId": "bfede22c-c201-42f8-cba5-1ba57657c559"
      },
      "source": [
        "fig, ax = plt.subplots(figsize=(8,6))\n",
        "ax.scatter(data['X1'], data['X2'], s=30, c=predict_prob, cmap='Reds')\n",
        "plt.show()"
      ],
      "execution_count": 60,
      "outputs": [
        {
          "output_type": "display_data",
          "data": {
            "image/png": "[encoded data removed]",
            "text/plain": [
              "<Figure size 576x432 with 1 Axes>"
            ]
          },
          "metadata": {
            "tags": []
          }
        }
      ]
    },
    {
      "cell_type": "markdown",
      "metadata": {
        "id": "sIxq2x6Z6Md7",
        "colab_type": "text"
      },
      "source": [
        "# 3-寻找最优参数"
      ]
    },
    {
      "cell_type": "code",
      "metadata": {
        "id": "N5Jj0zEG6FoY",
        "colab_type": "code",
        "colab": {}
      },
      "source": [
        "from sklearn import svm\n",
        "#from sklearn.grid_search import GridSearchCV  #sklearn.grid_search模块在0.18版本中被弃用\n",
        "from sklearn.model_selection import GridSearchCV\n",
        "from sklearn import metrics\n",
        "\n",
        "import numpy as np\n",
        "import pandas as pd\n",
        "import scipy.io as sio"
      ],
      "execution_count": 0,
      "outputs": []
    },
    {
      "cell_type": "markdown",
      "metadata": {
        "id": "QoSwoOnf6n9x",
        "colab_type": "text"
      },
      "source": [
        "## 加载数据"
      ]
    },
    {
      "cell_type": "code",
      "metadata": {
        "id": "FvgJgL4Y6PIi",
        "colab_type": "code",
        "colab": {
          "base_uri": "https://localhost:8080/",
          "height": 35
        },
        "outputId": "d71a8596-7434-4d11-a2be-3f0e2379c537"
      },
      "source": [
        "mat = sio.loadmat('./data/ex6data3.mat')\n",
        "print(mat.keys())"
      ],
      "execution_count": 62,
      "outputs": [
        {
          "output_type": "stream",
          "text": [
            "dict_keys(['__header__', '__version__', '__globals__', 'X', 'y', 'yval', 'Xval'])\n"
          ],
          "name": "stdout"
        }
      ]
    },
    {
      "cell_type": "code",
      "metadata": {
        "id": "YZ4EFdnd6rsh",
        "colab_type": "code",
        "colab": {}
      },
      "source": [
        "training = pd.DataFrame(mat.get('X'), columns=['X1', 'X2'])\n",
        "training['y'] = mat.get('y')\n",
        "\n",
        "cv = pd.DataFrame(mat.get('Xval'), columns=['X1', 'X2'])\n",
        "cv['y'] = mat.get('yval')"
      ],
      "execution_count": 0,
      "outputs": []
    },
    {
      "cell_type": "code",
      "metadata": {
        "id": "pMovkbJI6uLT",
        "colab_type": "code",
        "colab": {
          "base_uri": "https://localhost:8080/",
          "height": 220
        },
        "outputId": "7d5e0476-5b51-4d8c-a805-007d766c99dd"
      },
      "source": [
        "print(training.shape)\n",
        "training.head()"
      ],
      "execution_count": 64,
      "outputs": [
        {
          "output_type": "stream",
          "text": [
            "(211, 3)\n"
          ],
          "name": "stdout"
        },
        {
          "output_type": "execute_result",
          "data": {
            "text/html": [
              "<div>\n",
              "<style scoped>\n",
              "    .dataframe tbody tr th:only-of-type {\n",
              "        vertical-align: middle;\n",
              "    }\n",
              "\n",
              "    .dataframe tbody tr th {\n",
              "        vertical-align: top;\n",
              "    }\n",
              "\n",
              "    .dataframe thead th {\n",
              "        text-align: right;\n",
              "    }\n",
              "</style>\n",
              "<table border=\"1\" class=\"dataframe\">\n",
              "  <thead>\n",
              "    <tr style=\"text-align: right;\">\n",
              "      <th></th>\n",
              "      <th>X1</th>\n",
              "      <th>X2</th>\n",
              "      <th>y</th>\n",
              "    </tr>\n",
              "  </thead>\n",
              "  <tbody>\n",
              "    <tr>\n",
              "      <th>0</th>\n",
              "      <td>-0.158986</td>\n",
              "      <td>0.423977</td>\n",
              "      <td>1</td>\n",
              "    </tr>\n",
              "    <tr>\n",
              "      <th>1</th>\n",
              "      <td>-0.347926</td>\n",
              "      <td>0.470760</td>\n",
              "      <td>1</td>\n",
              "    </tr>\n",
              "    <tr>\n",
              "      <th>2</th>\n",
              "      <td>-0.504608</td>\n",
              "      <td>0.353801</td>\n",
              "      <td>1</td>\n",
              "    </tr>\n",
              "    <tr>\n",
              "      <th>3</th>\n",
              "      <td>-0.596774</td>\n",
              "      <td>0.114035</td>\n",
              "      <td>1</td>\n",
              "    </tr>\n",
              "    <tr>\n",
              "      <th>4</th>\n",
              "      <td>-0.518433</td>\n",
              "      <td>-0.172515</td>\n",
              "      <td>1</td>\n",
              "    </tr>\n",
              "  </tbody>\n",
              "</table>\n",
              "</div>"
            ],
            "text/plain": [
              "         X1        X2  y\n",
              "0 -0.158986  0.423977  1\n",
              "1 -0.347926  0.470760  1\n",
              "2 -0.504608  0.353801  1\n",
              "3 -0.596774  0.114035  1\n",
              "4 -0.518433 -0.172515  1"
            ]
          },
          "metadata": {
            "tags": []
          },
          "execution_count": 64
        }
      ]
    },
    {
      "cell_type": "code",
      "metadata": {
        "id": "WNFxBT-A6v8N",
        "colab_type": "code",
        "colab": {
          "base_uri": "https://localhost:8080/",
          "height": 220
        },
        "outputId": "b3723d38-406a-43f3-c485-9cb7462ea79c"
      },
      "source": [
        "print(cv.shape)\n",
        "cv.head()"
      ],
      "execution_count": 65,
      "outputs": [
        {
          "output_type": "stream",
          "text": [
            "(200, 3)\n"
          ],
          "name": "stdout"
        },
        {
          "output_type": "execute_result",
          "data": {
            "text/html": [
              "<div>\n",
              "<style scoped>\n",
              "    .dataframe tbody tr th:only-of-type {\n",
              "        vertical-align: middle;\n",
              "    }\n",
              "\n",
              "    .dataframe tbody tr th {\n",
              "        vertical-align: top;\n",
              "    }\n",
              "\n",
              "    .dataframe thead th {\n",
              "        text-align: right;\n",
              "    }\n",
              "</style>\n",
              "<table border=\"1\" class=\"dataframe\">\n",
              "  <thead>\n",
              "    <tr style=\"text-align: right;\">\n",
              "      <th></th>\n",
              "      <th>X1</th>\n",
              "      <th>X2</th>\n",
              "      <th>y</th>\n",
              "    </tr>\n",
              "  </thead>\n",
              "  <tbody>\n",
              "    <tr>\n",
              "      <th>0</th>\n",
              "      <td>-0.353062</td>\n",
              "      <td>-0.673902</td>\n",
              "      <td>0</td>\n",
              "    </tr>\n",
              "    <tr>\n",
              "      <th>1</th>\n",
              "      <td>-0.227126</td>\n",
              "      <td>0.447320</td>\n",
              "      <td>1</td>\n",
              "    </tr>\n",
              "    <tr>\n",
              "      <th>2</th>\n",
              "      <td>0.092898</td>\n",
              "      <td>-0.753524</td>\n",
              "      <td>0</td>\n",
              "    </tr>\n",
              "    <tr>\n",
              "      <th>3</th>\n",
              "      <td>0.148243</td>\n",
              "      <td>-0.718473</td>\n",
              "      <td>0</td>\n",
              "    </tr>\n",
              "    <tr>\n",
              "      <th>4</th>\n",
              "      <td>-0.001512</td>\n",
              "      <td>0.162928</td>\n",
              "      <td>0</td>\n",
              "    </tr>\n",
              "  </tbody>\n",
              "</table>\n",
              "</div>"
            ],
            "text/plain": [
              "         X1        X2  y\n",
              "0 -0.353062 -0.673902  0\n",
              "1 -0.227126  0.447320  1\n",
              "2  0.092898 -0.753524  0\n",
              "3  0.148243 -0.718473  0\n",
              "4 -0.001512  0.162928  0"
            ]
          },
          "metadata": {
            "tags": []
          },
          "execution_count": 65
        }
      ]
    },
    {
      "cell_type": "markdown",
      "metadata": {
        "id": "XQgoL_f16_ZV",
        "colab_type": "text"
      },
      "source": [
        "## 手动选择$C、\\sigma$"
      ]
    },
    {
      "cell_type": "code",
      "metadata": {
        "id": "I7hlhrGm6yNS",
        "colab_type": "code",
        "colab": {}
      },
      "source": [
        "candidate = [0.01, 0.03, 0.1, 0.3, 1, 3, 10, 30, 100]"
      ],
      "execution_count": 0,
      "outputs": []
    },
    {
      "cell_type": "code",
      "metadata": {
        "id": "URuwIxgv7lea",
        "colab_type": "code",
        "colab": {
          "base_uri": "https://localhost:8080/",
          "height": 35
        },
        "outputId": "9c899b37-c119-48e1-dbf6-6266b20a8173"
      },
      "source": [
        "# 做一些参数组合\n",
        "combination = [(C, gamma) for C in candidate for gamma in candidate]\n",
        "len(combination)"
      ],
      "execution_count": 67,
      "outputs": [
        {
          "output_type": "execute_result",
          "data": {
            "text/plain": [
              "81"
            ]
          },
          "metadata": {
            "tags": []
          },
          "execution_count": 67
        }
      ]
    },
    {
      "cell_type": "code",
      "metadata": {
        "id": "gbhQS-HS7sri",
        "colab_type": "code",
        "colab": {}
      },
      "source": [
        "search = []\n",
        "\n",
        "for C, gamma in combination:\n",
        "    svc = svm.SVC(C=C, gamma=gamma)\n",
        "    svc.fit(training[['X1', 'X2']], training['y'])\n",
        "    search.append(svc.score(cv[['X1', 'X2']], cv['y']))"
      ],
      "execution_count": 0,
      "outputs": []
    },
    {
      "cell_type": "code",
      "metadata": {
        "id": "UQ-9QGnt71jQ",
        "colab_type": "code",
        "colab": {
          "base_uri": "https://localhost:8080/",
          "height": 35
        },
        "outputId": "3ee6c710-b3ac-4c5c-deb8-a7ceedc5077e"
      },
      "source": [
        "# 获取最优组合\n",
        "best_score = search[np.argmax(search)]\n",
        "best_param = combination[np.argmax(search)]\n",
        "\n",
        "print(best_score, best_param)"
      ],
      "execution_count": 69,
      "outputs": [
        {
          "output_type": "stream",
          "text": [
            "0.965 (0.3, 100)\n"
          ],
          "name": "stdout"
        }
      ]
    },
    {
      "cell_type": "code",
      "metadata": {
        "id": "UKxGWJ5k8IK8",
        "colab_type": "code",
        "colab": {
          "base_uri": "https://localhost:8080/",
          "height": 179
        },
        "outputId": "02bd43af-5094-4199-865d-92d41f905d68"
      },
      "source": [
        "best_svc = svm.SVC(C=100, gamma=0.3)\n",
        "best_svc.fit(training[['X1', 'X2']], training['y'])\n",
        "ypred = best_svc.predict(cv[['X1', 'X2']])\n",
        "\n",
        "print(metrics.classification_report(cv['y'], ypred))"
      ],
      "execution_count": 70,
      "outputs": [
        {
          "output_type": "stream",
          "text": [
            "              precision    recall  f1-score   support\n",
            "\n",
            "           0       0.92      0.96      0.94       113\n",
            "           1       0.94      0.89      0.91        87\n",
            "\n",
            "    accuracy                           0.93       200\n",
            "   macro avg       0.93      0.92      0.92       200\n",
            "weighted avg       0.93      0.93      0.92       200\n",
            "\n"
          ],
          "name": "stdout"
        }
      ]
    },
    {
      "cell_type": "markdown",
      "metadata": {
        "id": "2bCppR1T8dfP",
        "colab_type": "text"
      },
      "source": [
        "## sklearn GridSearchCV （网格搜索）  \n",
        "\n",
        "<font face=楷体 color=green size=4>**绿色链接：**</font>  \n",
        "\n",
        "【1】[sklearn.model_selection.GridSearchCV](https://scikit-learn.org/stable/modules/generated/sklearn.model_selection.GridSearchCV.html)  \n",
        "【2】[Python超参数自动搜索模块GridSearchCV](https://www.cnblogs.com/nwpuxuezha/p/6618205.html)"
      ]
    },
    {
      "cell_type": "code",
      "metadata": {
        "id": "m2JUPVWW8QW4",
        "colab_type": "code",
        "colab": {
          "base_uri": "https://localhost:8080/",
          "height": 307
        },
        "outputId": "b76b4423-9286-49fc-8d7a-da53d54f22fe"
      },
      "source": [
        "parameters = {'C': candidate, 'gamma': candidate}\n",
        "svc = svm.SVC()\n",
        "clf = GridSearchCV(svc, parameters, n_jobs=-1)\n",
        "clf.fit(training[['X1', 'X2']], training['y'])"
      ],
      "execution_count": 71,
      "outputs": [
        {
          "output_type": "stream",
          "text": [
            "/usr/local/lib/python3.6/dist-packages/sklearn/model_selection/_split.py:1978: FutureWarning: The default value of cv will change from 3 to 5 in version 0.22. Specify it explicitly to silence this warning.\n",
            "  warnings.warn(CV_WARNING, FutureWarning)\n",
            "/usr/local/lib/python3.6/dist-packages/sklearn/model_selection/_search.py:814: DeprecationWarning: The default of the `iid` parameter will change from True to False in version 0.22 and will be removed in 0.24. This will change numeric results when test-set sizes are unequal.\n",
            "  DeprecationWarning)\n"
          ],
          "name": "stderr"
        },
        {
          "output_type": "execute_result",
          "data": {
            "text/plain": [
              "GridSearchCV(cv='warn', error_score='raise-deprecating',\n",
              "             estimator=SVC(C=1.0, cache_size=200, class_weight=None, coef0=0.0,\n",
              "                           decision_function_shape='ovr', degree=3,\n",
              "                           gamma='auto_deprecated', kernel='rbf', max_iter=-1,\n",
              "                           probability=False, random_state=None, shrinking=True,\n",
              "                           tol=0.001, verbose=False),\n",
              "             iid='warn', n_jobs=-1,\n",
              "             param_grid={'C': [0.01, 0.03, 0.1, 0.3, 1, 3, 10, 30, 100],\n",
              "                         'gamma': [0.01, 0.03, 0.1, 0.3, 1, 3, 10, 30, 100]},\n",
              "             pre_dispatch='2*n_jobs', refit=True, return_train_score=False,\n",
              "             scoring=None, verbose=0)"
            ]
          },
          "metadata": {
            "tags": []
          },
          "execution_count": 71
        }
      ]
    },
    {
      "cell_type": "code",
      "metadata": {
        "id": "iDzKvJuU8lKA",
        "colab_type": "code",
        "colab": {
          "base_uri": "https://localhost:8080/",
          "height": 35
        },
        "outputId": "1d17d47d-2d67-4899-8daa-d480795640b6"
      },
      "source": [
        "clf.best_params_"
      ],
      "execution_count": 73,
      "outputs": [
        {
          "output_type": "execute_result",
          "data": {
            "text/plain": [
              "{'C': 10, 'gamma': 30}"
            ]
          },
          "metadata": {
            "tags": []
          },
          "execution_count": 73
        }
      ]
    },
    {
      "cell_type": "code",
      "metadata": {
        "id": "su8TuuGIsvSi",
        "colab_type": "code",
        "colab": {
          "base_uri": "https://localhost:8080/",
          "height": 35
        },
        "outputId": "a994085b-4e0d-4059-b45b-ea3bc72f62e0"
      },
      "source": [
        "clf.best_score_"
      ],
      "execution_count": 74,
      "outputs": [
        {
          "output_type": "execute_result",
          "data": {
            "text/plain": [
              "0.9004739336492891"
            ]
          },
          "metadata": {
            "tags": []
          },
          "execution_count": 74
        }
      ]
    },
    {
      "cell_type": "code",
      "metadata": {
        "id": "v_EcA-Vcsx0b",
        "colab_type": "code",
        "colab": {
          "base_uri": "https://localhost:8080/",
          "height": 179
        },
        "outputId": "1589fc96-3c0c-49d9-9a8d-5a0b493297a5"
      },
      "source": [
        "ypred = clf.predict(cv[['X1', 'X2']])\n",
        "print(metrics.classification_report(cv['y'], ypred))"
      ],
      "execution_count": 75,
      "outputs": [
        {
          "output_type": "stream",
          "text": [
            "              precision    recall  f1-score   support\n",
            "\n",
            "           0       0.95      0.96      0.96       113\n",
            "           1       0.95      0.93      0.94        87\n",
            "\n",
            "    accuracy                           0.95       200\n",
            "   macro avg       0.95      0.95      0.95       200\n",
            "weighted avg       0.95      0.95      0.95       200\n",
            "\n"
          ],
          "name": "stdout"
        }
      ]
    },
    {
      "cell_type": "markdown",
      "metadata": {
        "id": "TL71xkqttMDX",
        "colab_type": "text"
      },
      "source": [
        "<font face=楷体>\n",
        "    <font face=STCAIYUN color=red size=5>\n",
        "        注意：\n",
        "    </font>\n",
        "    与手动选择的结果不同，因为GridSearch只使用部分训练数据进行训练，而另一部分部分数据作为cv集\n",
        "</font>"
      ]
    },
    {
      "cell_type": "code",
      "metadata": {
        "id": "XkmRzKmhs2XH",
        "colab_type": "code",
        "colab": {}
      },
      "source": [
        ""
      ],
      "execution_count": 0,
      "outputs": []
    }
  ]
}