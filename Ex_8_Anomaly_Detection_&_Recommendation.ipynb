{
  "nbformat": 4,
  "nbformat_minor": 0,
  "metadata": {
    "colab": {
      "name": "Ex_8 Anomaly Detection & Recommendation",
      "provenance": [],
      "collapsed_sections": [],
      "include_colab_link": true
    },
    "kernelspec": {
      "name": "python3",
      "display_name": "Python 3"
    }
  },
  "cells": [
    {
      "cell_type": "markdown",
      "metadata": {
        "id": "view-in-github",
        "colab_type": "text"
      },
      "source": [
        "<a href=\"https://colab.research.google.com/github/xiaochengJF/MachineLearning/blob/master/Ex_8_Anomaly_Detection_%26_Recommendation.ipynb\" target=\"_parent\"><img src=\"https://colab.research.google.com/assets/colab-badge.svg\" alt=\"Open In Colab\"/></a>"
      ]
    },
    {
      "cell_type": "code",
      "metadata": {
        "id": "ynmjebUjSkKr",
        "colab_type": "code",
        "outputId": "35a88f07-adab-4bd5-df8b-545378c318b0",
        "colab": {
          "base_uri": "https://localhost:8080/",
          "height": 127
        }
      },
      "source": [
        "from google.colab import drive\n",
        "drive.mount('/content/drive')"
      ],
      "execution_count": 1,
      "outputs": [
        {
          "output_type": "stream",
          "text": [
            "Go to this URL in a browser: https://accounts.google.com/o/oauth2/auth?client_id=947318989803-6bn6qk8qdgf4n4g3pfee6491hc0brc4i.apps.googleusercontent.com&redirect_uri=urn%3Aietf%3Awg%3Aoauth%3A2.0%3Aoob&scope=email%20https%3A%2F%2Fwww.googleapis.com%2Fauth%2Fdocs.test%20https%3A%2F%2Fwww.googleapis.com%2Fauth%2Fdrive%20https%3A%2F%2Fwww.googleapis.com%2Fauth%2Fdrive.photos.readonly%20https%3A%2F%2Fwww.googleapis.com%2Fauth%2Fpeopleapi.readonly&response_type=code\n",
            "\n",
            "Enter your authorization code:\n",
            "··········\n",
            "Mounted at /content/drive\n"
          ],
          "name": "stdout"
        }
      ]
    },
    {
      "cell_type": "code",
      "metadata": {
        "id": "m9icKwrMSjfa",
        "colab_type": "code",
        "outputId": "a49331f8-5e5d-421f-c405-7be66324d340",
        "colab": {
          "base_uri": "https://localhost:8080/",
          "height": 35
        }
      },
      "source": [
        "cd /content/drive/My Drive/MachineLearning/ex8-anomaly detection and recommendation"
      ],
      "execution_count": 2,
      "outputs": [
        {
          "output_type": "stream",
          "text": [
            "/content/drive/My Drive/MachineLearning/ex8-anomaly detection and recommendation\n"
          ],
          "name": "stdout"
        }
      ]
    },
    {
      "cell_type": "markdown",
      "metadata": {
        "id": "ovJPVOlVQ9er",
        "colab_type": "text"
      },
      "source": [
        "# 1-异常检测\n",
        "\n",
        "<font face=楷体 color=green size=4>**绿色链接：**</font>  \n",
        "\n",
        "【1】[covariance matrix](http://docs.scipy.org/doc/numpy/reference/generated/numpy.cov.html)  \n",
        "【2】[multivariate_normal](https://docs.scipy.org/doc/numpy-1.15.1/reference/generated/numpy.random.multivariate_normal.html)  \n",
        "【3】[seaborn  bivariate kernel density estimate](https://stanford.edu/~mwaskom/software/seaborn/generated/seaborn.kdeplot.html#seaborn.kdeplot)"
      ]
    },
    {
      "cell_type": "code",
      "metadata": {
        "id": "on6eNLx2QZV7",
        "colab_type": "code",
        "colab": {}
      },
      "source": [
        "import matplotlib.pyplot as plt\n",
        "import seaborn as sns\n",
        "sns.set(context=\"notebook\", style=\"white\", palette=sns.color_palette(\"RdBu\"), color_codes=False)\n",
        "\n",
        "import numpy as np\n",
        "import pandas as pd\n",
        "import scipy.io as sio\n",
        "from scipy import stats\n",
        "from sklearn.model_selection import train_test_split\n",
        "#from sklearn.cross_validation import train_test_split  # cross_validatio包早就不使用，划分到model_selection中"
      ],
      "execution_count": 0,
      "outputs": []
    },
    {
      "cell_type": "markdown",
      "metadata": {
        "id": "FWrLqDhZR1Tq",
        "colab_type": "text"
      },
      "source": [
        "<font face=楷体 color=skyblue size=4>将数据分成三部分：</font>  \n",
        "<font face=楷体>\n",
        "* 训练集\n",
        "* 交叉验证集\n",
        "* 测试集 \n",
        "</font> "
      ]
    },
    {
      "cell_type": "code",
      "metadata": {
        "id": "6PltoPuMRFiz",
        "colab_type": "code",
        "outputId": "8de3496c-61df-451c-991f-af8ba3c15c1f",
        "colab": {
          "base_uri": "https://localhost:8080/",
          "height": 35
        }
      },
      "source": [
        "mat = sio.loadmat('./data/ex8data1.mat')\n",
        "mat.keys()"
      ],
      "execution_count": 7,
      "outputs": [
        {
          "output_type": "execute_result",
          "data": {
            "text/plain": [
              "dict_keys(['__header__', '__version__', '__globals__', 'X', 'Xval', 'yval'])"
            ]
          },
          "metadata": {
            "tags": []
          },
          "execution_count": 7
        }
      ]
    },
    {
      "cell_type": "code",
      "metadata": {
        "id": "OZMVQUzpR9Oa",
        "colab_type": "code",
        "colab": {}
      },
      "source": [
        "X = mat.get('X')"
      ],
      "execution_count": 0,
      "outputs": []
    },
    {
      "cell_type": "markdown",
      "metadata": {
        "id": "ZK-oMkv2TAsJ",
        "colab_type": "text"
      },
      "source": [
        "<font face=楷体>\n",
        "将原始验证数据划分为验证集和测试集\n",
        "</font> "
      ]
    },
    {
      "cell_type": "code",
      "metadata": {
        "id": "p3v4bIP_SBLy",
        "colab_type": "code",
        "colab": {}
      },
      "source": [
        "Xval, Xtest, yval, ytest = train_test_split(mat.get('Xval'),\n",
        "                                            mat.get('yval').ravel(),\n",
        "                                            test_size=0.5)"
      ],
      "execution_count": 0,
      "outputs": []
    },
    {
      "cell_type": "markdown",
      "metadata": {
        "id": "wYpoUvaWTF0S",
        "colab_type": "text"
      },
      "source": [
        " <font face=楷体>\n",
        " 可视化训练数据\n",
        " </font>"
      ]
    },
    {
      "cell_type": "code",
      "metadata": {
        "id": "mUIllvDjTCJi",
        "colab_type": "code",
        "outputId": "02fb64eb-669f-4959-d5d9-43c269b16b87",
        "colab": {
          "base_uri": "https://localhost:8080/",
          "height": 291
        }
      },
      "source": [
        "sns.regplot('Latency', 'Throughput',\n",
        "           data=pd.DataFrame(X, columns=['Latency', 'Throughput']), \n",
        "           fit_reg=False,\n",
        "           scatter_kws={\"s\":20,\n",
        "                        \"alpha\":0.5})\n",
        "plt.show()"
      ],
      "execution_count": 10,
      "outputs": [
        {
          "output_type": "display_data",
          "data": {
            "image/png": "[encoded data removed]",
            "text/plain": [
              "<Figure size 432x288 with 1 Axes>"
            ]
          },
          "metadata": {
            "tags": []
          }
        }
      ]
    },
    {
      "cell_type": "markdown",
      "metadata": {
        "id": "bWrwCsWnTUbC",
        "colab_type": "text"
      },
      "source": [
        "## 估计多元高斯参数$\\mu$和$\\sigma^2$\n",
        "\n",
        " <font face=楷体 color=skyblue>\n",
        "$X_1$和$X_2$并不独立\n",
        "</font>"
      ]
    },
    {
      "cell_type": "code",
      "metadata": {
        "id": "-DI54Q4CTMzj",
        "colab_type": "code",
        "outputId": "9c71a601-6dd0-4172-f3ad-19a7c8548233",
        "colab": {
          "base_uri": "https://localhost:8080/",
          "height": 89
        }
      },
      "source": [
        "mu = X.mean(axis=0)\n",
        "print(mu, '\\n')\n",
        "\n",
        "cov = np.cov(X.T)\n",
        "print(cov)"
      ],
      "execution_count": 11,
      "outputs": [
        {
          "output_type": "stream",
          "text": [
            "[14.11222578 14.99771051] \n",
            "\n",
            "[[ 1.83862041 -0.22786456]\n",
            " [-0.22786456  1.71533273]]\n"
          ],
          "name": "stdout"
        }
      ]
    },
    {
      "cell_type": "markdown",
      "metadata": {
        "id": "pOW8HWWyL0fm",
        "colab_type": "text"
      },
      "source": [
        " <font face=楷体 color=skyblue>\n",
        "例：创建二维网格来计算概率密度\n",
        "</font>"
      ]
    },
    {
      "cell_type": "code",
      "metadata": {
        "id": "edazRV0HTZ0J",
        "colab_type": "code",
        "outputId": "ab0b9dcd-b98c-40fe-c1dc-855052e686b3",
        "colab": {
          "base_uri": "https://localhost:8080/",
          "height": 215
        }
      },
      "source": [
        "np.dstack(np.mgrid[0:3,0:3])"
      ],
      "execution_count": 12,
      "outputs": [
        {
          "output_type": "execute_result",
          "data": {
            "text/plain": [
              "array([[[0, 0],\n",
              "        [0, 1],\n",
              "        [0, 2]],\n",
              "\n",
              "       [[1, 0],\n",
              "        [1, 1],\n",
              "        [1, 2]],\n",
              "\n",
              "       [[2, 0],\n",
              "        [2, 1],\n",
              "        [2, 2]]])"
            ]
          },
          "metadata": {
            "tags": []
          },
          "execution_count": 12
        }
      ]
    },
    {
      "cell_type": "code",
      "metadata": {
        "id": "hO5FU6B5TbDz",
        "colab_type": "code",
        "outputId": "f3d51d6e-54dc-41f9-f709-6b925d1735ed",
        "colab": {
          "base_uri": "https://localhost:8080/",
          "height": 291
        }
      },
      "source": [
        "# create multi-var Gaussian model\n",
        "multi_normal = stats.multivariate_normal(mu, cov)\n",
        "\n",
        "# create a grid\n",
        "x, y = np.mgrid[0:30:0.01, 0:30:0.01]\n",
        "pos = np.dstack((x, y))\n",
        "\n",
        "fig, ax = plt.subplots()\n",
        "\n",
        "# plot probability density\n",
        "ax.contourf(x, y, multi_normal.pdf(pos), cmap='Blues')\n",
        "\n",
        "# plot original data points\n",
        "sns.regplot('Latency', 'Throughput',\n",
        "           data=pd.DataFrame(X, columns=['Latency', 'Throughput']), \n",
        "           fit_reg=False,\n",
        "           ax=ax,\n",
        "           scatter_kws={\"s\":10,\n",
        "                        \"alpha\":0.4})\n",
        "plt.show()"
      ],
      "execution_count": 13,
      "outputs": [
        {
          "output_type": "display_data",
          "data": {
            "image/png": "[encoded data removed]",
            "text/plain": [
              "<Figure size 432x288 with 1 Axes>"
            ]
          },
          "metadata": {
            "tags": []
          }
        }
      ]
    },
    {
      "cell_type": "markdown",
      "metadata": {
        "id": "f8qTV0cBTh7C",
        "colab_type": "text"
      },
      "source": [
        "# 选择阈值 $\\epsilon$  \n",
        "<font face=楷体>\n",
        "    \n",
        "* 使用训练集$X$对多元高斯函数建模  \n",
        "* 使用交叉验证集$(X_{val}, y_{val})$通过找到最佳的“$F-score$”来找到对应的 $\\epsilon$  \n",
        "</font>  \n",
        "\n",
        "$$\\begin{aligned}\n",
        "&F_1=\\frac{2\\cdot\\ prec\\cdot\\ rec}{prec+ rec}\\\\\n",
        "&prec=\\frac{t_p}{t_p+f_p}\\\\\n",
        "&rec=\\frac{t_p}{t_p+f_n}\n",
        "\\end{aligned}$$"
      ]
    },
    {
      "cell_type": "code",
      "metadata": {
        "id": "9vwIC9LwTeIy",
        "colab_type": "code",
        "colab": {}
      },
      "source": [
        "def select_threshold(X, Xval, yval):\n",
        "    \"\"\"use CV data to find the best epsilon\n",
        "    Returns:\n",
        "        e: best epsilon with the highest f-score\n",
        "        f-score: such best f-score\n",
        "    \"\"\"\n",
        "    # create multivariate model using training data\n",
        "    mu = X.mean(axis=0)\n",
        "    cov = np.cov(X.T)\n",
        "    multi_normal = stats.multivariate_normal(mu, cov)\n",
        "\n",
        "    # this is key, use CV data for fine tuning hyper parameters\n",
        "    pval = multi_normal.pdf(Xval)\n",
        "\n",
        "    # set up epsilon candidates\n",
        "    epsilon = np.linspace(np.min(pval), np.max(pval), num=10000)\n",
        "\n",
        "    # calculate f-score\n",
        "    fs = []\n",
        "    for e in epsilon:\n",
        "        y_pred = (pval <= e).astype('int')\n",
        "        fs.append(f1_score(yval, y_pred))\n",
        "\n",
        "    # find the best f-score\n",
        "    argmax_fs = np.argmax(fs)\n",
        "\n",
        "    return epsilon[argmax_fs], fs[argmax_fs]"
      ],
      "execution_count": 0,
      "outputs": []
    },
    {
      "cell_type": "code",
      "metadata": {
        "id": "Un1qYvd8NC2-",
        "colab_type": "code",
        "colab": {
          "base_uri": "https://localhost:8080/",
          "height": 53
        },
        "outputId": "ac253112-a2ac-4b36-8480-e94bf68525bd"
      },
      "source": [
        "from sklearn.metrics import f1_score, classification_report\n",
        "\n",
        "e, fs = select_threshold(X, Xval, yval)\n",
        "print('Best epsilon: {}\\nBest F-score on validation data: {}'.format(e, fs))"
      ],
      "execution_count": 17,
      "outputs": [
        {
          "output_type": "stream",
          "text": [
            "Best epsilon: 3.593415376575984e-05\n",
            "Best F-score on validation data: 0.888888888888889\n"
          ],
          "name": "stdout"
        }
      ]
    },
    {
      "cell_type": "markdown",
      "metadata": {
        "id": "mncAoL_DNLNw",
        "colab_type": "text"
      },
      "source": [
        "\n",
        "## 使用学习到的 $\\epsilon$ 可视化预测 $X_{val}$  \n",
        "<font face=楷体>\n",
        "\n",
        "* 使用CV数据找出最好的 $\\epsilon$  \n",
        "* 使用所有数据(培训+验证)创建模型  \n",
        "* 对测试数据进行预测\n",
        "</font>"
      ]
    },
    {
      "cell_type": "code",
      "metadata": {
        "id": "AHaHniKFNG93",
        "colab_type": "code",
        "colab": {}
      },
      "source": [
        "def select_threshold(X, Xval, yval):\n",
        "    \"\"\"use CV data to find the best epsilon\n",
        "    Returns:\n",
        "        e: best epsilon with the highest f-score\n",
        "        f-score: such best f-score\n",
        "    \"\"\"\n",
        "    # create multivariate model using training data\n",
        "    mu = X.mean(axis=0)\n",
        "    cov = np.cov(X.T)\n",
        "    multi_normal = stats.multivariate_normal(mu, cov)\n",
        "\n",
        "    # this is key, use CV data for fine tuning hyper parameters\n",
        "    pval = multi_normal.pdf(Xval)\n",
        "\n",
        "    # set up epsilon candidates\n",
        "    epsilon = np.linspace(np.min(pval), np.max(pval), num=10000)\n",
        "\n",
        "    # calculate f-score\n",
        "    fs = []\n",
        "    for e in epsilon:\n",
        "        y_pred = (pval <= e).astype('int')\n",
        "        fs.append(f1_score(yval, y_pred))\n",
        "\n",
        "    # find the best f-score\n",
        "    argmax_fs = np.argmax(fs)\n",
        "\n",
        "    return epsilon[argmax_fs], fs[argmax_fs]\n",
        "\n",
        "\n",
        "def predict(X, Xval, e, Xtest, ytest):\n",
        "    \"\"\"with optimal epsilon, combine X, Xval and predict Xtest\n",
        "    Returns:\n",
        "        multi_normal: multivariate normal model\n",
        "        y_pred: prediction of test data\n",
        "    \"\"\"\n",
        "    Xdata = np.concatenate((X, Xval), axis=0)\n",
        "\n",
        "    mu = Xdata.mean(axis=0)\n",
        "    cov = np.cov(Xdata.T)\n",
        "    multi_normal = stats.multivariate_normal(mu, cov)\n",
        "\n",
        "    # calculate probability of test data\n",
        "    pval = multi_normal.pdf(Xtest)\n",
        "    y_pred = (pval <= e).astype('int')\n",
        "\n",
        "    print(classification_report(ytest, y_pred))\n",
        "\n",
        "    return multi_normal, y_pred"
      ],
      "execution_count": 0,
      "outputs": []
    },
    {
      "cell_type": "code",
      "metadata": {
        "id": "wA3kWTPUNzTR",
        "colab_type": "code",
        "colab": {
          "base_uri": "https://localhost:8080/",
          "height": 179
        },
        "outputId": "522051fa-98d2-4229-823a-167dcd0cad3f"
      },
      "source": [
        "multi_normal, y_pred = predict(X, Xval, e, Xtest, ytest)"
      ],
      "execution_count": 18,
      "outputs": [
        {
          "output_type": "stream",
          "text": [
            "              precision    recall  f1-score   support\n",
            "\n",
            "           0       0.99      1.00      0.99       150\n",
            "           1       1.00      0.50      0.67         4\n",
            "\n",
            "    accuracy                           0.99       154\n",
            "   macro avg       0.99      0.75      0.83       154\n",
            "weighted avg       0.99      0.99      0.98       154\n",
            "\n"
          ],
          "name": "stdout"
        }
      ]
    },
    {
      "cell_type": "code",
      "metadata": {
        "id": "77HmTh_TtHQj",
        "colab_type": "code",
        "colab": {
          "base_uri": "https://localhost:8080/",
          "height": 291
        },
        "outputId": "f49eaa46-e26e-4b6c-fc6a-bdac544d0705"
      },
      "source": [
        "# construct test DataFrame\n",
        "data = pd.DataFrame(Xtest, columns=['Latency', 'Throughput'])\n",
        "data['y_pred'] = y_pred\n",
        "\n",
        "# create a grid for graphing\n",
        "x, y = np.mgrid[0:30:0.01, 0:30:0.01]\n",
        "pos = np.dstack((x, y))\n",
        "\n",
        "fig, ax = plt.subplots()\n",
        "\n",
        "# plot probability density\n",
        "ax.contourf(x, y, multi_normal.pdf(pos), cmap='Blues')\n",
        "\n",
        "# plot original Xval points\n",
        "sns.regplot('Latency', 'Throughput',\n",
        "            data=data,\n",
        "            fit_reg=False,\n",
        "            ax=ax,\n",
        "            scatter_kws={\"s\":10,\n",
        "                         \"alpha\":0.4})\n",
        "\n",
        "# mark the predicted anamoly of CV data. We should have a test set for this...\n",
        "anamoly_data = data[data['y_pred']==1]\n",
        "ax.scatter(anamoly_data['Latency'], anamoly_data['Throughput'], marker='x', s=50)\n",
        "plt.show()"
      ],
      "execution_count": 19,
      "outputs": [
        {
          "output_type": "display_data",
          "data": {
            "image/png": "[encoded data removed]",
            "text/plain": [
              "<Figure size 432x288 with 1 Axes>"
            ]
          },
          "metadata": {
            "tags": []
          }
        }
      ]
    },
    {
      "cell_type": "markdown",
      "metadata": {
        "id": "GKxqHAI4tNC6",
        "colab_type": "text"
      },
      "source": [
        "## 高维数据"
      ]
    },
    {
      "cell_type": "code",
      "metadata": {
        "id": "NLjeHqVotKC8",
        "colab_type": "code",
        "colab": {}
      },
      "source": [
        "mat = sio.loadmat('./data/ex8data2.mat')\n",
        "\n",
        "X = mat.get('X')\n",
        "Xval, Xtest, yval, ytest = train_test_split(mat.get('Xval'),\n",
        "                                            mat.get('yval').ravel(),\n",
        "                                            test_size=0.5)"
      ],
      "execution_count": 0,
      "outputs": []
    },
    {
      "cell_type": "code",
      "metadata": {
        "id": "e95JX_6-tS0P",
        "colab_type": "code",
        "colab": {
          "base_uri": "https://localhost:8080/",
          "height": 53
        },
        "outputId": "f259be93-0ffc-452c-e9b9-4184265cecec"
      },
      "source": [
        "e, fs = select_threshold(X, Xval, yval)\n",
        "print('Best epsilon: {}\\nBest F-score on validation data: {}'.format(e, fs))"
      ],
      "execution_count": 21,
      "outputs": [
        {
          "output_type": "stream",
          "text": [
            "Best epsilon: 2.046519143026685e-19\n",
            "Best F-score on validation data: 0.8\n"
          ],
          "name": "stdout"
        }
      ]
    },
    {
      "cell_type": "code",
      "metadata": {
        "id": "E28Uan1atWpa",
        "colab_type": "code",
        "colab": {
          "base_uri": "https://localhost:8080/",
          "height": 179
        },
        "outputId": "fa2ab35f-1fcc-4146-fbd9-dca60a753aac"
      },
      "source": [
        "multi_normal, y_pred = predict(X, Xval, e, Xtest, ytest)"
      ],
      "execution_count": 22,
      "outputs": [
        {
          "output_type": "stream",
          "text": [
            "              precision    recall  f1-score   support\n",
            "\n",
            "           0       0.93      0.98      0.95        42\n",
            "           1       0.83      0.62      0.71         8\n",
            "\n",
            "    accuracy                           0.92        50\n",
            "   macro avg       0.88      0.80      0.83        50\n",
            "weighted avg       0.92      0.92      0.92        50\n",
            "\n"
          ],
          "name": "stdout"
        }
      ]
    },
    {
      "cell_type": "code",
      "metadata": {
        "id": "G0mgbIMQtYWA",
        "colab_type": "code",
        "colab": {
          "base_uri": "https://localhost:8080/",
          "height": 35
        },
        "outputId": "9e43a928-3719-4593-a91c-4f9fe178dcd7"
      },
      "source": [
        "print('find {} anamolies'.format(y_pred.sum()))"
      ],
      "execution_count": 23,
      "outputs": [
        {
          "output_type": "stream",
          "text": [
            "find 6 anamolies\n"
          ],
          "name": "stdout"
        }
      ]
    },
    {
      "cell_type": "markdown",
      "metadata": {
        "id": "2csjKIeqtiiL",
        "colab_type": "text"
      },
      "source": [
        "<font face=楷体 color=skyblue size=4>\n",
        "结果与ex8中官方的117 个anamolies的巨大差异是由于：\n",
        "</font>  \n",
        "\n",
        "<font face=楷体>\n",
        "    \n",
        "* 这里用的是多元高斯函数 \n",
        "* 对数据的分割非常不同\n",
        "</font>"
      ]
    },
    {
      "cell_type": "markdown",
      "metadata": {
        "id": "kIoSltKqvDI7",
        "colab_type": "text"
      },
      "source": [
        "# 2-推荐系统  \n",
        "\n",
        "\n",
        "% Notes: X - num_movies (1682) x num_features (10) matrix of movie features % Theta - num_users (943) x num_features (10) matrix of user features % Y - num_movies x num_users matrix of user ratings of movies % R - num_movies x num_users matrix, where R(i, j) = 1 if the % i-th movie was rated by the j-th user"
      ]
    },
    {
      "cell_type": "code",
      "metadata": {
        "id": "zNlgqNgetaLc",
        "colab_type": "code",
        "colab": {}
      },
      "source": [
        "import matplotlib.pyplot as plt\n",
        "import seaborn as sns\n",
        "sns.set(context=\"notebook\", style=\"white\", palette=sns.color_palette(\"RdBu\"), color_codes=False)\n",
        "import numpy as np\n",
        "import pandas as pd\n",
        "import scipy.io as sio"
      ],
      "execution_count": 0,
      "outputs": []
    },
    {
      "cell_type": "markdown",
      "metadata": {
        "id": "B0JjLAZ2vNdD",
        "colab_type": "text"
      },
      "source": [
        "## 加载数据"
      ]
    },
    {
      "cell_type": "code",
      "metadata": {
        "id": "4KlO-YygvFEU",
        "colab_type": "code",
        "colab": {
          "base_uri": "https://localhost:8080/",
          "height": 35
        },
        "outputId": "f07d125b-c130-4416-cb9e-afbb0c37ae69"
      },
      "source": [
        "movies_mat = sio.loadmat('./data/ex8_movies.mat')\n",
        "Y, R = movies_mat.get('Y'), movies_mat.get('R')\n",
        "\n",
        "Y.shape, R.shape"
      ],
      "execution_count": 26,
      "outputs": [
        {
          "output_type": "execute_result",
          "data": {
            "text/plain": [
              "((1682, 943), (1682, 943))"
            ]
          },
          "metadata": {
            "tags": []
          },
          "execution_count": 26
        }
      ]
    },
    {
      "cell_type": "code",
      "metadata": {
        "id": "RRZufehFvWj_",
        "colab_type": "code",
        "colab": {}
      },
      "source": [
        "m, u = Y.shape\n",
        "# m: how many movies\n",
        "# u: how many users\n",
        "\n",
        "n = 10  # how many features for a movie"
      ],
      "execution_count": 0,
      "outputs": []
    },
    {
      "cell_type": "code",
      "metadata": {
        "id": "xfMVycUYvZBM",
        "colab_type": "code",
        "colab": {
          "base_uri": "https://localhost:8080/",
          "height": 35
        },
        "outputId": "6e132985-6be1-46ac-828b-2208683c9d46"
      },
      "source": [
        "param_mat = sio.loadmat('./data/ex8_movieParams.mat')\n",
        "theta, X = param_mat.get('Theta'), param_mat.get('X')\n",
        "\n",
        "theta.shape, X.shape"
      ],
      "execution_count": 28,
      "outputs": [
        {
          "output_type": "execute_result",
          "data": {
            "text/plain": [
              "((943, 10), (1682, 10))"
            ]
          },
          "metadata": {
            "tags": []
          },
          "execution_count": 28
        }
      ]
    },
    {
      "cell_type": "markdown",
      "metadata": {
        "id": "AKr0x-etvdb-",
        "colab_type": "text"
      },
      "source": [
        "## Cost  \n",
        "\n",
        "$$J(x^{(1)},...,x^{(n_m)},\\theta^{(1)},...,\\theta^{(n_m)})=\\frac12\\sum_{(i,j):r(i,j)=1}((\\theta^{(j)})^Tx^{(i)}-y^{(i,j)})^2$$"
      ]
    },
    {
      "cell_type": "code",
      "metadata": {
        "id": "WOi0G5mavbQb",
        "colab_type": "code",
        "colab": {}
      },
      "source": [
        "def serialize(X, theta):\n",
        "    \"\"\"serialize 2 matrix\n",
        "    \"\"\"\n",
        "    # X (movie, feature), (1682, 10): movie features\n",
        "    # theta (user, feature), (943, 10): user preference\n",
        "    return np.concatenate((X.ravel(), theta.ravel()))\n",
        "\n",
        "\n",
        "def deserialize(param, n_movie, n_user, n_features):\n",
        "    \"\"\"into ndarray of X(1682, 10), theta(943, 10)\"\"\"\n",
        "    return param[:n_movie * n_features].reshape(n_movie, n_features), \\\n",
        "           param[n_movie * n_features:].reshape(n_user, n_features)\n",
        "\n",
        "\n",
        "# recommendation fn\n",
        "def cost(param, Y, R, n_features):\n",
        "    \"\"\"compute cost for every r(i, j)=1\n",
        "    Args:\n",
        "        param: serialized X, theta\n",
        "        Y (movie, user), (1682, 943): (movie, user) rating\n",
        "        R (movie, user), (1682, 943): (movie, user) has rating\n",
        "    \"\"\"\n",
        "    # theta (user, feature), (943, 10): user preference\n",
        "    # X (movie, feature), (1682, 10): movie features\n",
        "    n_movie, n_user = Y.shape\n",
        "    X, theta = deserialize(param, n_movie, n_user, n_features)\n",
        "\n",
        "    inner = np.multiply(X @ theta.T - Y, R)\n",
        "\n",
        "    return np.power(inner, 2).sum() / 2\n",
        "\n",
        "\n",
        "def gradient(param, Y, R, n_features):\n",
        "    # theta (user, feature), (943, 10): user preference\n",
        "    # X (movie, feature), (1682, 10): movie features\n",
        "    n_movies, n_user = Y.shape\n",
        "    X, theta = deserialize(param, n_movies, n_user, n_features)\n",
        "\n",
        "    inner = np.multiply(X @ theta.T - Y, R)  # (1682, 943)\n",
        "\n",
        "    # X_grad (1682, 10)\n",
        "    X_grad = inner @ theta\n",
        "\n",
        "    # theta_grad (943, 10)\n",
        "    theta_grad = inner.T @ X\n",
        "\n",
        "    # roll them together and return\n",
        "    return serialize(X_grad, theta_grad)\n",
        "\n",
        "\n",
        "def regularized_cost(param, Y, R, n_features, l=1):\n",
        "    reg_term = np.power(param, 2).sum() * (l / 2)\n",
        "\n",
        "    return cost(param, Y, R, n_features) + reg_term\n",
        "\n",
        "\n",
        "def regularized_gradient(param, Y, R, n_features, l=1):\n",
        "    grad = gradient(param, Y, R, n_features)\n",
        "    reg_term = l * param\n",
        "\n",
        "    return grad + reg_term"
      ],
      "execution_count": 0,
      "outputs": []
    },
    {
      "cell_type": "code",
      "metadata": {
        "id": "bNoetbOrwU_B",
        "colab_type": "code",
        "colab": {
          "base_uri": "https://localhost:8080/",
          "height": 35
        },
        "outputId": "95afb02c-cec2-4452-e946-d1932acef32e"
      },
      "source": [
        "# use subset of data to calculate the cost as in pdf...\n",
        "users = 4\n",
        "movies = 5\n",
        "features = 3\n",
        "\n",
        "X_sub = X[:movies, :features]\n",
        "theta_sub = theta[:users, :features]\n",
        "Y_sub = Y[:movies, :users]\n",
        "R_sub = R[:movies, :users]\n",
        "\n",
        "param_sub = serialize(X_sub, theta_sub)\n",
        "cost(param_sub, Y_sub, R_sub, features)"
      ],
      "execution_count": 30,
      "outputs": [
        {
          "output_type": "execute_result",
          "data": {
            "text/plain": [
              "22.224603725685675"
            ]
          },
          "metadata": {
            "tags": []
          },
          "execution_count": 30
        }
      ]
    },
    {
      "cell_type": "code",
      "metadata": {
        "id": "Vlj3gAyRwXQ_",
        "colab_type": "code",
        "colab": {
          "base_uri": "https://localhost:8080/",
          "height": 35
        },
        "outputId": "b4142f55-e9d1-4c12-e324-b7e2731cc4f3"
      },
      "source": [
        "param = serialize(X, theta)  # total real params\n",
        "\n",
        "cost(serialize(X, theta), Y, R, 10)  # this is real total cost"
      ],
      "execution_count": 31,
      "outputs": [
        {
          "output_type": "execute_result",
          "data": {
            "text/plain": [
              "27918.64012454421"
            ]
          },
          "metadata": {
            "tags": []
          },
          "execution_count": 31
        }
      ]
    },
    {
      "cell_type": "markdown",
      "metadata": {
        "id": "8jr06BPrwd_E",
        "colab_type": "text"
      },
      "source": [
        "## 梯度  \n",
        "\n",
        "$$\\begin{aligned}\n",
        "\\frac{\\partial J}{\\partial x_k^{(i)}}=\\sum_{j:r(i,j)=1}((\\theta^{(j)})^Tx^{(i)}-y^{(i,j)})\\theta_k^{(j)}\\\\\n",
        "\\frac{\\partial J}{\\partial \\theta_k^{(i)}}=\\sum_{i:r(i,j)=1}((\\theta^{(j)})^Tx^{(i)}-y^{(i,j)})x_k^{(j)}\n",
        "\\end{aligned}$$"
      ]
    },
    {
      "cell_type": "code",
      "metadata": {
        "id": "LP_bF4WPwZHo",
        "colab_type": "code",
        "colab": {}
      },
      "source": [
        "n_movie, n_user = Y.shape\n",
        "\n",
        "X_grad, theta_grad = deserialize(gradient(param, Y, R, 10),\n",
        "                                      n_movie, n_user, 10)\n",
        "\n",
        "\n",
        "assert X_grad.shape == X.shape\n",
        "assert theta_grad.shape == theta.shape"
      ],
      "execution_count": 0,
      "outputs": []
    },
    {
      "cell_type": "markdown",
      "metadata": {
        "id": "2vb0e-qXxjgy",
        "colab_type": "text"
      },
      "source": [
        "## 正则化代价"
      ]
    },
    {
      "cell_type": "code",
      "metadata": {
        "id": "zwFFA6EkxeDF",
        "colab_type": "code",
        "colab": {
          "base_uri": "https://localhost:8080/",
          "height": 35
        },
        "outputId": "8218cda5-4b79-4d7b-8627-3c74cc8ee6d0"
      },
      "source": [
        "# in the ex8_confi.m, lambda = 1.5, and it's using sub data set\n",
        "regularized_cost(param_sub, Y_sub, R_sub, features, l=1.5)"
      ],
      "execution_count": 34,
      "outputs": [
        {
          "output_type": "execute_result",
          "data": {
            "text/plain": [
              "31.34405624427422"
            ]
          },
          "metadata": {
            "tags": []
          },
          "execution_count": 34
        }
      ]
    },
    {
      "cell_type": "code",
      "metadata": {
        "id": "-wbvuHewxpWD",
        "colab_type": "code",
        "colab": {
          "base_uri": "https://localhost:8080/",
          "height": 35
        },
        "outputId": "040f7d0c-847a-485b-db1e-a28065e363e4"
      },
      "source": [
        "regularized_cost(param, Y, R, 10, l=1)  # total regularized cost"
      ],
      "execution_count": 35,
      "outputs": [
        {
          "output_type": "execute_result",
          "data": {
            "text/plain": [
              "32520.682450229557"
            ]
          },
          "metadata": {
            "tags": []
          },
          "execution_count": 35
        }
      ]
    },
    {
      "cell_type": "markdown",
      "metadata": {
        "id": "th5oU5p-xvNY",
        "colab_type": "text"
      },
      "source": [
        "## 正则化梯度  \n",
        "\n",
        "\n",
        "$$\\begin{aligned}\n",
        "\\frac{\\partial J}{\\partial x_k^{(i)}}=\\sum_{j:r(i,j)=1}((\\theta^{(j)})^Tx^{(i)}-y^{(i,j)})\\theta_k^{(j)}+\\lambda x_k^{(i)}\\\\\n",
        "\\frac{\\partial J}{\\partial \\theta_k^{(i)}}=\\sum_{i:r(i,j)=1}((\\theta^{(j)})^Tx^{(i)}-y^{(i,j)})x_k^{(j)}+\\lambda \\theta_k^{(j)}\n",
        "\\end{aligned}$$"
      ]
    },
    {
      "cell_type": "code",
      "metadata": {
        "id": "DGwrlvVnxqx6",
        "colab_type": "code",
        "colab": {}
      },
      "source": [
        "n_movie, n_user = Y.shape\n",
        "\n",
        "X_grad, theta_grad = deserialize(regularized_gradient(param, Y, R, 10),\n",
        "                                                                n_movie, n_user, 10)\n",
        "\n",
        "assert X_grad.shape == X.shape\n",
        "assert theta_grad.shape == theta.shape"
      ],
      "execution_count": 0,
      "outputs": []
    },
    {
      "cell_type": "markdown",
      "metadata": {
        "id": "AKzpbVvEyJxy",
        "colab_type": "text"
      },
      "source": [
        "## 解析movie_id.txt"
      ]
    },
    {
      "cell_type": "code",
      "metadata": {
        "id": "uVLg0YcUyG7R",
        "colab_type": "code",
        "colab": {}
      },
      "source": [
        "movie_list = []\n",
        "\n",
        "with open('./data/movie_ids.txt', encoding='latin-1') as f:\n",
        "    for line in f:\n",
        "        tokens = line.strip().split(' ')\n",
        "        movie_list.append(' '.join(tokens[1:]))\n",
        "\n",
        "movie_list = np.array(movie_list)"
      ],
      "execution_count": 0,
      "outputs": []
    },
    {
      "cell_type": "markdown",
      "metadata": {
        "id": "aScReHrYyU1C",
        "colab_type": "text"
      },
      "source": [
        "## 复制评级"
      ]
    },
    {
      "cell_type": "code",
      "metadata": {
        "id": "gmrAeLADyMyp",
        "colab_type": "code",
        "colab": {}
      },
      "source": [
        "ratings = np.zeros(1682)\n",
        "\n",
        "ratings[0] = 4\n",
        "ratings[6] = 3\n",
        "ratings[11] = 5\n",
        "ratings[53] = 4\n",
        "ratings[63] = 5\n",
        "ratings[65] = 3\n",
        "ratings[68] = 5\n",
        "ratings[97] = 2\n",
        "ratings[182] = 4\n",
        "ratings[225] = 5\n",
        "ratings[354] = 5"
      ],
      "execution_count": 0,
      "outputs": []
    },
    {
      "cell_type": "markdown",
      "metadata": {
        "id": "25EaUYrgyZmi",
        "colab_type": "text"
      },
      "source": [
        "## 准备数据"
      ]
    },
    {
      "cell_type": "code",
      "metadata": {
        "id": "f2RZa_mRyYIx",
        "colab_type": "code",
        "colab": {
          "base_uri": "https://localhost:8080/",
          "height": 35
        },
        "outputId": "97fbb423-b892-4814-cb91-e21b09801915"
      },
      "source": [
        "Y, R = movies_mat.get('Y'), movies_mat.get('R')\n",
        "\n",
        "\n",
        "Y = np.insert(Y, 0, ratings, axis=1)  # now I become user 0\n",
        "Y.shape"
      ],
      "execution_count": 39,
      "outputs": [
        {
          "output_type": "execute_result",
          "data": {
            "text/plain": [
              "(1682, 944)"
            ]
          },
          "metadata": {
            "tags": []
          },
          "execution_count": 39
        }
      ]
    },
    {
      "cell_type": "code",
      "metadata": {
        "id": "W_CBxM6wyd-W",
        "colab_type": "code",
        "colab": {
          "base_uri": "https://localhost:8080/",
          "height": 35
        },
        "outputId": "72fd4027-b866-4cbc-84c8-2b309f8c1e7d"
      },
      "source": [
        "R = np.insert(R, 0, ratings != 0, axis=1)\n",
        "R.shape"
      ],
      "execution_count": 40,
      "outputs": [
        {
          "output_type": "execute_result",
          "data": {
            "text/plain": [
              "(1682, 944)"
            ]
          },
          "metadata": {
            "tags": []
          },
          "execution_count": 40
        }
      ]
    },
    {
      "cell_type": "code",
      "metadata": {
        "id": "eUiW9mEWyfFa",
        "colab_type": "code",
        "colab": {
          "base_uri": "https://localhost:8080/",
          "height": 35
        },
        "outputId": "811f2dcf-c9ec-47a8-8719-821e51c1114e"
      },
      "source": [
        "n_features = 50\n",
        "n_movie, n_user = Y.shape\n",
        "l = 10\n",
        "\n",
        "X = np.random.standard_normal((n_movie, n_features))\n",
        "theta = np.random.standard_normal((n_user, n_features))\n",
        "\n",
        "X.shape, theta.shape"
      ],
      "execution_count": 41,
      "outputs": [
        {
          "output_type": "execute_result",
          "data": {
            "text/plain": [
              "((1682, 50), (944, 50))"
            ]
          },
          "metadata": {
            "tags": []
          },
          "execution_count": 41
        }
      ]
    },
    {
      "cell_type": "markdown",
      "metadata": {
        "id": "3v3-anLzyoro",
        "colab_type": "text"
      },
      "source": [
        "## 标准化等级"
      ]
    },
    {
      "cell_type": "code",
      "metadata": {
        "id": "pXk4SvsIyiAR",
        "colab_type": "code",
        "colab": {
          "base_uri": "https://localhost:8080/",
          "height": 35
        },
        "outputId": "98f09193-b459-44d2-dc9e-cc4c3557c848"
      },
      "source": [
        "param = serialize(X, theta)\n",
        "Y_norm = Y - Y.mean()\n",
        "Y_norm.mean()"
      ],
      "execution_count": 43,
      "outputs": [
        {
          "output_type": "execute_result",
          "data": {
            "text/plain": [
              "4.6862111343939375e-17"
            ]
          },
          "metadata": {
            "tags": []
          },
          "execution_count": 43
        }
      ]
    },
    {
      "cell_type": "markdown",
      "metadata": {
        "id": "iCBO9cLyyyU4",
        "colab_type": "text"
      },
      "source": [
        "## 训练"
      ]
    },
    {
      "cell_type": "code",
      "metadata": {
        "id": "si-4oUGkykyx",
        "colab_type": "code",
        "colab": {
          "base_uri": "https://localhost:8080/",
          "height": 197
        },
        "outputId": "ace9b7da-2d2e-4b58-97e2-14e8ffae0aa7"
      },
      "source": [
        "import scipy.optimize as opt\n",
        "\n",
        "res = opt.minimize(fun=regularized_cost,\n",
        "                   x0=param,\n",
        "                   args=(Y_norm, R, n_features, l),\n",
        "                   method='TNC',\n",
        "                   jac=regularized_gradient)\n",
        "\n",
        "res"
      ],
      "execution_count": 44,
      "outputs": [
        {
          "output_type": "execute_result",
          "data": {
            "text/plain": [
              "     fun: 64721.497815068695\n",
              "     jac: array([-8.48838632e-06,  7.81312194e-07, -1.08906927e-06, ...,\n",
              "       -1.45446182e-07, -6.83122272e-07, -1.04873380e-06])\n",
              " message: 'Converged (|f_n-f_(n-1)| ~= 0)'\n",
              "    nfev: 2412\n",
              "     nit: 70\n",
              "  status: 1\n",
              " success: True\n",
              "       x: array([-0.76313181,  0.93866892, -0.34007719, ..., -0.20109122,\n",
              "        0.25126488,  0.01309171])"
            ]
          },
          "metadata": {
            "tags": []
          },
          "execution_count": 44
        }
      ]
    },
    {
      "cell_type": "code",
      "metadata": {
        "id": "4G7ycEo9y5Nq",
        "colab_type": "code",
        "colab": {
          "base_uri": "https://localhost:8080/",
          "height": 35
        },
        "outputId": "8793cc07-8f7e-47c9-82eb-4a6f4b54b787"
      },
      "source": [
        "X_trained, theta_trained = deserialize(res.x, n_movie, n_user, n_features)\n",
        "X_trained.shape, theta_trained.shape"
      ],
      "execution_count": 45,
      "outputs": [
        {
          "output_type": "execute_result",
          "data": {
            "text/plain": [
              "((1682, 50), (944, 50))"
            ]
          },
          "metadata": {
            "tags": []
          },
          "execution_count": 45
        }
      ]
    },
    {
      "cell_type": "code",
      "metadata": {
        "id": "LpQmMxOLy62k",
        "colab_type": "code",
        "colab": {
          "base_uri": "https://localhost:8080/",
          "height": 35
        },
        "outputId": "fb2ee581-f7c9-4794-c160-a867f09313d2"
      },
      "source": [
        "prediction = X_trained @ theta_trained.T\n",
        "\n",
        "my_preds = prediction[:, 0] + Y.mean()\n",
        "\n",
        "idx = np.argsort(my_preds)[::-1]  # Descending order\n",
        "idx.shape"
      ],
      "execution_count": 47,
      "outputs": [
        {
          "output_type": "execute_result",
          "data": {
            "text/plain": [
              "(1682,)"
            ]
          },
          "metadata": {
            "tags": []
          },
          "execution_count": 47
        }
      ]
    },
    {
      "cell_type": "code",
      "metadata": {
        "id": "R2Qhx1T-zCa7",
        "colab_type": "code",
        "colab": {
          "base_uri": "https://localhost:8080/",
          "height": 53
        },
        "outputId": "994b4d7d-cd69-4d36-d000-e4ec26345f11"
      },
      "source": [
        "# top ten idx\n",
        "my_preds[idx][:10]"
      ],
      "execution_count": 48,
      "outputs": [
        {
          "output_type": "execute_result",
          "data": {
            "text/plain": [
              "array([4.12534837, 4.04412879, 3.9932421 , 3.91902597, 3.8169053 ,\n",
              "       3.81555871, 3.76602318, 3.76322499, 3.75904113, 3.75077919])"
            ]
          },
          "metadata": {
            "tags": []
          },
          "execution_count": 48
        }
      ]
    },
    {
      "cell_type": "code",
      "metadata": {
        "id": "WfKP5ci4zDlk",
        "colab_type": "code",
        "colab": {
          "base_uri": "https://localhost:8080/",
          "height": 197
        },
        "outputId": "afe34b91-9dff-4f76-952f-e32ebb73256d"
      },
      "source": [
        "for m in movie_list[idx][:10]:\n",
        "    print(m)"
      ],
      "execution_count": 49,
      "outputs": [
        {
          "output_type": "stream",
          "text": [
            "Titanic (1997)\n",
            "Star Wars (1977)\n",
            "Shawshank Redemption, The (1994)\n",
            "Forrest Gump (1994)\n",
            "Raiders of the Lost Ark (1981)\n",
            "Braveheart (1995)\n",
            "Return of the Jedi (1983)\n",
            "Usual Suspects, The (1995)\n",
            "Godfather, The (1972)\n",
            "Schindler's List (1993)\n"
          ],
          "name": "stdout"
        }
      ]
    },
    {
      "cell_type": "code",
      "metadata": {
        "id": "GijygT0tzFHU",
        "colab_type": "code",
        "colab": {}
      },
      "source": [
        ""
      ],
      "execution_count": 0,
      "outputs": []
    }
  ]
}