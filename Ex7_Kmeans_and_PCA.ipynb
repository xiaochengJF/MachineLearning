{
  "nbformat": 4,
  "nbformat_minor": 0,
  "metadata": {
    "anaconda-cloud": {},
    "kernelspec": {
      "display_name": "Python 3",
      "language": "python",
      "name": "python3"
    },
    "language_info": {
      "codemirror_mode": {
        "name": "ipython",
        "version": 3
      },
      "file_extension": ".py",
      "mimetype": "text/x-python",
      "name": "python",
      "nbconvert_exporter": "python",
      "pygments_lexer": "ipython3",
      "version": "3.6.1"
    },
    "colab": {
      "name": "Ex7_Kmeans and PCA",
      "provenance": [],
      "collapsed_sections": [],
      "toc_visible": true,
      "include_colab_link": true
    }
  },
  "cells": [
    {
      "cell_type": "markdown",
      "metadata": {
        "id": "view-in-github",
        "colab_type": "text"
      },
      "source": [
        "<a href=\"https://colab.research.google.com/github/xiaochengJF/MachineLearning/blob/master/Ex7_Kmeans_and_PCA.ipynb\" target=\"_parent\"><img src=\"https://colab.research.google.com/assets/colab-badge.svg\" alt=\"Open In Colab\"/></a>"
      ]
    },
    {
      "cell_type": "code",
      "metadata": {
        "id": "MxoLSZNMu6RE",
        "colab_type": "code",
        "colab": {
          "base_uri": "https://localhost:8080/",
          "height": 127
        },
        "outputId": "badf1f2b-a802-4437-ea66-d1064563a81a"
      },
      "source": [
        "from google.colab import drive\n",
        "drive.mount('/content/drive')"
      ],
      "execution_count": 1,
      "outputs": [
        {
          "output_type": "stream",
          "text": [
            "Go to this URL in a browser: https://accounts.google.com/o/oauth2/auth?client_id=947318989803-6bn6qk8qdgf4n4g3pfee6491hc0brc4i.apps.googleusercontent.com&redirect_uri=urn%3Aietf%3Awg%3Aoauth%3A2.0%3Aoob&scope=email%20https%3A%2F%2Fwww.googleapis.com%2Fauth%2Fdocs.test%20https%3A%2F%2Fwww.googleapis.com%2Fauth%2Fdrive%20https%3A%2F%2Fwww.googleapis.com%2Fauth%2Fdrive.photos.readonly%20https%3A%2F%2Fwww.googleapis.com%2Fauth%2Fpeopleapi.readonly&response_type=code\n",
            "\n",
            "Enter your authorization code:\n",
            "··········\n",
            "Mounted at /content/drive\n"
          ],
          "name": "stdout"
        }
      ]
    },
    {
      "cell_type": "code",
      "metadata": {
        "id": "mFEHC86ovFCu",
        "colab_type": "code",
        "colab": {
          "base_uri": "https://localhost:8080/",
          "height": 35
        },
        "outputId": "7ca3ffe5-4dc4-4e29-cd93-c0ac2a03fd76"
      },
      "source": [
        "cd /content/drive/My Drive/MachineLearning/ex7-kmeans and PCA"
      ],
      "execution_count": 2,
      "outputs": [
        {
          "output_type": "stream",
          "text": [
            "/content/drive/My Drive/MachineLearning/ex7-kmeans and PCA\n"
          ],
          "name": "stdout"
        }
      ]
    },
    {
      "cell_type": "markdown",
      "metadata": {
        "id": "As4Ic_-DuZMu",
        "colab_type": "text"
      },
      "source": [
        "# 1-数据可视化"
      ]
    },
    {
      "cell_type": "code",
      "metadata": {
        "id": "Cc4u3VGsuZMx",
        "colab_type": "code",
        "colab": {}
      },
      "source": [
        "import matplotlib.pyplot as plt\n",
        "import seaborn as sns\n",
        "import pandas as pd\n",
        "import scipy.io as sio"
      ],
      "execution_count": 0,
      "outputs": []
    },
    {
      "cell_type": "markdown",
      "metadata": {
        "id": "l0pduwuXuZM0",
        "colab_type": "text"
      },
      "source": [
        "# data1"
      ]
    },
    {
      "cell_type": "code",
      "metadata": {
        "id": "GcDn_-rQuZM1",
        "colab_type": "code",
        "outputId": "9df4efa5-c4c9-4a4b-a340-02454fcc0701",
        "colab": {
          "base_uri": "https://localhost:8080/",
          "height": 35
        }
      },
      "source": [
        "mat = sio.loadmat('./data/ex7data1.mat')\n",
        "mat.keys()"
      ],
      "execution_count": 4,
      "outputs": [
        {
          "output_type": "execute_result",
          "data": {
            "text/plain": [
              "dict_keys(['__header__', '__version__', '__globals__', 'X'])"
            ]
          },
          "metadata": {
            "tags": []
          },
          "execution_count": 4
        }
      ]
    },
    {
      "cell_type": "code",
      "metadata": {
        "id": "tPcN1qPauZM5",
        "colab_type": "code",
        "outputId": "443ce818-963e-41f4-e095-8fde7ec5f891",
        "colab": {
          "base_uri": "https://localhost:8080/",
          "height": 202
        }
      },
      "source": [
        "data1 = pd.DataFrame(mat.get('X'), columns=['X1', 'X2'])\n",
        "data1.head()"
      ],
      "execution_count": 5,
      "outputs": [
        {
          "output_type": "execute_result",
          "data": {
            "text/html": [
              "<div>\n",
              "<style scoped>\n",
              "    .dataframe tbody tr th:only-of-type {\n",
              "        vertical-align: middle;\n",
              "    }\n",
              "\n",
              "    .dataframe tbody tr th {\n",
              "        vertical-align: top;\n",
              "    }\n",
              "\n",
              "    .dataframe thead th {\n",
              "        text-align: right;\n",
              "    }\n",
              "</style>\n",
              "<table border=\"1\" class=\"dataframe\">\n",
              "  <thead>\n",
              "    <tr style=\"text-align: right;\">\n",
              "      <th></th>\n",
              "      <th>X1</th>\n",
              "      <th>X2</th>\n",
              "    </tr>\n",
              "  </thead>\n",
              "  <tbody>\n",
              "    <tr>\n",
              "      <th>0</th>\n",
              "      <td>3.381563</td>\n",
              "      <td>3.389113</td>\n",
              "    </tr>\n",
              "    <tr>\n",
              "      <th>1</th>\n",
              "      <td>4.527875</td>\n",
              "      <td>5.854178</td>\n",
              "    </tr>\n",
              "    <tr>\n",
              "      <th>2</th>\n",
              "      <td>2.655682</td>\n",
              "      <td>4.411995</td>\n",
              "    </tr>\n",
              "    <tr>\n",
              "      <th>3</th>\n",
              "      <td>2.765235</td>\n",
              "      <td>3.715414</td>\n",
              "    </tr>\n",
              "    <tr>\n",
              "      <th>4</th>\n",
              "      <td>2.846560</td>\n",
              "      <td>4.175506</td>\n",
              "    </tr>\n",
              "  </tbody>\n",
              "</table>\n",
              "</div>"
            ],
            "text/plain": [
              "         X1        X2\n",
              "0  3.381563  3.389113\n",
              "1  4.527875  5.854178\n",
              "2  2.655682  4.411995\n",
              "3  2.765235  3.715414\n",
              "4  2.846560  4.175506"
            ]
          },
          "metadata": {
            "tags": []
          },
          "execution_count": 5
        }
      ]
    },
    {
      "cell_type": "markdown",
      "metadata": {
        "id": "W93qs-FjuZM7",
        "colab_type": "text"
      },
      "source": [
        "***"
      ]
    },
    {
      "cell_type": "code",
      "metadata": {
        "id": "_Bezb0y6uZM-",
        "colab_type": "code",
        "outputId": "dfa7e5c1-e498-49ed-8d20-b1da44f4da2f",
        "colab": {
          "base_uri": "https://localhost:8080/",
          "height": 365
        }
      },
      "source": [
        "sns.set(context=\"notebook\", style=\"white\")\n",
        "sns.lmplot('X1', 'X2', data=data1, fit_reg=False)\n",
        "plt.show()"
      ],
      "execution_count": 7,
      "outputs": [
        {
          "output_type": "display_data",
          "data": {
            "image/png": "[encoded data removed]",
            "text/plain": [
              "<Figure size 360x360 with 1 Axes>"
            ]
          },
          "metadata": {
            "tags": []
          }
        }
      ]
    },
    {
      "cell_type": "markdown",
      "metadata": {
        "id": "T3uyS9LKuZNB",
        "colab_type": "text"
      },
      "source": [
        "# data2"
      ]
    },
    {
      "cell_type": "code",
      "metadata": {
        "id": "Ppkf_jDbuZNB",
        "colab_type": "code",
        "outputId": "8084aca6-442b-47e0-a2ce-7dd3999211e5",
        "colab": {
          "base_uri": "https://localhost:8080/",
          "height": 202
        }
      },
      "source": [
        "mat = sio.loadmat('./data/ex7data2.mat')\n",
        "data2 = pd.DataFrame(mat.get('X'), columns=['X1', 'X2'])\n",
        "data2.head()"
      ],
      "execution_count": 8,
      "outputs": [
        {
          "output_type": "execute_result",
          "data": {
            "text/html": [
              "<div>\n",
              "<style scoped>\n",
              "    .dataframe tbody tr th:only-of-type {\n",
              "        vertical-align: middle;\n",
              "    }\n",
              "\n",
              "    .dataframe tbody tr th {\n",
              "        vertical-align: top;\n",
              "    }\n",
              "\n",
              "    .dataframe thead th {\n",
              "        text-align: right;\n",
              "    }\n",
              "</style>\n",
              "<table border=\"1\" class=\"dataframe\">\n",
              "  <thead>\n",
              "    <tr style=\"text-align: right;\">\n",
              "      <th></th>\n",
              "      <th>X1</th>\n",
              "      <th>X2</th>\n",
              "    </tr>\n",
              "  </thead>\n",
              "  <tbody>\n",
              "    <tr>\n",
              "      <th>0</th>\n",
              "      <td>1.842080</td>\n",
              "      <td>4.607572</td>\n",
              "    </tr>\n",
              "    <tr>\n",
              "      <th>1</th>\n",
              "      <td>5.658583</td>\n",
              "      <td>4.799964</td>\n",
              "    </tr>\n",
              "    <tr>\n",
              "      <th>2</th>\n",
              "      <td>6.352579</td>\n",
              "      <td>3.290854</td>\n",
              "    </tr>\n",
              "    <tr>\n",
              "      <th>3</th>\n",
              "      <td>2.904017</td>\n",
              "      <td>4.612204</td>\n",
              "    </tr>\n",
              "    <tr>\n",
              "      <th>4</th>\n",
              "      <td>3.231979</td>\n",
              "      <td>4.939894</td>\n",
              "    </tr>\n",
              "  </tbody>\n",
              "</table>\n",
              "</div>"
            ],
            "text/plain": [
              "         X1        X2\n",
              "0  1.842080  4.607572\n",
              "1  5.658583  4.799964\n",
              "2  6.352579  3.290854\n",
              "3  2.904017  4.612204\n",
              "4  3.231979  4.939894"
            ]
          },
          "metadata": {
            "tags": []
          },
          "execution_count": 8
        }
      ]
    },
    {
      "cell_type": "code",
      "metadata": {
        "id": "HBw5fdMguZNE",
        "colab_type": "code",
        "outputId": "83c62927-18ee-4150-b984-000ceca88dd9",
        "colab": {
          "base_uri": "https://localhost:8080/",
          "height": 365
        }
      },
      "source": [
        "sns.lmplot('X1', 'X2', data=data2, fit_reg=False)\n",
        "plt.show()"
      ],
      "execution_count": 9,
      "outputs": [
        {
          "output_type": "display_data",
          "data": {
            "image/png": "[encoded data removed]",
            "text/plain": [
              "<Figure size 360x360 with 1 Axes>"
            ]
          },
          "metadata": {
            "tags": []
          }
        }
      ]
    },
    {
      "cell_type": "markdown",
      "metadata": {
        "id": "U1sEy_aA182U",
        "colab_type": "text"
      },
      "source": [
        "\n",
        "# 2-2维kmeans"
      ]
    },
    {
      "cell_type": "code",
      "metadata": {
        "id": "Xg9o-rohuZNG",
        "colab_type": "code",
        "colab": {}
      },
      "source": [
        "import matplotlib.pyplot as plt\n",
        "import seaborn as sns\n",
        "\n",
        "import numpy as np\n",
        "import pandas as pd\n",
        "import scipy.io as sio"
      ],
      "execution_count": 0,
      "outputs": []
    },
    {
      "cell_type": "code",
      "metadata": {
        "id": "CwVAAjRV2AN-",
        "colab_type": "code",
        "colab": {
          "base_uri": "https://localhost:8080/",
          "height": 473
        },
        "outputId": "70825a8b-3c85-43ed-98d0-24defd37be70"
      },
      "source": [
        "mat = sio.loadmat('./data/ex7data2.mat')\n",
        "data2 = pd.DataFrame(mat.get('X'), columns=['X1', 'X2'])\n",
        "print(data2.head())\n",
        "\n",
        "sns.set(context=\"notebook\", style=\"white\")\n",
        "sns.lmplot('X1', 'X2', data=data2, fit_reg=False)\n",
        "plt.show()"
      ],
      "execution_count": 11,
      "outputs": [
        {
          "output_type": "stream",
          "text": [
            "         X1        X2\n",
            "0  1.842080  4.607572\n",
            "1  5.658583  4.799964\n",
            "2  6.352579  3.290854\n",
            "3  2.904017  4.612204\n",
            "4  3.231979  4.939894\n"
          ],
          "name": "stdout"
        },
        {
          "output_type": "display_data",
          "data": {
            "image/png": "[encoded data removed]",
            "text/plain": [
              "<Figure size 360x360 with 1 Axes>"
            ]
          },
          "metadata": {
            "tags": []
          }
        }
      ]
    },
    {
      "cell_type": "markdown",
      "metadata": {
        "id": "SQNXtePd2Hj-",
        "colab_type": "text"
      },
      "source": [
        "## 随机初始化"
      ]
    },
    {
      "cell_type": "code",
      "metadata": {
        "id": "xfsf830b2UmT",
        "colab_type": "code",
        "colab": {}
      },
      "source": [
        "def combine_data_C(data, C):\n",
        "    data_with_c = data.copy()\n",
        "    data_with_c['C'] = C\n",
        "    return data_with_c"
      ],
      "execution_count": 0,
      "outputs": []
    },
    {
      "cell_type": "code",
      "metadata": {
        "id": "g9Bsq-A_2WA6",
        "colab_type": "code",
        "colab": {}
      },
      "source": [
        "def random_init(data, k):\n",
        "    \"\"\"choose k sample from data set as init centroids\n",
        "    Args:\n",
        "        data: DataFrame\n",
        "        k: int\n",
        "    Returns:\n",
        "        k samples: ndarray\n",
        "    \"\"\"\n",
        "    return data.sample(k).as_matrix()"
      ],
      "execution_count": 0,
      "outputs": []
    },
    {
      "cell_type": "code",
      "metadata": {
        "id": "FP6r4cq82Y4n",
        "colab_type": "code",
        "colab": {}
      },
      "source": [
        "def _find_your_cluster(x, centroids):\n",
        "    \"\"\"find the right cluster for x with respect to shortest distance\n",
        "    Args:\n",
        "        x: ndarray (n, ) -> n features\n",
        "        centroids: ndarray (k, n)\n",
        "    Returns:\n",
        "        k: int\n",
        "    \"\"\"\n",
        "    distances = np.apply_along_axis(func1d=np.linalg.norm,  # this give you l2 norm\n",
        "                                    axis=1,\n",
        "                                    arr=centroids - x)  # use ndarray's broadcast\n",
        "    return np.argmin(distances)"
      ],
      "execution_count": 0,
      "outputs": []
    },
    {
      "cell_type": "code",
      "metadata": {
        "id": "O7MZzXrT2adW",
        "colab_type": "code",
        "colab": {}
      },
      "source": [
        "def assign_cluster(data, centroids):\n",
        "    \"\"\"assign cluster for each node in data\n",
        "    return C ndarray\n",
        "    \"\"\"\n",
        "    return np.apply_along_axis(lambda x: _find_your_cluster(x, centroids),\n",
        "                               axis=1,\n",
        "                               arr=data.as_matrix())"
      ],
      "execution_count": 0,
      "outputs": []
    },
    {
      "cell_type": "code",
      "metadata": {
        "id": "7Rg9Q8rE2cB5",
        "colab_type": "code",
        "colab": {}
      },
      "source": [
        "def new_centroids(data, C):\n",
        "    data_with_c = combine_data_C(data, C)\n",
        "\n",
        "    return data_with_c.groupby('C', as_index=False).\\\n",
        "                       mean().\\\n",
        "                       sort_values(by='C').\\\n",
        "                       drop('C', axis=1).\\\n",
        "                       as_matrix()"
      ],
      "execution_count": 0,
      "outputs": []
    },
    {
      "cell_type": "code",
      "metadata": {
        "id": "3H32-Htv2d3x",
        "colab_type": "code",
        "colab": {}
      },
      "source": [
        "def cost(data, centroids, C):\n",
        "    m = data.shape[0]\n",
        "\n",
        "    expand_C_with_centroids = centroids[C]\n",
        "\n",
        "    distances = np.apply_along_axis(func1d=np.linalg.norm,\n",
        "                                    axis=1,\n",
        "                                    arr=data.as_matrix() - expand_C_with_centroids)\n",
        "    return distances.sum() / m"
      ],
      "execution_count": 0,
      "outputs": []
    },
    {
      "cell_type": "code",
      "metadata": {
        "id": "Qzraj3a22f2O",
        "colab_type": "code",
        "colab": {}
      },
      "source": [
        "def _k_means_iter(data, k, epoch=100, tol=0.0001):\n",
        "    \"\"\"one shot k-means\n",
        "    with early break\n",
        "    \"\"\"\n",
        "    centroids = random_init(data, k)\n",
        "    cost_progress = []\n",
        "\n",
        "    for i in range(epoch):\n",
        "        print('running epoch {}'.format(i))\n",
        "\n",
        "        C = assign_cluster(data, centroids)\n",
        "        centroids = new_centroids(data, C)\n",
        "        cost_progress.append(cost(data, centroids, C))\n",
        "\n",
        "        if len(cost_progress) > 1:  # early break\n",
        "            if (np.abs(cost_progress[-1] - cost_progress[-2])) / cost_progress[-1] < tol:\n",
        "                break\n",
        "\n",
        "    return C, centroids, cost_progress[-1]"
      ],
      "execution_count": 0,
      "outputs": []
    },
    {
      "cell_type": "code",
      "metadata": {
        "id": "AljJIFlR2BhW",
        "colab_type": "code",
        "colab": {}
      },
      "source": [
        "def k_means(data, k, epoch=100, n_init=10):\n",
        "    \"\"\"do multiple random init and pick the best one to return\n",
        "    Args:\n",
        "        data (pd.DataFrame)\n",
        "    Returns:\n",
        "        (C, centroids, least_cost)\n",
        "    \"\"\"\n",
        "\n",
        "    tries = np.array([_k_means_iter(data, k, epoch) for _ in range(n_init)])\n",
        "\n",
        "    least_cost_idx = np.argmin(tries[:, -1])\n",
        "\n",
        "    return tries[least_cost_idx]"
      ],
      "execution_count": 0,
      "outputs": []
    },
    {
      "cell_type": "code",
      "metadata": {
        "id": "RNvX7AeL2_pq",
        "colab_type": "code",
        "colab": {
          "base_uri": "https://localhost:8080/",
          "height": 127
        },
        "outputId": "390e8c68-2875-4ad0-e4a4-d714b9e043aa"
      },
      "source": [
        "random_init(data2, 3)"
      ],
      "execution_count": 20,
      "outputs": [
        {
          "output_type": "stream",
          "text": [
            "/usr/local/lib/python3.6/dist-packages/ipykernel_launcher.py:9: FutureWarning: Method .as_matrix will be removed in a future version. Use .values instead.\n",
            "  if __name__ == '__main__':\n"
          ],
          "name": "stderr"
        },
        {
          "output_type": "execute_result",
          "data": {
            "text/plain": [
              "array([[2.76494499, 1.43148951],\n",
              "       [2.53446019, 1.21562081],\n",
              "       [0.3639172 , 4.73332823]])"
            ]
          },
          "metadata": {
            "tags": []
          },
          "execution_count": 20
        }
      ]
    },
    {
      "cell_type": "markdown",
      "metadata": {
        "id": "qctvGIfo3Eqv",
        "colab_type": "text"
      },
      "source": [
        "## 簇"
      ]
    },
    {
      "cell_type": "code",
      "metadata": {
        "id": "cU-Pca5O3AKf",
        "colab_type": "code",
        "colab": {
          "base_uri": "https://localhost:8080/",
          "height": 127
        },
        "outputId": "00903c8c-40a2-4ed7-f4a4-8a4379e2ba60"
      },
      "source": [
        "init_centroids = random_init(data2, 3)\n",
        "init_centroids"
      ],
      "execution_count": 21,
      "outputs": [
        {
          "output_type": "stream",
          "text": [
            "/usr/local/lib/python3.6/dist-packages/ipykernel_launcher.py:9: FutureWarning: Method .as_matrix will be removed in a future version. Use .values instead.\n",
            "  if __name__ == '__main__':\n"
          ],
          "name": "stderr"
        },
        {
          "output_type": "execute_result",
          "data": {
            "text/plain": [
              "array([[7.21684033, 2.72896575],\n",
              "       [3.91596068, 1.01225774],\n",
              "       [1.84419981, 5.03153948]])"
            ]
          },
          "metadata": {
            "tags": []
          },
          "execution_count": 21
        }
      ]
    },
    {
      "cell_type": "code",
      "metadata": {
        "id": "p3pBayF43NSC",
        "colab_type": "code",
        "colab": {}
      },
      "source": [
        "x = np.array([1, 1])"
      ],
      "execution_count": 0,
      "outputs": []
    },
    {
      "cell_type": "code",
      "metadata": {
        "id": "6uuG6a3A3PpX",
        "colab_type": "code",
        "colab": {
          "base_uri": "https://localhost:8080/",
          "height": 275
        },
        "outputId": "be2a5f75-4faa-421e-9bae-c83b6915d6a0"
      },
      "source": [
        "fig, ax = plt.subplots(figsize=(6,4))\n",
        "ax.scatter(x=init_centroids[:, 0], y=init_centroids[:, 1])\n",
        "\n",
        "for i, node in enumerate(init_centroids):\n",
        "    ax.annotate('{}: ({},{})'.format(i, node[0], node[1]), node)\n",
        "    \n",
        "ax.scatter(x[0], x[1], marker='x', s=200)\n",
        "plt.show()"
      ],
      "execution_count": 23,
      "outputs": [
        {
          "output_type": "display_data",
          "data": {
            "image/png": "[encoded data removed]",
            "text/plain": [
              "<Figure size 432x288 with 1 Axes>"
            ]
          },
          "metadata": {
            "tags": []
          }
        }
      ]
    },
    {
      "cell_type": "code",
      "metadata": {
        "id": "5QbV8Pkg3RdK",
        "colab_type": "code",
        "colab": {
          "base_uri": "https://localhost:8080/",
          "height": 35
        },
        "outputId": "90f354fe-facb-417a-c405-faf3d71eb1bc"
      },
      "source": [
        "_find_your_cluster(x, init_centroids)"
      ],
      "execution_count": 24,
      "outputs": [
        {
          "output_type": "execute_result",
          "data": {
            "text/plain": [
              "1"
            ]
          },
          "metadata": {
            "tags": []
          },
          "execution_count": 24
        }
      ]
    },
    {
      "cell_type": "markdown",
      "metadata": {
        "id": "fCKwhGaF3fBt",
        "colab_type": "text"
      },
      "source": [
        "## 簇分配"
      ]
    },
    {
      "cell_type": "code",
      "metadata": {
        "id": "2bidHN7y3UZf",
        "colab_type": "code",
        "colab": {
          "base_uri": "https://localhost:8080/",
          "height": 258
        },
        "outputId": "83de94aa-59af-41c8-f99c-b7161241eeb0"
      },
      "source": [
        "C = assign_cluster(data2, init_centroids)\n",
        "data_with_c =combine_data_C(data2, C)\n",
        "data_with_c.head()"
      ],
      "execution_count": 25,
      "outputs": [
        {
          "output_type": "stream",
          "text": [
            "/usr/local/lib/python3.6/dist-packages/ipykernel_launcher.py:7: FutureWarning: Method .as_matrix will be removed in a future version. Use .values instead.\n",
            "  import sys\n"
          ],
          "name": "stderr"
        },
        {
          "output_type": "execute_result",
          "data": {
            "text/html": [
              "<div>\n",
              "<style scoped>\n",
              "    .dataframe tbody tr th:only-of-type {\n",
              "        vertical-align: middle;\n",
              "    }\n",
              "\n",
              "    .dataframe tbody tr th {\n",
              "        vertical-align: top;\n",
              "    }\n",
              "\n",
              "    .dataframe thead th {\n",
              "        text-align: right;\n",
              "    }\n",
              "</style>\n",
              "<table border=\"1\" class=\"dataframe\">\n",
              "  <thead>\n",
              "    <tr style=\"text-align: right;\">\n",
              "      <th></th>\n",
              "      <th>X1</th>\n",
              "      <th>X2</th>\n",
              "      <th>C</th>\n",
              "    </tr>\n",
              "  </thead>\n",
              "  <tbody>\n",
              "    <tr>\n",
              "      <th>0</th>\n",
              "      <td>1.842080</td>\n",
              "      <td>4.607572</td>\n",
              "      <td>2</td>\n",
              "    </tr>\n",
              "    <tr>\n",
              "      <th>1</th>\n",
              "      <td>5.658583</td>\n",
              "      <td>4.799964</td>\n",
              "      <td>0</td>\n",
              "    </tr>\n",
              "    <tr>\n",
              "      <th>2</th>\n",
              "      <td>6.352579</td>\n",
              "      <td>3.290854</td>\n",
              "      <td>0</td>\n",
              "    </tr>\n",
              "    <tr>\n",
              "      <th>3</th>\n",
              "      <td>2.904017</td>\n",
              "      <td>4.612204</td>\n",
              "      <td>2</td>\n",
              "    </tr>\n",
              "    <tr>\n",
              "      <th>4</th>\n",
              "      <td>3.231979</td>\n",
              "      <td>4.939894</td>\n",
              "      <td>2</td>\n",
              "    </tr>\n",
              "  </tbody>\n",
              "</table>\n",
              "</div>"
            ],
            "text/plain": [
              "         X1        X2  C\n",
              "0  1.842080  4.607572  2\n",
              "1  5.658583  4.799964  0\n",
              "2  6.352579  3.290854  0\n",
              "3  2.904017  4.612204  2\n",
              "4  3.231979  4.939894  2"
            ]
          },
          "metadata": {
            "tags": []
          },
          "execution_count": 25
        }
      ]
    },
    {
      "cell_type": "code",
      "metadata": {
        "id": "iRy2hTFU3lYK",
        "colab_type": "code",
        "colab": {
          "base_uri": "https://localhost:8080/",
          "height": 365
        },
        "outputId": "164d36ac-bf0c-4a4c-aa43-b2a96a314c2e"
      },
      "source": [
        "sns.lmplot('X1', 'X2', hue='C', data=data_with_c, fit_reg=False)\n",
        "plt.show()"
      ],
      "execution_count": 26,
      "outputs": [
        {
          "output_type": "display_data",
          "data": {
            "image/png": "[encoded data removed]",
            "text/plain": [
              "<Figure size 406.6x360 with 1 Axes>"
            ]
          },
          "metadata": {
            "tags": []
          }
        }
      ]
    },
    {
      "cell_type": "markdown",
      "metadata": {
        "id": "0hhdDzC03r6y",
        "colab_type": "text"
      },
      "source": [
        "## 计算新的中心坐标"
      ]
    },
    {
      "cell_type": "code",
      "metadata": {
        "id": "FcM9EU_R3nqA",
        "colab_type": "code",
        "colab": {
          "base_uri": "https://localhost:8080/",
          "height": 127
        },
        "outputId": "94b73077-8c31-492e-e62c-8a314488b45b"
      },
      "source": [
        "new_centroids(data2, C)"
      ],
      "execution_count": 27,
      "outputs": [
        {
          "output_type": "stream",
          "text": [
            "/usr/local/lib/python3.6/dist-packages/ipykernel_launcher.py:4: FutureWarning: Method .as_matrix will be removed in a future version. Use .values instead.\n",
            "  after removing the cwd from sys.path.\n"
          ],
          "name": "stderr"
        },
        {
          "output_type": "execute_result",
          "data": {
            "text/plain": [
              "array([[6.20016778, 2.99145411],\n",
              "       [3.18855555, 1.17748437],\n",
              "       [1.98363152, 5.03043004]])"
            ]
          },
          "metadata": {
            "tags": []
          },
          "execution_count": 27
        }
      ]
    },
    {
      "cell_type": "code",
      "metadata": {
        "id": "QOS7LfgG3xwi",
        "colab_type": "code",
        "colab": {}
      },
      "source": [
        "final_C, final_centroid, _= _k_means_iter(data2, 3)\n",
        "data_with_c = combine_data_C(data2, final_C)"
      ],
      "execution_count": 0,
      "outputs": []
    },
    {
      "cell_type": "code",
      "metadata": {
        "id": "Vj92_RBT37tN",
        "colab_type": "code",
        "colab": {
          "base_uri": "https://localhost:8080/",
          "height": 365
        },
        "outputId": "c95c508a-e900-4ab3-e1a2-b6ecf1880868"
      },
      "source": [
        "sns.lmplot('X1', 'X2', hue='C', data=data_with_c, fit_reg=False)\n",
        "plt.show()"
      ],
      "execution_count": 29,
      "outputs": [
        {
          "output_type": "display_data",
          "data": {
            "image/png": "[encoded data removed]",
            "text/plain": [
              "<Figure size 406.6x360 with 1 Axes>"
            ]
          },
          "metadata": {
            "tags": []
          }
        }
      ]
    },
    {
      "cell_type": "code",
      "metadata": {
        "id": "8HPlPFQ74BbZ",
        "colab_type": "code",
        "colab": {
          "base_uri": "https://localhost:8080/",
          "height": 91
        },
        "outputId": "9027518c-7081-4359-9003-5792e4f0f806"
      },
      "source": [
        "cost(data2, final_centroid, final_C)"
      ],
      "execution_count": 30,
      "outputs": [
        {
          "output_type": "stream",
          "text": [
            "/usr/local/lib/python3.6/dist-packages/ipykernel_launcher.py:8: FutureWarning: Method .as_matrix will be removed in a future version. Use .values instead.\n",
            "  \n"
          ],
          "name": "stderr"
        },
        {
          "output_type": "execute_result",
          "data": {
            "text/plain": [
              "0.794176363371587"
            ]
          },
          "metadata": {
            "tags": []
          },
          "execution_count": 30
        }
      ]
    },
    {
      "cell_type": "code",
      "metadata": {
        "id": "kuFOuT4g4EeM",
        "colab_type": "code",
        "colab": {}
      },
      "source": [
        "best_C, best_centroids, least_cost = k_means(data2, 3)"
      ],
      "execution_count": 0,
      "outputs": []
    },
    {
      "cell_type": "code",
      "metadata": {
        "id": "qHAO_vyW4GZz",
        "colab_type": "code",
        "colab": {
          "base_uri": "https://localhost:8080/",
          "height": 35
        },
        "outputId": "fdd3f647-c85f-4f48-8032-33a780bbe911"
      },
      "source": [
        "least_cost"
      ],
      "execution_count": 32,
      "outputs": [
        {
          "output_type": "execute_result",
          "data": {
            "text/plain": [
              "0.794176363371587"
            ]
          },
          "metadata": {
            "tags": []
          },
          "execution_count": 32
        }
      ]
    },
    {
      "cell_type": "code",
      "metadata": {
        "id": "hnoPA5uC4JdI",
        "colab_type": "code",
        "colab": {
          "base_uri": "https://localhost:8080/",
          "height": 365
        },
        "outputId": "9cd21da5-70f0-4c3e-c6df-21c6ac2022f1"
      },
      "source": [
        "data_with_c = combine_data_C(data2, best_C)\n",
        "sns.lmplot('X1', 'X2', hue='C', data=data_with_c, fit_reg=False)\n",
        "plt.show()"
      ],
      "execution_count": 33,
      "outputs": [
        {
          "output_type": "display_data",
          "data": {
            "image/png": "[encoded data removed]",
            "text/plain": [
              "<Figure size 406.6x360 with 1 Axes>"
            ]
          },
          "metadata": {
            "tags": []
          }
        }
      ]
    },
    {
      "cell_type": "markdown",
      "metadata": {
        "id": "b_iXLk9L4POa",
        "colab_type": "text"
      },
      "source": [
        "## sklearn kmeans"
      ]
    },
    {
      "cell_type": "code",
      "metadata": {
        "id": "3bbTSuqk4Lj2",
        "colab_type": "code",
        "colab": {}
      },
      "source": [
        "from sklearn.cluster import KMeans\n",
        "\n",
        "sk_kmeans = KMeans(n_clusters=3)\n",
        "sk_kmeans.fit(data2)\n",
        "sk_C = sk_kmeans.predict(data2)"
      ],
      "execution_count": 0,
      "outputs": []
    },
    {
      "cell_type": "code",
      "metadata": {
        "id": "2q1Kyy4V4ctb",
        "colab_type": "code",
        "colab": {
          "base_uri": "https://localhost:8080/",
          "height": 365
        },
        "outputId": "025b137d-146a-4a14-d577-e4adb0ee7289"
      },
      "source": [
        "data_with_c = combine_data_C(data2, sk_C)\n",
        "sns.lmplot('X1', 'X2', hue='C', data=data_with_c, fit_reg=False)\n",
        "plt.show()"
      ],
      "execution_count": 36,
      "outputs": [
        {
          "output_type": "display_data",
          "data": {
            "image/png": "[encoded data removed]",
            "text/plain": [
              "<Figure size 406.6x360 with 1 Axes>"
            ]
          },
          "metadata": {
            "tags": []
          }
        }
      ]
    },
    {
      "cell_type": "code",
      "metadata": {
        "id": "cO2L0se34dLD",
        "colab_type": "code",
        "colab": {}
      },
      "source": [
        ""
      ],
      "execution_count": 0,
      "outputs": []
    }
  ]
}